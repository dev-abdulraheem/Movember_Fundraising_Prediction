{
 "cells": [
  {
   "cell_type": "code",
   "execution_count": 46,
   "metadata": {
    "colab": {
     "base_uri": "https://localhost:8080/"
    },
    "id": "Wu7kPEgD8aig",
    "outputId": "63bb94fc-46db-4059-90b8-369a3ad3e5ea"
   },
   "outputs": [],
   "source": [
    "import pandas as pd\n",
    "import numpy as np\n",
    "#import visualization libraries\n",
    "import matplotlib.pyplot as plt\n",
    "%matplotlib inline\n",
    "import seaborn as sns\n",
    "import warnings\n",
    "warnings.filterwarnings('ignore')\n",
    "from sklearn.model_selection import train_test_split\n",
    "from sklearn.preprocessing import StandardScaler\n",
    "from sklearn.impute import SimpleImputer\n",
    "from sklearn.ensemble import RandomForestClassifier, GradientBoostingClassifier\n",
    "from sklearn.linear_model import LogisticRegression\n",
    "from sklearn.metrics import accuracy_score, confusion_matrix, classification_report, roc_curve, f1_score, roc_auc_score\n",
    "import joblib"
   ]
  },
  {
   "cell_type": "markdown",
   "metadata": {
    "id": "SLXf07tl_bAR"
   },
   "source": [
    "Read All data\n"
   ]
  },
  {
   "cell_type": "code",
   "execution_count": 2,
   "metadata": {
    "id": "0HM7BZfx8q0r"
   },
   "outputs": [],
   "source": [
    "A= pd.read_csv('datasets/Movember_Donations_2020.csv')\n",
    "B= pd.read_csv('datasets/Movember_Fundraisers_2020.csv')"
   ]
  },
  {
   "cell_type": "code",
   "execution_count": 3,
   "metadata": {
    "colab": {
     "base_uri": "https://localhost:8080/",
     "height": 305
    },
    "id": "_VV3h8M5_wqH",
    "outputId": "e8ee94e8-f818-4ed3-f8a4-5175000b3e89"
   },
   "outputs": [
    {
     "data": {
      "text/html": [
       "<div>\n",
       "<style scoped>\n",
       "    .dataframe tbody tr th:only-of-type {\n",
       "        vertical-align: middle;\n",
       "    }\n",
       "\n",
       "    .dataframe tbody tr th {\n",
       "        vertical-align: top;\n",
       "    }\n",
       "\n",
       "    .dataframe thead th {\n",
       "        text-align: right;\n",
       "    }\n",
       "</style>\n",
       "<table border=\"1\" class=\"dataframe\">\n",
       "  <thead>\n",
       "    <tr style=\"text-align: right;\">\n",
       "      <th></th>\n",
       "      <th>member_id_hash</th>\n",
       "      <th>donor_id_hash</th>\n",
       "      <th>date_lcl_donation_time</th>\n",
       "      <th>donation_type</th>\n",
       "      <th>aud_donor_foundation</th>\n",
       "      <th>aud_donor_member</th>\n",
       "      <th>aud_donor_team</th>\n",
       "      <th>aud_donor_total</th>\n",
       "      <th>payment_country</th>\n",
       "      <th>geo_state_region_province</th>\n",
       "      <th>is_business</th>\n",
       "      <th>pmt_card_type</th>\n",
       "      <th>feat_donate_self</th>\n",
       "    </tr>\n",
       "  </thead>\n",
       "  <tbody>\n",
       "    <tr>\n",
       "      <th>0</th>\n",
       "      <td>8c1f1046219ddd216a023f792356ddf127fce372a72ec9...</td>\n",
       "      <td>053854f0e34432ed29ddb4058cd1ea2f9dcbd0778bc8d2...</td>\n",
       "      <td>2020-11-02 03:47:04</td>\n",
       "      <td>donate_to_recurring</td>\n",
       "      <td>0.00</td>\n",
       "      <td>0.0</td>\n",
       "      <td>0.0</td>\n",
       "      <td>0.00</td>\n",
       "      <td>au</td>\n",
       "      <td>Victoria</td>\n",
       "      <td>0</td>\n",
       "      <td>visa</td>\n",
       "      <td>0</td>\n",
       "    </tr>\n",
       "    <tr>\n",
       "      <th>1</th>\n",
       "      <td>8c1f1046219ddd216a023f792356ddf127fce372a72ec9...</td>\n",
       "      <td>ad499dc8fba883ef000230c2468678a2e3444591f0ae9b...</td>\n",
       "      <td>2020-11-22 00:36:10</td>\n",
       "      <td>donate_to_recurring</td>\n",
       "      <td>0.00</td>\n",
       "      <td>0.0</td>\n",
       "      <td>0.0</td>\n",
       "      <td>0.00</td>\n",
       "      <td>au</td>\n",
       "      <td>zz_missing_state_region_province</td>\n",
       "      <td>0</td>\n",
       "      <td>american express</td>\n",
       "      <td>0</td>\n",
       "    </tr>\n",
       "    <tr>\n",
       "      <th>2</th>\n",
       "      <td>8c1f1046219ddd216a023f792356ddf127fce372a72ec9...</td>\n",
       "      <td>053854f0e34432ed29ddb4058cd1ea2f9dcbd0778bc8d2...</td>\n",
       "      <td>2020-12-02 02:57:05</td>\n",
       "      <td>donate_to_recurring</td>\n",
       "      <td>0.00</td>\n",
       "      <td>0.0</td>\n",
       "      <td>0.0</td>\n",
       "      <td>0.00</td>\n",
       "      <td>au</td>\n",
       "      <td>Victoria</td>\n",
       "      <td>0</td>\n",
       "      <td>visa</td>\n",
       "      <td>0</td>\n",
       "    </tr>\n",
       "    <tr>\n",
       "      <th>3</th>\n",
       "      <td>8c1f1046219ddd216a023f792356ddf127fce372a72ec9...</td>\n",
       "      <td>ad499dc8fba883ef000230c2468678a2e3444591f0ae9b...</td>\n",
       "      <td>2020-12-21 23:47:53</td>\n",
       "      <td>donate_to_recurring</td>\n",
       "      <td>0.00</td>\n",
       "      <td>0.0</td>\n",
       "      <td>0.0</td>\n",
       "      <td>0.00</td>\n",
       "      <td>au</td>\n",
       "      <td>zz_missing_state_region_province</td>\n",
       "      <td>0</td>\n",
       "      <td>american express</td>\n",
       "      <td>0</td>\n",
       "    </tr>\n",
       "    <tr>\n",
       "      <th>4</th>\n",
       "      <td>6e4001871c0cf27c7634ef1dc478408f642410fd3a444e...</td>\n",
       "      <td>73351b614f9db45c3db9bb1b809031cd8a3cbf59df3f2b...</td>\n",
       "      <td>2020-05-01 02:16:37</td>\n",
       "      <td>donate_to_charity</td>\n",
       "      <td>1.62</td>\n",
       "      <td>0.0</td>\n",
       "      <td>0.0</td>\n",
       "      <td>1.62</td>\n",
       "      <td>ie</td>\n",
       "      <td>zz_missing_state_region_province</td>\n",
       "      <td>0</td>\n",
       "      <td>mc</td>\n",
       "      <td>0</td>\n",
       "    </tr>\n",
       "  </tbody>\n",
       "</table>\n",
       "</div>"
      ],
      "text/plain": [
       "                                      member_id_hash  \\\n",
       "0  8c1f1046219ddd216a023f792356ddf127fce372a72ec9...   \n",
       "1  8c1f1046219ddd216a023f792356ddf127fce372a72ec9...   \n",
       "2  8c1f1046219ddd216a023f792356ddf127fce372a72ec9...   \n",
       "3  8c1f1046219ddd216a023f792356ddf127fce372a72ec9...   \n",
       "4  6e4001871c0cf27c7634ef1dc478408f642410fd3a444e...   \n",
       "\n",
       "                                       donor_id_hash date_lcl_donation_time  \\\n",
       "0  053854f0e34432ed29ddb4058cd1ea2f9dcbd0778bc8d2...    2020-11-02 03:47:04   \n",
       "1  ad499dc8fba883ef000230c2468678a2e3444591f0ae9b...    2020-11-22 00:36:10   \n",
       "2  053854f0e34432ed29ddb4058cd1ea2f9dcbd0778bc8d2...    2020-12-02 02:57:05   \n",
       "3  ad499dc8fba883ef000230c2468678a2e3444591f0ae9b...    2020-12-21 23:47:53   \n",
       "4  73351b614f9db45c3db9bb1b809031cd8a3cbf59df3f2b...    2020-05-01 02:16:37   \n",
       "\n",
       "         donation_type  aud_donor_foundation  aud_donor_member  \\\n",
       "0  donate_to_recurring                  0.00               0.0   \n",
       "1  donate_to_recurring                  0.00               0.0   \n",
       "2  donate_to_recurring                  0.00               0.0   \n",
       "3  donate_to_recurring                  0.00               0.0   \n",
       "4    donate_to_charity                  1.62               0.0   \n",
       "\n",
       "   aud_donor_team  aud_donor_total payment_country  \\\n",
       "0             0.0             0.00              au   \n",
       "1             0.0             0.00              au   \n",
       "2             0.0             0.00              au   \n",
       "3             0.0             0.00              au   \n",
       "4             0.0             1.62              ie   \n",
       "\n",
       "          geo_state_region_province  is_business     pmt_card_type  \\\n",
       "0                          Victoria            0              visa   \n",
       "1  zz_missing_state_region_province            0  american express   \n",
       "2                          Victoria            0              visa   \n",
       "3  zz_missing_state_region_province            0  american express   \n",
       "4  zz_missing_state_region_province            0                mc   \n",
       "\n",
       "   feat_donate_self  \n",
       "0                 0  \n",
       "1                 0  \n",
       "2                 0  \n",
       "3                 0  \n",
       "4                 0  "
      ]
     },
     "execution_count": 3,
     "metadata": {},
     "output_type": "execute_result"
    }
   ],
   "source": [
    "A.head()"
   ]
  },
  {
   "cell_type": "code",
   "execution_count": 4,
   "metadata": {
    "colab": {
     "base_uri": "https://localhost:8080/",
     "height": 300
    },
    "id": "OdBUxC7mGmBG",
    "outputId": "571e8e02-29a6-433e-c35e-4f903555e709"
   },
   "outputs": [
    {
     "data": {
      "text/html": [
       "<div>\n",
       "<style scoped>\n",
       "    .dataframe tbody tr th:only-of-type {\n",
       "        vertical-align: middle;\n",
       "    }\n",
       "\n",
       "    .dataframe tbody tr th {\n",
       "        vertical-align: top;\n",
       "    }\n",
       "\n",
       "    .dataframe thead th {\n",
       "        text-align: right;\n",
       "    }\n",
       "</style>\n",
       "<table border=\"1\" class=\"dataframe\">\n",
       "  <thead>\n",
       "    <tr style=\"text-align: right;\">\n",
       "      <th></th>\n",
       "      <th>member_id_hash</th>\n",
       "      <th>date_lcl_activation</th>\n",
       "      <th>country</th>\n",
       "      <th>geo_state_region_province</th>\n",
       "      <th>gender</th>\n",
       "      <th>category_fundraising</th>\n",
       "      <th>type_team_captain</th>\n",
       "      <th>type_team_member</th>\n",
       "      <th>tenure_description</th>\n",
       "      <th>campaigns_total_number</th>\n",
       "      <th>...</th>\n",
       "      <th>sum_donations_member_2018</th>\n",
       "      <th>sum_donations_member_2019</th>\n",
       "      <th>sum_donor_foundation_2020</th>\n",
       "      <th>sum_donor_member_2020</th>\n",
       "      <th>sum_donor_team_2020</th>\n",
       "      <th>sum_donor_total_2020</th>\n",
       "      <th>registered_2017</th>\n",
       "      <th>registered_2018</th>\n",
       "      <th>registered_2019</th>\n",
       "      <th>registered_2021</th>\n",
       "    </tr>\n",
       "  </thead>\n",
       "  <tbody>\n",
       "    <tr>\n",
       "      <th>0</th>\n",
       "      <td>e7f2c2e42e4f123ec6b76641f36fbab09a7b6517b50194...</td>\n",
       "      <td>2020-10-18</td>\n",
       "      <td>Australia</td>\n",
       "      <td>Tasmania</td>\n",
       "      <td>m</td>\n",
       "      <td>friends</td>\n",
       "      <td>0</td>\n",
       "      <td>1</td>\n",
       "      <td>Retained</td>\n",
       "      <td>3</td>\n",
       "      <td>...</td>\n",
       "      <td>310.0</td>\n",
       "      <td>125.0</td>\n",
       "      <td>0.0</td>\n",
       "      <td>50.0</td>\n",
       "      <td>0.0</td>\n",
       "      <td>50.0</td>\n",
       "      <td>0.0</td>\n",
       "      <td>1.0</td>\n",
       "      <td>1.0</td>\n",
       "      <td>0.0</td>\n",
       "    </tr>\n",
       "    <tr>\n",
       "      <th>1</th>\n",
       "      <td>fb3bd08e5095f32a9c67619e6a8d8d898b20963ce9f85f...</td>\n",
       "      <td>2020-10-16</td>\n",
       "      <td>Australia</td>\n",
       "      <td>New South Wales</td>\n",
       "      <td>m</td>\n",
       "      <td>friends</td>\n",
       "      <td>0</td>\n",
       "      <td>0</td>\n",
       "      <td>Returning</td>\n",
       "      <td>15</td>\n",
       "      <td>...</td>\n",
       "      <td>30.0</td>\n",
       "      <td>0.0</td>\n",
       "      <td>0.0</td>\n",
       "      <td>0.0</td>\n",
       "      <td>0.0</td>\n",
       "      <td>0.0</td>\n",
       "      <td>1.0</td>\n",
       "      <td>1.0</td>\n",
       "      <td>0.0</td>\n",
       "      <td>1.0</td>\n",
       "    </tr>\n",
       "    <tr>\n",
       "      <th>2</th>\n",
       "      <td>5e2168e16b8aad843f6201b1e04956d25bf8c9175171de...</td>\n",
       "      <td>2020-11-05</td>\n",
       "      <td>UK</td>\n",
       "      <td>zz_missing_state_region_province</td>\n",
       "      <td>m</td>\n",
       "      <td>friends</td>\n",
       "      <td>1</td>\n",
       "      <td>0</td>\n",
       "      <td>New</td>\n",
       "      <td>1</td>\n",
       "      <td>...</td>\n",
       "      <td>0.0</td>\n",
       "      <td>0.0</td>\n",
       "      <td>0.0</td>\n",
       "      <td>0.0</td>\n",
       "      <td>0.0</td>\n",
       "      <td>0.0</td>\n",
       "      <td>0.0</td>\n",
       "      <td>0.0</td>\n",
       "      <td>0.0</td>\n",
       "      <td>0.0</td>\n",
       "    </tr>\n",
       "    <tr>\n",
       "      <th>3</th>\n",
       "      <td>feebed60e7b35bb8dcb7ec11638424f686a2ee6e881683...</td>\n",
       "      <td>2020-11-02</td>\n",
       "      <td>Australia</td>\n",
       "      <td>New South Wales</td>\n",
       "      <td>m</td>\n",
       "      <td>friends</td>\n",
       "      <td>0</td>\n",
       "      <td>0</td>\n",
       "      <td>Retained</td>\n",
       "      <td>3</td>\n",
       "      <td>...</td>\n",
       "      <td>0.0</td>\n",
       "      <td>160.0</td>\n",
       "      <td>0.0</td>\n",
       "      <td>0.0</td>\n",
       "      <td>0.0</td>\n",
       "      <td>0.0</td>\n",
       "      <td>0.0</td>\n",
       "      <td>0.0</td>\n",
       "      <td>1.0</td>\n",
       "      <td>0.0</td>\n",
       "    </tr>\n",
       "    <tr>\n",
       "      <th>4</th>\n",
       "      <td>004f3a141d6cdd75d1037c89771a5c28c8ac73ddb5b88d...</td>\n",
       "      <td>2020-10-30</td>\n",
       "      <td>UK</td>\n",
       "      <td>North West</td>\n",
       "      <td>m</td>\n",
       "      <td>workplace</td>\n",
       "      <td>0</td>\n",
       "      <td>0</td>\n",
       "      <td>New</td>\n",
       "      <td>1</td>\n",
       "      <td>...</td>\n",
       "      <td>0.0</td>\n",
       "      <td>0.0</td>\n",
       "      <td>0.0</td>\n",
       "      <td>0.0</td>\n",
       "      <td>0.0</td>\n",
       "      <td>0.0</td>\n",
       "      <td>0.0</td>\n",
       "      <td>0.0</td>\n",
       "      <td>0.0</td>\n",
       "      <td>0.0</td>\n",
       "    </tr>\n",
       "  </tbody>\n",
       "</table>\n",
       "<p>5 rows × 65 columns</p>\n",
       "</div>"
      ],
      "text/plain": [
       "                                      member_id_hash date_lcl_activation  \\\n",
       "0  e7f2c2e42e4f123ec6b76641f36fbab09a7b6517b50194...          2020-10-18   \n",
       "1  fb3bd08e5095f32a9c67619e6a8d8d898b20963ce9f85f...          2020-10-16   \n",
       "2  5e2168e16b8aad843f6201b1e04956d25bf8c9175171de...          2020-11-05   \n",
       "3  feebed60e7b35bb8dcb7ec11638424f686a2ee6e881683...          2020-11-02   \n",
       "4  004f3a141d6cdd75d1037c89771a5c28c8ac73ddb5b88d...          2020-10-30   \n",
       "\n",
       "     country         geo_state_region_province gender category_fundraising  \\\n",
       "0  Australia                          Tasmania      m              friends   \n",
       "1  Australia                   New South Wales      m              friends   \n",
       "2         UK  zz_missing_state_region_province      m              friends   \n",
       "3  Australia                   New South Wales      m              friends   \n",
       "4         UK                        North West      m            workplace   \n",
       "\n",
       "   type_team_captain  type_team_member tenure_description  \\\n",
       "0                  0                 1           Retained   \n",
       "1                  0                 0          Returning   \n",
       "2                  1                 0                New   \n",
       "3                  0                 0           Retained   \n",
       "4                  0                 0                New   \n",
       "\n",
       "   campaigns_total_number  ...  sum_donations_member_2018  \\\n",
       "0                       3  ...                      310.0   \n",
       "1                      15  ...                       30.0   \n",
       "2                       1  ...                        0.0   \n",
       "3                       3  ...                        0.0   \n",
       "4                       1  ...                        0.0   \n",
       "\n",
       "   sum_donations_member_2019  sum_donor_foundation_2020  \\\n",
       "0                      125.0                        0.0   \n",
       "1                        0.0                        0.0   \n",
       "2                        0.0                        0.0   \n",
       "3                      160.0                        0.0   \n",
       "4                        0.0                        0.0   \n",
       "\n",
       "   sum_donor_member_2020  sum_donor_team_2020  sum_donor_total_2020  \\\n",
       "0                   50.0                  0.0                  50.0   \n",
       "1                    0.0                  0.0                   0.0   \n",
       "2                    0.0                  0.0                   0.0   \n",
       "3                    0.0                  0.0                   0.0   \n",
       "4                    0.0                  0.0                   0.0   \n",
       "\n",
       "   registered_2017  registered_2018  registered_2019  registered_2021  \n",
       "0              0.0              1.0              1.0              0.0  \n",
       "1              1.0              1.0              0.0              1.0  \n",
       "2              0.0              0.0              0.0              0.0  \n",
       "3              0.0              0.0              1.0              0.0  \n",
       "4              0.0              0.0              0.0              0.0  \n",
       "\n",
       "[5 rows x 65 columns]"
      ]
     },
     "execution_count": 4,
     "metadata": {},
     "output_type": "execute_result"
    }
   ],
   "source": [
    "B.head()"
   ]
  },
  {
   "cell_type": "markdown",
   "metadata": {
    "id": "CM9l1d2GHKlc"
   },
   "source": [
    "Merging Tables"
   ]
  },
  {
   "cell_type": "code",
   "execution_count": 5,
   "metadata": {
    "id": "yLP6bHGK-sZe"
   },
   "outputs": [],
   "source": [
    "df = pd.merge(A,B,how='left',on='member_id_hash')"
   ]
  },
  {
   "cell_type": "code",
   "execution_count": 6,
   "metadata": {
    "colab": {
     "base_uri": "https://localhost:8080/",
     "height": 300
    },
    "id": "zC8YIep6-0xm",
    "outputId": "d3e7adb9-5ec3-40f5-e614-54da2d003743"
   },
   "outputs": [
    {
     "data": {
      "text/html": [
       "<div>\n",
       "<style scoped>\n",
       "    .dataframe tbody tr th:only-of-type {\n",
       "        vertical-align: middle;\n",
       "    }\n",
       "\n",
       "    .dataframe tbody tr th {\n",
       "        vertical-align: top;\n",
       "    }\n",
       "\n",
       "    .dataframe thead th {\n",
       "        text-align: right;\n",
       "    }\n",
       "</style>\n",
       "<table border=\"1\" class=\"dataframe\">\n",
       "  <thead>\n",
       "    <tr style=\"text-align: right;\">\n",
       "      <th></th>\n",
       "      <th>member_id_hash</th>\n",
       "      <th>donor_id_hash</th>\n",
       "      <th>date_lcl_donation_time</th>\n",
       "      <th>donation_type</th>\n",
       "      <th>aud_donor_foundation</th>\n",
       "      <th>aud_donor_member</th>\n",
       "      <th>aud_donor_team</th>\n",
       "      <th>aud_donor_total</th>\n",
       "      <th>payment_country</th>\n",
       "      <th>geo_state_region_province_x</th>\n",
       "      <th>...</th>\n",
       "      <th>sum_donations_member_2018</th>\n",
       "      <th>sum_donations_member_2019</th>\n",
       "      <th>sum_donor_foundation_2020</th>\n",
       "      <th>sum_donor_member_2020</th>\n",
       "      <th>sum_donor_team_2020</th>\n",
       "      <th>sum_donor_total_2020</th>\n",
       "      <th>registered_2017</th>\n",
       "      <th>registered_2018</th>\n",
       "      <th>registered_2019</th>\n",
       "      <th>registered_2021</th>\n",
       "    </tr>\n",
       "  </thead>\n",
       "  <tbody>\n",
       "    <tr>\n",
       "      <th>0</th>\n",
       "      <td>8c1f1046219ddd216a023f792356ddf127fce372a72ec9...</td>\n",
       "      <td>053854f0e34432ed29ddb4058cd1ea2f9dcbd0778bc8d2...</td>\n",
       "      <td>2020-11-02 03:47:04</td>\n",
       "      <td>donate_to_recurring</td>\n",
       "      <td>0.00</td>\n",
       "      <td>0.0</td>\n",
       "      <td>0.0</td>\n",
       "      <td>0.00</td>\n",
       "      <td>au</td>\n",
       "      <td>Victoria</td>\n",
       "      <td>...</td>\n",
       "      <td>NaN</td>\n",
       "      <td>NaN</td>\n",
       "      <td>NaN</td>\n",
       "      <td>NaN</td>\n",
       "      <td>NaN</td>\n",
       "      <td>NaN</td>\n",
       "      <td>NaN</td>\n",
       "      <td>NaN</td>\n",
       "      <td>NaN</td>\n",
       "      <td>NaN</td>\n",
       "    </tr>\n",
       "    <tr>\n",
       "      <th>1</th>\n",
       "      <td>8c1f1046219ddd216a023f792356ddf127fce372a72ec9...</td>\n",
       "      <td>ad499dc8fba883ef000230c2468678a2e3444591f0ae9b...</td>\n",
       "      <td>2020-11-22 00:36:10</td>\n",
       "      <td>donate_to_recurring</td>\n",
       "      <td>0.00</td>\n",
       "      <td>0.0</td>\n",
       "      <td>0.0</td>\n",
       "      <td>0.00</td>\n",
       "      <td>au</td>\n",
       "      <td>zz_missing_state_region_province</td>\n",
       "      <td>...</td>\n",
       "      <td>NaN</td>\n",
       "      <td>NaN</td>\n",
       "      <td>NaN</td>\n",
       "      <td>NaN</td>\n",
       "      <td>NaN</td>\n",
       "      <td>NaN</td>\n",
       "      <td>NaN</td>\n",
       "      <td>NaN</td>\n",
       "      <td>NaN</td>\n",
       "      <td>NaN</td>\n",
       "    </tr>\n",
       "    <tr>\n",
       "      <th>2</th>\n",
       "      <td>8c1f1046219ddd216a023f792356ddf127fce372a72ec9...</td>\n",
       "      <td>053854f0e34432ed29ddb4058cd1ea2f9dcbd0778bc8d2...</td>\n",
       "      <td>2020-12-02 02:57:05</td>\n",
       "      <td>donate_to_recurring</td>\n",
       "      <td>0.00</td>\n",
       "      <td>0.0</td>\n",
       "      <td>0.0</td>\n",
       "      <td>0.00</td>\n",
       "      <td>au</td>\n",
       "      <td>Victoria</td>\n",
       "      <td>...</td>\n",
       "      <td>NaN</td>\n",
       "      <td>NaN</td>\n",
       "      <td>NaN</td>\n",
       "      <td>NaN</td>\n",
       "      <td>NaN</td>\n",
       "      <td>NaN</td>\n",
       "      <td>NaN</td>\n",
       "      <td>NaN</td>\n",
       "      <td>NaN</td>\n",
       "      <td>NaN</td>\n",
       "    </tr>\n",
       "    <tr>\n",
       "      <th>3</th>\n",
       "      <td>8c1f1046219ddd216a023f792356ddf127fce372a72ec9...</td>\n",
       "      <td>ad499dc8fba883ef000230c2468678a2e3444591f0ae9b...</td>\n",
       "      <td>2020-12-21 23:47:53</td>\n",
       "      <td>donate_to_recurring</td>\n",
       "      <td>0.00</td>\n",
       "      <td>0.0</td>\n",
       "      <td>0.0</td>\n",
       "      <td>0.00</td>\n",
       "      <td>au</td>\n",
       "      <td>zz_missing_state_region_province</td>\n",
       "      <td>...</td>\n",
       "      <td>NaN</td>\n",
       "      <td>NaN</td>\n",
       "      <td>NaN</td>\n",
       "      <td>NaN</td>\n",
       "      <td>NaN</td>\n",
       "      <td>NaN</td>\n",
       "      <td>NaN</td>\n",
       "      <td>NaN</td>\n",
       "      <td>NaN</td>\n",
       "      <td>NaN</td>\n",
       "    </tr>\n",
       "    <tr>\n",
       "      <th>4</th>\n",
       "      <td>6e4001871c0cf27c7634ef1dc478408f642410fd3a444e...</td>\n",
       "      <td>73351b614f9db45c3db9bb1b809031cd8a3cbf59df3f2b...</td>\n",
       "      <td>2020-05-01 02:16:37</td>\n",
       "      <td>donate_to_charity</td>\n",
       "      <td>1.62</td>\n",
       "      <td>0.0</td>\n",
       "      <td>0.0</td>\n",
       "      <td>1.62</td>\n",
       "      <td>ie</td>\n",
       "      <td>zz_missing_state_region_province</td>\n",
       "      <td>...</td>\n",
       "      <td>NaN</td>\n",
       "      <td>NaN</td>\n",
       "      <td>NaN</td>\n",
       "      <td>NaN</td>\n",
       "      <td>NaN</td>\n",
       "      <td>NaN</td>\n",
       "      <td>NaN</td>\n",
       "      <td>NaN</td>\n",
       "      <td>NaN</td>\n",
       "      <td>NaN</td>\n",
       "    </tr>\n",
       "  </tbody>\n",
       "</table>\n",
       "<p>5 rows × 77 columns</p>\n",
       "</div>"
      ],
      "text/plain": [
       "                                      member_id_hash  \\\n",
       "0  8c1f1046219ddd216a023f792356ddf127fce372a72ec9...   \n",
       "1  8c1f1046219ddd216a023f792356ddf127fce372a72ec9...   \n",
       "2  8c1f1046219ddd216a023f792356ddf127fce372a72ec9...   \n",
       "3  8c1f1046219ddd216a023f792356ddf127fce372a72ec9...   \n",
       "4  6e4001871c0cf27c7634ef1dc478408f642410fd3a444e...   \n",
       "\n",
       "                                       donor_id_hash date_lcl_donation_time  \\\n",
       "0  053854f0e34432ed29ddb4058cd1ea2f9dcbd0778bc8d2...    2020-11-02 03:47:04   \n",
       "1  ad499dc8fba883ef000230c2468678a2e3444591f0ae9b...    2020-11-22 00:36:10   \n",
       "2  053854f0e34432ed29ddb4058cd1ea2f9dcbd0778bc8d2...    2020-12-02 02:57:05   \n",
       "3  ad499dc8fba883ef000230c2468678a2e3444591f0ae9b...    2020-12-21 23:47:53   \n",
       "4  73351b614f9db45c3db9bb1b809031cd8a3cbf59df3f2b...    2020-05-01 02:16:37   \n",
       "\n",
       "         donation_type  aud_donor_foundation  aud_donor_member  \\\n",
       "0  donate_to_recurring                  0.00               0.0   \n",
       "1  donate_to_recurring                  0.00               0.0   \n",
       "2  donate_to_recurring                  0.00               0.0   \n",
       "3  donate_to_recurring                  0.00               0.0   \n",
       "4    donate_to_charity                  1.62               0.0   \n",
       "\n",
       "   aud_donor_team  aud_donor_total payment_country  \\\n",
       "0             0.0             0.00              au   \n",
       "1             0.0             0.00              au   \n",
       "2             0.0             0.00              au   \n",
       "3             0.0             0.00              au   \n",
       "4             0.0             1.62              ie   \n",
       "\n",
       "        geo_state_region_province_x  ...  sum_donations_member_2018  \\\n",
       "0                          Victoria  ...                        NaN   \n",
       "1  zz_missing_state_region_province  ...                        NaN   \n",
       "2                          Victoria  ...                        NaN   \n",
       "3  zz_missing_state_region_province  ...                        NaN   \n",
       "4  zz_missing_state_region_province  ...                        NaN   \n",
       "\n",
       "  sum_donations_member_2019  sum_donor_foundation_2020 sum_donor_member_2020  \\\n",
       "0                       NaN                        NaN                   NaN   \n",
       "1                       NaN                        NaN                   NaN   \n",
       "2                       NaN                        NaN                   NaN   \n",
       "3                       NaN                        NaN                   NaN   \n",
       "4                       NaN                        NaN                   NaN   \n",
       "\n",
       "  sum_donor_team_2020 sum_donor_total_2020 registered_2017 registered_2018  \\\n",
       "0                 NaN                  NaN             NaN             NaN   \n",
       "1                 NaN                  NaN             NaN             NaN   \n",
       "2                 NaN                  NaN             NaN             NaN   \n",
       "3                 NaN                  NaN             NaN             NaN   \n",
       "4                 NaN                  NaN             NaN             NaN   \n",
       "\n",
       "   registered_2019  registered_2021  \n",
       "0              NaN              NaN  \n",
       "1              NaN              NaN  \n",
       "2              NaN              NaN  \n",
       "3              NaN              NaN  \n",
       "4              NaN              NaN  \n",
       "\n",
       "[5 rows x 77 columns]"
      ]
     },
     "execution_count": 6,
     "metadata": {},
     "output_type": "execute_result"
    }
   ],
   "source": [
    "df.head()"
   ]
  },
  {
   "cell_type": "markdown",
   "metadata": {
    "id": "UIsef1duHj_t"
   },
   "source": [
    "**PERFORMING EXPLORATION DATA ANALYSIS (EDA)**"
   ]
  },
  {
   "cell_type": "code",
   "execution_count": 7,
   "metadata": {
    "colab": {
     "base_uri": "https://localhost:8080/"
    },
    "id": "0R4Xxe1PHuUd",
    "outputId": "cdc654da-c6f5-4ced-eb22-26a685b47125"
   },
   "outputs": [
    {
     "data": {
      "text/plain": [
       "(2099140, 77)"
      ]
     },
     "execution_count": 7,
     "metadata": {},
     "output_type": "execute_result"
    }
   ],
   "source": [
    "# data shape\n",
    "df.shape"
   ]
  },
  {
   "cell_type": "code",
   "execution_count": 8,
   "metadata": {
    "colab": {
     "base_uri": "https://localhost:8080/"
    },
    "id": "i5AhD23GHaT1",
    "outputId": "71c95316-761f-45c5-ea36-012a85630190"
   },
   "outputs": [
    {
     "data": {
      "text/plain": [
       "member_id_hash                 0\n",
       "donor_id_hash                  0\n",
       "date_lcl_donation_time         0\n",
       "donation_type                  0\n",
       "aud_donor_foundation           0\n",
       "                           ...  \n",
       "sum_donor_total_2020      259435\n",
       "registered_2017           259435\n",
       "registered_2018           259435\n",
       "registered_2019           259435\n",
       "registered_2021           259435\n",
       "Length: 77, dtype: int64"
      ]
     },
     "execution_count": 8,
     "metadata": {},
     "output_type": "execute_result"
    }
   ],
   "source": [
    "# sum of null values\n",
    "df.isnull().sum()"
   ]
  },
  {
   "cell_type": "code",
   "execution_count": 9,
   "metadata": {
    "colab": {
     "base_uri": "https://localhost:8080/",
     "height": 394
    },
    "id": "Kzry19rlH2vc",
    "outputId": "f84ee584-7a43-4ae8-b861-1c1bde23758c"
   },
   "outputs": [
    {
     "data": {
      "text/html": [
       "<div>\n",
       "<style scoped>\n",
       "    .dataframe tbody tr th:only-of-type {\n",
       "        vertical-align: middle;\n",
       "    }\n",
       "\n",
       "    .dataframe tbody tr th {\n",
       "        vertical-align: top;\n",
       "    }\n",
       "\n",
       "    .dataframe thead th {\n",
       "        text-align: right;\n",
       "    }\n",
       "</style>\n",
       "<table border=\"1\" class=\"dataframe\">\n",
       "  <thead>\n",
       "    <tr style=\"text-align: right;\">\n",
       "      <th></th>\n",
       "      <th>aud_donor_foundation</th>\n",
       "      <th>aud_donor_member</th>\n",
       "      <th>aud_donor_team</th>\n",
       "      <th>aud_donor_total</th>\n",
       "      <th>is_business</th>\n",
       "      <th>feat_donate_self</th>\n",
       "      <th>type_team_captain</th>\n",
       "      <th>type_team_member</th>\n",
       "      <th>campaigns_total_number</th>\n",
       "      <th>product_grow_intends</th>\n",
       "      <th>...</th>\n",
       "      <th>sum_donations_member_2018</th>\n",
       "      <th>sum_donations_member_2019</th>\n",
       "      <th>sum_donor_foundation_2020</th>\n",
       "      <th>sum_donor_member_2020</th>\n",
       "      <th>sum_donor_team_2020</th>\n",
       "      <th>sum_donor_total_2020</th>\n",
       "      <th>registered_2017</th>\n",
       "      <th>registered_2018</th>\n",
       "      <th>registered_2019</th>\n",
       "      <th>registered_2021</th>\n",
       "    </tr>\n",
       "  </thead>\n",
       "  <tbody>\n",
       "    <tr>\n",
       "      <th>count</th>\n",
       "      <td>2.099140e+06</td>\n",
       "      <td>2.099140e+06</td>\n",
       "      <td>2.099140e+06</td>\n",
       "      <td>2.099140e+06</td>\n",
       "      <td>2.099140e+06</td>\n",
       "      <td>2.099140e+06</td>\n",
       "      <td>1.839705e+06</td>\n",
       "      <td>1.839705e+06</td>\n",
       "      <td>1.839705e+06</td>\n",
       "      <td>1.839705e+06</td>\n",
       "      <td>...</td>\n",
       "      <td>1.839705e+06</td>\n",
       "      <td>1.839705e+06</td>\n",
       "      <td>1.839705e+06</td>\n",
       "      <td>1.839705e+06</td>\n",
       "      <td>1.839705e+06</td>\n",
       "      <td>1.839705e+06</td>\n",
       "      <td>1.839705e+06</td>\n",
       "      <td>1.839705e+06</td>\n",
       "      <td>1.839705e+06</td>\n",
       "      <td>1.839705e+06</td>\n",
       "    </tr>\n",
       "    <tr>\n",
       "      <th>mean</th>\n",
       "      <td>2.393210e+00</td>\n",
       "      <td>4.074777e+01</td>\n",
       "      <td>7.958833e+00</td>\n",
       "      <td>5.111725e+01</td>\n",
       "      <td>2.353821e-02</td>\n",
       "      <td>4.967225e-02</td>\n",
       "      <td>1.624298e-01</td>\n",
       "      <td>4.622013e-01</td>\n",
       "      <td>2.382078e+00</td>\n",
       "      <td>8.568738e-01</td>\n",
       "      <td>...</td>\n",
       "      <td>3.710378e+02</td>\n",
       "      <td>4.143829e+02</td>\n",
       "      <td>5.920757e+01</td>\n",
       "      <td>2.509199e+02</td>\n",
       "      <td>5.566866e+01</td>\n",
       "      <td>3.658079e+02</td>\n",
       "      <td>1.385412e-01</td>\n",
       "      <td>1.798761e-01</td>\n",
       "      <td>2.510087e-01</td>\n",
       "      <td>4.017535e-01</td>\n",
       "    </tr>\n",
       "    <tr>\n",
       "      <th>std</th>\n",
       "      <td>3.354156e+02</td>\n",
       "      <td>1.274350e+02</td>\n",
       "      <td>1.817224e+02</td>\n",
       "      <td>4.011027e+02</td>\n",
       "      <td>1.516053e-01</td>\n",
       "      <td>2.172670e-01</td>\n",
       "      <td>3.688448e-01</td>\n",
       "      <td>4.985693e-01</td>\n",
       "      <td>2.580141e+00</td>\n",
       "      <td>3.502016e-01</td>\n",
       "      <td>...</td>\n",
       "      <td>2.549204e+03</td>\n",
       "      <td>2.221088e+03</td>\n",
       "      <td>1.152881e+04</td>\n",
       "      <td>3.082643e+04</td>\n",
       "      <td>8.936401e+03</td>\n",
       "      <td>5.128651e+04</td>\n",
       "      <td>3.454673e-01</td>\n",
       "      <td>3.840843e-01</td>\n",
       "      <td>4.335936e-01</td>\n",
       "      <td>4.902528e-01</td>\n",
       "    </tr>\n",
       "    <tr>\n",
       "      <th>min</th>\n",
       "      <td>0.000000e+00</td>\n",
       "      <td>0.000000e+00</td>\n",
       "      <td>0.000000e+00</td>\n",
       "      <td>0.000000e+00</td>\n",
       "      <td>0.000000e+00</td>\n",
       "      <td>0.000000e+00</td>\n",
       "      <td>0.000000e+00</td>\n",
       "      <td>0.000000e+00</td>\n",
       "      <td>0.000000e+00</td>\n",
       "      <td>0.000000e+00</td>\n",
       "      <td>...</td>\n",
       "      <td>0.000000e+00</td>\n",
       "      <td>0.000000e+00</td>\n",
       "      <td>0.000000e+00</td>\n",
       "      <td>0.000000e+00</td>\n",
       "      <td>0.000000e+00</td>\n",
       "      <td>0.000000e+00</td>\n",
       "      <td>0.000000e+00</td>\n",
       "      <td>0.000000e+00</td>\n",
       "      <td>0.000000e+00</td>\n",
       "      <td>0.000000e+00</td>\n",
       "    </tr>\n",
       "    <tr>\n",
       "      <th>25%</th>\n",
       "      <td>0.000000e+00</td>\n",
       "      <td>1.617000e+01</td>\n",
       "      <td>0.000000e+00</td>\n",
       "      <td>1.886000e+01</td>\n",
       "      <td>0.000000e+00</td>\n",
       "      <td>0.000000e+00</td>\n",
       "      <td>0.000000e+00</td>\n",
       "      <td>0.000000e+00</td>\n",
       "      <td>1.000000e+00</td>\n",
       "      <td>1.000000e+00</td>\n",
       "      <td>...</td>\n",
       "      <td>0.000000e+00</td>\n",
       "      <td>0.000000e+00</td>\n",
       "      <td>0.000000e+00</td>\n",
       "      <td>0.000000e+00</td>\n",
       "      <td>0.000000e+00</td>\n",
       "      <td>0.000000e+00</td>\n",
       "      <td>0.000000e+00</td>\n",
       "      <td>0.000000e+00</td>\n",
       "      <td>0.000000e+00</td>\n",
       "      <td>0.000000e+00</td>\n",
       "    </tr>\n",
       "    <tr>\n",
       "      <th>50%</th>\n",
       "      <td>0.000000e+00</td>\n",
       "      <td>2.500000e+01</td>\n",
       "      <td>0.000000e+00</td>\n",
       "      <td>3.000000e+01</td>\n",
       "      <td>0.000000e+00</td>\n",
       "      <td>0.000000e+00</td>\n",
       "      <td>0.000000e+00</td>\n",
       "      <td>0.000000e+00</td>\n",
       "      <td>1.000000e+00</td>\n",
       "      <td>1.000000e+00</td>\n",
       "      <td>...</td>\n",
       "      <td>0.000000e+00</td>\n",
       "      <td>0.000000e+00</td>\n",
       "      <td>0.000000e+00</td>\n",
       "      <td>1.886000e+01</td>\n",
       "      <td>0.000000e+00</td>\n",
       "      <td>2.000000e+01</td>\n",
       "      <td>0.000000e+00</td>\n",
       "      <td>0.000000e+00</td>\n",
       "      <td>0.000000e+00</td>\n",
       "      <td>0.000000e+00</td>\n",
       "    </tr>\n",
       "    <tr>\n",
       "      <th>75%</th>\n",
       "      <td>0.000000e+00</td>\n",
       "      <td>5.000000e+01</td>\n",
       "      <td>0.000000e+00</td>\n",
       "      <td>5.000000e+01</td>\n",
       "      <td>0.000000e+00</td>\n",
       "      <td>0.000000e+00</td>\n",
       "      <td>0.000000e+00</td>\n",
       "      <td>1.000000e+00</td>\n",
       "      <td>2.000000e+00</td>\n",
       "      <td>1.000000e+00</td>\n",
       "      <td>...</td>\n",
       "      <td>0.000000e+00</td>\n",
       "      <td>1.000000e+01</td>\n",
       "      <td>0.000000e+00</td>\n",
       "      <td>6.521000e+01</td>\n",
       "      <td>0.000000e+00</td>\n",
       "      <td>7.545000e+01</td>\n",
       "      <td>0.000000e+00</td>\n",
       "      <td>0.000000e+00</td>\n",
       "      <td>1.000000e+00</td>\n",
       "      <td>1.000000e+00</td>\n",
       "    </tr>\n",
       "    <tr>\n",
       "      <th>max</th>\n",
       "      <td>2.789091e+05</td>\n",
       "      <td>1.086915e+05</td>\n",
       "      <td>1.131852e+05</td>\n",
       "      <td>2.789091e+05</td>\n",
       "      <td>1.000000e+00</td>\n",
       "      <td>1.000000e+00</td>\n",
       "      <td>1.000000e+00</td>\n",
       "      <td>1.000000e+00</td>\n",
       "      <td>1.800000e+01</td>\n",
       "      <td>1.000000e+00</td>\n",
       "      <td>...</td>\n",
       "      <td>1.111099e+05</td>\n",
       "      <td>1.173953e+05</td>\n",
       "      <td>2.257061e+06</td>\n",
       "      <td>6.033869e+06</td>\n",
       "      <td>1.748922e+06</td>\n",
       "      <td>1.003985e+07</td>\n",
       "      <td>1.000000e+00</td>\n",
       "      <td>1.000000e+00</td>\n",
       "      <td>1.000000e+00</td>\n",
       "      <td>1.000000e+00</td>\n",
       "    </tr>\n",
       "  </tbody>\n",
       "</table>\n",
       "<p>8 rows × 60 columns</p>\n",
       "</div>"
      ],
      "text/plain": [
       "       aud_donor_foundation  aud_donor_member  aud_donor_team  \\\n",
       "count          2.099140e+06      2.099140e+06    2.099140e+06   \n",
       "mean           2.393210e+00      4.074777e+01    7.958833e+00   \n",
       "std            3.354156e+02      1.274350e+02    1.817224e+02   \n",
       "min            0.000000e+00      0.000000e+00    0.000000e+00   \n",
       "25%            0.000000e+00      1.617000e+01    0.000000e+00   \n",
       "50%            0.000000e+00      2.500000e+01    0.000000e+00   \n",
       "75%            0.000000e+00      5.000000e+01    0.000000e+00   \n",
       "max            2.789091e+05      1.086915e+05    1.131852e+05   \n",
       "\n",
       "       aud_donor_total   is_business  feat_donate_self  type_team_captain  \\\n",
       "count     2.099140e+06  2.099140e+06      2.099140e+06       1.839705e+06   \n",
       "mean      5.111725e+01  2.353821e-02      4.967225e-02       1.624298e-01   \n",
       "std       4.011027e+02  1.516053e-01      2.172670e-01       3.688448e-01   \n",
       "min       0.000000e+00  0.000000e+00      0.000000e+00       0.000000e+00   \n",
       "25%       1.886000e+01  0.000000e+00      0.000000e+00       0.000000e+00   \n",
       "50%       3.000000e+01  0.000000e+00      0.000000e+00       0.000000e+00   \n",
       "75%       5.000000e+01  0.000000e+00      0.000000e+00       0.000000e+00   \n",
       "max       2.789091e+05  1.000000e+00      1.000000e+00       1.000000e+00   \n",
       "\n",
       "       type_team_member  campaigns_total_number  product_grow_intends  ...  \\\n",
       "count      1.839705e+06            1.839705e+06          1.839705e+06  ...   \n",
       "mean       4.622013e-01            2.382078e+00          8.568738e-01  ...   \n",
       "std        4.985693e-01            2.580141e+00          3.502016e-01  ...   \n",
       "min        0.000000e+00            0.000000e+00          0.000000e+00  ...   \n",
       "25%        0.000000e+00            1.000000e+00          1.000000e+00  ...   \n",
       "50%        0.000000e+00            1.000000e+00          1.000000e+00  ...   \n",
       "75%        1.000000e+00            2.000000e+00          1.000000e+00  ...   \n",
       "max        1.000000e+00            1.800000e+01          1.000000e+00  ...   \n",
       "\n",
       "       sum_donations_member_2018  sum_donations_member_2019  \\\n",
       "count               1.839705e+06               1.839705e+06   \n",
       "mean                3.710378e+02               4.143829e+02   \n",
       "std                 2.549204e+03               2.221088e+03   \n",
       "min                 0.000000e+00               0.000000e+00   \n",
       "25%                 0.000000e+00               0.000000e+00   \n",
       "50%                 0.000000e+00               0.000000e+00   \n",
       "75%                 0.000000e+00               1.000000e+01   \n",
       "max                 1.111099e+05               1.173953e+05   \n",
       "\n",
       "       sum_donor_foundation_2020  sum_donor_member_2020  sum_donor_team_2020  \\\n",
       "count               1.839705e+06           1.839705e+06         1.839705e+06   \n",
       "mean                5.920757e+01           2.509199e+02         5.566866e+01   \n",
       "std                 1.152881e+04           3.082643e+04         8.936401e+03   \n",
       "min                 0.000000e+00           0.000000e+00         0.000000e+00   \n",
       "25%                 0.000000e+00           0.000000e+00         0.000000e+00   \n",
       "50%                 0.000000e+00           1.886000e+01         0.000000e+00   \n",
       "75%                 0.000000e+00           6.521000e+01         0.000000e+00   \n",
       "max                 2.257061e+06           6.033869e+06         1.748922e+06   \n",
       "\n",
       "       sum_donor_total_2020  registered_2017  registered_2018  \\\n",
       "count          1.839705e+06     1.839705e+06     1.839705e+06   \n",
       "mean           3.658079e+02     1.385412e-01     1.798761e-01   \n",
       "std            5.128651e+04     3.454673e-01     3.840843e-01   \n",
       "min            0.000000e+00     0.000000e+00     0.000000e+00   \n",
       "25%            0.000000e+00     0.000000e+00     0.000000e+00   \n",
       "50%            2.000000e+01     0.000000e+00     0.000000e+00   \n",
       "75%            7.545000e+01     0.000000e+00     0.000000e+00   \n",
       "max            1.003985e+07     1.000000e+00     1.000000e+00   \n",
       "\n",
       "       registered_2019  registered_2021  \n",
       "count     1.839705e+06     1.839705e+06  \n",
       "mean      2.510087e-01     4.017535e-01  \n",
       "std       4.335936e-01     4.902528e-01  \n",
       "min       0.000000e+00     0.000000e+00  \n",
       "25%       0.000000e+00     0.000000e+00  \n",
       "50%       0.000000e+00     0.000000e+00  \n",
       "75%       1.000000e+00     1.000000e+00  \n",
       "max       1.000000e+00     1.000000e+00  \n",
       "\n",
       "[8 rows x 60 columns]"
      ]
     },
     "execution_count": 9,
     "metadata": {},
     "output_type": "execute_result"
    }
   ],
   "source": [
    "df.describe()"
   ]
  },
  {
   "cell_type": "code",
   "execution_count": 10,
   "metadata": {
    "colab": {
     "base_uri": "https://localhost:8080/"
    },
    "id": "hmabP1fvH9w2",
    "outputId": "8ac19065-5f31-4590-cdf8-c5246348a1dc"
   },
   "outputs": [],
   "source": [
    "# sum of duplicate values\n",
    "df.duplicated().sum()\n",
    "df.drop_duplicates(inplace=True)"
   ]
  },
  {
   "cell_type": "code",
   "execution_count": 11,
   "metadata": {
    "colab": {
     "base_uri": "https://localhost:8080/"
    },
    "id": "Pvod3rWiILQU",
    "outputId": "1489c272-8b26-45d5-e3dc-c937445e3218"
   },
   "outputs": [
    {
     "name": "stdout",
     "output_type": "stream",
     "text": [
      "<class 'pandas.core.frame.DataFrame'>\n",
      "Int64Index: 2097607 entries, 0 to 2099139\n",
      "Data columns (total 77 columns):\n",
      " #   Column                           Dtype  \n",
      "---  ------                           -----  \n",
      " 0   member_id_hash                   object \n",
      " 1   donor_id_hash                    object \n",
      " 2   date_lcl_donation_time           object \n",
      " 3   donation_type                    object \n",
      " 4   aud_donor_foundation             float64\n",
      " 5   aud_donor_member                 float64\n",
      " 6   aud_donor_team                   float64\n",
      " 7   aud_donor_total                  float64\n",
      " 8   payment_country                  object \n",
      " 9   geo_state_region_province_x      object \n",
      " 10  is_business                      int64  \n",
      " 11  pmt_card_type                    object \n",
      " 12  feat_donate_self                 int64  \n",
      " 13  date_lcl_activation              object \n",
      " 14  country                          object \n",
      " 15  geo_state_region_province_y      object \n",
      " 16  gender                           object \n",
      " 17  category_fundraising             object \n",
      " 18  type_team_captain                float64\n",
      " 19  type_team_member                 float64\n",
      " 20  tenure_description               object \n",
      " 21  campaigns_total_number           float64\n",
      " 22  product_grow_intends             float64\n",
      " 23  product_host_intends             float64\n",
      " 24  product_move_intends             float64\n",
      " 25  product_myow_intends             float64\n",
      " 26  feat_donote_other                float64\n",
      " 27  feat_donote_self                 float64\n",
      " 28  feat_facebook_fundraiser         float64\n",
      " 29  feat_facebook_login              float64\n",
      " 30  feat_motive                      float64\n",
      " 31  feat_phone_no_provided           float64\n",
      " 32  feat_picture                     float64\n",
      " 33  feat_platinum_club               float64\n",
      " 34  feat_target_met                  float64\n",
      " 35  feat_target_setter               float64\n",
      " 36  feat_url_personal                float64\n",
      " 37  feat_web_click_shares            float64\n",
      " 38  feat_web_date_nunique            float64\n",
      " 39  feat_web_session_id_nunique      float64\n",
      " 40  feat_web_total_pageviews         float64\n",
      " 41  feat_web_visited_weekday         float64\n",
      " 42  feat_web_visited_weekend         float64\n",
      " 43  feat_app_user                    float64\n",
      " 44  feat_app_click_share             float64\n",
      " 45  feat_app_date_nunique            float64\n",
      " 46  feat_app_operating_system_first  object \n",
      " 47  feat_app_session_id_nunique      float64\n",
      " 48  feat_app_total_screenviews       float64\n",
      " 49  feat_app_view_motracker          float64\n",
      " 50  feat_app_visited_weekday_app     float64\n",
      " 51  feat_app_visited_weekend_app     float64\n",
      " 52  web_user                         float64\n",
      " 53  web_traffic_channel_first        object \n",
      " 54  web_traffic_source_first         object \n",
      " 55  web_traffic_medium_first         object \n",
      " 56  web_view_get_involved            float64\n",
      " 57  web_view_about_us                float64\n",
      " 58  web_view_mens_health             float64\n",
      " 59  sum_donations_member_2020        float64\n",
      " 60  mean_donations_member_2020       float64\n",
      " 61  median_donations_member_2020     float64\n",
      " 62  count_donations_member_2020      float64\n",
      " 63  max_donations_member_2020        float64\n",
      " 64  min_donations_member_2020        float64\n",
      " 65  std_donations_member_2020        float64\n",
      " 66  sum_donations_member_2017        float64\n",
      " 67  sum_donations_member_2018        float64\n",
      " 68  sum_donations_member_2019        float64\n",
      " 69  sum_donor_foundation_2020        float64\n",
      " 70  sum_donor_member_2020            float64\n",
      " 71  sum_donor_team_2020              float64\n",
      " 72  sum_donor_total_2020             float64\n",
      " 73  registered_2017                  float64\n",
      " 74  registered_2018                  float64\n",
      " 75  registered_2019                  float64\n",
      " 76  registered_2021                  float64\n",
      "dtypes: float64(58), int64(2), object(17)\n",
      "memory usage: 1.2+ GB\n"
     ]
    }
   ],
   "source": [
    "# column informations\n",
    "df.info()"
   ]
  },
  {
   "cell_type": "code",
   "execution_count": 12,
   "metadata": {
    "colab": {
     "base_uri": "https://localhost:8080/"
    },
    "id": "meWo1w3pIQ2D",
    "outputId": "1ebc9d4e-41ae-4f69-ac5d-661282c52fb2"
   },
   "outputs": [
    {
     "data": {
      "text/plain": [
       "[]"
      ]
     },
     "execution_count": 12,
     "metadata": {},
     "output_type": "execute_result"
    }
   ],
   "source": [
    "# Categorical columns unique values\n",
    "cat_cols = df.select_dtypes(include='category').columns.to_list()\n",
    "cat_cols"
   ]
  },
  {
   "cell_type": "code",
   "execution_count": 13,
   "metadata": {
    "colab": {
     "base_uri": "https://localhost:8080/"
    },
    "id": "kdR0z7FoMCK1",
    "outputId": "07bf3da6-261e-4fb1-9c8c-0f9aab77d0b9"
   },
   "outputs": [],
   "source": [
    "# Getting the Categorical columns unique values\n",
    "cols = ['donation_type','payment_country','geo_state_region_province_x','country','geo_state_region_province_y','gender','category_fundraising']\n",
    "for unique in df[cols]:\n",
    "    print(unique.upper())\n",
    "    print()\n",
    "    print(df[unique].unique())"
   ]
  },
  {
   "cell_type": "code",
   "execution_count": 14,
   "metadata": {
    "colab": {
     "base_uri": "https://localhost:8080/"
    },
    "id": "JcZRxg02I-bd",
    "outputId": "58365c1e-0fe0-4ae9-d857-e45ff8b89c63"
   },
   "outputs": [
    {
     "name": "stdout",
     "output_type": "stream",
     "text": [
      "[nan  1.  0.]\n",
      "registered_2017  registered_2018  registered_2019  registered_2021\n",
      "False            False            False            False              1838425\n",
      "True             True             True             True                259182\n",
      "dtype: int64\n",
      "[nan  1.  0.]\n",
      "registered_2017  registered_2018  registered_2019  registered_2021\n",
      "False            False            False            False              1838425\n",
      "True             True             True             True                259182\n",
      "dtype: int64\n",
      "[nan  1.  0.]\n",
      "registered_2017  registered_2018  registered_2019  registered_2021\n",
      "False            False            False            False              1838425\n",
      "True             True             True             True                259182\n",
      "dtype: int64\n",
      "[nan  1.  0.]\n",
      "registered_2017  registered_2018  registered_2019  registered_2021\n",
      "False            False            False            False              1838425\n",
      "True             True             True             True                259182\n",
      "dtype: int64\n"
     ]
    }
   ],
   "source": [
    "# Check Registration Year unique values\n",
    "reg_year = ['registered_2017', 'registered_2018', 'registered_2019', 'registered_2021']\n",
    "for years in df[reg_year]:\n",
    "    print(df[years].unique())\n",
    "    print(df[reg_year].isna().value_counts())"
   ]
  },
  {
   "cell_type": "markdown",
   "metadata": {
    "id": "wPTyek7-NJOx"
   },
   "source": [
    "**DATA VISUALIZATIONS**"
   ]
  },
  {
   "cell_type": "code",
   "execution_count": 15,
   "metadata": {
    "colab": {
     "base_uri": "https://localhost:8080/",
     "height": 569
    },
    "id": "NhWECnklLxSk",
    "outputId": "bf123ae0-bcee-45e1-b075-09a401dfdd1b"
   },
   "outputs": [
    {
     "data": {
      "image/png": "[encoded data removed]",
      "text/plain": [
       "<Figure size 1080x720 with 1 Axes>"
      ]
     },
     "metadata": {},
     "output_type": "display_data"
    }
   ],
   "source": [
    "sns.set_theme(font_scale=1.5)\n",
    "plt.figure(figsize=(15,10))\n",
    "sns.barplot(x=df.groupby('country').country.count().values,y=df.groupby('country').country.count().index)\n",
    "plt.title('Fundraising Across Countries')\n",
    "plt.savefig(\"Fundraising Across Contries\")\n",
    "plt.show()"
   ]
  },
  {
   "cell_type": "markdown",
   "metadata": {
    "id": "iNIzgW27OpMs"
   },
   "source": [
    "The graph above shows distribution of fundraising across different Countries with UK having the highest and Austria having the lowest"
   ]
  },
  {
   "cell_type": "code",
   "execution_count": 16,
   "metadata": {
    "colab": {
     "base_uri": "https://localhost:8080/",
     "height": 596
    },
    "id": "iIogiMqZOd4O",
    "outputId": "98ed8dff-ab31-485e-e3ec-e631654b61ea"
   },
   "outputs": [
    {
     "data": {
      "image/png": "[encoded data removed]",
      "text/plain": [
       "<Figure size 720x720 with 1 Axes>"
      ]
     },
     "metadata": {},
     "output_type": "display_data"
    }
   ],
   "source": [
    "# Fundraising into Categories\n",
    "category_fundraising = df.groupby('category_fundraising').category_fundraising.count().sort_values(ascending=False )\n",
    "\n",
    "plt.figure(figsize=(10, 10))\n",
    "plt.pie(category_fundraising,labels=category_fundraising.index,autopct='%.0f%%')\n",
    "plt.title('Pie-Plot Univariate Analysis Showing Percentage of Fundraising category ',fontsize=20)\n",
    "plt.savefig(\"Fundraising category %\")\n",
    "plt.show()"
   ]
  },
  {
   "cell_type": "markdown",
   "metadata": {
    "id": "XxC_Ct8FQ1Xr"
   },
   "source": [
    "The Pie Chart above shows most of the Fundraising Categories which are **Friends** and **Workplace**"
   ]
  },
  {
   "cell_type": "code",
   "execution_count": 17,
   "metadata": {
    "colab": {
     "base_uri": "https://localhost:8080/",
     "height": 355
    },
    "id": "7Qe_Zy5BPQTS",
    "outputId": "ef989e95-a05b-45e4-83bc-3ab3e45e6357"
   },
   "outputs": [
    {
     "data": {
      "image/png": "[encoded data removed]",
      "text/plain": [
       "<Figure size 1008x360 with 1 Axes>"
      ]
     },
     "metadata": {},
     "output_type": "display_data"
    }
   ],
   "source": [
    "# Donation type Histogram Plot\n",
    "plt.figure(figsize=(14, 5))\n",
    "ab=plt.hist(df['donation_type'])\n",
    "plt.title(\"Histogram Univariate Analysis Showing Donation Types\",fontsize=24)\n",
    "plt.savefig(\"Donation Types\")\n",
    "plt.show()"
   ]
  },
  {
   "cell_type": "markdown",
   "metadata": {
    "id": "RQ2I3eZQSCK_"
   },
   "source": [
    "The graph above shows that most of the Donors donated to more individuals and few to Teams"
   ]
  },
  {
   "cell_type": "code",
   "execution_count": 18,
   "metadata": {
    "colab": {
     "base_uri": "https://localhost:8080/",
     "height": 481
    },
    "id": "gKv2P3VIQntj",
    "outputId": "86b9fbe5-109c-4b92-9fca-19a84bfd6344"
   },
   "outputs": [
    {
     "data": {
      "image/png": "[encoded data removed]",
      "text/plain": [
       "<Figure size 1080x504 with 1 Axes>"
      ]
     },
     "metadata": {},
     "output_type": "display_data"
    }
   ],
   "source": [
    "sns.set_theme(font_scale=1.5)\n",
    "plt.figure(figsize=(15,7))\n",
    "sns.barplot(x=df.groupby('gender')['gender'].count().index,y=df.groupby('gender')['gender'].count().values)\n",
    "plt.title('Distribution of Sex Among Donors')\n",
    "plt.savefig(\"Sex Amoung Donors\")\n",
    "plt.show()"
   ]
  },
  {
   "cell_type": "markdown",
   "metadata": {
    "id": "9UGakL1QStN8"
   },
   "source": [
    "The above graph indicates that more than 60% of the Donors are Male"
   ]
  },
  {
   "cell_type": "code",
   "execution_count": 19,
   "metadata": {
    "colab": {
     "base_uri": "https://localhost:8080/",
     "height": 596
    },
    "id": "9SZWgGj9X-K1",
    "outputId": "51912965-797e-4aa1-9634-ed5fda0038fc"
   },
   "outputs": [
    {
     "data": {
      "image/png": "[encoded data removed]",
      "text/plain": [
       "<Figure size 720x720 with 1 Axes>"
      ]
     },
     "metadata": {},
     "output_type": "display_data"
    }
   ],
   "source": [
    "# Tenure Description pie plot\n",
    "tenure_description = df.groupby('tenure_description').tenure_description.count().sort_values(ascending=False )\n",
    "\n",
    "plt.figure(figsize=(10, 10))\n",
    "plt.pie(tenure_description,labels=tenure_description.index,autopct='%.0f%%')\n",
    "plt.title('Pie-Plot Univariate Analysis Showing Percentage of Tenure Description ',fontsize=20)\n",
    "plt.savefig(\"Fundraising % in Tenure\")\n",
    "plt.show()"
   ]
  },
  {
   "cell_type": "markdown",
   "metadata": {
    "id": "HZRvNWu1YxuR"
   },
   "source": [
    "The Above Pie Plot indicates that there are More First time Fundraisers, which tends to mean that peoples are willing to Donate"
   ]
  },
  {
   "cell_type": "code",
   "execution_count": 20,
   "metadata": {
    "colab": {
     "base_uri": "https://localhost:8080/"
    },
    "id": "Y210zaSGYKQa",
    "outputId": "97cd4462-1006-4898-de5a-5e593553826d"
   },
   "outputs": [
    {
     "data": {
      "text/plain": [
       "array([nan, 'Retained', 'New', 'Returning'], dtype=object)"
      ]
     },
     "execution_count": 20,
     "metadata": {},
     "output_type": "execute_result"
    }
   ],
   "source": [
    "df['tenure_description'].unique()"
   ]
  },
  {
   "cell_type": "markdown",
   "metadata": {
    "id": "alZl7xSnTd4L"
   },
   "source": [
    "**DATA PREPARATION AND FEATURES ENGINEERING**"
   ]
  },
  {
   "cell_type": "markdown",
   "metadata": {
    "id": "FpH6TtVyWzjH"
   },
   "source": [
    "Replace Null Values in the columns with categorical values with the mode of the column"
   ]
  },
  {
   "cell_type": "code",
   "execution_count": 21,
   "metadata": {
    "colab": {
     "base_uri": "https://localhost:8080/"
    },
    "id": "OT_Q5L_e21CO",
    "outputId": "f6f498e6-ec91-493a-ca99-ff5584024068"
   },
   "outputs": [
    {
     "name": "stdout",
     "output_type": "stream",
     "text": [
      "0\n",
      "259182\n"
     ]
    }
   ],
   "source": [
    "print(df['geo_state_region_province_x'].isnull().sum())\n",
    "print(df['geo_state_region_province_y'].isnull().sum())"
   ]
  },
  {
   "cell_type": "code",
   "execution_count": 22,
   "metadata": {
    "colab": {
     "base_uri": "https://localhost:8080/"
    },
    "id": "Tnxi9kvaV6e6",
    "outputId": "76541971-3a2c-4867-8de5-32786575fe2b"
   },
   "outputs": [
    {
     "name": "stdout",
     "output_type": "stream",
     "text": [
      "0\n",
      "0\n",
      "0\n",
      "0\n"
     ]
    }
   ],
   "source": [
    "cat_cols_with_nan = ['country','gender','category_fundraising', 'tenure_description']\n",
    "\n",
    "for nans in df[cat_cols_with_nan]:\n",
    "    cols_mode = df[nans].mode()[0]\n",
    "    df[nans].fillna(cols_mode, inplace=True)\n",
    "    print(df[nans].isnull().sum())"
   ]
  },
  {
   "cell_type": "markdown",
   "metadata": {
    "id": "GeLPvZLBhpJ2"
   },
   "source": [
    "**DROPPING UNECESSARY COLUMNS**"
   ]
  },
  {
   "cell_type": "code",
   "execution_count": 23,
   "metadata": {
    "colab": {
     "base_uri": "https://localhost:8080/"
    },
    "id": "KNDRiHggfVvh",
    "outputId": "e05b9d68-e606-4e3b-90c3-e9b92dcedd58"
   },
   "outputs": [
    {
     "data": {
      "text/plain": [
       "(2097607, 33)"
      ]
     },
     "execution_count": 23,
     "metadata": {},
     "output_type": "execute_result"
    }
   ],
   "source": [
    "cols_to_be_dropped = ['member_id_hash','donor_id_hash','feat_facebook_fundraiser','feat_facebook_login','feat_motive','feat_phone_no_provided',\n",
    "                      'feat_picture','feat_platinum_club','feat_target_met','feat_target_setter','feat_url_personal',\n",
    "                      'feat_web_click_shares','feat_web_date_nunique','feat_web_session_id_nunique','feat_web_total_pageviews',\n",
    "                      'feat_web_visited_weekday','feat_web_visited_weekend','geo_state_region_province_y','feat_app_user','feat_app_click_share','feat_app_date_nunique',\n",
    "                      'feat_app_operating_system_first','feat_app_session_id_nunique','feat_app_total_screenviews','feat_app_view_motracker',\n",
    "                      'feat_app_visited_weekday_app','feat_app_visited_weekend_app','web_user','web_traffic_channel_first','web_traffic_source_first',\n",
    "                      'web_traffic_medium_first','web_view_get_involved','web_view_about_us','web_view_mens_health','sum_donations_member_2020',\n",
    "                      'mean_donations_member_2020','median_donations_member_2020','count_donations_member_2020','max_donations_member_2020',\n",
    "                      'min_donations_member_2020','std_donations_member_2020','date_lcl_activation','date_lcl_donation_time','geo_state_region_province_x']\n",
    "\n",
    "# DROP COLUMNS\n",
    "df.drop(cols_to_be_dropped, axis=1, inplace=True)\n",
    "df.shape"
   ]
  },
  {
   "cell_type": "code",
   "execution_count": 24,
   "metadata": {
    "colab": {
     "base_uri": "https://localhost:8080/",
     "height": 334
    },
    "id": "yTjR_M4GW_oa",
    "outputId": "d1033198-9079-4f56-d170-a619fe9100ce"
   },
   "outputs": [
    {
     "data": {
      "text/html": [
       "<div>\n",
       "<style scoped>\n",
       "    .dataframe tbody tr th:only-of-type {\n",
       "        vertical-align: middle;\n",
       "    }\n",
       "\n",
       "    .dataframe tbody tr th {\n",
       "        vertical-align: top;\n",
       "    }\n",
       "\n",
       "    .dataframe thead th {\n",
       "        text-align: right;\n",
       "    }\n",
       "</style>\n",
       "<table border=\"1\" class=\"dataframe\">\n",
       "  <thead>\n",
       "    <tr style=\"text-align: right;\">\n",
       "      <th></th>\n",
       "      <th>donation_type</th>\n",
       "      <th>aud_donor_foundation</th>\n",
       "      <th>aud_donor_member</th>\n",
       "      <th>aud_donor_team</th>\n",
       "      <th>aud_donor_total</th>\n",
       "      <th>payment_country</th>\n",
       "      <th>is_business</th>\n",
       "      <th>pmt_card_type</th>\n",
       "      <th>feat_donate_self</th>\n",
       "      <th>country</th>\n",
       "      <th>...</th>\n",
       "      <th>sum_donations_member_2018</th>\n",
       "      <th>sum_donations_member_2019</th>\n",
       "      <th>sum_donor_foundation_2020</th>\n",
       "      <th>sum_donor_member_2020</th>\n",
       "      <th>sum_donor_team_2020</th>\n",
       "      <th>sum_donor_total_2020</th>\n",
       "      <th>registered_2017</th>\n",
       "      <th>registered_2018</th>\n",
       "      <th>registered_2019</th>\n",
       "      <th>registered_2021</th>\n",
       "    </tr>\n",
       "  </thead>\n",
       "  <tbody>\n",
       "    <tr>\n",
       "      <th>0</th>\n",
       "      <td>donate_to_recurring</td>\n",
       "      <td>0.00</td>\n",
       "      <td>0.0</td>\n",
       "      <td>0.0</td>\n",
       "      <td>0.00</td>\n",
       "      <td>au</td>\n",
       "      <td>0</td>\n",
       "      <td>visa</td>\n",
       "      <td>0</td>\n",
       "      <td>UK</td>\n",
       "      <td>...</td>\n",
       "      <td>NaN</td>\n",
       "      <td>NaN</td>\n",
       "      <td>NaN</td>\n",
       "      <td>NaN</td>\n",
       "      <td>NaN</td>\n",
       "      <td>NaN</td>\n",
       "      <td>NaN</td>\n",
       "      <td>NaN</td>\n",
       "      <td>NaN</td>\n",
       "      <td>NaN</td>\n",
       "    </tr>\n",
       "    <tr>\n",
       "      <th>1</th>\n",
       "      <td>donate_to_recurring</td>\n",
       "      <td>0.00</td>\n",
       "      <td>0.0</td>\n",
       "      <td>0.0</td>\n",
       "      <td>0.00</td>\n",
       "      <td>au</td>\n",
       "      <td>0</td>\n",
       "      <td>american express</td>\n",
       "      <td>0</td>\n",
       "      <td>UK</td>\n",
       "      <td>...</td>\n",
       "      <td>NaN</td>\n",
       "      <td>NaN</td>\n",
       "      <td>NaN</td>\n",
       "      <td>NaN</td>\n",
       "      <td>NaN</td>\n",
       "      <td>NaN</td>\n",
       "      <td>NaN</td>\n",
       "      <td>NaN</td>\n",
       "      <td>NaN</td>\n",
       "      <td>NaN</td>\n",
       "    </tr>\n",
       "    <tr>\n",
       "      <th>2</th>\n",
       "      <td>donate_to_recurring</td>\n",
       "      <td>0.00</td>\n",
       "      <td>0.0</td>\n",
       "      <td>0.0</td>\n",
       "      <td>0.00</td>\n",
       "      <td>au</td>\n",
       "      <td>0</td>\n",
       "      <td>visa</td>\n",
       "      <td>0</td>\n",
       "      <td>UK</td>\n",
       "      <td>...</td>\n",
       "      <td>NaN</td>\n",
       "      <td>NaN</td>\n",
       "      <td>NaN</td>\n",
       "      <td>NaN</td>\n",
       "      <td>NaN</td>\n",
       "      <td>NaN</td>\n",
       "      <td>NaN</td>\n",
       "      <td>NaN</td>\n",
       "      <td>NaN</td>\n",
       "      <td>NaN</td>\n",
       "    </tr>\n",
       "    <tr>\n",
       "      <th>3</th>\n",
       "      <td>donate_to_recurring</td>\n",
       "      <td>0.00</td>\n",
       "      <td>0.0</td>\n",
       "      <td>0.0</td>\n",
       "      <td>0.00</td>\n",
       "      <td>au</td>\n",
       "      <td>0</td>\n",
       "      <td>american express</td>\n",
       "      <td>0</td>\n",
       "      <td>UK</td>\n",
       "      <td>...</td>\n",
       "      <td>NaN</td>\n",
       "      <td>NaN</td>\n",
       "      <td>NaN</td>\n",
       "      <td>NaN</td>\n",
       "      <td>NaN</td>\n",
       "      <td>NaN</td>\n",
       "      <td>NaN</td>\n",
       "      <td>NaN</td>\n",
       "      <td>NaN</td>\n",
       "      <td>NaN</td>\n",
       "    </tr>\n",
       "    <tr>\n",
       "      <th>4</th>\n",
       "      <td>donate_to_charity</td>\n",
       "      <td>1.62</td>\n",
       "      <td>0.0</td>\n",
       "      <td>0.0</td>\n",
       "      <td>1.62</td>\n",
       "      <td>ie</td>\n",
       "      <td>0</td>\n",
       "      <td>mc</td>\n",
       "      <td>0</td>\n",
       "      <td>UK</td>\n",
       "      <td>...</td>\n",
       "      <td>NaN</td>\n",
       "      <td>NaN</td>\n",
       "      <td>NaN</td>\n",
       "      <td>NaN</td>\n",
       "      <td>NaN</td>\n",
       "      <td>NaN</td>\n",
       "      <td>NaN</td>\n",
       "      <td>NaN</td>\n",
       "      <td>NaN</td>\n",
       "      <td>NaN</td>\n",
       "    </tr>\n",
       "  </tbody>\n",
       "</table>\n",
       "<p>5 rows × 33 columns</p>\n",
       "</div>"
      ],
      "text/plain": [
       "         donation_type  aud_donor_foundation  aud_donor_member  \\\n",
       "0  donate_to_recurring                  0.00               0.0   \n",
       "1  donate_to_recurring                  0.00               0.0   \n",
       "2  donate_to_recurring                  0.00               0.0   \n",
       "3  donate_to_recurring                  0.00               0.0   \n",
       "4    donate_to_charity                  1.62               0.0   \n",
       "\n",
       "   aud_donor_team  aud_donor_total payment_country  is_business  \\\n",
       "0             0.0             0.00              au            0   \n",
       "1             0.0             0.00              au            0   \n",
       "2             0.0             0.00              au            0   \n",
       "3             0.0             0.00              au            0   \n",
       "4             0.0             1.62              ie            0   \n",
       "\n",
       "      pmt_card_type  feat_donate_self country  ... sum_donations_member_2018  \\\n",
       "0              visa                 0      UK  ...                       NaN   \n",
       "1  american express                 0      UK  ...                       NaN   \n",
       "2              visa                 0      UK  ...                       NaN   \n",
       "3  american express                 0      UK  ...                       NaN   \n",
       "4                mc                 0      UK  ...                       NaN   \n",
       "\n",
       "  sum_donations_member_2019  sum_donor_foundation_2020  sum_donor_member_2020  \\\n",
       "0                       NaN                        NaN                    NaN   \n",
       "1                       NaN                        NaN                    NaN   \n",
       "2                       NaN                        NaN                    NaN   \n",
       "3                       NaN                        NaN                    NaN   \n",
       "4                       NaN                        NaN                    NaN   \n",
       "\n",
       "  sum_donor_team_2020  sum_donor_total_2020  registered_2017  registered_2018  \\\n",
       "0                 NaN                   NaN              NaN              NaN   \n",
       "1                 NaN                   NaN              NaN              NaN   \n",
       "2                 NaN                   NaN              NaN              NaN   \n",
       "3                 NaN                   NaN              NaN              NaN   \n",
       "4                 NaN                   NaN              NaN              NaN   \n",
       "\n",
       "   registered_2019  registered_2021  \n",
       "0              NaN              NaN  \n",
       "1              NaN              NaN  \n",
       "2              NaN              NaN  \n",
       "3              NaN              NaN  \n",
       "4              NaN              NaN  \n",
       "\n",
       "[5 rows x 33 columns]"
      ]
     },
     "execution_count": 24,
     "metadata": {},
     "output_type": "execute_result"
    }
   ],
   "source": [
    "df.head()"
   ]
  },
  {
   "cell_type": "markdown",
   "metadata": {
    "id": "SDOYDCgUnc8W"
   },
   "source": [
    "WORKING ON THE **GENDER** COLUMN"
   ]
  },
  {
   "cell_type": "code",
   "execution_count": 25,
   "metadata": {
    "colab": {
     "base_uri": "https://localhost:8080/"
    },
    "id": "1B9eUITZnbip",
    "outputId": "3272ab05-9064-445e-e8a2-effaa2d5a55f"
   },
   "outputs": [
    {
     "data": {
      "text/plain": [
       "array(['m', 'f', 'non-binary'], dtype=object)"
      ]
     },
     "execution_count": 25,
     "metadata": {},
     "output_type": "execute_result"
    }
   ],
   "source": [
    "# Replace th (n/u) to non-binary\n",
    "df['gender'].replace(['n','u'], 'non-binary', inplace=True)\n",
    "df['gender'].unique()"
   ]
  },
  {
   "cell_type": "markdown",
   "metadata": {
    "id": "mb5Ic4uNrpxu"
   },
   "source": [
    "Replacing NaN values and the convert the data type into an integer"
   ]
  },
  {
   "cell_type": "code",
   "execution_count": 26,
   "metadata": {
    "id": "4kRkcEcUorho"
   },
   "outputs": [],
   "source": [
    "cols = ['type_team_captain','type_team_member','campaigns_total_number','product_grow_intends',\n",
    "        'product_host_intends','product_move_intends','product_myow_intends',\n",
    "        'feat_donote_other','feat_donote_self']\n",
    "\n",
    "\n",
    "for col in df[cols]:\n",
    "    col_mode = df[col].mode()[0]\n",
    "    # fill nan values & convert dtype to integer\n",
    "    df[col].fillna(col_mode, inplace=True)\n",
    "    df[col] = df[col].astype(int)\n"
   ]
  },
  {
   "cell_type": "markdown",
   "metadata": {
    "id": "pUt3Bu4Gw8mE"
   },
   "source": [
    "Filling The NaN values in the registration Years with the mode of their columns and then converting the data types to an Integer\n"
   ]
  },
  {
   "cell_type": "code",
   "execution_count": 27,
   "metadata": {
    "id": "u7xl68HvwMWp"
   },
   "outputs": [],
   "source": [
    "for year in df[reg_year]:\n",
    "    year_mode = df[year].mode()[0]\n",
    "    df[year].fillna(year_mode, inplace=True)\n",
    "    df[year] = df[year].astype(int)"
   ]
  },
  {
   "cell_type": "markdown",
   "metadata": {
    "id": "ftGhDK9Ix_s-"
   },
   "source": [
    "Filling the NaN values in the columns with float data types with the mean of the column"
   ]
  },
  {
   "cell_type": "code",
   "execution_count": 28,
   "metadata": {
    "id": "R4-x2aDnrOt4"
   },
   "outputs": [],
   "source": [
    "# Generate columns with float data types\n",
    "float_cols = df.select_dtypes(include='float64').columns.tolist()\n",
    "\n",
    "for col in df[float_cols]:\n",
    "    col_mean = df[col].mean()\n",
    "    df[col].fillna(col_mean, inplace=True)"
   ]
  },
  {
   "cell_type": "code",
   "execution_count": 29,
   "metadata": {
    "colab": {
     "base_uri": "https://localhost:8080/"
    },
    "id": "Il9HR_6XrZGv",
    "outputId": "4c95d674-d834-4018-a8d0-e7bcd67bd044"
   },
   "outputs": [
    {
     "data": {
      "text/plain": [
       "0"
      ]
     },
     "execution_count": 29,
     "metadata": {},
     "output_type": "execute_result"
    }
   ],
   "source": [
    "# Fill the pmt_card_type NaN values with the mode of the column\n",
    "pmt_mode = df['pmt_card_type'].mode()[0]\n",
    "df['pmt_card_type'].fillna(pmt_mode, inplace=True)\n",
    "\n",
    "df['pmt_card_type'].isnull().sum()"
   ]
  },
  {
   "cell_type": "code",
   "execution_count": 30,
   "metadata": {
    "colab": {
     "base_uri": "https://localhost:8080/"
    },
    "id": "a6APnlKTwq5-",
    "outputId": "d4cbd68b-cc56-4096-96fb-f2b851789bf6"
   },
   "outputs": [
    {
     "data": {
      "text/plain": [
       "donation_type                0\n",
       "aud_donor_foundation         0\n",
       "aud_donor_member             0\n",
       "aud_donor_team               0\n",
       "aud_donor_total              0\n",
       "payment_country              0\n",
       "is_business                  0\n",
       "pmt_card_type                0\n",
       "feat_donate_self             0\n",
       "country                      0\n",
       "gender                       0\n",
       "category_fundraising         0\n",
       "type_team_captain            0\n",
       "type_team_member             0\n",
       "tenure_description           0\n",
       "campaigns_total_number       0\n",
       "product_grow_intends         0\n",
       "product_host_intends         0\n",
       "product_move_intends         0\n",
       "product_myow_intends         0\n",
       "feat_donote_other            0\n",
       "feat_donote_self             0\n",
       "sum_donations_member_2017    0\n",
       "sum_donations_member_2018    0\n",
       "sum_donations_member_2019    0\n",
       "sum_donor_foundation_2020    0\n",
       "sum_donor_member_2020        0\n",
       "sum_donor_team_2020          0\n",
       "sum_donor_total_2020         0\n",
       "registered_2017              0\n",
       "registered_2018              0\n",
       "registered_2019              0\n",
       "registered_2021              0\n",
       "dtype: int64"
      ]
     },
     "execution_count": 30,
     "metadata": {},
     "output_type": "execute_result"
    }
   ],
   "source": [
    "df.isnull().sum()"
   ]
  },
  {
   "cell_type": "code",
   "execution_count": 38,
   "metadata": {
    "colab": {
     "base_uri": "https://localhost:8080/"
    },
    "id": "t_ZStPY_yxL-",
    "outputId": "9e6068c0-2711-4c47-9376-6785bd189f39"
   },
   "outputs": [
    {
     "data": {
      "text/plain": [
       "['donation_type',\n",
       " 'payment_country',\n",
       " 'pmt_card_type',\n",
       " 'country',\n",
       " 'gender',\n",
       " 'category_fundraising',\n",
       " 'tenure_description']"
      ]
     },
     "execution_count": 38,
     "metadata": {},
     "output_type": "execute_result"
    }
   ],
   "source": [
    "# Generating new categorical columns from the dataframe\n",
    "categ_cols = df.select_dtypes(include='O').columns.tolist()\n",
    "categ_cols"
   ]
  },
  {
   "cell_type": "markdown",
   "metadata": {
    "id": "BLnyDi4_5XzG"
   },
   "source": [
    "**ENCODING COLUMNS WITH CATEGORICAL FEATURES**"
   ]
  },
  {
   "cell_type": "code",
   "execution_count": 39,
   "metadata": {
    "colab": {
     "base_uri": "https://localhost:8080/"
    },
    "id": "ENfw5a6H467W",
    "outputId": "207606a0-b415-41ee-8fc4-2a91911d4a62"
   },
   "outputs": [
    {
     "data": {
      "text/plain": [
       "(2097607, 98)"
      ]
     },
     "execution_count": 39,
     "metadata": {},
     "output_type": "execute_result"
    }
   ],
   "source": [
    "# One Hot Encoding Using Pandas\n",
    "df.shape\n",
    "df = pd.get_dummies(df, columns=categ_cols)\n",
    "df.shape"
   ]
  },
  {
   "cell_type": "markdown",
   "metadata": {
    "id": "ECffQS6mCy_z"
   },
   "source": [
    "**DATA SEGMENTATION**\n",
    "\n",
    "1 = if the fundraiser was registered in Campaign 2021; this is what your retention model should be trying to predict.....................\n",
    "So, The column to be predicted is the **Registered_2021** column "
   ]
  },
  {
   "cell_type": "markdown",
   "metadata": {
    "id": "5bYQekwZDOK0"
   },
   "source": []
  },
  {
   "cell_type": "code",
   "execution_count": 42,
   "metadata": {
    "id": "jNBWwK0x_Dt0"
   },
   "outputs": [],
   "source": [
    "# Rename the Registered_2021 to Churn\n",
    "df.rename({'registered_2021':'Churn'}, axis=1, inplace=True)\n",
    "\n",
    "# Data Modelling\n",
    "X = df.drop('Churn', axis=1).copy()\n",
    "y = df['Churn'].copy()"
   ]
  },
  {
   "cell_type": "markdown",
   "metadata": {
    "id": "8rLYxdVyE5TN"
   },
   "source": [
    "**Splitting The Data Into Training And Testing set**"
   ]
  },
  {
   "cell_type": "code",
   "execution_count": 43,
   "metadata": {
    "colab": {
     "base_uri": "https://localhost:8080/"
    },
    "id": "7kyrteiMElDb",
    "outputId": "bad8f8bd-1142-47a8-ab48-41fb945784e1"
   },
   "outputs": [
    {
     "data": {
      "text/plain": [
       "((1573205, 97), (524402, 97), (1573205,), (524402,))"
      ]
     },
     "execution_count": 43,
     "metadata": {},
     "output_type": "execute_result"
    }
   ],
   "source": [
    "# split the data\n",
    "X_train, X_test, y_train,y_test = train_test_split(X,y, test_size=0.25, random_state=42, shuffle=True)\n",
    "\n",
    "# Check the shape of the splitted data\n",
    "X_train.shape, X_test.shape, y_train.shape, y_test.shape"
   ]
  },
  {
   "cell_type": "markdown",
   "metadata": {
    "id": "fd-g_KtiFrr8"
   },
   "source": [
    "**BUILD MODELS AND EVALUATIONS**\n",
    "\n",
    "> **Model 1: LogisticRegression**\n",
    "\n",
    "> **Model 2: RandomForestClassifier**\n",
    "\n",
    "\n",
    "\n",
    "\n",
    "\n",
    "\n"
   ]
  },
  {
   "cell_type": "code",
   "execution_count": 44,
   "metadata": {
    "colab": {
     "base_uri": "https://localhost:8080/",
     "height": 1000
    },
    "id": "Z8bMKKT3Hcwa",
    "outputId": "81838960-63dd-4c7d-9546-ffea238f31a7"
   },
   "outputs": [
    {
     "name": "stdout",
     "output_type": "stream",
     "text": [
      "Roc AUC:rfc 0.9238922019697646\n",
      "====================================================================================================\n",
      "Model Accuracy:rfc 0.8730649387302107\n",
      "====================================================================================================\n",
      "F1 Accuracy:rfc 0.8014981943537396\n",
      "====================================================================================================\n",
      "Classification Report For:rfc               precision    recall  f1-score   support\n",
      "\n",
      "           0       0.87      0.95      0.91    339557\n",
      "           1       0.89      0.73      0.80    184845\n",
      "\n",
      "    accuracy                           0.87    524402\n",
      "   macro avg       0.88      0.84      0.85    524402\n",
      "weighted avg       0.87      0.87      0.87    524402\n",
      "\n",
      "\n",
      "Roc AUC:lr 0.7387560011949139\n",
      "====================================================================================================\n",
      "Model Accuracy:lr 0.747586775031369\n",
      "====================================================================================================\n",
      "F1 Accuracy:lr 0.5306935748069463\n",
      "====================================================================================================\n",
      "Classification Report For:lr               precision    recall  f1-score   support\n",
      "\n",
      "           0       0.74      0.93      0.83    339557\n",
      "           1       0.77      0.40      0.53    184845\n",
      "\n",
      "    accuracy                           0.75    524402\n",
      "   macro avg       0.76      0.67      0.68    524402\n",
      "weighted avg       0.75      0.75      0.72    524402\n",
      "\n",
      "\n"
     ]
    },
    {
     "data": {
      "image/png": "[encoded data removed]",
      "text/plain": [
       "<Figure size 864x720 with 1 Axes>"
      ]
     },
     "metadata": {},
     "output_type": "display_data"
    }
   ],
   "source": [
    "# Model names\n",
    "names = [\"rfc\",\"lr\"]\n",
    "\n",
    "# Instantiating all Models\n",
    "models = [\n",
    "RandomForestClassifier(),\n",
    "LogisticRegression(random_state=0,penalty='l2',C=100)\n",
    "]\n",
    "\n",
    "plt.figure(figsize=(12,10))\n",
    "for name,model in zip(names,models):\n",
    "\n",
    "    model.fit(X_train,y_train)\n",
    "    y_pred = model.predict(X_test)\n",
    "    y_proba = model.predict_proba(X_test)[:,1]\n",
    "    print(\"Roc AUC:\"+name, roc_auc_score(y_test, model.predict_proba(X_test)[:,1],average='macro'))\n",
    "    print(\"=\"*100)\n",
    "    print(\"Model Accuracy:\"+name, accuracy_score(y_test, y_pred))\n",
    "    print(\"=\"*100)\n",
    "    print(\"F1 Accuracy:\"+name, f1_score(y_test, y_pred))\n",
    "    print(\"=\"*100)\n",
    "    print(\"Classification Report For:\"+name, classification_report(y_test, y_pred))\n",
    "    print()\n",
    "    fpr, tpr, thresholds = roc_curve(y_test, y_proba)\n",
    "    plt.plot(fpr, tpr, label=name)\n",
    " \n",
    "\n",
    "plt.xlabel('False positive rate')\n",
    "plt.ylabel('True positive rate')\n",
    "plt.title('ROC curve')\n",
    "plt.legend(loc='best')\n",
    "plt.savefig('ModelsROCCurve.png')\n",
    "plt.show()          "
   ]
  },
  {
   "cell_type": "markdown",
   "metadata": {
    "id": "V8aX3R33g7Zp"
   },
   "source": [
    "Hence we will use RandomForest Classifier over Logistic Regression as Random Forest provides better area under the curve, F1 score and better accuracy, moreover Logistic Regression is slightly poor. Therefore we consider the Random Forest Calssifier as our model for analysis, so we'll dump it into a pickle file."
   ]
  },
  {
   "cell_type": "code",
   "execution_count": 49,
   "metadata": {},
   "outputs": [
    {
     "data": {
      "text/plain": [
       "['FinalRandomForestModel.pkl']"
      ]
     },
     "execution_count": 49,
     "metadata": {},
     "output_type": "execute_result"
    }
   ],
   "source": [
    "# dump the model\n",
    "joblib.dump(models[0], 'FinalRandomForestModel.pkl')"
   ]
  },
  {
   "cell_type": "markdown",
   "metadata": {
    "id": "esxbcH7blpoT"
   },
   "source": [
    "**PROJECT SUMMARY**"
   ]
  },
  {
   "cell_type": "markdown",
   "metadata": {
    "id": "Q8ZR7IIClu0r"
   },
   "source": [
    "\n",
    "\n",
    "1.   **United Kingdom(UK) is the country with highest Fundraising**\n",
    "2.   **Friends and Workplace has the highest percentage of donations in the fundraising category**\n",
    "3.   **Donors gives more funds to Individual,then few to the Teams and co.**\n",
    "4.   **More than 60% of the donors are Male**\n",
    "5. **More than 60% of the First time fundraiser's gives donation**\n",
    "\n",
    "\n",
    "\n"
   ]
  }
 ],
 "metadata": {
  "colab": {
   "collapsed_sections": [],
   "provenance": []
  },
  "kernelspec": {
   "display_name": "Python 3 (ipykernel)",
   "language": "python",
   "name": "python3"
  },
  "language_info": {
   "codemirror_mode": {
    "name": "ipython",
    "version": 3
   },
   "file_extension": ".py",
   "mimetype": "text/x-python",
   "name": "python",
   "nbconvert_exporter": "python",
   "pygments_lexer": "ipython3",
   "version": "3.9.12"
  },
  "vscode": {
   "interpreter": {
    "hash": "369f2c481f4da34e4445cda3fffd2e751bd1c4d706f27375911949ba6bb62e1c"
   }
  }
 },
 "nbformat": 4,
 "nbformat_minor": 1
}

