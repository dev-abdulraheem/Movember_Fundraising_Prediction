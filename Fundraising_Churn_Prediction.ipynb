{
<<<<<<< HEAD
 "cells": [
  {
   "cell_type": "code",
   "execution_count": 46,
   "metadata": {
    "colab": {
     "base_uri": "https://localhost:8080/"
    },
    "id": "Wu7kPEgD8aig",
    "outputId": "63bb94fc-46db-4059-90b8-369a3ad3e5ea"
   },
   "outputs": [],
   "source": [
    "import pandas as pd\n",
    "import numpy as np\n",
    "#import visualization libraries\n",
    "import matplotlib.pyplot as plt\n",
    "%matplotlib inline\n",
    "import seaborn as sns\n",
    "import warnings\n",
    "warnings.filterwarnings('ignore')\n",
    "from sklearn.model_selection import train_test_split\n",
    "from sklearn.preprocessing import StandardScaler\n",
    "from sklearn.impute import SimpleImputer\n",
    "from sklearn.ensemble import RandomForestClassifier, GradientBoostingClassifier\n",
    "from sklearn.linear_model import LogisticRegression\n",
    "from sklearn.metrics import accuracy_score, confusion_matrix, classification_report, roc_curve, f1_score, roc_auc_score\n",
    "import joblib"
   ]
  },
  {
   "cell_type": "markdown",
   "metadata": {
    "id": "SLXf07tl_bAR"
   },
   "source": [
    "Read All data\n"
   ]
  },
  {
   "cell_type": "code",
   "execution_count": 2,
   "metadata": {
    "id": "0HM7BZfx8q0r"
   },
   "outputs": [],
   "source": [
    "A= pd.read_csv('datasets/Movember_Donations_2020.csv')\n",
    "B= pd.read_csv('datasets/Movember_Fundraisers_2020.csv')"
   ]
  },
  {
   "cell_type": "code",
   "execution_count": 3,
   "metadata": {
    "colab": {
     "base_uri": "https://localhost:8080/",
     "height": 305
    },
    "id": "_VV3h8M5_wqH",
    "outputId": "e8ee94e8-f818-4ed3-f8a4-5175000b3e89"
   },
   "outputs": [
    {
     "data": {
      "text/html": [
       "<div>\n",
       "<style scoped>\n",
       "    .dataframe tbody tr th:only-of-type {\n",
       "        vertical-align: middle;\n",
       "    }\n",
       "\n",
       "    .dataframe tbody tr th {\n",
       "        vertical-align: top;\n",
       "    }\n",
       "\n",
       "    .dataframe thead th {\n",
       "        text-align: right;\n",
       "    }\n",
       "</style>\n",
       "<table border=\"1\" class=\"dataframe\">\n",
       "  <thead>\n",
       "    <tr style=\"text-align: right;\">\n",
       "      <th></th>\n",
       "      <th>member_id_hash</th>\n",
       "      <th>donor_id_hash</th>\n",
       "      <th>date_lcl_donation_time</th>\n",
       "      <th>donation_type</th>\n",
       "      <th>aud_donor_foundation</th>\n",
       "      <th>aud_donor_member</th>\n",
       "      <th>aud_donor_team</th>\n",
       "      <th>aud_donor_total</th>\n",
       "      <th>payment_country</th>\n",
       "      <th>geo_state_region_province</th>\n",
       "      <th>is_business</th>\n",
       "      <th>pmt_card_type</th>\n",
       "      <th>feat_donate_self</th>\n",
       "    </tr>\n",
       "  </thead>\n",
       "  <tbody>\n",
       "    <tr>\n",
       "      <th>0</th>\n",
       "      <td>8c1f1046219ddd216a023f792356ddf127fce372a72ec9...</td>\n",
       "      <td>053854f0e34432ed29ddb4058cd1ea2f9dcbd0778bc8d2...</td>\n",
       "      <td>2020-11-02 03:47:04</td>\n",
       "      <td>donate_to_recurring</td>\n",
       "      <td>0.00</td>\n",
       "      <td>0.0</td>\n",
       "      <td>0.0</td>\n",
       "      <td>0.00</td>\n",
       "      <td>au</td>\n",
       "      <td>Victoria</td>\n",
       "      <td>0</td>\n",
       "      <td>visa</td>\n",
       "      <td>0</td>\n",
       "    </tr>\n",
       "    <tr>\n",
       "      <th>1</th>\n",
       "      <td>8c1f1046219ddd216a023f792356ddf127fce372a72ec9...</td>\n",
       "      <td>ad499dc8fba883ef000230c2468678a2e3444591f0ae9b...</td>\n",
       "      <td>2020-11-22 00:36:10</td>\n",
       "      <td>donate_to_recurring</td>\n",
       "      <td>0.00</td>\n",
       "      <td>0.0</td>\n",
       "      <td>0.0</td>\n",
       "      <td>0.00</td>\n",
       "      <td>au</td>\n",
       "      <td>zz_missing_state_region_province</td>\n",
       "      <td>0</td>\n",
       "      <td>american express</td>\n",
       "      <td>0</td>\n",
       "    </tr>\n",
       "    <tr>\n",
       "      <th>2</th>\n",
       "      <td>8c1f1046219ddd216a023f792356ddf127fce372a72ec9...</td>\n",
       "      <td>053854f0e34432ed29ddb4058cd1ea2f9dcbd0778bc8d2...</td>\n",
       "      <td>2020-12-02 02:57:05</td>\n",
       "      <td>donate_to_recurring</td>\n",
       "      <td>0.00</td>\n",
       "      <td>0.0</td>\n",
       "      <td>0.0</td>\n",
       "      <td>0.00</td>\n",
       "      <td>au</td>\n",
       "      <td>Victoria</td>\n",
       "      <td>0</td>\n",
       "      <td>visa</td>\n",
       "      <td>0</td>\n",
       "    </tr>\n",
       "    <tr>\n",
       "      <th>3</th>\n",
       "      <td>8c1f1046219ddd216a023f792356ddf127fce372a72ec9...</td>\n",
       "      <td>ad499dc8fba883ef000230c2468678a2e3444591f0ae9b...</td>\n",
       "      <td>2020-12-21 23:47:53</td>\n",
       "      <td>donate_to_recurring</td>\n",
       "      <td>0.00</td>\n",
       "      <td>0.0</td>\n",
       "      <td>0.0</td>\n",
       "      <td>0.00</td>\n",
       "      <td>au</td>\n",
       "      <td>zz_missing_state_region_province</td>\n",
       "      <td>0</td>\n",
       "      <td>american express</td>\n",
       "      <td>0</td>\n",
       "    </tr>\n",
       "    <tr>\n",
       "      <th>4</th>\n",
       "      <td>6e4001871c0cf27c7634ef1dc478408f642410fd3a444e...</td>\n",
       "      <td>73351b614f9db45c3db9bb1b809031cd8a3cbf59df3f2b...</td>\n",
       "      <td>2020-05-01 02:16:37</td>\n",
       "      <td>donate_to_charity</td>\n",
       "      <td>1.62</td>\n",
       "      <td>0.0</td>\n",
       "      <td>0.0</td>\n",
       "      <td>1.62</td>\n",
       "      <td>ie</td>\n",
       "      <td>zz_missing_state_region_province</td>\n",
       "      <td>0</td>\n",
       "      <td>mc</td>\n",
       "      <td>0</td>\n",
       "    </tr>\n",
       "  </tbody>\n",
       "</table>\n",
       "</div>"
      ],
      "text/plain": [
       "                                      member_id_hash  \\\n",
       "0  8c1f1046219ddd216a023f792356ddf127fce372a72ec9...   \n",
       "1  8c1f1046219ddd216a023f792356ddf127fce372a72ec9...   \n",
       "2  8c1f1046219ddd216a023f792356ddf127fce372a72ec9...   \n",
       "3  8c1f1046219ddd216a023f792356ddf127fce372a72ec9...   \n",
       "4  6e4001871c0cf27c7634ef1dc478408f642410fd3a444e...   \n",
       "\n",
       "                                       donor_id_hash date_lcl_donation_time  \\\n",
       "0  053854f0e34432ed29ddb4058cd1ea2f9dcbd0778bc8d2...    2020-11-02 03:47:04   \n",
       "1  ad499dc8fba883ef000230c2468678a2e3444591f0ae9b...    2020-11-22 00:36:10   \n",
       "2  053854f0e34432ed29ddb4058cd1ea2f9dcbd0778bc8d2...    2020-12-02 02:57:05   \n",
       "3  ad499dc8fba883ef000230c2468678a2e3444591f0ae9b...    2020-12-21 23:47:53   \n",
       "4  73351b614f9db45c3db9bb1b809031cd8a3cbf59df3f2b...    2020-05-01 02:16:37   \n",
       "\n",
       "         donation_type  aud_donor_foundation  aud_donor_member  \\\n",
       "0  donate_to_recurring                  0.00               0.0   \n",
       "1  donate_to_recurring                  0.00               0.0   \n",
       "2  donate_to_recurring                  0.00               0.0   \n",
       "3  donate_to_recurring                  0.00               0.0   \n",
       "4    donate_to_charity                  1.62               0.0   \n",
       "\n",
       "   aud_donor_team  aud_donor_total payment_country  \\\n",
       "0             0.0             0.00              au   \n",
       "1             0.0             0.00              au   \n",
       "2             0.0             0.00              au   \n",
       "3             0.0             0.00              au   \n",
       "4             0.0             1.62              ie   \n",
       "\n",
       "          geo_state_region_province  is_business     pmt_card_type  \\\n",
       "0                          Victoria            0              visa   \n",
       "1  zz_missing_state_region_province            0  american express   \n",
       "2                          Victoria            0              visa   \n",
       "3  zz_missing_state_region_province            0  american express   \n",
       "4  zz_missing_state_region_province            0                mc   \n",
       "\n",
       "   feat_donate_self  \n",
       "0                 0  \n",
       "1                 0  \n",
       "2                 0  \n",
       "3                 0  \n",
       "4                 0  "
      ]
     },
     "execution_count": 3,
     "metadata": {},
     "output_type": "execute_result"
    }
   ],
   "source": [
    "A.head()"
   ]
  },
  {
   "cell_type": "code",
   "execution_count": 4,
   "metadata": {
    "colab": {
     "base_uri": "https://localhost:8080/",
     "height": 300
    },
    "id": "OdBUxC7mGmBG",
    "outputId": "571e8e02-29a6-433e-c35e-4f903555e709"
   },
   "outputs": [
    {
     "data": {
      "text/html": [
       "<div>\n",
       "<style scoped>\n",
       "    .dataframe tbody tr th:only-of-type {\n",
       "        vertical-align: middle;\n",
       "    }\n",
       "\n",
       "    .dataframe tbody tr th {\n",
       "        vertical-align: top;\n",
       "    }\n",
       "\n",
       "    .dataframe thead th {\n",
       "        text-align: right;\n",
       "    }\n",
       "</style>\n",
       "<table border=\"1\" class=\"dataframe\">\n",
       "  <thead>\n",
       "    <tr style=\"text-align: right;\">\n",
       "      <th></th>\n",
       "      <th>member_id_hash</th>\n",
       "      <th>date_lcl_activation</th>\n",
       "      <th>country</th>\n",
       "      <th>geo_state_region_province</th>\n",
       "      <th>gender</th>\n",
       "      <th>category_fundraising</th>\n",
       "      <th>type_team_captain</th>\n",
       "      <th>type_team_member</th>\n",
       "      <th>tenure_description</th>\n",
       "      <th>campaigns_total_number</th>\n",
       "      <th>...</th>\n",
       "      <th>sum_donations_member_2018</th>\n",
       "      <th>sum_donations_member_2019</th>\n",
       "      <th>sum_donor_foundation_2020</th>\n",
       "      <th>sum_donor_member_2020</th>\n",
       "      <th>sum_donor_team_2020</th>\n",
       "      <th>sum_donor_total_2020</th>\n",
       "      <th>registered_2017</th>\n",
       "      <th>registered_2018</th>\n",
       "      <th>registered_2019</th>\n",
       "      <th>registered_2021</th>\n",
       "    </tr>\n",
       "  </thead>\n",
       "  <tbody>\n",
       "    <tr>\n",
       "      <th>0</th>\n",
       "      <td>e7f2c2e42e4f123ec6b76641f36fbab09a7b6517b50194...</td>\n",
       "      <td>2020-10-18</td>\n",
       "      <td>Australia</td>\n",
       "      <td>Tasmania</td>\n",
       "      <td>m</td>\n",
       "      <td>friends</td>\n",
       "      <td>0</td>\n",
       "      <td>1</td>\n",
       "      <td>Retained</td>\n",
       "      <td>3</td>\n",
       "      <td>...</td>\n",
       "      <td>310.0</td>\n",
       "      <td>125.0</td>\n",
       "      <td>0.0</td>\n",
       "      <td>50.0</td>\n",
       "      <td>0.0</td>\n",
       "      <td>50.0</td>\n",
       "      <td>0.0</td>\n",
       "      <td>1.0</td>\n",
       "      <td>1.0</td>\n",
       "      <td>0.0</td>\n",
       "    </tr>\n",
       "    <tr>\n",
       "      <th>1</th>\n",
       "      <td>fb3bd08e5095f32a9c67619e6a8d8d898b20963ce9f85f...</td>\n",
       "      <td>2020-10-16</td>\n",
       "      <td>Australia</td>\n",
       "      <td>New South Wales</td>\n",
       "      <td>m</td>\n",
       "      <td>friends</td>\n",
       "      <td>0</td>\n",
       "      <td>0</td>\n",
       "      <td>Returning</td>\n",
       "      <td>15</td>\n",
       "      <td>...</td>\n",
       "      <td>30.0</td>\n",
       "      <td>0.0</td>\n",
       "      <td>0.0</td>\n",
       "      <td>0.0</td>\n",
       "      <td>0.0</td>\n",
       "      <td>0.0</td>\n",
       "      <td>1.0</td>\n",
       "      <td>1.0</td>\n",
       "      <td>0.0</td>\n",
       "      <td>1.0</td>\n",
       "    </tr>\n",
       "    <tr>\n",
       "      <th>2</th>\n",
       "      <td>5e2168e16b8aad843f6201b1e04956d25bf8c9175171de...</td>\n",
       "      <td>2020-11-05</td>\n",
       "      <td>UK</td>\n",
       "      <td>zz_missing_state_region_province</td>\n",
       "      <td>m</td>\n",
       "      <td>friends</td>\n",
       "      <td>1</td>\n",
       "      <td>0</td>\n",
       "      <td>New</td>\n",
       "      <td>1</td>\n",
       "      <td>...</td>\n",
       "      <td>0.0</td>\n",
       "      <td>0.0</td>\n",
       "      <td>0.0</td>\n",
       "      <td>0.0</td>\n",
       "      <td>0.0</td>\n",
       "      <td>0.0</td>\n",
       "      <td>0.0</td>\n",
       "      <td>0.0</td>\n",
       "      <td>0.0</td>\n",
       "      <td>0.0</td>\n",
       "    </tr>\n",
       "    <tr>\n",
       "      <th>3</th>\n",
       "      <td>feebed60e7b35bb8dcb7ec11638424f686a2ee6e881683...</td>\n",
       "      <td>2020-11-02</td>\n",
       "      <td>Australia</td>\n",
       "      <td>New South Wales</td>\n",
       "      <td>m</td>\n",
       "      <td>friends</td>\n",
       "      <td>0</td>\n",
       "      <td>0</td>\n",
       "      <td>Retained</td>\n",
       "      <td>3</td>\n",
       "      <td>...</td>\n",
       "      <td>0.0</td>\n",
       "      <td>160.0</td>\n",
       "      <td>0.0</td>\n",
       "      <td>0.0</td>\n",
       "      <td>0.0</td>\n",
       "      <td>0.0</td>\n",
       "      <td>0.0</td>\n",
       "      <td>0.0</td>\n",
       "      <td>1.0</td>\n",
       "      <td>0.0</td>\n",
       "    </tr>\n",
       "    <tr>\n",
       "      <th>4</th>\n",
       "      <td>004f3a141d6cdd75d1037c89771a5c28c8ac73ddb5b88d...</td>\n",
       "      <td>2020-10-30</td>\n",
       "      <td>UK</td>\n",
       "      <td>North West</td>\n",
       "      <td>m</td>\n",
       "      <td>workplace</td>\n",
       "      <td>0</td>\n",
       "      <td>0</td>\n",
       "      <td>New</td>\n",
       "      <td>1</td>\n",
       "      <td>...</td>\n",
       "      <td>0.0</td>\n",
       "      <td>0.0</td>\n",
       "      <td>0.0</td>\n",
       "      <td>0.0</td>\n",
       "      <td>0.0</td>\n",
       "      <td>0.0</td>\n",
       "      <td>0.0</td>\n",
       "      <td>0.0</td>\n",
       "      <td>0.0</td>\n",
       "      <td>0.0</td>\n",
       "    </tr>\n",
       "  </tbody>\n",
       "</table>\n",
       "<p>5 rows × 65 columns</p>\n",
       "</div>"
      ],
      "text/plain": [
       "                                      member_id_hash date_lcl_activation  \\\n",
       "0  e7f2c2e42e4f123ec6b76641f36fbab09a7b6517b50194...          2020-10-18   \n",
       "1  fb3bd08e5095f32a9c67619e6a8d8d898b20963ce9f85f...          2020-10-16   \n",
       "2  5e2168e16b8aad843f6201b1e04956d25bf8c9175171de...          2020-11-05   \n",
       "3  feebed60e7b35bb8dcb7ec11638424f686a2ee6e881683...          2020-11-02   \n",
       "4  004f3a141d6cdd75d1037c89771a5c28c8ac73ddb5b88d...          2020-10-30   \n",
       "\n",
       "     country         geo_state_region_province gender category_fundraising  \\\n",
       "0  Australia                          Tasmania      m              friends   \n",
       "1  Australia                   New South Wales      m              friends   \n",
       "2         UK  zz_missing_state_region_province      m              friends   \n",
       "3  Australia                   New South Wales      m              friends   \n",
       "4         UK                        North West      m            workplace   \n",
       "\n",
       "   type_team_captain  type_team_member tenure_description  \\\n",
       "0                  0                 1           Retained   \n",
       "1                  0                 0          Returning   \n",
       "2                  1                 0                New   \n",
       "3                  0                 0           Retained   \n",
       "4                  0                 0                New   \n",
       "\n",
       "   campaigns_total_number  ...  sum_donations_member_2018  \\\n",
       "0                       3  ...                      310.0   \n",
       "1                      15  ...                       30.0   \n",
       "2                       1  ...                        0.0   \n",
       "3                       3  ...                        0.0   \n",
       "4                       1  ...                        0.0   \n",
       "\n",
       "   sum_donations_member_2019  sum_donor_foundation_2020  \\\n",
       "0                      125.0                        0.0   \n",
       "1                        0.0                        0.0   \n",
       "2                        0.0                        0.0   \n",
       "3                      160.0                        0.0   \n",
       "4                        0.0                        0.0   \n",
       "\n",
       "   sum_donor_member_2020  sum_donor_team_2020  sum_donor_total_2020  \\\n",
       "0                   50.0                  0.0                  50.0   \n",
       "1                    0.0                  0.0                   0.0   \n",
       "2                    0.0                  0.0                   0.0   \n",
       "3                    0.0                  0.0                   0.0   \n",
       "4                    0.0                  0.0                   0.0   \n",
       "\n",
       "   registered_2017  registered_2018  registered_2019  registered_2021  \n",
       "0              0.0              1.0              1.0              0.0  \n",
       "1              1.0              1.0              0.0              1.0  \n",
       "2              0.0              0.0              0.0              0.0  \n",
       "3              0.0              0.0              1.0              0.0  \n",
       "4              0.0              0.0              0.0              0.0  \n",
       "\n",
       "[5 rows x 65 columns]"
      ]
     },
     "execution_count": 4,
     "metadata": {},
     "output_type": "execute_result"
    }
   ],
   "source": [
    "B.head()"
   ]
  },
  {
   "cell_type": "markdown",
   "metadata": {
    "id": "CM9l1d2GHKlc"
   },
   "source": [
    "Merging Tables"
   ]
  },
  {
   "cell_type": "code",
   "execution_count": 5,
   "metadata": {
    "id": "yLP6bHGK-sZe"
   },
   "outputs": [],
   "source": [
    "df = pd.merge(A,B,how='left',on='member_id_hash')"
   ]
  },
  {
   "cell_type": "code",
   "execution_count": 6,
   "metadata": {
    "colab": {
     "base_uri": "https://localhost:8080/",
     "height": 300
    },
    "id": "zC8YIep6-0xm",
    "outputId": "d3e7adb9-5ec3-40f5-e614-54da2d003743"
   },
   "outputs": [
    {
     "data": {
      "text/html": [
       "<div>\n",
       "<style scoped>\n",
       "    .dataframe tbody tr th:only-of-type {\n",
       "        vertical-align: middle;\n",
       "    }\n",
       "\n",
       "    .dataframe tbody tr th {\n",
       "        vertical-align: top;\n",
       "    }\n",
       "\n",
       "    .dataframe thead th {\n",
       "        text-align: right;\n",
       "    }\n",
       "</style>\n",
       "<table border=\"1\" class=\"dataframe\">\n",
       "  <thead>\n",
       "    <tr style=\"text-align: right;\">\n",
       "      <th></th>\n",
       "      <th>member_id_hash</th>\n",
       "      <th>donor_id_hash</th>\n",
       "      <th>date_lcl_donation_time</th>\n",
       "      <th>donation_type</th>\n",
       "      <th>aud_donor_foundation</th>\n",
       "      <th>aud_donor_member</th>\n",
       "      <th>aud_donor_team</th>\n",
       "      <th>aud_donor_total</th>\n",
       "      <th>payment_country</th>\n",
       "      <th>geo_state_region_province_x</th>\n",
       "      <th>...</th>\n",
       "      <th>sum_donations_member_2018</th>\n",
       "      <th>sum_donations_member_2019</th>\n",
       "      <th>sum_donor_foundation_2020</th>\n",
       "      <th>sum_donor_member_2020</th>\n",
       "      <th>sum_donor_team_2020</th>\n",
       "      <th>sum_donor_total_2020</th>\n",
       "      <th>registered_2017</th>\n",
       "      <th>registered_2018</th>\n",
       "      <th>registered_2019</th>\n",
       "      <th>registered_2021</th>\n",
       "    </tr>\n",
       "  </thead>\n",
       "  <tbody>\n",
       "    <tr>\n",
       "      <th>0</th>\n",
       "      <td>8c1f1046219ddd216a023f792356ddf127fce372a72ec9...</td>\n",
       "      <td>053854f0e34432ed29ddb4058cd1ea2f9dcbd0778bc8d2...</td>\n",
       "      <td>2020-11-02 03:47:04</td>\n",
       "      <td>donate_to_recurring</td>\n",
       "      <td>0.00</td>\n",
       "      <td>0.0</td>\n",
       "      <td>0.0</td>\n",
       "      <td>0.00</td>\n",
       "      <td>au</td>\n",
       "      <td>Victoria</td>\n",
       "      <td>...</td>\n",
       "      <td>NaN</td>\n",
       "      <td>NaN</td>\n",
       "      <td>NaN</td>\n",
       "      <td>NaN</td>\n",
       "      <td>NaN</td>\n",
       "      <td>NaN</td>\n",
       "      <td>NaN</td>\n",
       "      <td>NaN</td>\n",
       "      <td>NaN</td>\n",
       "      <td>NaN</td>\n",
       "    </tr>\n",
       "    <tr>\n",
       "      <th>1</th>\n",
       "      <td>8c1f1046219ddd216a023f792356ddf127fce372a72ec9...</td>\n",
       "      <td>ad499dc8fba883ef000230c2468678a2e3444591f0ae9b...</td>\n",
       "      <td>2020-11-22 00:36:10</td>\n",
       "      <td>donate_to_recurring</td>\n",
       "      <td>0.00</td>\n",
       "      <td>0.0</td>\n",
       "      <td>0.0</td>\n",
       "      <td>0.00</td>\n",
       "      <td>au</td>\n",
       "      <td>zz_missing_state_region_province</td>\n",
       "      <td>...</td>\n",
       "      <td>NaN</td>\n",
       "      <td>NaN</td>\n",
       "      <td>NaN</td>\n",
       "      <td>NaN</td>\n",
       "      <td>NaN</td>\n",
       "      <td>NaN</td>\n",
       "      <td>NaN</td>\n",
       "      <td>NaN</td>\n",
       "      <td>NaN</td>\n",
       "      <td>NaN</td>\n",
       "    </tr>\n",
       "    <tr>\n",
       "      <th>2</th>\n",
       "      <td>8c1f1046219ddd216a023f792356ddf127fce372a72ec9...</td>\n",
       "      <td>053854f0e34432ed29ddb4058cd1ea2f9dcbd0778bc8d2...</td>\n",
       "      <td>2020-12-02 02:57:05</td>\n",
       "      <td>donate_to_recurring</td>\n",
       "      <td>0.00</td>\n",
       "      <td>0.0</td>\n",
       "      <td>0.0</td>\n",
       "      <td>0.00</td>\n",
       "      <td>au</td>\n",
       "      <td>Victoria</td>\n",
       "      <td>...</td>\n",
       "      <td>NaN</td>\n",
       "      <td>NaN</td>\n",
       "      <td>NaN</td>\n",
       "      <td>NaN</td>\n",
       "      <td>NaN</td>\n",
       "      <td>NaN</td>\n",
       "      <td>NaN</td>\n",
       "      <td>NaN</td>\n",
       "      <td>NaN</td>\n",
       "      <td>NaN</td>\n",
       "    </tr>\n",
       "    <tr>\n",
       "      <th>3</th>\n",
       "      <td>8c1f1046219ddd216a023f792356ddf127fce372a72ec9...</td>\n",
       "      <td>ad499dc8fba883ef000230c2468678a2e3444591f0ae9b...</td>\n",
       "      <td>2020-12-21 23:47:53</td>\n",
       "      <td>donate_to_recurring</td>\n",
       "      <td>0.00</td>\n",
       "      <td>0.0</td>\n",
       "      <td>0.0</td>\n",
       "      <td>0.00</td>\n",
       "      <td>au</td>\n",
       "      <td>zz_missing_state_region_province</td>\n",
       "      <td>...</td>\n",
       "      <td>NaN</td>\n",
       "      <td>NaN</td>\n",
       "      <td>NaN</td>\n",
       "      <td>NaN</td>\n",
       "      <td>NaN</td>\n",
       "      <td>NaN</td>\n",
       "      <td>NaN</td>\n",
       "      <td>NaN</td>\n",
       "      <td>NaN</td>\n",
       "      <td>NaN</td>\n",
       "    </tr>\n",
       "    <tr>\n",
       "      <th>4</th>\n",
       "      <td>6e4001871c0cf27c7634ef1dc478408f642410fd3a444e...</td>\n",
       "      <td>73351b614f9db45c3db9bb1b809031cd8a3cbf59df3f2b...</td>\n",
       "      <td>2020-05-01 02:16:37</td>\n",
       "      <td>donate_to_charity</td>\n",
       "      <td>1.62</td>\n",
       "      <td>0.0</td>\n",
       "      <td>0.0</td>\n",
       "      <td>1.62</td>\n",
       "      <td>ie</td>\n",
       "      <td>zz_missing_state_region_province</td>\n",
       "      <td>...</td>\n",
       "      <td>NaN</td>\n",
       "      <td>NaN</td>\n",
       "      <td>NaN</td>\n",
       "      <td>NaN</td>\n",
       "      <td>NaN</td>\n",
       "      <td>NaN</td>\n",
       "      <td>NaN</td>\n",
       "      <td>NaN</td>\n",
       "      <td>NaN</td>\n",
       "      <td>NaN</td>\n",
       "    </tr>\n",
       "  </tbody>\n",
       "</table>\n",
       "<p>5 rows × 77 columns</p>\n",
       "</div>"
      ],
      "text/plain": [
       "                                      member_id_hash  \\\n",
       "0  8c1f1046219ddd216a023f792356ddf127fce372a72ec9...   \n",
       "1  8c1f1046219ddd216a023f792356ddf127fce372a72ec9...   \n",
       "2  8c1f1046219ddd216a023f792356ddf127fce372a72ec9...   \n",
       "3  8c1f1046219ddd216a023f792356ddf127fce372a72ec9...   \n",
       "4  6e4001871c0cf27c7634ef1dc478408f642410fd3a444e...   \n",
       "\n",
       "                                       donor_id_hash date_lcl_donation_time  \\\n",
       "0  053854f0e34432ed29ddb4058cd1ea2f9dcbd0778bc8d2...    2020-11-02 03:47:04   \n",
       "1  ad499dc8fba883ef000230c2468678a2e3444591f0ae9b...    2020-11-22 00:36:10   \n",
       "2  053854f0e34432ed29ddb4058cd1ea2f9dcbd0778bc8d2...    2020-12-02 02:57:05   \n",
       "3  ad499dc8fba883ef000230c2468678a2e3444591f0ae9b...    2020-12-21 23:47:53   \n",
       "4  73351b614f9db45c3db9bb1b809031cd8a3cbf59df3f2b...    2020-05-01 02:16:37   \n",
       "\n",
       "         donation_type  aud_donor_foundation  aud_donor_member  \\\n",
       "0  donate_to_recurring                  0.00               0.0   \n",
       "1  donate_to_recurring                  0.00               0.0   \n",
       "2  donate_to_recurring                  0.00               0.0   \n",
       "3  donate_to_recurring                  0.00               0.0   \n",
       "4    donate_to_charity                  1.62               0.0   \n",
       "\n",
       "   aud_donor_team  aud_donor_total payment_country  \\\n",
       "0             0.0             0.00              au   \n",
       "1             0.0             0.00              au   \n",
       "2             0.0             0.00              au   \n",
       "3             0.0             0.00              au   \n",
       "4             0.0             1.62              ie   \n",
       "\n",
       "        geo_state_region_province_x  ...  sum_donations_member_2018  \\\n",
       "0                          Victoria  ...                        NaN   \n",
       "1  zz_missing_state_region_province  ...                        NaN   \n",
       "2                          Victoria  ...                        NaN   \n",
       "3  zz_missing_state_region_province  ...                        NaN   \n",
       "4  zz_missing_state_region_province  ...                        NaN   \n",
       "\n",
       "  sum_donations_member_2019  sum_donor_foundation_2020 sum_donor_member_2020  \\\n",
       "0                       NaN                        NaN                   NaN   \n",
       "1                       NaN                        NaN                   NaN   \n",
       "2                       NaN                        NaN                   NaN   \n",
       "3                       NaN                        NaN                   NaN   \n",
       "4                       NaN                        NaN                   NaN   \n",
       "\n",
       "  sum_donor_team_2020 sum_donor_total_2020 registered_2017 registered_2018  \\\n",
       "0                 NaN                  NaN             NaN             NaN   \n",
       "1                 NaN                  NaN             NaN             NaN   \n",
       "2                 NaN                  NaN             NaN             NaN   \n",
       "3                 NaN                  NaN             NaN             NaN   \n",
       "4                 NaN                  NaN             NaN             NaN   \n",
       "\n",
       "   registered_2019  registered_2021  \n",
       "0              NaN              NaN  \n",
       "1              NaN              NaN  \n",
       "2              NaN              NaN  \n",
       "3              NaN              NaN  \n",
       "4              NaN              NaN  \n",
       "\n",
       "[5 rows x 77 columns]"
      ]
     },
     "execution_count": 6,
     "metadata": {},
     "output_type": "execute_result"
    }
   ],
   "source": [
    "df.head()"
   ]
  },
  {
   "cell_type": "markdown",
   "metadata": {
    "id": "UIsef1duHj_t"
   },
   "source": [
    "**PERFORMING EXPLORATION DATA ANALYSIS (EDA)**"
   ]
  },
  {
   "cell_type": "code",
   "execution_count": 7,
   "metadata": {
    "colab": {
     "base_uri": "https://localhost:8080/"
    },
    "id": "0R4Xxe1PHuUd",
    "outputId": "cdc654da-c6f5-4ced-eb22-26a685b47125"
   },
   "outputs": [
    {
     "data": {
      "text/plain": [
       "(2099140, 77)"
      ]
     },
     "execution_count": 7,
     "metadata": {},
     "output_type": "execute_result"
    }
   ],
   "source": [
    "# data shape\n",
    "df.shape"
   ]
  },
  {
   "cell_type": "code",
   "execution_count": 8,
   "metadata": {
    "colab": {
     "base_uri": "https://localhost:8080/"
    },
    "id": "i5AhD23GHaT1",
    "outputId": "71c95316-761f-45c5-ea36-012a85630190"
   },
   "outputs": [
    {
     "data": {
      "text/plain": [
       "member_id_hash                 0\n",
       "donor_id_hash                  0\n",
       "date_lcl_donation_time         0\n",
       "donation_type                  0\n",
       "aud_donor_foundation           0\n",
       "                           ...  \n",
       "sum_donor_total_2020      259435\n",
       "registered_2017           259435\n",
       "registered_2018           259435\n",
       "registered_2019           259435\n",
       "registered_2021           259435\n",
       "Length: 77, dtype: int64"
      ]
     },
     "execution_count": 8,
     "metadata": {},
     "output_type": "execute_result"
    }
   ],
   "source": [
    "# sum of null values\n",
    "df.isnull().sum()"
   ]
  },
  {
   "cell_type": "code",
   "execution_count": 9,
   "metadata": {
    "colab": {
     "base_uri": "https://localhost:8080/",
     "height": 394
    },
    "id": "Kzry19rlH2vc",
    "outputId": "f84ee584-7a43-4ae8-b861-1c1bde23758c"
   },
   "outputs": [
    {
     "data": {
      "text/html": [
       "<div>\n",
       "<style scoped>\n",
       "    .dataframe tbody tr th:only-of-type {\n",
       "        vertical-align: middle;\n",
       "    }\n",
       "\n",
       "    .dataframe tbody tr th {\n",
       "        vertical-align: top;\n",
       "    }\n",
       "\n",
       "    .dataframe thead th {\n",
       "        text-align: right;\n",
       "    }\n",
       "</style>\n",
       "<table border=\"1\" class=\"dataframe\">\n",
       "  <thead>\n",
       "    <tr style=\"text-align: right;\">\n",
       "      <th></th>\n",
       "      <th>aud_donor_foundation</th>\n",
       "      <th>aud_donor_member</th>\n",
       "      <th>aud_donor_team</th>\n",
       "      <th>aud_donor_total</th>\n",
       "      <th>is_business</th>\n",
       "      <th>feat_donate_self</th>\n",
       "      <th>type_team_captain</th>\n",
       "      <th>type_team_member</th>\n",
       "      <th>campaigns_total_number</th>\n",
       "      <th>product_grow_intends</th>\n",
       "      <th>...</th>\n",
       "      <th>sum_donations_member_2018</th>\n",
       "      <th>sum_donations_member_2019</th>\n",
       "      <th>sum_donor_foundation_2020</th>\n",
       "      <th>sum_donor_member_2020</th>\n",
       "      <th>sum_donor_team_2020</th>\n",
       "      <th>sum_donor_total_2020</th>\n",
       "      <th>registered_2017</th>\n",
       "      <th>registered_2018</th>\n",
       "      <th>registered_2019</th>\n",
       "      <th>registered_2021</th>\n",
       "    </tr>\n",
       "  </thead>\n",
       "  <tbody>\n",
       "    <tr>\n",
       "      <th>count</th>\n",
       "      <td>2.099140e+06</td>\n",
       "      <td>2.099140e+06</td>\n",
       "      <td>2.099140e+06</td>\n",
       "      <td>2.099140e+06</td>\n",
       "      <td>2.099140e+06</td>\n",
       "      <td>2.099140e+06</td>\n",
       "      <td>1.839705e+06</td>\n",
       "      <td>1.839705e+06</td>\n",
       "      <td>1.839705e+06</td>\n",
       "      <td>1.839705e+06</td>\n",
       "      <td>...</td>\n",
       "      <td>1.839705e+06</td>\n",
       "      <td>1.839705e+06</td>\n",
       "      <td>1.839705e+06</td>\n",
       "      <td>1.839705e+06</td>\n",
       "      <td>1.839705e+06</td>\n",
       "      <td>1.839705e+06</td>\n",
       "      <td>1.839705e+06</td>\n",
       "      <td>1.839705e+06</td>\n",
       "      <td>1.839705e+06</td>\n",
       "      <td>1.839705e+06</td>\n",
       "    </tr>\n",
       "    <tr>\n",
       "      <th>mean</th>\n",
       "      <td>2.393210e+00</td>\n",
       "      <td>4.074777e+01</td>\n",
       "      <td>7.958833e+00</td>\n",
       "      <td>5.111725e+01</td>\n",
       "      <td>2.353821e-02</td>\n",
       "      <td>4.967225e-02</td>\n",
       "      <td>1.624298e-01</td>\n",
       "      <td>4.622013e-01</td>\n",
       "      <td>2.382078e+00</td>\n",
       "      <td>8.568738e-01</td>\n",
       "      <td>...</td>\n",
       "      <td>3.710378e+02</td>\n",
       "      <td>4.143829e+02</td>\n",
       "      <td>5.920757e+01</td>\n",
       "      <td>2.509199e+02</td>\n",
       "      <td>5.566866e+01</td>\n",
       "      <td>3.658079e+02</td>\n",
       "      <td>1.385412e-01</td>\n",
       "      <td>1.798761e-01</td>\n",
       "      <td>2.510087e-01</td>\n",
       "      <td>4.017535e-01</td>\n",
       "    </tr>\n",
       "    <tr>\n",
       "      <th>std</th>\n",
       "      <td>3.354156e+02</td>\n",
       "      <td>1.274350e+02</td>\n",
       "      <td>1.817224e+02</td>\n",
       "      <td>4.011027e+02</td>\n",
       "      <td>1.516053e-01</td>\n",
       "      <td>2.172670e-01</td>\n",
       "      <td>3.688448e-01</td>\n",
       "      <td>4.985693e-01</td>\n",
       "      <td>2.580141e+00</td>\n",
       "      <td>3.502016e-01</td>\n",
       "      <td>...</td>\n",
       "      <td>2.549204e+03</td>\n",
       "      <td>2.221088e+03</td>\n",
       "      <td>1.152881e+04</td>\n",
       "      <td>3.082643e+04</td>\n",
       "      <td>8.936401e+03</td>\n",
       "      <td>5.128651e+04</td>\n",
       "      <td>3.454673e-01</td>\n",
       "      <td>3.840843e-01</td>\n",
       "      <td>4.335936e-01</td>\n",
       "      <td>4.902528e-01</td>\n",
       "    </tr>\n",
       "    <tr>\n",
       "      <th>min</th>\n",
       "      <td>0.000000e+00</td>\n",
       "      <td>0.000000e+00</td>\n",
       "      <td>0.000000e+00</td>\n",
       "      <td>0.000000e+00</td>\n",
       "      <td>0.000000e+00</td>\n",
       "      <td>0.000000e+00</td>\n",
       "      <td>0.000000e+00</td>\n",
       "      <td>0.000000e+00</td>\n",
       "      <td>0.000000e+00</td>\n",
       "      <td>0.000000e+00</td>\n",
       "      <td>...</td>\n",
       "      <td>0.000000e+00</td>\n",
       "      <td>0.000000e+00</td>\n",
       "      <td>0.000000e+00</td>\n",
       "      <td>0.000000e+00</td>\n",
       "      <td>0.000000e+00</td>\n",
       "      <td>0.000000e+00</td>\n",
       "      <td>0.000000e+00</td>\n",
       "      <td>0.000000e+00</td>\n",
       "      <td>0.000000e+00</td>\n",
       "      <td>0.000000e+00</td>\n",
       "    </tr>\n",
       "    <tr>\n",
       "      <th>25%</th>\n",
       "      <td>0.000000e+00</td>\n",
       "      <td>1.617000e+01</td>\n",
       "      <td>0.000000e+00</td>\n",
       "      <td>1.886000e+01</td>\n",
       "      <td>0.000000e+00</td>\n",
       "      <td>0.000000e+00</td>\n",
       "      <td>0.000000e+00</td>\n",
       "      <td>0.000000e+00</td>\n",
       "      <td>1.000000e+00</td>\n",
       "      <td>1.000000e+00</td>\n",
       "      <td>...</td>\n",
       "      <td>0.000000e+00</td>\n",
       "      <td>0.000000e+00</td>\n",
       "      <td>0.000000e+00</td>\n",
       "      <td>0.000000e+00</td>\n",
       "      <td>0.000000e+00</td>\n",
       "      <td>0.000000e+00</td>\n",
       "      <td>0.000000e+00</td>\n",
       "      <td>0.000000e+00</td>\n",
       "      <td>0.000000e+00</td>\n",
       "      <td>0.000000e+00</td>\n",
       "    </tr>\n",
       "    <tr>\n",
       "      <th>50%</th>\n",
       "      <td>0.000000e+00</td>\n",
       "      <td>2.500000e+01</td>\n",
       "      <td>0.000000e+00</td>\n",
       "      <td>3.000000e+01</td>\n",
       "      <td>0.000000e+00</td>\n",
       "      <td>0.000000e+00</td>\n",
       "      <td>0.000000e+00</td>\n",
       "      <td>0.000000e+00</td>\n",
       "      <td>1.000000e+00</td>\n",
       "      <td>1.000000e+00</td>\n",
       "      <td>...</td>\n",
       "      <td>0.000000e+00</td>\n",
       "      <td>0.000000e+00</td>\n",
       "      <td>0.000000e+00</td>\n",
       "      <td>1.886000e+01</td>\n",
       "      <td>0.000000e+00</td>\n",
       "      <td>2.000000e+01</td>\n",
       "      <td>0.000000e+00</td>\n",
       "      <td>0.000000e+00</td>\n",
       "      <td>0.000000e+00</td>\n",
       "      <td>0.000000e+00</td>\n",
       "    </tr>\n",
       "    <tr>\n",
       "      <th>75%</th>\n",
       "      <td>0.000000e+00</td>\n",
       "      <td>5.000000e+01</td>\n",
       "      <td>0.000000e+00</td>\n",
       "      <td>5.000000e+01</td>\n",
       "      <td>0.000000e+00</td>\n",
       "      <td>0.000000e+00</td>\n",
       "      <td>0.000000e+00</td>\n",
       "      <td>1.000000e+00</td>\n",
       "      <td>2.000000e+00</td>\n",
       "      <td>1.000000e+00</td>\n",
       "      <td>...</td>\n",
       "      <td>0.000000e+00</td>\n",
       "      <td>1.000000e+01</td>\n",
       "      <td>0.000000e+00</td>\n",
       "      <td>6.521000e+01</td>\n",
       "      <td>0.000000e+00</td>\n",
       "      <td>7.545000e+01</td>\n",
       "      <td>0.000000e+00</td>\n",
       "      <td>0.000000e+00</td>\n",
       "      <td>1.000000e+00</td>\n",
       "      <td>1.000000e+00</td>\n",
       "    </tr>\n",
       "    <tr>\n",
       "      <th>max</th>\n",
       "      <td>2.789091e+05</td>\n",
       "      <td>1.086915e+05</td>\n",
       "      <td>1.131852e+05</td>\n",
       "      <td>2.789091e+05</td>\n",
       "      <td>1.000000e+00</td>\n",
       "      <td>1.000000e+00</td>\n",
       "      <td>1.000000e+00</td>\n",
       "      <td>1.000000e+00</td>\n",
       "      <td>1.800000e+01</td>\n",
       "      <td>1.000000e+00</td>\n",
       "      <td>...</td>\n",
       "      <td>1.111099e+05</td>\n",
       "      <td>1.173953e+05</td>\n",
       "      <td>2.257061e+06</td>\n",
       "      <td>6.033869e+06</td>\n",
       "      <td>1.748922e+06</td>\n",
       "      <td>1.003985e+07</td>\n",
       "      <td>1.000000e+00</td>\n",
       "      <td>1.000000e+00</td>\n",
       "      <td>1.000000e+00</td>\n",
       "      <td>1.000000e+00</td>\n",
       "    </tr>\n",
       "  </tbody>\n",
       "</table>\n",
       "<p>8 rows × 60 columns</p>\n",
       "</div>"
      ],
      "text/plain": [
       "       aud_donor_foundation  aud_donor_member  aud_donor_team  \\\n",
       "count          2.099140e+06      2.099140e+06    2.099140e+06   \n",
       "mean           2.393210e+00      4.074777e+01    7.958833e+00   \n",
       "std            3.354156e+02      1.274350e+02    1.817224e+02   \n",
       "min            0.000000e+00      0.000000e+00    0.000000e+00   \n",
       "25%            0.000000e+00      1.617000e+01    0.000000e+00   \n",
       "50%            0.000000e+00      2.500000e+01    0.000000e+00   \n",
       "75%            0.000000e+00      5.000000e+01    0.000000e+00   \n",
       "max            2.789091e+05      1.086915e+05    1.131852e+05   \n",
       "\n",
       "       aud_donor_total   is_business  feat_donate_self  type_team_captain  \\\n",
       "count     2.099140e+06  2.099140e+06      2.099140e+06       1.839705e+06   \n",
       "mean      5.111725e+01  2.353821e-02      4.967225e-02       1.624298e-01   \n",
       "std       4.011027e+02  1.516053e-01      2.172670e-01       3.688448e-01   \n",
       "min       0.000000e+00  0.000000e+00      0.000000e+00       0.000000e+00   \n",
       "25%       1.886000e+01  0.000000e+00      0.000000e+00       0.000000e+00   \n",
       "50%       3.000000e+01  0.000000e+00      0.000000e+00       0.000000e+00   \n",
       "75%       5.000000e+01  0.000000e+00      0.000000e+00       0.000000e+00   \n",
       "max       2.789091e+05  1.000000e+00      1.000000e+00       1.000000e+00   \n",
       "\n",
       "       type_team_member  campaigns_total_number  product_grow_intends  ...  \\\n",
       "count      1.839705e+06            1.839705e+06          1.839705e+06  ...   \n",
       "mean       4.622013e-01            2.382078e+00          8.568738e-01  ...   \n",
       "std        4.985693e-01            2.580141e+00          3.502016e-01  ...   \n",
       "min        0.000000e+00            0.000000e+00          0.000000e+00  ...   \n",
       "25%        0.000000e+00            1.000000e+00          1.000000e+00  ...   \n",
       "50%        0.000000e+00            1.000000e+00          1.000000e+00  ...   \n",
       "75%        1.000000e+00            2.000000e+00          1.000000e+00  ...   \n",
       "max        1.000000e+00            1.800000e+01          1.000000e+00  ...   \n",
       "\n",
       "       sum_donations_member_2018  sum_donations_member_2019  \\\n",
       "count               1.839705e+06               1.839705e+06   \n",
       "mean                3.710378e+02               4.143829e+02   \n",
       "std                 2.549204e+03               2.221088e+03   \n",
       "min                 0.000000e+00               0.000000e+00   \n",
       "25%                 0.000000e+00               0.000000e+00   \n",
       "50%                 0.000000e+00               0.000000e+00   \n",
       "75%                 0.000000e+00               1.000000e+01   \n",
       "max                 1.111099e+05               1.173953e+05   \n",
       "\n",
       "       sum_donor_foundation_2020  sum_donor_member_2020  sum_donor_team_2020  \\\n",
       "count               1.839705e+06           1.839705e+06         1.839705e+06   \n",
       "mean                5.920757e+01           2.509199e+02         5.566866e+01   \n",
       "std                 1.152881e+04           3.082643e+04         8.936401e+03   \n",
       "min                 0.000000e+00           0.000000e+00         0.000000e+00   \n",
       "25%                 0.000000e+00           0.000000e+00         0.000000e+00   \n",
       "50%                 0.000000e+00           1.886000e+01         0.000000e+00   \n",
       "75%                 0.000000e+00           6.521000e+01         0.000000e+00   \n",
       "max                 2.257061e+06           6.033869e+06         1.748922e+06   \n",
       "\n",
       "       sum_donor_total_2020  registered_2017  registered_2018  \\\n",
       "count          1.839705e+06     1.839705e+06     1.839705e+06   \n",
       "mean           3.658079e+02     1.385412e-01     1.798761e-01   \n",
       "std            5.128651e+04     3.454673e-01     3.840843e-01   \n",
       "min            0.000000e+00     0.000000e+00     0.000000e+00   \n",
       "25%            0.000000e+00     0.000000e+00     0.000000e+00   \n",
       "50%            2.000000e+01     0.000000e+00     0.000000e+00   \n",
       "75%            7.545000e+01     0.000000e+00     0.000000e+00   \n",
       "max            1.003985e+07     1.000000e+00     1.000000e+00   \n",
       "\n",
       "       registered_2019  registered_2021  \n",
       "count     1.839705e+06     1.839705e+06  \n",
       "mean      2.510087e-01     4.017535e-01  \n",
       "std       4.335936e-01     4.902528e-01  \n",
       "min       0.000000e+00     0.000000e+00  \n",
       "25%       0.000000e+00     0.000000e+00  \n",
       "50%       0.000000e+00     0.000000e+00  \n",
       "75%       1.000000e+00     1.000000e+00  \n",
       "max       1.000000e+00     1.000000e+00  \n",
       "\n",
       "[8 rows x 60 columns]"
      ]
     },
     "execution_count": 9,
     "metadata": {},
     "output_type": "execute_result"
    }
   ],
   "source": [
    "df.describe()"
   ]
  },
  {
   "cell_type": "code",
   "execution_count": 10,
   "metadata": {
    "colab": {
     "base_uri": "https://localhost:8080/"
    },
    "id": "hmabP1fvH9w2",
    "outputId": "8ac19065-5f31-4590-cdf8-c5246348a1dc"
   },
   "outputs": [],
   "source": [
    "# sum of duplicate values\n",
    "df.duplicated().sum()\n",
    "df.drop_duplicates(inplace=True)"
   ]
  },
  {
   "cell_type": "code",
   "execution_count": 11,
   "metadata": {
    "colab": {
     "base_uri": "https://localhost:8080/"
    },
    "id": "Pvod3rWiILQU",
    "outputId": "1489c272-8b26-45d5-e3dc-c937445e3218"
   },
   "outputs": [
    {
     "name": "stdout",
     "output_type": "stream",
     "text": [
      "<class 'pandas.core.frame.DataFrame'>\n",
      "Int64Index: 2097607 entries, 0 to 2099139\n",
      "Data columns (total 77 columns):\n",
      " #   Column                           Dtype  \n",
      "---  ------                           -----  \n",
      " 0   member_id_hash                   object \n",
      " 1   donor_id_hash                    object \n",
      " 2   date_lcl_donation_time           object \n",
      " 3   donation_type                    object \n",
      " 4   aud_donor_foundation             float64\n",
      " 5   aud_donor_member                 float64\n",
      " 6   aud_donor_team                   float64\n",
      " 7   aud_donor_total                  float64\n",
      " 8   payment_country                  object \n",
      " 9   geo_state_region_province_x      object \n",
      " 10  is_business                      int64  \n",
      " 11  pmt_card_type                    object \n",
      " 12  feat_donate_self                 int64  \n",
      " 13  date_lcl_activation              object \n",
      " 14  country                          object \n",
      " 15  geo_state_region_province_y      object \n",
      " 16  gender                           object \n",
      " 17  category_fundraising             object \n",
      " 18  type_team_captain                float64\n",
      " 19  type_team_member                 float64\n",
      " 20  tenure_description               object \n",
      " 21  campaigns_total_number           float64\n",
      " 22  product_grow_intends             float64\n",
      " 23  product_host_intends             float64\n",
      " 24  product_move_intends             float64\n",
      " 25  product_myow_intends             float64\n",
      " 26  feat_donote_other                float64\n",
      " 27  feat_donote_self                 float64\n",
      " 28  feat_facebook_fundraiser         float64\n",
      " 29  feat_facebook_login              float64\n",
      " 30  feat_motive                      float64\n",
      " 31  feat_phone_no_provided           float64\n",
      " 32  feat_picture                     float64\n",
      " 33  feat_platinum_club               float64\n",
      " 34  feat_target_met                  float64\n",
      " 35  feat_target_setter               float64\n",
      " 36  feat_url_personal                float64\n",
      " 37  feat_web_click_shares            float64\n",
      " 38  feat_web_date_nunique            float64\n",
      " 39  feat_web_session_id_nunique      float64\n",
      " 40  feat_web_total_pageviews         float64\n",
      " 41  feat_web_visited_weekday         float64\n",
      " 42  feat_web_visited_weekend         float64\n",
      " 43  feat_app_user                    float64\n",
      " 44  feat_app_click_share             float64\n",
      " 45  feat_app_date_nunique            float64\n",
      " 46  feat_app_operating_system_first  object \n",
      " 47  feat_app_session_id_nunique      float64\n",
      " 48  feat_app_total_screenviews       float64\n",
      " 49  feat_app_view_motracker          float64\n",
      " 50  feat_app_visited_weekday_app     float64\n",
      " 51  feat_app_visited_weekend_app     float64\n",
      " 52  web_user                         float64\n",
      " 53  web_traffic_channel_first        object \n",
      " 54  web_traffic_source_first         object \n",
      " 55  web_traffic_medium_first         object \n",
      " 56  web_view_get_involved            float64\n",
      " 57  web_view_about_us                float64\n",
      " 58  web_view_mens_health             float64\n",
      " 59  sum_donations_member_2020        float64\n",
      " 60  mean_donations_member_2020       float64\n",
      " 61  median_donations_member_2020     float64\n",
      " 62  count_donations_member_2020      float64\n",
      " 63  max_donations_member_2020        float64\n",
      " 64  min_donations_member_2020        float64\n",
      " 65  std_donations_member_2020        float64\n",
      " 66  sum_donations_member_2017        float64\n",
      " 67  sum_donations_member_2018        float64\n",
      " 68  sum_donations_member_2019        float64\n",
      " 69  sum_donor_foundation_2020        float64\n",
      " 70  sum_donor_member_2020            float64\n",
      " 71  sum_donor_team_2020              float64\n",
      " 72  sum_donor_total_2020             float64\n",
      " 73  registered_2017                  float64\n",
      " 74  registered_2018                  float64\n",
      " 75  registered_2019                  float64\n",
      " 76  registered_2021                  float64\n",
      "dtypes: float64(58), int64(2), object(17)\n",
      "memory usage: 1.2+ GB\n"
     ]
    }
   ],
   "source": [
    "# column informations\n",
    "df.info()"
   ]
  },
  {
   "cell_type": "code",
   "execution_count": 12,
   "metadata": {
    "colab": {
     "base_uri": "https://localhost:8080/"
    },
    "id": "meWo1w3pIQ2D",
    "outputId": "1ebc9d4e-41ae-4f69-ac5d-661282c52fb2"
   },
   "outputs": [
    {
     "data": {
      "text/plain": [
       "[]"
      ]
     },
     "execution_count": 12,
     "metadata": {},
     "output_type": "execute_result"
    }
   ],
   "source": [
    "# Categorical columns unique values\n",
    "cat_cols = df.select_dtypes(include='category').columns.to_list()\n",
    "cat_cols"
   ]
  },
  {
   "cell_type": "code",
   "execution_count": 13,
   "metadata": {
    "colab": {
     "base_uri": "https://localhost:8080/"
    },
    "id": "kdR0z7FoMCK1",
    "outputId": "07bf3da6-261e-4fb1-9c8c-0f9aab77d0b9"
   },
   "outputs": [],
   "source": [
    "# Getting the Categorical columns unique values\n",
    "cols = ['donation_type','payment_country','geo_state_region_province_x','country','geo_state_region_province_y','gender','category_fundraising']\n",
    "for unique in df[cols]:\n",
    "    print(unique.upper())\n",
    "    print()\n",
    "    print(df[unique].unique())"
   ]
  },
  {
   "cell_type": "code",
   "execution_count": 14,
   "metadata": {
    "colab": {
     "base_uri": "https://localhost:8080/"
    },
    "id": "JcZRxg02I-bd",
    "outputId": "58365c1e-0fe0-4ae9-d857-e45ff8b89c63"
   },
   "outputs": [
    {
     "name": "stdout",
     "output_type": "stream",
     "text": [
      "[nan  1.  0.]\n",
      "registered_2017  registered_2018  registered_2019  registered_2021\n",
      "False            False            False            False              1838425\n",
      "True             True             True             True                259182\n",
      "dtype: int64\n",
      "[nan  1.  0.]\n",
      "registered_2017  registered_2018  registered_2019  registered_2021\n",
      "False            False            False            False              1838425\n",
      "True             True             True             True                259182\n",
      "dtype: int64\n",
      "[nan  1.  0.]\n",
      "registered_2017  registered_2018  registered_2019  registered_2021\n",
      "False            False            False            False              1838425\n",
      "True             True             True             True                259182\n",
      "dtype: int64\n",
      "[nan  1.  0.]\n",
      "registered_2017  registered_2018  registered_2019  registered_2021\n",
      "False            False            False            False              1838425\n",
      "True             True             True             True                259182\n",
      "dtype: int64\n"
     ]
    }
   ],
   "source": [
    "# Check Registration Year unique values\n",
    "reg_year = ['registered_2017', 'registered_2018', 'registered_2019', 'registered_2021']\n",
    "for years in df[reg_year]:\n",
    "    print(df[years].unique())\n",
    "    print(df[reg_year].isna().value_counts())"
   ]
  },
  {
   "cell_type": "markdown",
   "metadata": {
    "id": "wPTyek7-NJOx"
   },
   "source": [
    "**DATA VISUALIZATIONS**"
   ]
  },
  {
   "cell_type": "code",
   "execution_count": 15,
   "metadata": {
    "colab": {
     "base_uri": "https://localhost:8080/",
     "height": 569
    },
    "id": "NhWECnklLxSk",
    "outputId": "bf123ae0-bcee-45e1-b075-09a401dfdd1b"
   },
   "outputs": [
    {
     "data": {
      "image/png": "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",
      "text/plain": [
       "<Figure size 1080x720 with 1 Axes>"
      ]
     },
     "metadata": {},
     "output_type": "display_data"
    }
   ],
   "source": [
    "sns.set_theme(font_scale=1.5)\n",
    "plt.figure(figsize=(15,10))\n",
    "sns.barplot(x=df.groupby('country').country.count().values,y=df.groupby('country').country.count().index)\n",
    "plt.title('Fundraising Across Countries')\n",
    "plt.savefig(\"Fundraising Across Contries\")\n",
    "plt.show()"
   ]
  },
  {
   "cell_type": "markdown",
   "metadata": {
    "id": "iNIzgW27OpMs"
   },
   "source": [
    "The graph above shows distribution of fundraising across different Countries with UK having the highest and Austria having the lowest"
   ]
  },
  {
   "cell_type": "code",
   "execution_count": 16,
   "metadata": {
    "colab": {
     "base_uri": "https://localhost:8080/",
     "height": 596
    },
    "id": "iIogiMqZOd4O",
    "outputId": "98ed8dff-ab31-485e-e3ec-e631654b61ea"
   },
   "outputs": [
    {
     "data": {
      "image/png": "iVBORw0KGgoAAAANSUhEUgAAAtAAAAJDCAYAAAAipSNxAAAAOXRFWHRTb2Z0d2FyZQBNYXRwbG90bGliIHZlcnNpb24zLjUuMSwgaHR0cHM6Ly9tYXRwbG90bGliLm9yZy/YYfK9AAAACXBIWXMAAAsTAAALEwEAmpwYAADUD0lEQVR4nOzdd3gU5drH8e+29IRUSOg1oQRCB+ldRKqiIs0jdkQ9NsRzPK+dg6IiVgQ8KKAoYAMFRHoNhN4DhJDee9s+7x8hKyEJJJCwKffnunIpO7Oz92yZ+e2zzzyPSlEUBSGEEEIIIUS5qO1dgBBCCCGEEDWJBGghhBBCCCEqQAK0EEIIIYQQFSABWgghhBBCiAqQAC2EEEIIIUQFSIAWQgghhBCiAm4YoD/99FOCgoJK/HXo0IFevXoxbdo0fvvtt2L3OXDgAEFBQbz77ruVXvCQIUNKradjx44MHjyYl19+mYiIiGL3mTZtGkFBQWRnZ9/UY1osFlauXEl+fv4N1y16rNjY2DLX+fnnnwkKCuLTTz+9qXqK7v/NN9/c1P1vVWxsLEFBQcycOfOmtxEZGcnGjRsrsariXn/9dYKCgrj77rur7DGuJygoiHHjxlXZ9qvqPXDu3DnmzJnD4MGDCQ4OplevXkyePJkVK1ZgNBqLrVsZ74PKVpXHnvK6mWNUbXLixAn27Nlj7zKqRFpaGk8//TTdunWjc+fOvP7662WuW3QuuN5f9+7db2P1xWVnZxMUFMS0adMqfdtz5swhKCiIs2fPVuh+1fGYUln27NnDiRMn7F2GqETa8q44dOhQ2rVrZ/u32WwmPT2djRs3Mnv2bC5dusTzzz8PQKNGjZg1axYhISGVX/EVs2bNKvZvg8FAeHg469atY8uWLXz//ffF6r0VL774Ihs3bmTs2LGVsr1b1a5dO2bNmkXnzp3t8vgeHh7MmjWLli1b3tT9z507x8SJE3nwwQe56667Krk6MBqNbNq0CWdnZy5evMjRo0fp0qVLpT+OPVXFe2DDhg289NJLODs7M3jwYPz9/cnKyuLgwYO88847/PLLLyxfvhw3N7dKe8zKdjuOPeV1O49R1cWOHTt46qmneOWVV+jXr5+9y6l07777Llu2bOGOO+6gU6dOdOrU6Yb3mT59Oh4eHqUuc3R0rOwSq4Vhw4bRqFEjfH19K3S/Wz23VFfff/89b775Jp9//rm9SxGVqNwBetiwYdxzzz0lbn/kkUeYMGECS5Ys4f7776dRo0Y0btyYZ555plILvVZZ21+0aBELFizgvffeq7TWubS0tErZTmVp166dXU+8Hh4et/T6ZmVlYTKZKrGi4rZv305mZibPPPMMn376KWvWrKmVAboy3wO5ubn85z//oVGjRvz44494e3vbllksFt544w1Wr17NJ598wr/+9a9Ke9zKdjuOPeV1O49R1UV6ejpWq9XeZVSZ06dPo9FoWLx4MQ4ODuW6z0MPPUTjxo2ruLLqZdiwYQwbNqzC97vVc0t1Vd0yhKgct9wHunnz5gwdOhSLxVItfrZ76KGH0Ol0HDhwAIPBYO9yhB38+uuvqNVqpkyZQsuWLdm4cSO5ubn2LqtaCwsLIzc3l7FjxxYLzwAajYZXX30VnU7HX3/9ZacKaw85RtVcJpMJFxeXcodnIUTtVSkXETZo0ACAzMxMoOx+iCkpKbzxxhsMGDCA4OBghgwZwvz58ys13Dg7O+Ph4YHVaiUrK+u6627YsIFJkybRuXNnunTpwqRJk/jjjz+KrRMUFMTBgwcB6NGjR5X0F4O/+5pHRETw0UcfMWjQIIKDg7n77rtZtWpVsXWv7f86ZswYOnbsWOrzuHjxYoKCgor1N96+fTuPPvoovXv3pkOHDvTu3ZuZM2eW6K82ZMgQpk2bxk8//USfPn3o0qUL8+bNK7Of2vnz53n55ZcZOHAgwcHBdO3alUmTJvHnn38W28/p06cDsHz5coKCgjhw4IBt+enTp5k5cya9evWiU6dOjBs3jlWrVlHeGefT09PZvXs3HTp0wMvLi1GjRpGfn8+GDRtKrFu0H59++ilbt25l4sSJdOrUiTvuuIPXXnuN9PT0Evf59ddfmTZtGj169CA4OJh+/frx4osvEhMTU2ZNhw4dIigoiJdeeqnU5cOGDWPQoEG2lrvff/+dSZMm0aNHD7p06cK9997L999/X+w5KK0PdGpqKv/6178YPnw4HTt2pF+/frz88stERUXd8Hkzm81A4WtYGhcXFz7//HPmzp1b6vKdO3dy//33256/V199tdTn78SJE7bXt2PHjowaNYpFixbZ+lcrikKfPn0YMmRIsfspikLv3r0JCgoq8VzPnDmTTp06UVBQUOqxZ9q0aQwZMoTExERefPFFevXqRUhICFOmTCn23isSHR3NCy+8YHvPP/bYY0RERDB8+PBK+fyXdYzKzc3lgw8+YNiwYQQHB9O/f39ef/31Eq1XRf1LT5w4wahRo+jYsSOTJk2yvT/OnTvH888/T9++fenSpQsTJkxg7dq1JT5DUVFRvPTSS/Tp04fg4GDuuusuvvrqqxK/DpX3+ZszZw6vvvoqAP/973+LXQtiMpn49ttvuf/+++nWrRvBwcEMHjyY//u//yv1fbJp0yYmTpxIly5d6N+/Px988AH79u0jKCiIn3/++ab2oyxWq5Xvv/+e8ePH06lTJ7p168bDDz/M3r17besUfd7i4uLIycmx9WGuTEOGDCm1T3Rp7+mi90BWVhavv/46ffv2pWPHjtxzzz3FjrdFYmNjbc9Rly5dmDVrFvHx8SXWKzoP7d+/n/vuu4/g4GDuvPNO8vLyADh8+DCzZs2iX79+BAcH06NHDx5++GFCQ0OLbae0PtAnT57kiSeeoF+/fnTs2JE777yTDz74oNh5q7RzS0X3NTU1lf/7v/+jf//+hISEMHnyZI4cOcI//vGPEseVspT3M1Sec+m0adP47LPPAHj66adLvG82btzIpEmT6NKlC127duWhhx4q8XwW+eGHHxgzZgwhISEMHTqUJUuW8Ouvv5Y4jwLs3buXhx9+mK5du9KpUycmTJjAd999V+IXoqCgIObMmcOiRYvo3r073bt357PPPqNt27Y8+OCDpdYxffp0QkJC6nzDVLm7cFxPdHQ08HeQLk18fDwPPvggSUlJDB48mFatWnH27FmWLl3Kvn37+O6773BxcbnlWnJzc0lPT8fBwQFPT88y13vvvff43//+h5+fH6NHjwYK+++98MILnDlzhpdffhko7Mf4yy+/EBcXx2OPPVblfbNefvll4uPjGTFiBFqtlnXr1vHGG2/g4uJS5kVpY8aM4cMPP2TLli2MHz++2LI//vgDNzc324Fj5cqVvP322zRt2pTRo0ej0+k4efIkW7duJTQ0lE2bNlG/fn3b/S9cuMBbb73FuHHjMJlMZfa5PXHiBNOmTcPBwYERI0bg7e1NVFQUW7du5dlnn2XRokUMHjyYnj17MmHCBH755RdCQkLo378/jRo1AgpD2KxZs9DpdLZt7N69mzfeeIMzZ87w9ttv3/D5++OPPzCZTIwaNQqAu+++m88++4w1a9Zw//33l3qf7du388UXXzBo0CB69erF3r17WbNmDbGxscUCatF7pm3btkyYMAGVSkVYWBi///47hw8fZtOmTTg5OZXYfrdu3WjSpAlbt26loKAAZ2dn27IjR44QExPD448/jlqtZsOGDbz44os0b96cCRMmoFar2bp1K2+++SYZGRk8/fTTpe6DwWDgscce4/z58wwfPpyRI0cSHR3NH3/8wZ49e9i4ceN1Pw/dunXD0dGRzZs38+STT3L//ffTu3fvYp/JgQMHlnrfI0eOsHPnTgYOHMjUqVM5cOAAP//8M+Hh4fz000+oVCoAtmzZwnPPPYdarWbYsGH4+voSGhrKggUL2L17N8uWLcPBwYF+/frx22+/ER0dTdOmTQEIDw8nIyMDgIMHD9KkSROgMJiFhobSq1evYs/rtfLy8pg8eTLOzs6MHz+e1NRUNmzYwCOPPMKGDRtsjxMVFcWkSZPIzMxk2LBhNG7cmO3btzN58mSsViv+/v5lPkZ5lXaMysnJYfLkyZw/f5477riDESNGEBsby+rVq9m9ezc//PBDsc8lwFNPPUXHjh3p27cvLi4uqFQq9u/fz5NPPonFYmHo0KE0bNiQHTt28O9//5v4+HieffZZoPCL6kMPPYRer2fEiBE0bNiQQ4cO8dFHHxEWFsZXX32FRqOp0PM3bNgwsrOz2bp1K/369aNz5862vr8vvvgif/75J926deP+++/HaDSyZ88efvzxR06fPs1PP/1ke6xvv/2WuXPn4ufnZzvurFy5kk2bNpV4Liu6H9eyWq08//zzbNq0iSZNmnDvvfeSn5/P1q1beeSRR/jPf/7DlClTbNccfPvttxgMBh5//PGbfv0r08MPP0xmZiZ33XUX+fn5rF+/nueee46VK1fawnhiYiKTJk0iNTWVIUOG0LBhQ3bv3s2jjz5a5nZfeuklWrZsybRp08jLy8PV1ZUtW7bw7LPP4u3tzbBhw3B1deXChQvs2rWLgwcPsnbt2jK7lUVGRvLwww+jVqsZOXIkHh4eHD16lCVLlnDy5Em+/fbbStnXjIwMJk+eTFRUFP369SMoKIjQ0FAeeughPD090el0N3yc8n6GynsunTBhAlB43Bo1alSxDLFw4UK++OILGjVqZDunbNq0iYcffph58+YVO+fPnTuXb7/9lqZNm3LfffeRkZHBxx9/TEBAQIl9WLFiBe+88w7u7u4MHz4cFxcXdu/ezVtvvWX7fBQdlwF2797NX3/9xYQJE0hNTaVv374cOHCAsLAw4uLibOdogKSkJMLCwrjrrruq9fUwt4VyA5988okSGBio/PTTT6UuP3HihNK+fXulU6dOSlpamqIoihIaGqoEBgYq77zzjm29xx57TAkKClK2bdtW7P7ffvutEhgYqLz33ns3KkVRFEUZPHiwEhgYWObyd955RwkMDFSeeeYZ221Tp05VAgMDlaysLEVRFCUsLEwJDAxUxo8fb6tZURQlLS1NGT16tBIYGKgcPHiwzPtfT9G6MTExZa7z008/KYGBgconn3xiu63oeR48eHCxmg4fPqwEBgYqkydPLnH/ZcuWKYqiKAkJCUrbtm2Vxx9/vNjjREREKIGBgcqcOXMURVEUg8GgdO3aVRkxYoSSl5dXbN3XX39dCQwMVH744QfbbUXP9fLly4utGxMTowQGBipPPfWU7bYZM2Yo7du3Vy5evFhs3T/++EMJDAxUXnjhBdttpb0/8vPzld69eyu9e/cu9txZLBblmWeeUQIDA5UdO3aU8Yz+7Z577lGCgoKUhIQE223jx49XAgMDlXPnzpW6H4GBgcqGDRtstxuNRuXuu+9WAgMDlaioKEVRFCUxMVFp27atMmXKFMVsNhfbzmOPPaYEBgYqu3fvtt0WGBiojB071vbvhQsXKoGBgcoff/xR7L5vvPGGEhgYqFy4cEFRFEWZMGGC0rlzZyUnJ8e2Tk5OjtK3b1+ld+/eitVqVRSl5Htg27ZtSmBgoLJw4cJi21+6dKkSGBiorFy58obP3a+//qp06NDB9px06NBBeeCBB5SPP/5YOX36dIn1r37+1q1bZ7vdbDYrEyZMUAIDA233y8nJUXr06KF07dpVOXXqlG1dk8mkvPjii0pgYKDy2WefKYqiKL///nuJ9+KyZcuUtm3bKiEhIbb3s6L8/V4q2r/S3ltFn8mnnnpKMRqNttu//PJLJTAwUPn4449ttz3xxBNKYGCgsnHjRtttBoNBefDBB5XAwEBl6tSpN3web+YYVfQ+uPZ12rJlixIYGKg8++yzttteeeUVJTAwUJk1a1axdc1mszJkyBClY8eOypEjR2y36/V6ZcyYMUq7du2U1NRUxWq1KqNHj1Y6duyonDx5stg25s6dW6KOijx/174vFUVRjh49qgQGBiovvvhisccymUy24+2lS5cURSk8lnXq1EkZNmyYkpKSYlv39OnTtvdm0bmoovtRml9++UUJDAxUZsyYUeyYGB0drfTt21dp3769Eh0dbbt98ODBSrdu3a67zSJFz9s777yjfPLJJyX+rn6Orrft0t7TRe+BiRMnFqt73bp1SmBgoPLyyy/bbps9e7YSGBio/Pzzz7bb8vLybPVd/Z4uOg/de++9isViKVbHnXfeqfTs2bPY66IoirJ48WIlMDBQ+fDDD0vUd+bMGUVRFGXevHlKYGCgsn///mL3ffzxx5XAwEDl/PnziqKUfm6pyL6+9dZbSmBgoLJ06VLbbRaLRXnuueds59frKe9nqKLn0qLn9a+//rLddvz4cSUoKEiZOnWqkp+fb7s9PT1dGT58uBISEmLLAidOnFCCgoKU+++/X8nNzbWtu337dtsxODQ0VFGUwvdu+/btlUGDBhV77+bl5SnTp09XAgMDlV9++cV2e9H9t27dWmw/1q5dqwQGBipfffVVsduXLFlS7vNxbVfuLhxbtmzh008/tf0tWLCAZ599lilTpmA2m5k9e3aJvpNFkpOT2bVrFwMHDmTw4MHFlk2dOpWAgIASP8vdyNW1fPrpp/z3v/9l4sSJLF++HB8fH2bPnl3mfYse69qavb29efHFFwGKtYjcTvfee2+xmrp27YqHhweXL18u8z7+/v50796dvXv3FvtJuKjbwpgxY4DCi8Hefvtt3n333RKt/T179gRKv9jhzjvvvGHd//jHP5g/fz6tWrUqdnuvXr3K3O7Vtm3bRnp6Oo8++mixC27UanW5X5OIiAhOnTpF9+7di7UUFv3CsGbNmlLv16RJk2Kjgeh0Ou644w4A2/Pu4ODA+++/z7///e8SLVo9evS44T4W/TKwfv16220mk4mNGzfSoUMHWrduDRR2VdDr9Zw5c8a2npubG2vXrmXr1q3FWg2uVvSz3JkzZ9Dr9bbbJ0+ezI4dO5g8eXKZtRUZN24cP//8MxMmTMDd3R2TycTRo0f54osvmDBhAjNnziz15/YmTZrY3mNQ2Gd6wIABALbuFlu2bCErK4vp06fToUMH27parZZ//etfODk52V7ffv36odFo2L9/v2290NBQ2rZtS3BwMGFhYbbbi667KKt1/GozZswo1gJVdJ+i1zg9PZ2dO3fSvXt3Ro4caVvPwcGhzO4311PeY5TZbObXX3+lTZs2TJkypdg2hg4dSteuXfnrr79K/Fx67efy2LFjxMbGMm7cuGIXzTo6OjJnzhyeeeYZDAYDx48f5/z580ycOJHg4OBi23juuefQ6XSlHo9v9PyVxd/fn3nz5vHcc88Vu12r1dKtWzfg78/Oxo0b0ev1PPHEE8VGcGjfvr2tJa/Ize7H1X755RcA2698RZo0acJTTz1le21uxfLly/nss89K/C1fvvyWtgswZcqUUn8lKnpNjEYjmzdvpk2bNsWePxcXl+u+p4cPH45a/Xc8sFqtvPjii7z//vslRtYozzG+6Ph05MiRYrf/97//Zf/+/bRp0+Z6uwnceF8tFgvr16+nUaNG/OMf/7Ctp1armT179nV/iShS3s/QzZ5Lr1bUJWT27NnFfj3z8vLiscceo6CgwNb18rfffkNRFP75z3/i6upqW3fQoEH07du32HbXrVuH2Wzm6aeftv1SB4Wv+WuvvQaUPJc6OTmVOIbeeeedODs78/vvv5fYvo+PT4nHrYvK3YVj69atbN261fZvnU6Hp6cnffv2ZcqUKdcdsujMmTMoikJmZmapYx/rdDoSEhJISkq6bjeQqxX1KSri4uJCQEAA06ZN49FHH73uT63nzp1DrVbbDt5XK7rt3Llz5arjWmUFnPKu26JFixK3ubm53bCv0dixYzl48CB//fUXEydOBAoDtJ+fH7179wYK+14WdW2IjIwkIiKC6OhoLly4YAsr1/aP0ul0JX46Lk3//v2Bwn7u586dIzo6msjISA4fPgwUHtyu59SpU0DhT7KlvUc0Gs0NX5Oi8civHft59OjRfPDBB6xfv57Zs2eXuACoefPmJbbl7u4OYOub6+XlxZgxY7BarZw/f56IiAhiYmIIDw9n3759QMnn7mpNmzala9eu7N69m6ysLOrVq8eePXvIyMjgySeftK33wAMP8Prrr9vGkB0wYAADBw6kW7duxU5o1+rTpw9NmjRh+/bt9O3blz59+jBgwAAGDRpU6k98ZQkMDGTevHmYzWZOnjzJ/v372bVrF0ePHmXr1q2kpaXxww8/FHvvNmvWrMR2iromFI2dXvTaFX3ZuJq3tzctWrTg7Nmz5OTkUK9ePUJCQggNDUVRFKxWK2FhYUycOBGtVktYWJjtWLF7927atGlTrlEOrn2di35+LHqNT58+jdVqLXVospCQELTaivV4K+8xKjIykvz8fCwWS6nv/aITdnh4eLFj1tU/q8Lfz3Fp3az69OlDnz59gMIuS1DY9a60x3N1dSU8PBxFUYq9zjd6/sri7+/PhAkTMJvNnD59msjISKKjozl79myJz87JkycBSn0NunbtyurVq23/Pn369E3tx9XOnTtHgwYNigWNIrd6LiiydevWKhuF49rzxbXHrZiYGPLz80t8wQAIDg4us0vDte8ttVrN8OHDAYiLi+PChQtER0dz8eJFW9/b6x3/JkyYwKpVq1i4cCE//vgjAwYMYMCAAbbuR5Wxr1FRUWRlZdG7d+8SYblhw4bl6n5V3s8QUOFz6bWK3r+bN29mx44dxZYlJiYC2PpS3+hzcXV//esda9u0aYOHh0eJ97S/v3+J58zNzY1hw4axfv16Lly4QJs2bTh//jzh4eFMnz69wsfD2qjcz8B///vfUoexK4+iCUyOHTvGsWPHylwvMzOT9PR0tmzZUmLZtUPbhIeH31QtUNgH0dHRsdQrqd3d3XF2dqagoOCmtl10Uim6KKs0RS2EpfUfKq0mlUp1w4voRo4cydtvv83GjRuZOHEi586dIyIiwtbvrEhYWBj//e9/bR9eR0dH2rZtS4cOHUhISCjxOKX16S1NQkICb7/9Ntu2bUNRFNRqNc2bN6dbt27FWlPLkpOTA1DiIs6rXe+iUEVRbK27b7zxBm+88UaJdTIzM9m8ebOtRbpIWc/5tTZv3syHH35oa/FwcXEhODiYtm3bsm/fvhu+RuPHj+fIkSNs3ryZ++67j3Xr1qHVaovVM2nSJHx8fFi+fDmHDx8mPDycJUuW0KBBA+bMmWM7aF/L2dmZ1atX8+WXX7Jx40Y2b97M5s2bbSe+t95667p9oK+l1Wrp0qULXbp0YebMmRw9epSZM2dy7NgxDhw4YPtSBtcfy7boOSn6AlhWn7n69etz9uxZCgoKcHd3Z+DAgRw5coTw8HAMBgO5ubn07NkTrVbL0qVLCQsLo3fv3pw7d45HHnmkXPt07etc9BoX1VjUx7q0sWs1Gk2Zv7CVpbzHqKLj46VLl0qE7qtd+/6/9rNZtJ0b9UssWm/37t3s3r27zPXy8vKKbetGz9/1/PDDD3z++eckJycDhcOVhYSE0KpVK44fP16u1+DaL/I3ux9Xy83NLXOs4qLHu/oXnermRq9J0Xvm6lbLIhqNpsznpbTjfnh4OO+8847tonqdTkerVq0IDg7m8uXL130ftG3bltWrV7No0SJ27tzJ6tWrWb16NS4uLkyfPp1//vOfN2x8upXPLxS+nkXvv7KU9zMEFT+XXqvonLd48eIy1yl6/TIyMnBxcSn1dbz2c1F0rC36glHa+tdeWF7WeX78+PGsX7+e33//neeff55169YBVOkkYTXJbfkKUfQNc+bMmSV+xrvWzz//XOpJpDLHhnR1daWgoICcnJwSbzKDwYBer8fLy+umtl10v9TU1FJbNqGwE/7V61YGd3d3Bg0axNatW8nIyCjRfQOwXQjp6OjI22+/Tbdu3WjevDkajYYNGzaU+sWlPBRF4fHHH+fixYs88cQTDBs2jDZt2uDk5ERqamqZXSeuVvQe+eabb2zdJyoiNDSU+Ph4WrZsWeo37+TkZLZv386aNWtKBOjyOH78OM899xz+/v589NFHdOzYkSZNmqBSqVi8eLGtJe16Ro0axbvvvmublKeotfjaA/7w4cMZPnw42dnZHDhwgG3btrF+/XpefPFFWrduTWBgYKnb9/b25t///jf/+te/CA8PZ/fu3fz222/8+eefqNVqPv744zJrmzlzJidOnGDbtm2lfqHo0qUL//jHP/joo4+IiooqFqDLo+jAX9YJrOjEVRTyBwwYwIIFC9i/fz8mkwm1Wk2PHj1Qq9VoNBrCwsIwm80oisKgQYMqVEtZik6aZf3aUzQSQWUrem7GjRvH+++/f9PbKfoMlVanyWRCURQcHBxs67377ru2X6uq0saNG20zg77++ut06NDB9qvI66+/zvHjx23rFr0GeXl5Jb6wXPu6VMZ+uLq6lvmeLAovFfnieatKC123EuDr1asH/B3Wrn2s8jYU5ebmMmPGDHJycnjllVfo06cPLVu2xMHBgePHj5f4mb80bdu25eOPP8ZoNHL06FF27drFzz//zKJFi2jQoEG5upldT2V8fsv7GaqMc6mLiwsajYbjx4/f8OJGNzc3YmNjMZlMJda9dn+vPtaW9qU/Kyur3O/pPn360KBBAzZt2sTzzz/Pxo0bad26dam/aNRFlTKM3Y0UDdtS9DP9tT755BMWL16M0WjknnvuITw8vMRfZWrbti1QOLzYtQ4fPoyiKLY+qRVV9NNPadsuUtQPrLJnSxs7dixms5mdO3eyadMmWrZsWay/6ZYtWygoKODZZ5/l/vvvp1WrVrafbYqmFi5Pa9K1wsPDbaM/PP/883Ts2NH2jba07ZbW0nC990hmZibvvvtuiSnjr1a07Mknn+Stt94q8bdgwQLc3Nw4cODAdYecK8sff/yB1Wrl9ddf5+6776Zp06a2/bh06VKJfSyNu7s7Q4YM4eDBg7bX4upv8kajkS+//NI28oeHhwfDhw/nv//9L0899RRWq5WjR4+Wuu2wsDDeeecdoqOjUalUtG3blscee4w1a9bg4uJy3fcjFLYmpaSksGvXrhs+F+Xp0nOtoqvzi7r0XC03N5ezZ8/SrFkzW3hv37499evXJzQ0lCNHjhAUFISHhwdubm506NCBsLAwdu/ejYeHR6VNktOhQwdUKlWp0+1evHixygJ0ixYtcHBw4PTp06W+h7755hu++OILWwtbWYq+WJVW/8aNGwkJCbENeQWlf9ZMJhPz5s1jxYoVN7MrpX62i8LVhx9+yLBhw4p1Kbr2s1N0vCptH64O2nD9Y0Z596Nt27ZkZ2eXOnxj0WfmZs8FFaXT6dDr9SXeA0WjXN2Mpk2b4u7uXupx4+LFi+UO56GhoaSmpjJlyhRmzJhB27ZtbZ/V8pw7fv31V95++21bAO3Vqxcvv/yyretNaceFimrZsiUuLi6lvneys7OJjIy84TbK+xmq6Lm0rHOexWIpdbrzo0eP8sEHH9jegx06dMBisdhau6927efievkmKiqKlJSUcvU5h8KuO2PGjOHy5cts3rzZ1j9cFLotAbpJkyb06NGDXbt2lRiK6Ndff+Xzzz9n9+7dt21w+qKuKB999FGxi6LS09NtLUBXv0mKvvGVZ1zRIUOG4Obmxtdff11q14UNGzZw8OBBunfvXmYL9c0aOHAgnp6eLFu2jKioqBJTjxf91J6amlrs9nPnztkuaLle15OyFL1u1140kZmZaXs+r95uUd+pq5/P4cOH4+bmxtKlS0sc6ObPn8/y5cvLPJEUFBSwefNmnJ2dy5z9ytnZmbvuugtFUVi7dm0F97Ds527//v22gFCe5278+PGYTCY+/PBDXF1dGTp0qG2Zg4MDv//+OwsXLiwR8uPi4oDCvnylSUlJYcWKFfzvf/8rdntqaioGg6FEn8ZrFV289sYbb5R68rh8+TIrVqygfv36N3XxyLBhw3B3d+f7778vdhIwm828++676PX6Egfm/v37ExYWxtGjR20X5kDhRToRERHs2LGD/v37V1pfvAYNGtC3b1/27dvHzp07bbcbjUbmz59fKY9RGkdHR0aNGsXFixdZtmxZsWUHDhzg/fff56effrK1JpalR48eBAQE8NtvvxU7KRuNRr755hvUajV33HEHPXr0oHHjxqxdu7ZEsFq8eDHLli0r9URdHqV9tsv67Pz666+27gBFn50xY8ag0+lYtGhRsWPzhQsXivV/LtrfW92PonPBu+++a+uvD4V9hz///HN0Ol2JayqqSsuWLTGbzcW+xGZmZvLdd9/d9DZ1Oh2jR48mOjq62HvLaDTy4Ycflns7Ra/htcf4+Ph42y/G1zv+HTt2jJUrVxabjwCwjRNe1nGtInQ6HWPGjCEyMrLY3AlWq5X58+eX6/xd3s9QRc+lRZ+Lq68XKLqoc+7cucVakXNzc3njjTdYsmSJ7dqhovfpggULiv1qEBoaWqK1e9y4cWi1WhYtWlTsPJKfn89bb71lW6e8iuqcN28eKpWq2K/add1t6wX+1ltvMWXKFJ577jkGDBhAmzZtiIyMZMeOHXh6evL666/frlJsg78vW7aMsWPH2kYG2b59OykpKTz22GPFugEUXdj4r3/9i759+9omAimNj48Pb731Fq+88gr3338/AwYMsB0YT5w4weHDh2nUqBHvvPNOpe+XTqdj5MiR/PDDDwAluioMHjyYDz/8kK+++opLly7RtGlToqKi2L59u60rS9FkOBXRvHlzOnXqxKFDh5g8eTJdu3YlIyODLVu2YDQacXZ2LtZ6VvR8bty4ERcXFyZMmECbNm145513eOmll5gwYQLDhg2jfv36HDx4kJMnT9KxY0dmzJhR6uNv3ryZvLw8Ro8eXWofsSL33HMPa9as4eeff7aN5Vleo0aNYtmyZbz55puEhYXh5+dHeHg4e/bswcvLi7S0tHI9d/369cPX15e4uDjuueeeEn3PXnjhBZ5++mkmTJjAyJEjqVevHqdOnSI0NJSePXuWGV6HDRtGly5dWLVqFefPn6dz587k5ubaJhq4UReonj17MmfOHN5//30eeOABunfvTvv27dHpdFy6dIldu3bh4ODA0qVLb+qLrpubG3PnzuX5559n0qRJDB8+HB8fH0JDQzl//jzdu3fnscceK3afgQMH2q4WvzZAL126lNzc3HKNvlER//73v3nggQd46qmnGDZsGA0aNGDv3r22MHe9CzlvxSuvvMLRo0d577332Lp1K506dSIpKYnNmzej1WqZO3fuDR+7aL0nnnii2HO8Y8cOLl++zKuvvmr77L333ns89thjTJ06laFDh9KkSRPb+6xx48a88MILN7UfRdtftWoVWVlZTJs2jbFjx/LHH38wa9Ys7r77btzc3Dh58iQHDx7Ex8en2GenUaNGPPvss3z44YeMGzeOoUOHotfr+fPPP22hpeh50Gg0t7wf48aNY9u2bfz555+MHTuWAQMG2MaBzsnJ4T//+Y9tjPCqdv/997Nt2zb++c9/MmbMGBwcHNi0aRPNmjUrV+tpWZ5//nn279/PvHnz2LNnD61atWL//v1kZmZe9/qFq3Xr1o1GjRrx22+/kZGRQdu2bUlISGDr1q04OjqiUqmue/x79NFH2bhxIy+99JJtn+Li4ti8eTN+fn5MnTr1pvfvav/85z9tcwds3bqV1q1bExYWxqVLl3Bycqq0z1BFz6VFn4svv/ySs2fPMmvWLHr37s20adNYsWIFd999NwMHDsTBwYEtW7aQkJDApEmTbCOcFE309sMPPzB+/Hj69+9PWloamzdvxt3dnYyMDFsLeJMmTXjllVd49913bedSFxcXdu3aRUxMDHfffXeJ+SKup3Xr1nTo0IHTp0/Tq1evCl2UXtvdlhZoKPx2/fPPP3P//fcTHh7O8uXLCQ8PZ9y4caxdu/a2/UxWZM6cOcyfP59GjRqxfv16Nm7cSIsWLfj0009LDO/z5JNPEhISwt69e8vVGnD33XezevVqxo4dy/nz51m5ciVr164lJyeHWbNmsXbt2lJH26gMRd8su3TpUuLK8gYNGrBs2TJ69+5NaGgo33//PZGRkUybNs020cbu3bsr3I1DrVbzxRdfcM899xAbG8uKFSs4dOgQAwYM4KeffqJv375cvnzZ1oLcqFEj20Uj3333na3F86677mLlypX07t2b3bt3s3LlSvLy8pg5cybffPNNmeG46MKGa1vcr9W1a1datGhBcnJysRbG8mjXrh2LFy+mQ4cObNmyhdWrV5Oamsqzzz7Lb7/9hlqtLtc2tVqt7Wr20loBhg4dytdff01wcDDbt29n+fLlJCYm8vTTT7N48eIyTwAODg589dVXPPbYY6Snp/Pdd9+xadMmQkJCWLFixXVHySny8MMP89NPP3HvvfeSnJzM6tWrWb58OREREUyaNIkNGzbQtWvXG26nLCNGjOD777+nb9++7N6929aiOHv2bL755psSwbxv377odDpUKlWxL7Tdu3dHq9WiVqtto79UlpYtW7Jq1SoGDhzIvn37WLNmDU2bNrVN9HC9yVpuhbe3N6tXr2bGjBkkJSXZPkNDhgxh9erVthPpjfTp04dVq1Zxxx13sHPnTr777jucnZ157733ig3t1b17d9asWcPIkSM5dOgQy5cvJz4+nmnTpvHjjz/eVDcdKGycmDJlCllZWXz33XdEREQwaNAgFixYQNOmTVm/fj2//PILBoOB//u//2Pp0qUAxT47jz/+OHPnzsXLy4uffvqJvXv38tBDD9lmp7v6NbjV/VCpVHz88ce89tpruLq6snbtWrZv307nzp355ptvSgwrWJUGDx7MBx98QNOmTfnll19sE1tc79qF8qhXrx6rVq1i0qRJhIeH8+OPP+Lr61vqZ64sLi4uLFu2jBEjRnD69GlWrlzJmTNnGDt2LOvWraNt27YcOnSozG5OjRs3ZtWqVYwaNYpTp06xbNkywsLCGDt2LKtXry736Fs34u3tzapVqxgzZgwnT57k+++/x8XFheXLl+Pq6lquz295PkMVPZeOGjWKu+66i5iYGL7//nvbL4qvvfYa77//PgEBAaxbt45ffvkFX19f5s6dW6JR8f/+7/9sQ1/+8MMPnDhxgpdffpl7770XKH4h4PTp01myZAkdOnRg8+bN/PLLL3h6evLOO+9U6JeHIkXDvEr3jeJUys10ehVC3LRJkyaRlJTEtm3bKjTsoahaVquVmJgYGjZsWOJCnZiYGIYNG8aDDz5Y6ggvonJkZGRgsVhKHUnhk08+4fPPP2fNmjWlDuclRHR0NP7+/iW+GBiNRrp27codd9zBkiVL7FTdzUtJSbENHXytV155hV9//ZW9e/eWOQLJrXrxxRfZunUre/bskdkHr3LbWqCFEIUTfxw9epR7771XwnM1o1KpGD9+PGPGjCkxtvHXX38NUO6WYHFzDhw4QN++fUuMxJSens4vv/xCvXr1bBdJCXGtmTNn0rdvX9uoPkW+/fZbTCZTjf38rlu3jl69etkm/ikSHR3NX3/9RevWrassPIeHh7N582aZursU0gItxG3w7rvvEhoaSkREBB4eHmzatOm2Do8lyue9997jf//7Hy1atGDAgAFoNBqOHDnCsWPH6NevH0uXLpUvPlUoLy+PMWPGkJCQwIABAwgMDCQrK4stW7aQkZHBvHnz5GdkUabvvvuOt956C39/f4YOHYqzszNnzpxh3759BAUFsWbNmnL3+65OEhMTGTNmDAUFBQwdOpRmzZqRkpLC5s2bMRqNLFmypMJDi97I0qVLWb9+PREREajVatatW1fpAx/UdBKghbgNlixZwhdffEGjRo14++23K23oNVG5rFYrP/30E2vWrCEyMhKz2Uzjxo0ZM2YMDz/88A3HaxW3Ljk5maVLl7Jjxw4SExNtExY98sgjNzVGvKhbNm/ezIoVK7hw4QL5+fkEBARw55138sQTT1z3IvPqLioqiq+++orQ0FBSUlLw8PCgW7duPPHEE8WGq60s69at480338TLy4tXX3212IhRopAEaCGEEEIIISpA+kALIYQQQghRARKghRBCCCGEqAAJ0EIIIYQQQlSABGghhBBCCCEqQAK0EEIIIYQQFSABWgghhBBCiAqQAC2EEEIIIUQFSIAWQgghhBCiAiRACyGEEEIIUQESoIUQQgghhKgACdBCCCGEEEJUgARoIYQQQgghKkACtBBCCCGEEBUgAVoIIYQQQogKkAAthBBCCCFEBUiAFkIIIYQQogIkQAshhBBCCFEBEqCFEEIIIYSoAAnQQgghhBBCVIAEaCGEEEIIISpAArQQQgghhBAVIAFaCCGEEEKICpAALYQQQgghRAVIgBZCCCGEEKICJEALIYQQQghRARKghRBCCCGEqAAJ0EIIIYQQQlSABGghhLCjpKQkpk2bRseOHenTpw8Gg6HEOnPmzGH48OG3raYhQ4bw73//+7Y9nhBC1DRaexcghBB12YoVKzhy5Ajz58/H398fR0fHEuvMnDmTvLw8O1QnhBCiNBKghRDCjjIzM6lfvz6jRo0qc52mTZvexoqEEELciHThEEIIOxkyZAhr1qwhPj6eoKAgpk2bRlBQED/++CODBg2iX79+HDp0qNQuHKtXr2bUqFEEBwczZMgQFi9ejKIotuVz5szhkUceYc2aNYwYMYLg4GDGjRvH7t27i23n3LlzPPzww3Tp0oXBgwezbt26EnX+/vvvjB07lk6dOnHHHXfw0ksvkZSUVDVPihBC1ADSAi2EEHby2Wef8emnn3Ly5Ek+++wzoqKiOHjwIAsWLOCtt94iLy+PTp06sXbt2mL3++qrr1iwYAEPPfQQ/fv35+TJk3zyySekp6czZ84c23rHjx8nISGB5557Djc3NxYuXMizzz7Lrl27cHd3JykpialTp9K8eXPmz59Pbm4uH3zwAWlpabZtHD58mNmzZzNz5kx69uxJQkIC8+fP56WXXmLFihW37bkSQojqRAK0EELYSfv27fH29sbBwYHOnTvbLiCcMmUKI0aMKPU+OTk5fPnll0yZMoVXX30VgH79+uHi4sJ7773H9OnTadiwoW3dX375hSZNmgDg4uLC1KlTOXDgAMOGDeObb77BYrGwZMkSvLy8AGjRogX333+/7fEOHz6Mk5MTjz/+OA4ODgB4enpy8uRJFEVBpVJVzZMjhBDVmHThEEKIaiYwMLDMZUePHqWgoIAhQ4ZgNpttf0OGDMFisRAaGmpb18/PzxaeAfz9/QEoKCgACsNx165dbeEZICQkxBbAAXr06EFBQQFjxozhww8/5NChQ/Tr149Zs2ZJeBZC1FnSAi2EENWMj49PmcsyMzMBmDFjRqnLk5OTbf/v7OxcbFlR4LVarQBkZWXRrFmzEtvw8/Oz/X+XLl1YvHgx33zzDcuWLWPx4sX4+vry5JNPMm3atPLtkBBC1DISoIUQogZxd3cHYMGCBcVal4vUr1+/3Nvy8vIq1t+5SFFIL9K/f3/69+9PQUEBoaGhLF++nHfeeYcuXboQHBxcsR0QQohaQLpwCCFEDRISEoJOpyM5OZmOHTva/sxmMwsWLCAlJaXc2+rduzeHDx8udp+LFy8SExNj+/f8+fOZOHEiiqLg7OzM4MGDeeWVVwBITEysvB0TQogaRFqghRCiBvH29mbGjBksWLCA3NxcunXrRnx8PAsWLMDd3Z02bdqUe1sPPfQQa9euZcaMGTzzzDO2EK7T6Wzr9OnTh6+//po5c+YwduxYTCYTS5cuxcvLi549e1bFLgohRLUnAVoIIWqY559/Hj8/P77//nsWLVqEp6cn/fv354UXXih1JsOyeHl5sWrVKt59911eeeUVXF1defTRR9mwYYNtnb59+/LRRx+xdOlS24WD3bp1Y/ny5Xh4eFTF7gkhRLWnUq4eeV8IIYQQQghxXdIHWgghhBBCiAqQAC2EEEIIIUQFSIAWQgghhBCiAiRACyGEEEIIUQESoIUQQgghhKgACdBCCCGEEEJUgARoIYQQQgghKkACtBBCCCGEEBUgAVoIIYQQQogKkAAthBBCCCFEBUiAFkIIIYQQogIkQAshhBBCCFEBEqCFEEIIIYSoAAnQQgghhBBCVIAEaCGEEEIIISpAa+8ChBDCnqyKgslkxWK1oigKCgAqVFeWq1SF/1KpQKUq/K9arUJRQFEUrIpi+3+l8M5XtnHl/hSur9Wo0GrUqFQqhBBC1GwSoIUQtY7JbMFotoICWq0arUaN3mimQG8mr8BETr6RrDwjmTl6MnMM5OSbyM03kltgwmC0YLZaMZsVzBbrNX8KZrMVi7UwIuuubPva/2q1KnQaDVqtCicHLS5OOtycdbi76PB0dyz8c3PE3dUBN2cHXJwKD8VGkwWrAlqNCkedRsK2EEJUUypFUZQbryaEENWH2WLFYLSgVqlwcFBjMFrIyDGQnJFPQkoe8al5pGTmk5JRQGpmAZm5Bqr7kc7ZUYufpzN+Xs7U93KhgY8Ljeu74+/tgnc9J1ycdJhMFixWBY2mMJgLIYSwDwnQQohqy2S2YDRZ0KjVaDRqUjLziUrI5kJMJtGJOcQm55KSkV/Y2lzLadQqfD0Lw3WTBm60auxJ68aeBPi6olGrMJmtaDVqHB009i5VCCFqPQnQQohqoajrhKNOQ1J6PpfisrgQk0lMUg4xSTkkZ+RX+1Zke6nn5kDTBh409XendWNPWjWuR4CvKwBWq4Kzo1a6gwghRCWSAC2EuO2KumA46DTk5BsJj0rnxMVUzkdncikuC7Ol9rco3w7+Pi4ENfWiQytfglv6EODrisFkQadR46CTlmohhLhZEqCFEFXOYLJgvXLhXURsJicupnIuKp0L0ZnkFpjsXF3dodOqadmoHkFNvegc6EdgUy+cHbWYLVZcnHT2Lk8IIWoMCdBCiEpnMlsxmS1oNWrOR2dw4HQix86nEJWYLd0wqhkvd0c6tfalZwd/ugTWR6dVgwq5SFEIIa5DArQQ4pZZLFb0RgsOOjXRiTkcOJ3I0fPJXIjOtA35JmqGRn5uhAT6cUdwAO2ae2OxWtFp1ei00uVDCCGKSIAWQtwUk9mC2aKgN5rZezyeg6cTOROZjsFksXdpopKo1SraNPakS5AffTo1pFF9NyyWwosShRCiLpMALYQoN73RjFqlIjWzgB1HYtl3Ip6oxBx7lyVuE083R3p28GdI9yYENvXEZJa+00KIukkCtBDiuvL1JnRaNZHx2Ww/HMOBU4mkZBbYuyxhZ86OWrq3a8CQ7o3p1NoPk8WKs4MWtVqGyxNC1H4SoIUQJRS1NF+MzWTT/ijCziTKaBmiTDqtms5t/BjYtTG9OvhjVRRpmRZC1GoSoIUQAJjNVsxWK+lZejbui2TH0Tgycwz2LkvUMFqNmp7tG3B3vxa0beaNVVFkRA8hRK0jAVqIOsxqLbwI0GJR2BoWzV8Ho4lOkj7NonLUc3NgYJfG3N23Bd71nNBq1Gg1anuXJYQQt0wCtBB1kN5gRqVScfB0IptCL3MqIhUZbU5UpWb+7ozo1YwhPZqgVqmki4cQokaTAC1EHWG1KhhMFnLyjfy8/QLbDsVSYDDbuyxRx6jVKroE+nHvkDYENvVCrVIVTt4ihBA1iARoIWo545VxmU9cTOWn7Rc4FZFm54qEKOTv48K4Aa0Y1rMpioKMLy2EqDEkQAtRS+XrTVgVhT/2RLJh32XSs/X2LkmIUjk6aBjUtTETh7ShnpsjjjqNDIcnhKjWJEALUYtYrQpGk4X41DzWbD3P/pMJMpW2qFHat/Bm4pA2hLTxAxU4yBTiQohqSAK0ELWAxWrFbLZyLiqDFRvPEh6VYe+ShLglPvWcuHdwG0b0agYUtlILIUR1IQFaiBrMbLFisSocOZvEd3+ek2m1Ra3j7qJjwqDWjO7XEhXgJP2khRDVgARoIWogo8mCAuw6GsuPf50nKT3f3iUJUaWcHbWM7teCewe3Qa1WyQWHQgi7kgAtRA1iMFpQUPhzfxRrt1+QmQJFneOo0zCidzMmDQ9Ep9VIkBZC2IUEaCFqAJPZgtWqsGFfJD9uuUBegcneJQlhV1qNisHdmjB9VHscHSRICyFuLwnQQlRjFosVs1Vh99E4Vmw8K0PRCXENrUbN3X2bM/nOtmjUarnYUAhxW0iAFqIasloVTGYLR8+n8L/1p0lIzbN3SUJUa86OWu4b2oax/VuiVqvQyfB3QogqJAFaiGpGbzQTEZvFkl9PEhGXZe9yhKhRPN0dmX5XOwZ0bYxWrUKjkWnChRCVTwK0ENVEgcFMSkY+i34+ycmIVHuXI0SNFuDryqNjg+nUxhcHrcxsKISoXBKghbAzg8mMyWRl8a8n2X441t7lCFGrtGniyTP3d8bfx1UuNBRCVBoJ0ELYidVqxWRW2HwgihUbz1JgMNu7JCFqJZUKhvZoyqNjg9Fq1TjqpH+0EOLWSIAWwg4KDGaiErP55MdjxCTJ7IFC3A6uzjoeHt2eQV2boNOqpVuHEOKmSYAW4jbSG80YTRY+X3ucfScS7F2OEHVSi4YePP9gV+nWIYS4aRKghbgNirpr/L7nEqv+CsdgtNi7JCHqNJUKhnRvwmPjOkq3DiFEhUmAFqKKFRjMJKTm8f6KQ8Sl5Nq7HCHEVVydtMwYG8zALo1wdJDWaCFE+UiAFqKKWCxWTBYrKzeeZd3uS8gnTYjqK7ilDy9P646rk05mMxRC3JAEaCGqQIHBTHRiDvNXHiIpPd/e5QghysHRQcMjYzowuHsTnKQ1WghxHRKghahEZosVs9nKst9Ps3H/ZWl1FqIG6tDSh9lTu+PqrJVuHUKIUkmAFqKS6A1mLsVn8cHKw6RkFti7HCHELXDUaZgxpgNDezSREC2EKEECtBC3yGK1YjRZWfLrSf46GG3vcoQQlah9C29mT+uOm7NOgrQQwkYCtBC3QG80k5yez9v/O0BimvR1FqI2ctRpeOreTvQNaSh9o4UQgARoIW6awWhm0/4ovvnjNGaLfIyEqO36dmrIc5O64KBVo9Go7V2OEMKOJEALUUFmsxW90cz7Kw5x9HyKvcsRQtxGDbxdeG1GL/x9XKQ1Wog6TAK0EBWgN5iJiMtk3reHyMw12LscIYQdaNQq/jG6PXfd0Vz6RQtRR0mAFqKcDEYLqzaf4+cdF2V4OiEEXQL9mD2tO04OWrRa6dIhRF0iAVqIGzCaLeTmm3jnfwe4EJNp73KEENWIp7sj/3qoBy0a1sPJUVqjhagrJEALcR16g5kLsZm8u+wgeQUme5cjhKiGVCqYMrIt4wa0kn7RQtQREqCFKIPBaGb97kus2HgWq3xKhBA30DvYnxcnd8NBp0GtVtm7HCFEFZIALcQ1rFYFg8nCh98d5sDpRHuXI4SoQZo2cOftJ/rg7qpDp9XYuxwhRBWRAC3EVYxmC9m5Rv7z1T5ik3PtXY4QogZyc9bx2oxetGok/aKFqK0kQAtxRdEQdW9/fYA8vdne5QghajC1WsUjYzswolcz6RctRC0kAVoICqfk3nwgiq9/OyX9nYUQlWZw18bMvC8ER50GlUr6RQtRW0iAFnWewWjhq19P8NeBaHuXIoSohVo1rsdbj/fB1UkrU4ALUUtIgBZ1WoHBzLxvwzgSnmzvUoQQtZifpzPznu6Hl7sjOp1cXChETScBWtRJFquVAr2Z177aR0Rslr3LEULUAW7OOt5+og9NGrjJFOBC1HASoEWdYzJbyMwx8OoXe0lKz7d3OUKIOkSnVfPqQz3o2MpXRugQogaTAC3qFIPJQlxyLq8t2ktOvswsKIS4/dQqeOreEAZ1bSwhWogaSgK0qDP0BjOnI9OYu+wgRrPV3uUIIeq4iUPa8MDwQBnmTogaSAK0qBP0BjM7j8TyxU/HZZg6IUS1MahrI2bd11n6RAtRw0iAFrWe3mDm9z2X+HbDWXuXIoQQJYS08eO1GT2lJVqIGkQCtKjV9EYzP++4yKo/w+1dihBClCm4pQ+vP9pb+kQLUUNIgBa1lt5o5se/wlm77aK9SxFCiBtq19ybNx+/A2cJ0UJUexKgRa2kN5pZufEsv+26ZO9ShBCi3AKbevHOk30kRAtRzUmAFrWOwWjm6/Wn2bjvsr1LEUKICmvd2JN3nyoM0SqVyt7lCCFKIQFa1CoGo5mvfjnJXwej7V2KEELctBYNPfjvzH64OEmIFqI6kgAtag2D0czna46z/UisvUsRQohb1tTfnfdm9cPFUYdaLSFaiOpEbe8ChKgMBqOZL9ZKeBZC1B7RiTm8/Mlu8g0mpK1LiOpFArSo8fRGM9/+cYZthyU8CyFql9jkXF79fC8FBrO9SxFCXEUCtKjR9AYzP2+/yPo9kfYuRQghqsTlhGz+76v96CVEC1FtSIAWNZbeYOavg9Gs2iyTpAgharfw6Aze/t8B9EYJ0UJUBxKgRY2kN5jZfyqBxb+etHcpQghxW5y4mMr8lYcxSIgWwu4kQIsax2A0c+JiKh+vOmLvUoQQ4rY6eDqRRb+clJZoIexMArSoUQxGCxdiMvnvtwexykXpQog6aMvBaH7867z0iRbCjiRAixrDbLYSn5rLG0tCMVskPQsh6q612y6w+UCUhGgh7EQCtKgRrFaFnHwj//lqHwaTxd7lCCGE3S357RTHLqRIn2gh7EACtKgRDCYL/160j6xco71LEUKIamP+ikMkpOZhNlvtXYoQdYoEaFHtGYxm3l12kJikHHuXIoQQ1YrRbOU/X+0nt0BmKxTidpIALao1vdHM0t9OcfxCir1LEUKIaikz18Bri/aiN0r3NiFuFwnQotrSG81sPhDFptAoe5cihBDVWlRiDu8tD5P+0ELcJipFfvMR1ZDBZOF0RCpvLg2V4epEtWDITiBq9yd4tx6Mb9AI2+36zFhSz22kIOMyKpUaZ++W+LW/Gwe3+rZ1rGYDicdWk5d8Dp2rLw06jsfZu0Wx7Wde3k/GpV00H/wyKpW0bYibM25AS6aObIeTo9bepQhRq8lRWlQ7ZouV5PR85n4bJuFZVAuK1ULisR9BKf4TuTE3mZj9izBkJ+DTZhjerYegz4wmZt+XmPVZtvXSL24jP/UCvm3vROfiSVzYN1hMBbblVouZ9Ivb8AkcJuFZ3JLfdl1i97E4mWhFiComR2pR7eiNZl5btA+D9OcT1UT6xe0Yc5NK3J4RuQfFYqRRr0fwbj0Y79aDadRzBhZjHhmXdtvWy4k/Tr1md+DVcgABXR7EajaSl3zOtjwr+gAqjQ73Rl1uy/6I2u2ztceJiM3CJEN+ClFlJECLaqVoxI30bL29SxECKOy6kX5xK95thpVYZspPR+PgilO9RrbbnDyboNa5YMhJtN1m1mejc/ECQK11QuPggrmgsIXaajGRfnE7Pm2k9VlUDqtV4Z3/HSBPb7J3KULUWnK0FtWG3mDmxy3nORWRZu9ShACudN04vhoX3zZ4lNI6rHPxxWLMx2zItd1mMeZjNevROnrYbtM4uGI1F34pVBQrVrMejYMrAFlRoWh0Trg36ly1OyPqlNwCE28uPSBdOYSoIhKgRbVgNFk4czmdNVsv2LsUIWzSI3Zgykujfsd7Sl3u3XogWud6JB79HkN2AobsBBKOfo9KpcGzRV/bes7eLciOOYQhJ4mMS7tRrBacfVoUtj5H7MC7zVBpfRaV7mJsJsvWn5bpvoWoAnLEFnZXNE33e8vD7F2KEDaGnETSL2zBt93d6Jw9S11H5+yFd+sh5KddImrXAqJ2LSA/9SIBXR8s1q3Dt+1IFKuFqJ0fknp2A37t7sbB1ZfMy/vQ6Fxwbxhym/ZK1DUb9l3mSHgyBukPLUSlknFuhN0ZzRbeWBJKvl5aSUT1oChWEo+twcmrBZ7NepW5Xmr4n6Rf2Iqzd0vqNesFipXMqFDiD39Hw+7TcGvQHgCdizfNB72IITsRrVM9tE7uWM1GMiJ2UD94PCqVmuzYw6Rd2IZiNeHRuLuMyCEqzUerjvD5S4Px83JBrVbZuxwhagU5Ogu70hvMfLn2OJcTsu1dihA2GRE7MebE49fuLizGvMK/K8POKRbTldvyyYjYiWO9xjS+43E8GnXBo3E3mtzxJI7u9Uk6sRar5e8vhSq1FifPxmid3AHIvLwXjaMbbgGdMOQkknhsNV4t+tKg471kXt5LVrT8IiMqh8Fo4Y2loRilFVqISiMt0MJu9EYze47Hs+1wrL1LEaKYvORwFKuF6D2flliWcWknGZd20rTfMyhWMx6NOhdrKVapNbg36kLq2Q2Y8pJx9GhYYhtWs4GMS7uoHzwBlUpFTvwJdC7eeDbvA4B7QCdy4o9ft/VbiIqITc5l4eqjPPdAF5wc5NQvxK2ST5GwC6tVIT1Lz+drj9u7FCFK8Gs/uthEJwAWQw6Jx37AvVFXPBp3Q6UuPHwqirXkBq5M8FrWRK8ZkXvROLrjFtCxcNvGXDSObrblGgcXLOmRlbErQtjsORZPp1a+DO7eREK0ELdIPkHCLoxmC+8uO4jZUkr4EMLOnDwbl7jNlJ8OFPZndvVrg6JY0Th6kB1zGM/mfVFrdEDhuM7ZsYfROLji6O5fYjsWk56MS7to0OleVKrC/qhaR3fyCs6iKAoqlQpTfjpaJ48S9xXiVi3+9RSdA+vTwFsj/aGFuAXSB1rcdnqDme82niU6KcfepQhx01QqNfWDx2PMTSZ6z6dkXNpDxqVdRO/5BGNuCn7tx6BSa0rcLzNyNzrnerj5B9tuc/MPxqzPJunEWtIubCU38ZSMzCGqhNli5d1lBzCZpT+0ELdCArS4rcwWK5fis/ht9yV7lyLELXMPCKZx78fQ6FxIDd9IavifaHTONOo5A4/GXUusbzEVkBG5B5/A4bbWZwBHjwAahEwkP/UimZF78Go5EI8mPW7nrog6JCoxh+83h8v40ELcApVSVic9IapAvt7EU+9tk6m6hRDCjlQq+ODZAbRqVA+NRtrShKgo+dSI20ZvMLPwx6MSnoUQws4UBeYtD8NolutQhLgZEqDFbWEwWQg7m8S+Ewn2LkUIIQSQklHAlz8dl64cQtwECdDitijQm/h09TF7lyGEEOIq2w/HcjIiFZNMsiJEhUiAFlXOYDQzb/khCqSVQwghqp0Fq46glwAtRIVIgBZVymCysPtYPKcvpdm7FCGEEKXIyTex4Psj0pVDiAqQAC2qlNFkYclvJ+1dhhBCiOsIO5vEyYhUzHJRoRDlIgFaVBm9wcynq4+Rr5dWDSGEqO4+XX0Mk8wOK0S5SIAWVcJssXLmcjr7T8qoG0IIURNk5Bj45vfTcr2KEOUgAVpUCZPZysIfjtq7DCGEEBWwcf9lEtPysFpljjUhrkcCtKh0BQYz3/5xRiZMEUKIGkZR4IPvDmOSvtBCXJcEaFGprFaFxLQ8NuyLtHcpQgghbkJ0Yg5/7L2E3ihdOYQoiwRoUalMZisfrDyMIr/+CSFEjfXdpnNyAbgQ1yEBWlQag9HMn6GXiU7KsXcpQgghboHRbOWj749IK7QQZZAALSqN2aLw3Z/n7F2GEEKISnD8QgqnL6VhkaHthChBArSoFAUGM9/8flp+8hNCiFrkq59PYpYROYQoQQK0qBSZOQY2H4iydxlCCCEqUUJaHptDozAYLfYuRYhqRQK0uGV6Y+GMg9JIIYQQtc93m85isUo3DiGuJgFa3BKLxcrZyHRORqTauxQhhBBVIE9vZsXGszJDoRBXkQAtbonZovDlTyfsXYYQQogqtGHfZXLyjfYuQ4hqQwK0uGkGo5lNoZdJSMuzdylCCCGqkNWq8MXa4+ilFVoIQAK0uAVmq8L3MmydEELUCYfPJXMpPgur9IcWQgK0uDl6g5kfNofLsHVCCFGHfL72OCaLXDEuhARocVPMFisb9kbauwwhhBC3UXRiDofPJsnkKqLOkwAtKqzAYOa7P89hNMsBVAgh6ppv/zgjk6uIOk8CtKgwk9nCpv0yaYoQQtRF8al5hJ1OxCyt0KIOkwAtKqTAYGbFhrNy4BRCiDps+YazWKQVWtRhEqBFheiNZv46GG3vMoQQQthRQloeB04lSGOKqLMkQItyKzCY+faPM9LqIIQQguUbzmKV84GooyRAi3LLKzCx/XCsvcsQQghRDSSl57P3RLy0Qos6SQK0KJcCg4lv/jgjrQ1CCCFsVm6UvtCibpIALcrFYLSy+1icvcsQQghRjSRnFLD3eJy0Qos6RwK0uCG9wcyareel9VkIIUQJP/x1XlqhRZ0jAVrckAJsPiDjPgshhCgpITWPs5FpKIqEaFF3SIAW12U0Wdi4LxK90WLvUoQQQlRTP/x1Xs4Tok6RAC2uSwF+3Rlh7zKEEEJUY6cvpZGaWWDvMoS4bSRAizJZLFZCTyaQkWOwdylCCCGquVWbwynQm+1dhhC3hQRoUSazReHHLeftXYYQQogaYN+JeEwW6cYh6gYJ0KJUiqJwPjqDmKQce5cihBCiBrBYFX7adhG9UVqhRe0nAVqUSm+0sGpzuL3LEEIIUYNsCr2Myt5FCHEbSIAWpcrOM3IyItXeZQghhKhB8vVmthyMxmSWrhyidpMALUrQG8z8tvOivcsQQghRA/22+xJWmZhQ1HISoEUJarWKbYdj7V2GEEKIGighNY9ouX5G1HISoEUxVqvCwdOJ5BWY7F2KEEKIGuq3nRcp0Mt5RNReEqBFMQaThXW7L9m7DCGEEDXYvpMJoJLLCUXtJQFaFJOTb+Ts5XR7lyGEEKIGM5mt7Dgcg9kinaFF7SQBWtgUXjwo03YLIYS4db/vjZQALWotCdDCRq1Wse1QjL3LEEIIUQtEJ+aQlJ5v7zKEqBISoAVQePHgobNJ5MrFg0IIISrJrzsj5GJCUStJgBYA6I1m1u+RiweFEEJUnj3H4lCr5WJCUftIgBYAWKwKpy+l2bsMIYQQtYjeaGH/yQSsVsXepQhRqSRACywWKzsOx6LI8U0IIUQl2xIWg95otncZQlQqCdACo9nK9sNy8aAQQojKdzIi1d4lCFHpJEAL9AYzF2Iy7V2GEEKIWshqVdh7PB6rVYa0E7WHBOg6zmS2sFWGrhNCCFGFth2KQW+02LsMISqNBOg6zmJVpPuGEEKIKnUmMg2rXGgjahEJ0HVcVq6R6MQce5chhBCiFrMqsPtoHBaZmVDUEhKg6zCjycKWg1H2LkMIIUQdsO1wDEaTBGhRO0iArsMUBXYcibV3GUIIIeqA8KgMTNICLWoJCdB1WEaOnsS0fHuXIYQQog5QFNh5JFa6cYhaQQJ0HWW2WNl7It7eZQghhKhD9hyPQ2+S0ThEzScBuo4ymiyEnkqwdxlCCCHqkHNRGWjUKnuXIcQtkwBdR6lUKs5HZdi7DCGEEHWI1apw8qLMTChqPgnQddSx88lYZUhOIYQQt9nuY/Hk6032LkOIWyIBug7K15vYc1z6PwshhLj9joQnodNK/BA1m7yD6yCdVsORc8n2LkMIIUQdlJVrlBGgRI0nAboOiknKIbdAfj4TQghhH3uOx2M2y3B2ouaSAF3HGE0Wdh+Ls3cZQggh6rCwM4kYzTKcnai5JEDXMRarQtiZRHuXIYQQog67GJtp7xKEuCUSoOsYRVGISsyxdxlCCCHqMEWBo+dT7F2GEDdNAnQdc+6yjP0shBDC/g6fTaLAYLZ3GULcFAnQdYjBaObQ2SR7lyGEEEJw6lIaKpmUUNRQEqDrEItV4WSEzAAlhBDC/hJS87BYZEYvUTNJgK5DNGoV0YnZ9i5DCCGEAOBcVLq9SxDipkiArkPOx2TK9N1CCCGqjcNnkzEYZTg7UfNIgK4jjCaLDF8nhBCiWjl1KRWLVSZUETWPBOg6wmyxcioizd5lCCGEEDZRCdloNBJFRM0j79o6QqtRExGXZe8yhBBCCBurAhEyqYqogSRA1xGR8VlYpQO0EEKIaubQ2SRMMq23qGEkQNcBVqvCSem+IYQQoho6fSkNo0n6QYuaRQJ0HVBgNHMhRmYgFEIIUf1Exmfj6KCxdxlCVIgE6DpAo1IRESv9n4UQQlQ/BQYz2XlGe5chRIVIgK4DVCoVSen59i5DCCGEKFWkXOQuahgJ0HVATFKOvUsQQgghynQ6Mg2zWfpBi5pDAnQtZ7UqnL0sFxAKIYSoviJiszCYZCQOUXNIgK7l9EYz4dGZ9i5DCCGEKNOluCx0WokkouaQd2stp0Ilg9QLIYSo1jJzDZikC4eoQSRA13JarYr4lFx7lyGEEEJcV1Ritr1LEKLcJEDXcgmp+cgEhEIIIaq7M5HpMmOuqDEkQNdykQkyNJAQQojqLyI2E73RbO8yhCgXCdC1mMlskQlUhBBC1AjxqXko0gAtaggJ0LWY0WQlTvo/CyGEqAESUvNkSm9RY0iArsXUahVxyRKghRBCVH8FBrOMBS1qDK29CxBVxwET7z3RjaQsM9HJeVyMzeLUpVSiEmRmQiGEENVPSkY+rgH17F2GEDckAbo2s5jQb/8aX5+GNKzfnP79GqG7uw1otJgNBnL1JhIzzUQl53EhJoPTEWnEp+bZu2ohhBB1VExSLs0lQIsaQAJ0LWbKSCTv7L4St6udXNF5B6DzCiDApxHNGjRnaGBDtBPag0qFyWAgJ99MfJaJqMRcLkRncOJiKmlZejvshRBCiLricnwWfToGoNFID1NRvUmArsWMqbGl3m7V52GIv4gh/mKJZWoXj8Jw7d2QJj4NaRXQgjs7NEbn3glFsWI0GMjKtxCfbiQyMZvzURmcjEgjO89Y1bsjhBCilotPzUNvsuAqAVpUcxKgaynFbMaUElPh+1nzszHkZ2OIDS+xTOPmhc67ITrvAFr4NiaoWTPGdGmJ1q0rVosZo8FIRp6Z2DQjUYnZnL2czqmINAoMMq6nEEKIG4tPzQMZyk7UABKgaymr2YApM7FSt2nJzcCSm4E++nTxBSo1WncfdD4BOHgHEOTbhI5tmjGhZyAal3pYzUb0BiPpuRZi0/Rcisvm3OU0zkSmYzRbK7VGIYQQNVdCah6OOhnKTlR/EqBrKZVKhTkj6fY8mGLFnJ2COTuFgsgTxZepNWjr+aHzDsDZuyEd/JrQObgpuv7BaJzdsBgN6PUmUnMtRKcWEBmXyZnIdM5HpSPZWggh6pYCgxmj2YJWK104RPUmAbqWUmkdMGWl2LsMsFowZyRizkikIOJo8WUaLTrPBui8A3D3DqBL/eb07NoE3eDOqB1dMBv1FOhNJOdYiEnOJyI2i9ORqUTEZclsVUIIUUtl5xlxcdLZuwwhrksCdG2lUqEY8u1dxfVZzJjS4jClxZVYpNI62EYK8fIOoEGD5vS5ozHakS1R6xwwG/Tk6c0kZV8Z4zomk1MRaUQnyRjXQghRk2XmGPD3cbV3GUJclwToWspa3cPzDShmI8bkKIzJUSWWqRycr4wUEoCfd0MaNWjOgAGN0Y0JArUGs8FAjt5MYqaJ6KRczkdncjIilaT0mv2cCCFEXZCaVWDvEoS4IQnQtZRVX3snRFGMBRgTL2FMvFRimdrJzTYMX0OfhjSv35yhQQ3RTuwACpgMBrILzMRnmIhKyuF8dAYnLqSSkWOww54IIYS4VrI0dogaQAJ0LWXJz7Z3CXZh1ediiL+AIf5CiWUa13povQpbrpv6NqZ1w+bcFdwErUcIiqVwjOvMAgtxV4bhOxeVwamIVHLyTXbYEyGEqJtSs/QYTRYcZDQOUY1JgK6lLLkZ9i6h2rHkZWHJy8IQe+6aJSo07n+Pcd3KtzHtWjRjTNe/x7g26I1k5puJSTNwOT6bc1HpnIpIR2+UMa6FEKIyZeToMVusEqBFtSYBupYy56TZu4QaRMGSk44lJx191Knii1RqtB4+6Lwb4uAdQFvfJnRq24x7e7dF4+qBxWTEoDeSlmchJlVPZFwWZy+nc+ZyOmYZh08IISosM9uAVYZaEtWcBOhaSLFaMGen27uM2kGxYs5KwZyVQkHk8eLL1Bq09eqj8wnAxSuAjvWb0a1TE7QDOqJxdsViNFCgN5GaYyYmtYCI2CzOXE7jfHQGVsnWQghRqowcA2qVyt5lCHFdEqBrIcVswlpH+0DfVlYL5owEzBkJXHvNuEqjQ+tVOMa1h3dDutRvRs/uTdAN64rawRmzUU++3kRytoWYlDwuxmZyOiKdS/FZdtkVIYSoLtKz9ei00n1DVG8SoGshxWrBki9BzJ4UiwlTaiym1NgSy1Q6R3Re/ui8A/Dxboh/g+b07dMY7V2tUWsdMBn05BWYSMqyEJ2Sy4WYLE5FpBKbnGuHPRFCiNurwGBGGqBFdScBupay5EmArq4Uk6HsMa4dXWwTyNT3aUjjBs0Z1KoR2rGFY1ybDHpyC8zEZ5qJTsrlQnQGJyNSSc6QcVOFELWH0WRBq5HpvEX1JQG6FlKp1XV2GLuaTjHkY0yIwJgQUWKZ2tnNNlJIY59GtKzfnOHtGqL16AiKFaPBSE6Bmbh0I1GJOYRHZ3LyYgqZuUY77IkQQtw8g8ki03mLak0CdC2k0ugkQNdC1oJcDHHnMcSdL7FM4+ppm0CmuW8j2jRpzqiQpmjdO2O1mDEajGTlW4hNNxYOwxedzumLqeTqZRg+IUT1YzRa7F2CENclAbo2UqlQjPKTfl1iycvEkpeJPubsNUtUaNy9bVOft/FrQvvWzRjXozVa1+5YzUYMBiPpeRZi0wxcjs/i7OUMzkSmojfKUCFCCPvQS4AW1ZwE6FpIscqBRxRRsOSkYclJK32M63p+6LwDcPIOoJ1fU0LaNWVin3ZoXNyxGA0YDCZScy3EpBYQGZfNmcg0zkVnyBjXQogqVWCQX8dE9SYBujaSQYZFeShWzJlJmDOTKLh0rPgytRadZ3103gG4eQfQya8p3Ts3RTuoExonVywGPQUGMyk5ZqJTCoiIy+TspXQuxMoY10KIWycBWlR3EqBrIWmBFrfMasaUHo8pPb7EIpXWAa1nA3Q+AdTzCqBb/eb07tEE3fAWqHWOmI0G8vUmkrLNxCTnczEmk1OX0ricIP3yhRDlk6832bsEIa5LAnRtJAFaVCHFbMSUGoMpNabEMpXOCZ23PzqvAHx9GtKwfnP69WuM7u42qLS6K2Ncm0nIMhOTnMv56AxOXUojPiXPDnsihKiu8gqkBVpUbxKgayFpgRb2opj0GJMuY0y6XGKZ+soY11rvAAJ8GtGsQXMGt26EdkJ7UKkwGYzkFJiIzzQRnZjL+ehMTkakkJqpv/07IoSwq9wCGX5TVG8SoGsjCdCiGrIa8jEkRGBIiODa9ma1iwc6r8KRQpr4NKKVf3NGdGiIzr0jypUxrrPzC8e4vpyYw/krE8hkyRjXQtRKeXozVquCWi1TEorqSQJ0LaRYJECLmsWan40hPxtDXHiJZRo3T9sEMi18GhPUrBmjuzRH69bFNsZ1Zp65cIzrhGzCL2dw8lIq+TLGtRA1ltlixaooqJEALaonCdC1kGKV4CBqD0tuJpbcTPTRZ65ZokLj4WObQCbQrwnBrZsyoWcbNC6FY1zrDSYycs3EpOmJjM/m7OV0zlxKwyjD8AlRrSmKgqLYuwohyiYBujaSFmhRJyhYslOxZKeiv3yy+KJiY1w3pH39pnTu0JT7+7a3jXGtN5hIyzUTnaInMi6LM5FphEelI9laXCvx+FpMeak06fOk7Tar2UDisdXkJZ9D5+pLg47jcfZuUex+mZf3k3FpF80Hv4xKpb7dZddohcNhSoIW1ZcE6FpIsUgLtKjjrjfGtUaLzrNB4RjXXgF0btCMHl2aohvcGbWTCxaDnnx94RjXMSn5XIwtDNcRcZkyxnUdlBV9kOyYgzh7tyx2e/rFbeSnXsC37Z3kp0UQF/YNLYbMQaNzBsBqMZN+cRu+bUdKeL4JiqJIfBbVmgToWkixyPiZQpTJYsaUFocpLa7EIpXWAa2XPzrvADy9A6hfvzm9ezdBd+eVMa4NevL0ZiwqHQ4OOnLyjeiNZswWBZPZitUqp/zawmKx8POP37L65E8AtGhUj7ee6mtb/vQjHzNuwkSm/OMpCvLzePjBUYzuZKX/oMJ1NqxbQ76PBwveehqNRmOXfajJfOo5SQO0qNYkQNdCMoydEDdHMRsxpURjSokusUzl4GQbKcTr7lmoUeHi7gg4oVIBGjVqbektjRaDGUueCUu+EXO+CUueEYveLAGhmjKYjDz29jNcjLnEXX2Gc+jsURyNFhom59vWyUhNoY2L75XbVHi6eWC6HEfD5HwMJiPrflzB0/c/RpM0g/12pAZz0qjRejnbuwwhyiQBujaSLhxCVDrFqMeYFIkxKRL3nnfj6Nsci9GIyWjB2dsTFQoFeXlotBocHJ0AMBkMGA0FWExm1CoNunqOOPs4o9ZpUKnVWI0WLHoTlnwT5lwj5mwD5lwjlnwjljzT32G7wCRh+zbKNeSTk5HNK0OepH+rHsw4cQRTtoH0fX9/sXJ3dCPlbBzpDtFYFSs5ublok8yk74vmt5N/4YQD3aytit1HlJ9n14Y4N/G0dxlClEkCdG2kkZdViKqkjzhKqps7vlp3ssMOEv7HBpr9YzpuHTqSn2fmyP4IzBaFgMYe+Pg54uLmhlqtJj05gYSo8yRFXyItKRa1WouXnz8e3n64e/rgVs8LF/96uDr74uDghEarQ63VoNKosZosWPVmW6guDNsGzHmFAdySd6V1O98E0pXklrg4OLH4gblo1GV3vQj2D2TL+T30aNqJQzEnMVssBPsHYjAbWXt8I4/2fgC19H2+eTJ6najmJGnVQmqdo71LEKJWyz6+nUb97uOFTW/x4eBXMKSmcu7tuQAEjLmb4NFjcPTxJuJcMr+tOk3UpXS8/Vxo36khTVuG0LNtT1xcHFFr/g7VcZfOkRx3mcy0JK4dv0ut1eLl0wBPvwDq+dTH3dMXt3qeuPp54uLsbQvbGq0GlVaDYrYWtmwXXGnZzjFizjFc042k8P8Vi4Tta6lV6hsGuGndJ/CfjR8xc+1/UKtUPNLrARrWa8DPJzbh7uhK/1Y9bk+xtZVKVdg1SogKCAoK4rnnnmPmzJlV/lgSoGshlQRoIaqUNScNo0mPh6Mb/7fnE96573mM6emkbNtBwvo/SFj/B04BDWj20EM88HA3jEYrB/dc5siBaPZsvWjbjrefC+06BtCsVaerQrWGjJQEEi6fJzEmojBUpyaRlhRHWlLJCx9LUKup5+WHd/0APHwa4OHli1s9L1ybeuLsUg8HB2e0OgfUWg1qrQbFYi3so13Uip1zpXX7SjcSS77J9v+KjPFn4+/hxxcT3yYqPRYfVy+8XOqhNxn46fgmnuwzBbVKzbYL+1h99A8MFiPDAvvxYNcx0ipdXhKexU348ccfCQgIuC2PJQG6FlJpHexdghC1X1YK7f3a8Nu5zcw/8DWzn3gMU2YWmUeOAqBPSCJ83vsANLhzOL3GjWfQnYFEXkjlwO5ILl1IJT0ln73bIti7LcK2WW9fF9p1CqBZy470bNujeKiOOk9i9N+hutSZJqxWstKSyEpLKtduuHv64FW/IZ6+RWHbG5fGnri4eOBoC9ta1Do1ihWsV8K2Of/vsG3rPpJnLFyWZ0Ix1f6LmXUaLa39mtv+/fvprdRzdqdfy+5EpcexYMf/eKLPZAI86jN/+1f4uHoysu1A+xVcg6g0apBpvEUFde7c+bY9lgToWkil1dm7BCFqPVPkSbq07MBv5zZzNPEUS06u5bFXXuLUa6+Te+FisXWT/vyLpD//wsHHh2b/mMbEqT2wWFWE7S1slc7N/nukhvTUkqHay+dKqG7VkZ6BPXB2dUCj0V4J1RdIjI4gJe4ymamJKBWcvi0nM42czDSiz5+84bouHp54+xWFbT/cPL1x9ffExdUDNwcXtDoHNDotam1h32GLwYyloLC7iDnXiOlK2P47cBd2I7Eaan7YLjDp+fnkn8zsOw2VSsWeyEP4e/gxusMQAPq16MGuiIMSoMtJrVOjquI+HKtXr+abb74hOjqa+vXrM2nSJB577DFUKhVz5swhIyODAQMG8PXXX5OWlkb37t2ZN28eO3fuZNGiRaSlpRESEsI777xD48aNy7VdgDlz5pCcnEyjRo3YsGEDbdq0YdWqVeTm5jJ37ly2bduG2Wxm1KhReHl58fvvv7Nt27YKbT8lJYWRI0eyZMkS4uPjadWqFS+99BL9+/e3befSpUt8+OGHHDx4EJVKRffu3ZkzZw5NmzblnnvuwcXFhZUrVxZ7zu6//378/f355JNPSn1OrVYrCxcuZP369SQnJ1O/fn1Gjx7NM888g05XmE30ej0LFy7kjz/+ICMjg1atWvHMM88wdOhQ23aGDBnCiBEjOH36NKdPn+a+++5j9erVTJ06lRdffNG2nl6v54477uDhhx/m2WefLdGFIzk5mQ8++IBdu3ZhNBrp2LEjs2fPpkOHDrZ6Fy9ezNq1a0lMTKRx48Y88sgj3HfffTd8/0iAroVUGgnQQlS1nBPbadX9TlSoUFDYdmkvvi5ejH/z/zj+0ivo4xNK3MeYlsaFDz8GwHfgALpNnEi/oUOIjkznwK5ILoanoJRyAWBGWj77tkewb/vfodrT24X2IQE0axVMz8DuhaFaqyUzJfFKqL5IcuzNheqy5Gdnkp+dSWzEtdOql+Tk4oZ3/UZ4+jUovEiyng+ufvVwaeaJq5MPOp0D6qKLJNVgNVgK+2znmbDkGTBlG7HkGkt0JbEWVM9Rhtaf2oq3iyd9W3QDILMgG09nD9tydydX0hOz7FVejaN2qNqxs7/66isWLFjAQw89RP/+/Tl58iSffPIJ6enpzJkzB4CwsDBSUlL4z3/+Q3p6Om+88QbTpk3D0dGROXPmkJmZybvvvss777zDokWLyr1dgAMHDtC7d28+++wz9Ho9KpWKmTNncv78eV566SV8fHxYsmQJp06dws/Pr0J1Axw/fpyEhASee+453NzcWLhwIc8++yy7du3C3d2dpKQkHnjgAQICAnjrrbdwdHTk448/5h//+Ae///479957L2+//TaxsbG2LweRkZEcP378uv2LlyxZwqpVq5gzZw6NGzfm+PHjLFiwAAcHB2bNmoWiKMyaNYujR4/y7LPP0qJFCzZu3MjTTz/NZ599xrBhw2zbWrFiBdOnT+fxxx+nXr16ZGZmsmHDhmIBevv27eTn5zN27NgSteTl5fHggw+iKApz5szBx8eHxYsX8/DDD7Nu3Tr8/f154403+Pnnn3nqqacICQlh7969/Oc//0Gv1zNt2rTrvockQNdC0gItRNUzpURjtVpoXC+AmKx4AFaf+h1fZ2/6zH2bY8+/hCkjs8z7p+7cRerOXWjr1aP5Q9MY/0BvUGs4tD+KI6HRZGUUXPfxM9NLD9XtOvnTvHUHegztVnqojosiMyWh0kJ1WfT5ucRfDif+cvgN13VwcsG7qBvJlRFJXL08cW3siYeTF1qdo61lu3D4PzOWAnPhBZG5Jsw5esy5V3chKfzv7Rr+L99YwC8n/+SZ/g/ZWgG9XeoRFn0cRVFQqVQk5aTi4+JZ9cXUElUZoHNycvjyyy+ZMmUKr776KgD9+vXDxcWF9957j+nTpwOFAWzhwoU0adIEgL/++ovt27ezZcsW221nz57l999/L/d2GzZsCIDZbObNN9+0hdP9+/dz8OBBvvrqKwYNGgRA7969i7XKVmT7OTk5/PLLL7Y6XVxcmDp1KgcOHGDYsGF88803mM1mvvnmG7y9vQFo0aIFM2bM4MyZM4wZM4b33nuP9evX89RTTwHw66+/4ufnV6wV+1oHDx4kODiYe+65B4CePXvi7OyMu7s7APv27WP37t188skn3HnnnQAMGDCA7Oxs5s+fXyxA+/v7M3v2bNtnKjc3l19//ZXjx48TEhICwIYNGwgJCaF58+Ylavnll1+Ii4tj3bp1BAYGAoVdPCZMmMCRI0do164dq1evZvbs2cyYMcP2fFosFhYuXMjEiRNxdi57LHIJ0LWQSi0vqxC3gyUng3Z+rW0BGuCLsOX49n+GjnPf5viLr2DJz7/OFsCclcXFTz4DPsP7jt6EPPAAvQcOIiEmk9BdkZw/nVTuGQ4z0/PZv+MS+3dcst1Wz8uZ9iH+NGvVge5Du+FSLFRfJDH6Iilxl8m4DaG6LEZ9PonRhbXciNbBAS+/hnj5+l8ZkcQHVw9PXAM8cXPyQ+fgWGL4P4u+MGxbck2YcgxYcgwl+mxbCm5++L/fTv2Fr6s3dzTvarvtjuZd+f7wOj7Z9Q3+Hn7sizzCU32n3NT266KqDNBHjx6loKCAIUOGYDb//YvGkCFDmDt3LqGhoQD4+PjYAmjRv729vYvd5unpSU5OTrm3WxQsXVxcinX7CA0NxdHRkYED/+7i4+LiwqBBgzhw4ECFt+/n51esTn9/fwAKCgq/mB8+fJiuXbvawjMUBujt27fb/j18+HDWrVvHU089haIorFu3jjFjxqDRaLBarVitxS8q1mq19OrViw8//JDJkyczZMgQBg0axNSpU23r7N+/H41Gw4ABA0rsw5YtW4q1eLdp06ZYN57evXvToEED/vjjD0JCQsjNzWXnzp3Mnj2b0hw+fJhmzZrZwjOAu7s7W7ZsAWDVqlUoisLgwYNL1PLtt99y4sQJevXqVeq2QQJ07aRWg0oNilwxL0RVssaco7N/BzZf3FXs9rd2f8pHw/5Fhzf/j5OvvoZiLl+3g/T9oaTvD0Xr5krTaVMZPaEv6gdCOHogmkP7oshIu34YL01WRgH7d0Syf0ek7bZ6Xs5XWqrb0X1oV1xcHdBqtWSkJhW2VEfZP1SXxWw0khJ3mZS4yzdcV63V4uUbgJef/9/D/3l44mIb/s8ZjU6LRqtFpVGjmK3s2r6DRUsWc+b8WdSo6NCyLWa1FY2TFscGbuRmZvPBhkUcijpJQL36/KPnRH49+Rf/HPiw7WS/4cx2fjm5mVn9H+LHo+s5GH2cezvdyfCgflX87NQeaseqiyeZmZkAtlbHayUnJwPg6upaYtn1WiTLu10AX1/fYssyMjLw8vIq0e/76vUqsv1r6yzablHozczMpFmzZmXtCgD33HMPv//+OydPniQvL4/4+HhbQP/888/57LPPiq0fHh7Oo48+iqurKz/99BMffPAB8+fPp02bNrz22mv07t2bzMxMLBZLmRf7JScn2wK0j49PsWVqtZrRo0fz+++/M2fOHLZs2YLVamXUqFGlbiszM7PENq5dDjBy5Mgya7keCdC1kdWCSqtDMckUskJUpdxTu2l738ulLntp2zy+GPEmQa+8zLm580ofMaMM5tw8Ln35FXz5FV7dutJ+8oN0f2kAyQk5hO6K5NzJRCyWm/+CnJVRQOjOSEJ3/h2qPTydaB8SUBiqh1wJ1brCUJ145ULF5KJQba0ZX86tZjNpiTGkJcbccF21Wk2GQc2K9btoGFCfSfeMRqtz5I/NW8kpyOXl12cTENKOhZ9/yomU8/zzhX9yIPQAH+39H3989ysuigOmHCMFmXmsWb2RhwdPYkjrOxgZPFCG/7sJVdkCXdSdYMGCBcVaaYvUr1+fBQsWVMl2y1K/fn3S09NtXX6KpKWlVcr2r+Xm5kZ6enqJ2/fs2UOrVq0ICAjgjjvuoFGjRmzcuJG8vDw6duxImzZtgMKLCYu6mlxNrVYzZcoUpkyZQlpamu2Cy2effZa9e/fi7u6Ou7s7y5YtK7WuFi1aXLfucePG8fXXX3PkyBE2bNhAv379irWiX83d3Z2EhJLXohw6dAhfX1/b87ly5UqcnJxKrHf1LwSlkQBdCylWKyqdowRoIaqYPuokPhotfq4+pOSlFVtmtVp5Ycu7fHHnG7R88vHCQHwTMg4fIePwEdROTjSb8iB3jRnE6Ps6ceJQLGF7L5OanFsZu0J2pr7UUN2uYwDN27Sj2+C/Q3VmajIJ0YUt1TUtVJfFarWyYddR3JwdGNOjBTpDAhjg7q5NWPlXGq/Ofpbx/Trw45+HCWzsizbjPMN6tGb3vt389Nd3jLxzBK6NPdl4Ygcu9VyZ8toj6JwcC8fatipY9SbMBeYrY20bCof/K+o+Ypu63YhiqtnPY2WpygAdEhKCTqcjOTm5WOvl0aNH+fTTT3nhhReqbLsNGjQo9b49evTg008/Zffu3QwYMAAAo9HI7t27baNX3Mr2r9WtWzfWrl1LZmYmnp6eAMTFxfHoo48yb948xo8fj1qtZvz48axfvx6DwcATTzxhu3+DBg1KfazJkyfTvn17XnvtNXx8fLjnnnvIyclh7ty5FBQU0KNHD/73v/+h1Wpp166d7X7fffcde/fuZf78+detOygoiLZt27Ju3Tr27dvH+++/X+a6Xbt25a+//iIiIoJWrVoBhf3an3zySR5++GFb//KsrCx69Ph74qPNmzezZs0a3nzzTby8vMrcvgTo2kixotY6IodhIaqeKS+Tdn6tSwRogHyznpe2v8fHQ/+NMS2V2NU/3fTjWPV6Ir9eBl8vwyO4A22mTaXz8/1IS8kjdOclzpxIwFzJ4Ss7U8+B3ZEc2F1aqG5Lt8FdSg3VKXFRpKfE16hQrTeaSc3Ko0ubhui0f4c3FycHGvl6EJ2cCUBegREPF0ey05PJTk/GSafh8L4dkHoBs8XK8j+P0De4GUv/O8u2Dbd63njXD6Be0fB/9bxxbVg41rab45Xh/65MbAMU9tkuuDLySI7hyvB/V2aRvCpwW401f/i/slRlgPb29mbGjBksWLCA3NxcunXrRnx8PAsWLMDd3d3Wyno7t9urVy969erFnDlzeP755/Hz8+Pbb78lNTXVdmFgZdb98MMP89tvv/Hoo4/yxBNPoFKp+Oyzz2jZsiUjRoywrTdhwgS++OILdDodo0ePvuF2e/bsyZIlS/D19aVLly4kJSWxbNky7rjjDjw8PBg0aBBdu3blySefZObMmTRv3pwjR47w+eefM3r06FK7zVxr3LhxfPDBBzg7Oxe7yPJaEydOZMWKFTz11FM888wz1KtXj6+//hpHR0fuu+8+2xB7//rXv4iJiaFdu3ZcvHiRjz76iA4dOtie97JIgK6NFCsqB5mNUIjbIj6CTg3asevygVIXp+Zn8Nruj5l774sY0zJI3rqt1PUqIvvUaU6/8ipqBweaTLqP4SOHMerejpw6Gk/YnkiSEnJu+THKfOxSQrV7PSfadQqgRZu2dB3cGVdXR7Q6HZlpSSReuVAxOe4y6cnVN1Q76DRMG9EFraZkcCswmlBf+VndyUGH8cokMYqiYDBZcHYoPJWeikzEQachsEnx/q25WenkZqXDhdM3rMPZzQOv+gF4+fjj4X0lbNf3xNW1Hq6OvleG/9Oi1mlQqcCit1wJ28bCaduzDZhzr4xCctWIJFZ99Rz+rywqbdUOY1cUUr///nsWLVqEp6cn/fv354UXXsDR8ebPn7ey3YULFzJ37lzmzZuHSqVizJgxuLu7Exn592etsupu2LAh3333HfPnz2f27Nk4OjrSp08fZs+ejYuLi229Jk2a0Lp1a1q3bk29evVuuN1nnnkGrVbLTz/9xOeff467uztDhw61DT2nVqtZsmQJCxcu5LPPPiMjI4OAgACefPLJYi3c1zN69Gg++OADRowYcd19dnNz47vvvuO9997jrbfeQlEUunbtyvLly23dXebNm8eiRYtYuXIlSUlJ+Pr6MnHiRJ599tkb1qFSqtsVIuKWWfR5JP44F0PsOXuXIkSt59quD9qRM3hq/b+uu15n/w680utRwt//kIzDRyq9DrfANjR9aDqubdqQlakndOclTh2Nx2SnVkp3DyfadfKnRRtf/PydcXV1qHGhGiA1K49VW4/TtIEn4/q258+w86Rk5jGqVxCXkzLYfyqaKcM74+bswLebjtC/U3MCm/jdeMOVwNHZFS+/woskbcP/uXvi4uqJk5ML2qtHJFGrCmeR1F+Z2CbvqrB9pftI0XTulmow1nbrF/qiqkMzEcbFxXH8+HGGDRuGg8PfswlPnDgRf3//Ehfs3S6xsbEMHz6cpUuX0rdvX7vUUF1JgK6FrIZ8Un7/grxz++1dihC1n1pLk9kreWr9v8k2XL/ld0iLPjzW6T5O/ecNcs9fqJp6tFqaTLwHn+EjcPDw4MyJeML2XCY+xv6TeLh5ONK+U0BhqG7gjIubDp3Ogay0ou4fVy5UTI7HarV/9wSj2cJPO0+SmpXPPf070MivHll5en7bc4asPD0qoF+n5nRu3ZAj5+M4G5XM5GGdq3wGvZuhdXDCu35DvPwa4OF91fB/rp44Obmhc3AoPvyf0VIYtvNN17RsFwXuK11J8it/rG21g4aWT/cqnM67joiLi2PkyJHcddddjB8/HkVR2LhxI2vXrrV1gbidzpw5w7Zt29i4cSNarZZff/21Wr6v7UkCdC1kNRtJ37aS7LA/7F2KEHVC/ecWs+jYWg7GHbvhuvd1uJsJLYZw4uVXKIiLv+H6t8KlRXOaPTQd13btycs1ErrrEicPx2GoRj/nu3k40q5jYaiu7++Ei5tDYahOTyYx6iIJV2ZUvN2h2mS28Pv+s8SmZNMtsBF9gv8e8stitZKWlY+rswOuTg6YzBa+/fMwA0Na0qaxL+eikwk7F4fFYqFds/r0bNekRoUPrdYBTz9/PK8M/+fh6Yurhycubp44O7uhc3BCe1XYVsyWwoltCq6E7RwD5hxjiT7b5vzyjbWt83Si6fQuVT4bYXWzd+9ePv/8c8LDw7FarbRt25aZM2ded+KSqnL06FEeeeQRGjZsyIIFC266X3htJgG6lsoM/Y30rcvtXYYQdUKDSa+xx5rN10d+KNf6T3afSj+fDhx//iWM6RlVXB2gVtNw3Bjq33U3Dt6enD+dxMHdkcRcvg2PfRPc3B1o16nhdUN1Stxl0pOqJlQbjGbW7z9LQloO7ZvVZ0jXVtcNwIfDYzkXk8LkoZ1Jzyng+y3HGBjSgnpuTvx58AJ9gpsR3KJ8oyPUNGq1mnp+AXj7+VPPuz7uXr64eXjh4u6Js7M7Dg5OaLQ6NFoNKq0GxWK9MrHNlW4kV41IUtSVROvmSIORbdA4yWVaovqSAF1L5Z0LJemn6w8HI4SoHO5d78TcdxzPbXyj3Pd5rf8s2uDN8Rdn33C2wsrk1KgRzR6ejntwJwoKzBzcc5njYTEU5JtuWw03w83dgbYdA2gZ6Et9f+erQnUKSdEXSbgypF56Utwthep8vZHf9p4lNSuPDs0bMLhLy+uGZ6PZwrebDjO4S0taN/LlwJlowmNSmX5n4ayE245EkJWnZ0L/DjddU62hVlPPyxev+g0LW7a9fHHz8Ma1KGw7OqPV6VBrtVitVnRODjfephB2IgG6ltLHXyB+2Rx7lyFE3eDgRNMXvmXGry+hN5d//PUPh/4Lzww9J1/9D4rp9gdY/1F30WDsWJx8fbgYnsLBXZFcjig5HF915eLmQLtO/rRs40f9AGdc3RzQOTiQnZZC4tWhOjkOq+XGodposvDTrlOkZuXRuXUA/Ttdf1IHgLBzsVyITeXBoSGoVCq2H40gLSufiYM6ArDvVBSXEtKZOrzLLe9vXdGh5yD63T0JnYwmJaox+X2kltK6lT34txCikhn16A15BPq05ETS2XLf7eXthbMVtn3lJc7OfQ9u82gUiRs2krhhIw7169PiH9O5/x9dMZkUDu6J5NjBGPJyjbe1norKzzVyeF80h/dF2277O1S3JmRAR1xdHdA5OpCdnnolVF8gJS6KtKTYEqF6x/FLpGblEdKqfOHZaDJz7GI8g7v83cXD1cmBy4kZthnlsvMNuEpLaoW4enii1clzJqo3CdC1lNrZ3d4lCFGnqNLi6VA/sEIBumi2ws/vfINWTz1OxOeLqrDCshmTkwl//wMA6g8bQq8J9zBgRCBREWkc2BVJxPmUSh9poaqUGqpdi0J1S0L6BRe2VBeF6pgIEi9f4PTJ44RHp+Cg0+Dn6cq56JQS227btPjwdMcuJuDm7ECrhn9PJdyyoTcHzsaw7UgEHq5ORMSnMSikZdXtcC1Uz9uvRl10KeomCdC1lEqjRaV1QDFX7xYkIWoLQ8RROnfqx6qTv1XofvlmPS9um8fCYa/RODWN2B/XVFGF5ZO8ZRvJW7bh4O1N04emce/knlhQcWjvZY6ExpCTrbdrfTcjP8/I4f3RHN5fPFS37eRPqzYt6NSvAzE5KmADRpOFLYcvlrqdqwO04Urr89BurYuFPd96rgzt2oqD52IxJ6bTtU0j2jevX2X7Vhu5efrYuwQhbkj6QNdSVmMBsYtfwJyVbO9ShKgT1G7eNJr1JQ/9/Dxma8WHiWvu2Zi5A18gcukykv/aWgUV3jzfAf0IuO8+nAMCiI3K4MCuSC6cTUYpx5BkNYmLqwNtO/rTMtCXBgEutpbqnIw0W5/qlLjLpCbGYrVUn6EAa5upL87D07d2jloiag9pga6lFKsVjbuXBGghbhNrbjpGk56WXk05n3apwve/nBnLeweWMuexxzFlZJJx6HAVVHlzUnftIXXXHrQeHjSfPpVx990B6hAOh0ZxeH80WRkF9i6xUuTnGTkSGs2R0L9bqp1ctLTrGEDLwBZ07NsBVzcdDo6OhaE6JoKEyxckVFcyZzcPe5cgxA1JC3QtZdXnk/LH5+SdC7V3KULUGQ0e+YBfk4/x29nNN72NQc3v4ImQ+zn9f2+SE36+EqurXN69etBo0iScGzchMS6L0F2RhJ9OxGqp/aeUv0O1Hw0auhQL1UkxEcRfvkBKfBSpCTESqitI5+DIY//3OWpN3ZpERdQ8EqBrKavJSPq2FWQf2mDvUoSoM7yHTie+ZTve2L7glrYzsf0o7mk1lBMvzaEgLq6SqqsaWjdXmk55kHp9B6B2cODYwRgO7YsiPTXP3qXdVk5OWtp2CqBVkC8NAlxxdb8SqjPTSbrSUp0cd5m0xBgsZgnVZfHxb8y9T/wLBydne5dSws8//8yrr77Kzp078ff3r/LHCwoK4rnnnmPmzJlV/lii4qQLRy2l1jmg82lo7zKEqFNyTmynVfe7UKFCuYVhK9ae2YCPixf95759ZbbC9EqssnKZc/O49NVS+Gopnl06027KZLq92J+UpFxCd17i7MlELObbOzxfRSSmXuBE+CYyshPQaR1p2jCEkKC70GkLxyA2mQ3sP/YD8clncXf1pUfHe6jvXXxUjfOX93Hu0k5GF7zCsYMxttudnLS07ehPq7ZNCb6jnYTqcvDw9rulz44Qt4sE6FrM0V+GThLidjKlxGC1mmlSryHRWbfWcvzVoe/w7TeL4Llvc/zFl7Hk3b7ZCm9W5tFjZB49htrJkaYPTmLk3YO5e2InTh6OJWzvZVKScu1dYjGJqRfZFvoV3vUa07ndKPILMgmP3E16ZgzD+zyNSqXm9MWtJKaeJ6TtXSSlXWRn2P8YN+TfOOgKW0gtFjOnL24hpO0o1Cp1se3r9WaOhcVyLCzWdltRqG4ZdCVUu+lwcHIkNzOdpJhLxEedJyUuitSE6DoZqut510ej1dm7DCFuSAJ0LabzDrB3CULUOdacdNr5tb7lAA3w7p7P+GDoq3R483VOvvqaXWYrvBlWvYHLy77l8rJvcW/fjtbTptLpuX5kpOURuiuS08fiMZvs3yp99Ox6XJy9GNbnabSawtDm6uxF2KmfiU8Jp1H9dkTFH6NNsz60azmQ1k17sfbP/yMu+SwtGhVO1X0xej8ajQPNr/z7RkoL1Q5OWtoF+9MyqAkderfFrcxQHYPFXDPeAzfLu0EjtFUYoE+dOsX8+fM5deoUVquVkJAQ/vnPf9K5c2cAdu7cyZdffsm5c+dwd3fnzjvv5Pnnn8fV1dW2jSNHjvDtt99y5swZfH19mT59Og8//LBteWZmJp9++inbt28nJSWFNm3a8OSTTzJixAjbOnq9nq+++ooNGzYQHx9PkyZNeOihh3jggQeqbN9F5ZIAXYupHV1Q6ZxQTDVv3FYhaipL9Dk6+7fnz4s7K2V7s7e+xxcj36Dtq7M5+85/b/tshbcq58xZTr/6b9BqaTrpfoaNGMZd9wRz+mg8B/dcJik+2y51WSwmHB1caeLf0RaeAer7tAIgMzuBRvXbka/Pws2lcKIUndYJRwdX8gsybds4fXEbXdqNLtH6XBFGvZnjh2I5fqh4qG4b7E+ra0N1VgZJMZdIuHye5LjLtS5U+zRoVGXbzs3N5dFHH6V37958+umnGI1GvvzySx599FF27NhBWFgYTz31FCNGjOCpp54iNTWV9957j5SUFBYuXGjbzuuvv85zzz3HP//5T3788UfmzZtHq1atGDBgAAUFBUyePJns7Gyee+456tevz/r163nmmWd47733GD9+PIqi8Nhjj3H69GmeffZZWrduzY4dO3j99ddJTU3l6aefrrLnQFQeCdC1mNVkROfbCGNChL1LEaLOyD21i6AHXqm07Vmx8s8tc/nyzjdoNfMJIj77stK2fVuZzUSv/J7old/j1qY1zadPo8PTd5CdpSd0VySnjsZhNFhuvJ1KotHoGNLr8RK3Z1z55cDV2RMARwdXTObCRghFsWI063FyKGyNvBC1H53OieaNulR6fUa9mROHYjlRIlQ3oFVQI9r3CqSnuwMOTo7kZWWQFHuJ+MsXSI6NrNGhup5P1U06c/HiRTIyMpg+fTpduxb+YtCyZUt+/PFH8vLy+PTTTwkODuaTTz6x3UdRFP73v/+Rm/t396PZs2dz3333AdC5c2e2bNlCaGgoAwYM4OeffyYiIoI1a9bQqVMnAAYOHEhWVhbz589nzJgx7N69m4MHD7Jw4UJGjhwJQL9+/TCbzSxatIjJkyfj5eVVZc+DqBwSoGsxlQocfBpLgBbiNtJHn8ZHraW+qy/JeamVs82rZitskppOzA8/Vsp27SX3wkXO/Od10GppfM94Bt85kjvHdeDcyQQO7rlMXHTm7a8pP52ktIscObOeeu7+NPHvCEAD75ZExITRqH474pPPYbWaqe/TCrPFxOmIbXRrPxbVLbQ+V0RhqI7jxKG/uwc5OGgJ6tiA1kGNaN8ziJ5DdX+H6phLxEddGac6IQazqXrPTKvVOeDgWHWjb7Rp0wZvb2+efPJJRo4cSf/+/enbty8vv/wyer2eM2fO8Pzzzxe7z8SJE5k4cWKx27p162b7f2dnZ3x9fcnJyQEgLCyMZs2a2cJzkTFjxrBr1y4uXbpEWFgYOp2uWJeOonVWrVrF8ePHGTRoUCXuuagKEqBrMZXOCYf6Te1dhhB1jikvk3Z+rSstQAOkF2Ty2q4F/HfCixjT00javKXStm03ZjOxq9cSu3otLs2a0uwfDzH18Z7k55sI3RXJycNx6AuqviXVYMznt23vAqDRONCjwwQ0V7p1hLS9i62hX/H7zvmoUNG1/VjcXX05E7EdR50LzRp2rvL6rsdoNHPycBwnD5cM1a2uhGo39yuhOjvzqu4fhRcqVqdQ7enbAJPJiKOmakK0q6sr3333HV9++SUbN27kxx9/xMnJiXHjxvHEE0+gKAre3t433I6Li0uxf6vVaqxXulZlZWXh6+tb4j5Ft+Xk5JCVlYWPjw9qtbrMdUT1JwG6FlOp1TgGtLJ3GULUPfERdGrQjp2XK3cio6isOOaFLuHVRx7HmJFJRtihSt2+PeVHRXP2zbdBrabhmLvpf/doho1ux4UzSRzcfZnoyKodyq9v16lYrRbCI/ew9cBX9OsylaYNQ3Bz8WH0oNlkZifg4lQPZycPzGYDZyJ20CP4/9u77+ioqoUL4Pve6TPpvfdeCKETOki1gg3piCCiFJEmRUCaT+QJ4lNUePb2/OyIDQVUamgh9BISQkjvfTLl+yMQjYAQSHInmf1bi6VMuXcnJJOdM+eeMxSCICLl4n4cO7MVBpMBwT4dERvWv9lGpa/luqU6xh3B4V6I6BiKDv0UUKnVl0v1eWSmnpK8VDu6ekJo4nMEBQVh9erVMBqNOHLkCL7++mt8/PHHcHOrnTpSWFhY7/FlZWU4dOhQ3UWGN2JnZ4cTJ05cdXtOTu2uwI6OjrCzs0N+fj5MJlO9Ep2bm1v3GLJ8LNCtnMK56S7IIKJrKz++C9GDH2uSYx/JPoENSZ9i8qyncWzx8yg9eapJziMZkwmXvv4Wl77+FmpPT/iPH4tHHu2Aqmoj9v5xHkmJ6agsb9xRaZVSiwCv2nnMfp5x+G7Hahw4/g38vOIAADJRDmcH37rHn0rdCbXKBn6ecSgqzcLuw5+gQ8x9sNW6YOehD6BV2yPEv0ujZrxder0ByQczkHzwz1KtUMoQHuOOkHBPRHQMQYd+Sqguj1TnXDyPS1cuVLzUPKXa0c0LcqWqyY7/888/Y9GiRfj222/h6uqK+Ph4xMfH47vvvkNxcTEiIiLw66+/YtKkP+fGb926FXPnzsW2bdtu6hydOnXCDz/8gCNHjtSbxvHdd9/B1dUV/v7+6NSpEzZt2oSffvqpbg40AGzevBkKheKq6R9kmVigWzmZzh6QyQFuJ0vUbMpPJ8L3vumwV9miuLrx347dkboHzhpHPLB4IY7MnofKi5a9W+GtqsrMxKmVLwAA3AcNRMJ996HvoHCcO52Lfb+fx/mz+WjsPTfkMgW83aJwKvV3VOnLoFba1Lu/xlCNEynb0SnmfgiCgAuXkmCrdUZ4QHcAtQU89dIhiyvQ11KjN+LowUs4evBS3W1ypYjwaA+ERHgiokMIOvRRQKVRo6K0GNkXz+PS+dPIyTjfJKXa0y/kqmkNjaldu3Ywm8148sknMWnSJOh0Onz//fcoKyvDgAED0KVLFzz55JOYNWsW7r33XmRlZWHNmjW477774OV1cxuTDR06FO+//z6mTJmC6dOnw93dHZs3b8Zvv/2G5cuXQxRF9OzZEx07dsSCBQuQlZWF0NBQ7NixA5988gmeeOIJ2NnZNdnngBoPC3QrZ66phsLJEzW56Td+MBE1DpMB1ZUliHANwd6Lh5rkFF+c+B4uWkf0vLJbYb7l7lbYGLJ/+BHZP/wIpZsrAsaOwYOj26HGCCTuTMWhvekoL61u0PGKy7Kxbe9biArug7CAbvXuqzFWARAgE6/+EXnq/O/QqOzg61k7SlilL4VK9WfJVil1yClIafgHaCEMehOOHbqEY4f+Vqqj3BES4Y6IDsHXLNW1FypeQI2+Yf8Of+Xs6XvjB90GZ2dnbNq0CS+//DIWLFiAyspKhIaGYv369ejYsSMA4LXXXsOrr76KKVOmwNnZGQ899FCDlpXTarX44IMPsGbNGrz00kuorKxEWFgY1q9fX3fRoCiKeOONN7B27Vps3LgRxcXFCAgIwJIlSzB8+PAm+dip8Qlms5l7ZrZipuoK5G5+DeUnd0sdhciquA1fiJ2mEmw6+EmTnmd+9ykIl7kiaeYcGMvLm/Rclsa1b2943n8/NO7uSEvJx97fzuPcqVzczE81k8mIz39eDK3aAYN6zKgry2UVBdjy2xo42Xvjjq5T6j2npqYKX/26Ap3bPAi/ywU6+fRPOHthD+7rtwiCIOCPg++jWl+Ofl0mN/rHa0nkChHh0e4IiXCDp48NbGyvlOqSy9M/TtVN/7iZUq1UazBh4SuQyTiuRy0DC3QrZzYZUfjH/6Ho9/9JHYXIqtjG94ehx1BM37Kkyc+1ut88OBUZcPTZhTDpLWdVheaicHSA/9gxsOvYCSaIOLA7DQf3XEBJ0T9vInX+4gHsOvwRXBz8EeDTDnp9BU6l7oTJZMCAhKfgYFd/N9fk0z8hPSsZg3vMhCDUXu5WWJKJLb+tQbBvR9honZF85id0jBmGED/Ln8LR2ORyEWGXS7WXjw1s7G6+VHsHhmPI6GlQabTXOTqRZWGBtgIVqcnI+nCJ1DGIrItSDb+Z72LCV7NRaWja3UBFiPjPoCUQz17E8eUrW9xuhY3JpXsCvB58CBpvL1xMK8Se387jzIkcmE3X/lGXdukwjp/bhqLSTMhlSni4hCIufAjsbFzrPU5fU4mvf12BLnEP160RfcW59H1IPv0TDMYahPh1QVz4QElX4bAkcrmI0Cg3hES6w8vHBraXS3VlaQmyM/6c/uEVGI4Ofe6CXKGUOjLRTWGBtgKm6gqkvjRa6hhEVsft6U1Yl/gekrKuXtaqsanlarw2cAnK9xzA2fX/afLzWTq5nR38R4+EfZcEQC7HwT0XcGB3GooKKqWOZvWuXao1kMlkUkcjumks0FbAVFONi28+DUNRttRRiKyK++jl+LksDR8lf90s53NU2+OV/guR8+33uPBR0869bkkcO3aEzyMPQ+Pri+xLJdi94zxOHcuCycgff5ZixqJ+sHNoul0IiRob32OyBiYj1D7hUqcgsjpV5w4izjO62c5XWFWM+b+9DM977oL7wAE3foKVKExMRPLMWdg/djzEo3tw573hmP38AAy8NwrOrjqp41k9pUoOnW3Trf9M1BRYoK2AoNRA7d98P8SJqFbpke3wsfOE/BrLoTWV9OJLWLXnDQQ+OhZOnTo223lbAlNFBc6/tQmHxo7FmZUrEeFuwqSZPTDx6e6IaecNmZw/EqXg6WOPGr1R6hhEDcJXCysgCAI0fjFSxyCyOqayAuhrKhHs5Nes503OOYUNSZ8g7JkZsI3gu0/XUpx0BEfnzMX+0WNgStyBQUOCMfv5ARhyfwxcPWyljmdVvPzsIVewjlDLwq9YKyG3d4GgUEsdg8j6FOUi0jW02U+7I3Uv/nf6B0QtXgiNb9NuUNGSmaqqkfrOezg0bjxOLl6MEPsqTJjWDZNn9UTbTr5QKHlhW1MLCnWFXM7PM7UsLNBWwlRTDZVXiNQxiKxOzflkxHtIM4XqyxM/Ytul/Yhd8TyUzk6SZGhJSk+cxLH5C5A4YiSqfvsR/e7wx6yl/XHPw23g4c3tlZuEAPgEOEqdgqjBWKCthKhQQu0TIXUMIqtTmrwNQU7+dRtvNLe3DnyMo6VpiFm1HDIdL5i7KQYD0j/6BIcfnYBjc5+Fv7IY46Z0xZNze6N9gh+UKu6W11hc3W0hzXcG0e1hgbYSgkwBTVCc1DGIrE5NbjqMJgP87L0ky7Bq52vIFisRs2wJRCU3qmiI8pQUHF+8BIkjRqL0x6/Ru6cPnlnSH8NGxcPbz0HqeC2ef7ATJPrdkui2sEBbEZVHkNQRiKySuaQAES7STqGa9+tqVDnbIGL+XEDkS3+DGY3I+L8vcPixiUie+Qw8jdkYNakTps3vi049AqDWKKRO2CKFRbpDoeSIPrU8fBW1Mgon6UbBiKyVMf0E4ptxPehrMcGEGVtXQBEagJCpUyTN0tJVpqfj5LIV2D/8ERR+9Sm6d/HA04vvwINj28M/iHPNG8I3kPOfqWVigbYqZqi4oQpRsys9+hvCXYKljgG9UY+Zv6yCQ5eO8Bv5iNRxWoVL32xG0uOP48jUqXApv4CHx7fHjEX9kNAnGFodp8v8E2c3nWTXBhDdLhZoKyIqNdCFdpA6BpHVqb5wHDJBBnedi9RRUFRVgmd3/Bsed98Jj8EDpY7TalRlZuP0Cy/iwCMjkPPRu+jSzgkzFvXDIxM6IijMBbxS7mr+Qc78vFCLxYlHVkYTGAcIImA2SR2FyKoYyosQ4RqC7PI8qaPgYkkmVu55AwvGTYa+oBAFe/dJHalVyf7xZ2T/+DOUri7wHzsaD4zqAIMJSPwjFYf2pqOstFrqiBYhLModSs5/phaKI9BWxwyVp/RvJRNZnUtnEecRJXWKOsdyTuH1Qx8jbOZ02EZyicumoM/Nw5mXXsaBESNxaeOb6BBji2kL+mLU450RGulm9atP+HG+OLVg/NXPyghyJbShHVB96YzUUYisSvmJXYgePFHqGPX8fmEfnLWOeOi5BUieOx8VF9KljtRq5W7fgdztOyC3t0fguNG47+EuMIsyHNidhgO701BSVCV1xGbl5mELUbTy3yCoReMItJURZHLoIrtKHYPI6pSf3AcblQ72asva0e6rkz/il4x9iFn+PJQuzlLHafUMxcU4s+5VHBw1Cmnr1yEuWIUn5/XB2CldER7jYTWlMjTKzWo+VmqdWKCtkMLeFTKdvdQxiKyMCdUVJYiwgNU4/m7TwU9xpOQ8Ylcth9zGRuo4VqNg9x4kz3gaB8c9CuXZA7jn/kjMen4A7rg7Eo7OWqnjNamoOC/IFTKpYxDdMhZoK2Q2GqEJipc6BpH1yU5DrLtlzjf+164NuCSUI5q7FTY7Q1kZUl57AwdHj0HK6hcR7SNg8qyeeHRaN0S19YRM1rp+VKvUcrh62Eod4x+tX78eUVGWc80CWR7BbDabpQ5Bza/87EFkf7pC6hhEVsW2bX8Yew7DtC2LpY5yTSJErB/4HOSpWTi+dDlg4mo9UhHVaviPegQOPXpDplYhKfEiEnelIj+nXOpoty2yjSfufrgN1GrL3b0xKysL2dnZiIuLkzoKWSgWaCtlqqlG6kujAZNR6ihE1kOugt+s9zDhq9moNFjmRWNKmRIbBi5Fxf7DOLN2vdRxCIB9bCx8Ro2ELigQ+bnl2L0jBSeSMmEwtMxfcB4Y0w5RcdwVl1q21vW+EN08kxFqb+5KSNSsDNWoqi5DmEuQ1EmuS2/UY+avq2DXuQP8Ro+QOg4BKE5OxrG587B/5GgY9vyCgYOCMev5AbjzgVi4eVr2VIi/EwQgJMKtyY4fHh6O1157rd5tf5+OMXr0aDz33HN444030KtXL8TGxmL48OFITk6+7nOI/o4F2koJChW0YR2ljkFkdYS8TES7hUkd4x8VVZXg2e1r4HHnEHgMHiR1HLrMpNcj7b0PcWj8eJxc9ByCbMvx6NQEPDG7F9p28oVCafkX5fkEOMJkAW98b9myBdu2bcOiRYvw73//G3l5eZg+fTpMnLZEN4nrQFspQZRBF9EFBb+8K3UUIqtSdfYA2sb3wkdHvpI6yj/KKM3Cyt2vY+G4KdAXFqJgz16pI9XJ0+sxJ+X0Pz5mjm8AAjQabMrMQHJZKdyUKoxy90SYVlfvcdsK8/FjQT5WBoVCbEE7m5SeOoXjCxYBcjl8HxiGfv0HYvDQaBxPysS+P1KRebFY6ojXFBnrCaUFFH2j0YiNGzfC5vKqM+Xl5Zg7dy5Onz6NiAjLvNCXLAsLtBWT2ThAZucCY4n0WwsTWYvSI9vg3Ws45KIcBpNB6jj/6FjuGbx66EM89fQ0HF+6AiXHj0sdCQBgK5djoqfPVbfrzSZ8mJ0JO5kcvmoNvsvPxfHyMgx1dcepinKsv3gB/woOg1ZWW+BqTCZszs/F/a7uLao812MwIP2T/yH9k/9BFxQAvzFjEfFEF5SXVmPP7+eRfCAD1VWW83UWE+8FUZT+ze/w8PC68gwA7u7uAICKigqpIlELI/1XMUnHbIZNZILUKYisiqm8CPqaSgQ7+Usd5absvLAfH5/6HpHPzYfW30/qOAAAlSiiq73DVX8yqqthNJsxycsHOpkM+0qK0cfBCQOdXDDR0wdVJhOOlJXWHWdHUSGUoogudg7SfTCNqDwlFSeWLMX+R0ageMuX6NndCzMX98ewUfHwCXCUOh48feyhVFnGuJ1ara739yulnlM46GaxQFsxUaGCbfwdUscgsj5FuYhyDZU6xU375uRP+Dl9D2KWL4XSxUXqONd0saoKvxTmo5u9Q900jUKDAS6X17TWyGSwkctQaKgBUDv6vKUgF/c4u7Xc0efrMZlw6YuvkDRxEpKffhqehiyMfKwjpi3oi849A6HRSrN8XFwHH8jlTV87/l6COapMTYEF2srJ7Vwgd/SQOgaRVdGnJCHeM1rqGA3y9qH/Iak4pXa3QlvL263wi7xsKAURw1zd626zlclQaaxdqtNkNqPSaISNrHYEdFtRATSiDJ3tWveurJUXM3By+UrsH/4ICj7/GN06ueHp5+7AQ+Pawz+4GbduF4DY9t4Qm3hTGBsbG2RmZta77eDBg016TrJOLNDWThBgE91D6hREVqX0yDYEOvpBaGEjny/uegMZKLW43QrTq6pwuKwUvR0d4SD/c3Q1XKvDH8VFyKiuwk8F+TCazQjTaqE3mfB9fh7udnFtfaPP/yBz8xYkTZ6Mw09OhUtZGh4e1w5PP9cP3foGQ2vTtP+efgFOEMWm/1z37t0b3377LT755BPs3r0bs2fPRlpaWpOfl6wPC7SVE+VK2LbtJ3UMIqtiyM+A0WSAn7231FEabMG2Nah01CJy4bOABVwMBtSOJosA+jnWH1Ed6uIOo9mMRefP4rPcLDzo5gF3pQq/FhZAJ5Ohk23rHn2+nursbJx6YTUOPDIC2e+/jc5tHTF9YT+MeKwTgsJcgCbouXEdfZplmb1nn30Wffr0wb/+9S9MmzYNWq0WzzzzTJOfl6wPdyIkmPRVyHjnWdTkXpA6CpHVcHt8Hf53YSd+OLNd6igNphTleH3QMlQeOIIzL6+TNIveZML0sycRrbXBUz5XX+RoMJtwsboajnI57OUKVJtMmHPuFEa6e6GTnT12FRdic34uakxmdLN3wD0urXBO9E1QOjvBf+wY2LXvCKNZQOLOVBzam47SktvfMVMQBcxZNgAqC966m6ihLGP4gCQlyOSwbdNH6hhEVsV04TjiPVrWPOgr9CYDnv5lJew6toP/mFGSZjlZUY5qkwkd7Oyueb9cEBGg1sD+8tSOXwrzYSeTo6OtHTKqq7ApMwP9HJ0x1sMLvxQW4PfiwuaMbzH0+QU48++1ODByJC6+9TraR9ngqfl9MHpyZ4RGukG4jekXgSHO4EgdtTYs0FRboOP6AgK/HIiaS2nybxa9pfeNlFSX4tkda+A+ZCA87xwsWY4jZaWQCwLidDfe0rrKZMQPBXm418UNgiAgsaQYrgol+jk6I8bGFh3s7LCvxDI3IGlOeTt+x5Gp03BwwkRo05Jx38MxmLWkP/oOCYe9o6bBx2vb0RcqpWUsX0fUWNiYqJYoQhMQI3UKIqtRffEEZIIIdxtXqaPcsozSLCzfvQF+Y0bBOaGLJBnOVlYgQK2BRnbj+bVbC/LhIJejvW3taHWJ0Qg7+Z/FzkYmQ5HBcjYdkZqhuBhn1/8HB0eNRuora9EmUIkpc3pj3FMJiIj1uKmLAuVyEeEx7rc1gk1kiVigCQAgKtWwbTdQ6hhEVsVQXoxI1xCpY9yWE7ln8OrBDxA6fSrsoqOa9dwGsxmX9NXwV6lv+NhKoxE/FuTXjT4DgINcjvwaPa5cCpSrr4GDnCOl11KwZy+Sn56Jg+PHQ3FyH+4aGolZzw9A/7sj4eisve7zItt4gnuTUGvEAk0AAEEQoQ1uB0F54x9ERNRIMs4gzj1S6hS3bVf6AXx0cgsiFzXvboUFNXoYzGY4KW58cdrPhflwUijQzubPudLtbOxQZDDg7awMfJuXg4NlJa1+XejbZSgrR8qGt3BozBic+9e/EOUNTJ7VE49N74boeC/I/rZRSueegVCp+UsJtT4s0PQnkxG6iK5SpyCyGmXHdyHKLUzqGI3i21M/4+cLuxGzfClUrs0zLaXs8iYpGvGfp29UGI346S9zn6/wUasxzsMbJ8rLsbUwH4OcXNDdXvotr1uKokOHcHTWHOwfPRbmQ39g8F2hmLV0AAYPjYGLuw0cnbVw9bjx3HSilojL2FE91dmpyNjINTOJmocIn3kf4cnNC1FcVSJ1mEYxq+tEtNH4IunpWTCUlkkdh5qZbXQU/EaPgjYoGAaDCUqVDHJ506//TNTcOAJN9SgcPaB0D5Q6BpGVMEFfUYJIl5Y9D/qvXtr9FjLMpYhevhSiSiV1HGpmpceO49i8+TgwZixUCrA8U6vFAk31CHIFHLreJ3UMIuuRlYpY9wipUzSqZ7etRoW92qJ2K6Tm5RjfFmauaEKtGF/ZqB5BlEEb1gmi9tqbEhBR46o8va/VFWgAmLl1BWSBPgidMVXqKCQB76H3Qq69/uocRC0dCzRdgxl28QOkDkFkFUqP/g4XrSM0ita1Ak7tboWrYNehHfzHjpY6DjUjtacntAEBUscgalIs0HQVUaGCfae7uDMhUXMwVKOqqgzhzsFSJ2l0JdWlmLvjJbgPHgjPu4dIHYeaieddQ7hxCrV6bEh0TYJMBl14J6ljEFkFIT8D0a1kObu/yyzNxrJdr8Fv1Eg4d0uQOg41MVGphHu/PhBvYm1uopaMBZquSVRp4ZBwv9QxiKxC1dmDaOvRvLv4NaeTeWex/uAHCJ32JOxioqWOQ03I7Y6+UkcgahYs0HRdChdvKN38pY5htQ5nluGZ71Mw7KPjGPXZSWxIzERljfG6j1+3KwNzfky56vbKGiOWb7+A+z48hinfnsXR7PKrHrP5VD4mfHkaRhOXhZdCadI2eNl5QCG23h3bdqcfwAcnNiNy4bPQBvB1pVUSRfg+/CBkGo3USYiaHAs0XZcgk8OeS9pJIimrDAu2psJgMmN8O3f0DXLA96cLsHBrGkzX2PvoxzMF+OFs4TWP9WlyLg5nlmFMvDvcdAos3XYBZfo/i7jeaMKnybkY0cYVMs5blISpohj6mkoEOwVIHaVJfXf6F/yYtqt2t0K35tmtkJqPS7euXPubrAYLNF2XIMqgC+8CUWMjdRSrs3F/Flx1Crw4MBB3Rzjj0fYemNjeA8dzK3Dg0p+7uxlNZnyYlIN1uy9d91g7UotxZ7gThkW5YE4PH1QZTEi8WFp3//enC6GSi+gd6NCUHxLdSFEOotxCpU7R5N5N+j8cKDyD2FXLIbflNs+tid+I4ZBz9JmsBAs03YAZtlzSrlnpjSbYq+UYFOoIlfzPb9FYDx0A4HxhVd3jpn53Dh8k5aBvkAOctdd++z+/wgB3GyUAQKuQwU4lQ15FTd0xPjuaixFt3Dj6LDF9ShLiPaxjfvC/d7+FC8ZixKx4niOWrYR9XBsoHR2ljkHUbFig6R+JChUcutwDyFrv3ExLo5SJWH5HAIbHutW7/VxBbXF209Ve3a43mlFRY8SzPX0xq7sPZMK1C7CdWoaKy1M2TGYzymuMsFPV/nt+d6oAWqUMvQPtm+rDoZtUemQ7Ahx9IVzn37G1WbD9JZTZKRG5aD4EGbd7bun8Rz7Cuc9kVVig6YYEmRy2cf2kjmG1ssv0+PlsITbsy0SAgwoJfrW7RGoVIjbdF4aeAf9cfmPddfjpXBHSiqrw5fF8GIxmxLprUW0w4bNjeRjRxhWilZQ2S2bIz4DRaIC/vbfUUZrNM1tXQAzwRujT06SOQrdBFxwErT8vDCXrwgJNNyQqNXDqNZyj0BIorTZg3Ben8e9dGdCbTHiikyeUstpvW1EQbmraxdi27jCYzJj8zVn892AWJrT3gJedCt+eKoCtUnbDAk7Nx1yaj0jX1j8P+gq9yYCZW1fCtl0c/MeNkToO3SK/Rx6GqOS6z2RdWKDppghyBWzb3iF1DCskYF4PX8zq5g0/ezWe/TkVv6cVN+gIHrZKvHFPCF65MxjvPxCOoVEuqKox4f+O5WJknBtEQcAv5wox8avTGPv5KXxwOPuaK31Q0zOmnUBbz9a7HvS1lOjLMHf7argP6g/Pu++UOg41kNrDHfZxbSCIrBNkXfgVTzdFVGrg1PNhjkI3M1uVDL0C7dEv2BGrBwbCTafAW4lZDT6OQiYi1FkDJ03tKNE3p/LhoJajh78d0oqqsGZnBu6JcMa0Ll74+mQBfjxz7SXxqGmVHt3RKrf0vpHMslw8v/M/8Bs1As7duVthS+Lz4AMsz2SV+FVPN02QK2DHUWjJqOQiOvvYIbeiBsVVhls+TmWNEZ8fy8PIODcIgoDfU4vhaavE3RHOaO9tix7+dtiR2rBRbmoc1RdPQhQEeNhY3xrJp/JT8MrB9xA69UnYx8ZIHYdugsLeHq49u0OUc2CFrA8LNN00UamBY0/OhW5q6cXVGPv5KWw+mX/VfRU1RggAFLJbv+jv65P5cNLI0f3yxYiFVUY4qP/8N7VTyVBQeesFnW6PobwIka4hUseQxJ70Q3j/+DeIWDAPusAAqePQDfg+8hA42YusFQs0NYggV8Auvr/UMVo1L1slKmqM+O50AWqMprrbs8v02HmhBLHuOmgVt7bsV7neiC+O5WPU5dFnAHDSyJFTrof58rznrLIaOGv4S5JUzBlnEOdhXfOg/2rLmW34IfUPRC9bCpWb242fQJJQubnCrW8fyJRKqaMQSYIFmhpEVKrh2PNhCDJecd1UZKKAJzp5IbWoGnN+PI9vT+bjw6QcTN9yDgKAJzp53vKxvzqRD1edom4pPABI8LNDfoUBa3dn4OMjOdh5oQS9uC60ZMqP70SUFa3EcS3vHfkCBwpO1e5WaGd34ydQswsYN4brd5NVY4GmBhNkcthyFLpJ9Q1ywLM9fWEwmfHm/ix8dSIfse46rL0zGAGO6ls6ZrneiK9O/Dn3+YpARzVmJHjjcGY5vj6ZjweiXTAghDuKSaXi9AFolRo4qK27OP57z0akGQsRs2IpRPWtfc1T09D6+8OxQ3vOfSarJpjNXK+KGs5YWYoL6ybCbKyROgpRq+M27Q28lfwldqcflDqK5F4Z8Bw0F/NxbPHzMBuNUschANHLl8I+Ooqrb5BV41c/3RJBpuAoNFFTyUpDrHuE1CkswsytKyH4eyN05nSpoxAAu6hI2IaGsDyT1eN3AN0SUamGY6/hEJQaqaMQtToVp/awQF9mMBnw9C8rYBvfBgGPjpM6jtULmvQYRJVK6hhEkmOBplsmyORw7Pmw1DGIWp2yYzvhpHGEVsFfUAGgVF+OudtXw21AP3jde7fUcayWU6cOUHu417uGgshasUDTLRMVKti1GwC5462vCkFE12CoRnVVGcJdgqROYjEyy3KxdOd/4DtiOFx6dJc6jvURRQQ+NgEyDX+pIwJYoOk2CTI5XAZPkjoGUasj5GUg2jVc6hgW5XR+CtbufxchU6fAvk2s1HGsilufXlDY2Uodg8hisEDTbRFEGdTeYdAEtZU6ClGrUnX2AOI8I5v8PBWXSnDunUNIXrYdySt24PwHSajKK6+731htQOonyTiybDtO/WcfytKKrjpG3r6LOLF2N8ympl/UaV/GYbx77GtEzJ8LXWBgk5+PAEGhQMC4MRx9JvoLFmi6baJSDdchkwGRi+oTNZbSI9vhZesBhdh0a+1W5ZXj3H8PoSq7DO69A+HeMwAVGSU4u/EgakqqAQA5v6WhNKUQnn2DoHRQI/WjIzBW/rl8pclgQs5vaXDvHQBBbJ65sT+c2YbvU/9A9PIlULm7N8s5rZnvg/dD5I6DRPWwQFOjEDW2sOs4ROoYRK2GqaIY+poKhDgHNNk58nZfhElvROCYtnDr4Q+3Hv4IHBUHY0UNcnenAwCKjmbDpaM3XLv5we+BKJj0RpScya87Rv7+DIgKGRzbeDRZzmt5/8gXSMw7gdhVy6Cwt+5NZ5qS2sMDXvfdAxk3syGqhwWaGoWoVMOp58MQtfxBRtRoCnMR2YTbelcXVEKmVUDr+efcVq23HWRaBaqyywAANaV6KC/vfilTySHTKlBTXDs6baoxIuf35h19/qu1e/+LVEM+opdzt8KmEjL9KQjccZDoKizQ1HhEOZz7jZU6BVGroU9JQrxHdJMdX+WsgbGyBoZyfd1thooaGKsMkNvWvmUv1ypgrDIAAMwmM0xVBsh0CgBAfuIlyFRyOMRKN41i0faXUWojR9RzC1j0GplzQhfYBAZClHF6HtHfsUBToxHlCugiu0LpHiB1FKJWoTTpVwQ6+TbZurtu3f2hsFMh7bNjqMwqQ2V2GdI+OwZBJsCliy8AQBfggIJDmajKKUfu7nSYjGbY+DvUjj7/Id3o81/N/GUV4OuBsJkzAK5R3ChkGjWCp0yGTMORfaJrYYGmRiXIFXC9c4rUMYhaBUNhJgyGGgQ4+DTJ8ZUOarj3DEBZahFOv7YPp/+zD2XnC+H/QHTdtA6PfkEwG8049epeZP50Fl4DQqBy1iJvbwZkGgUcYqS/iO/KboW6tjEInDBO6jitgv+YUbxwkOgf8P0ualSCIELh7AVdVHeUH/9D6jhELZ65tAARLiE4X5je6MfO/CUFOTtSoQtwgHMHL5hNZuQnZiDtf0fh/3As7CNcoHLUIPypzqjKKYPCVgWFrQpGvRG5O9PgfWcYBFFAweFM5PyWBlONEU7xnnDvHdjso9Jl+grM2b4aa+6Yh+q8fFz66ptmPX9rog3wh1u/vpBxy26i6+IINDU6UamB6+DHeUEhUSMwpB1DvGfjz4M2VtYgd+cFaLxsETwuHo5tPODU1hMhj7aDylWHi9+chMlgAgCIchFaLzsobGsLVf7ei5DrlLCPdkNVThnSvzwBl84+8LknAnl7L6Lg4KVGz3szsstysWTnevg+8jBcenK3wlsiCAh7ehpEhULqJEQWjQWamoQgV8D1rieljkHU4pUl/4awJtjSu7qgEmaDCY6x7vVGiwWZCMc27jCU6VH9lw1VrjBWG5Cz8wLc+wRCEAQUHc2B0lEDl84+sAt1hn20G4qScxo97806m5+Kl/e/i5Ann4B9XBvJcrRU7v37Qe3uDkFkPSD6J/wOoSYhyBXQ+MdAF9FV6ihELVp1ximIEOBp49aoxxVktS//ZvPVuwde2VHwGnchb89FKGyVsI9yBQAYymsg1/05V1auUaCmtLpRszZUYsZhvHv8K0TOnwtdEHcrvFlyW1sEjB/LHQeJbgILNDUZUamGy51PcCoH0W0ylBchwjWkUY+pdtNBbqtEwaEsmGqMdbebaowoTMqCTKuAxk1X7znGKgNyd/05+gwAchslaoqr6oq4vqgSCjvp587+cGYHNp//DdHLlkDtIf2Fji1B0OOPceoG0U1igaYmJcqVXJWD6DaZL55GW4+oRj2mIArwuTMc1XnlOPPmfuTuTkfuzgs488Z+VOdVwHtwaN0o9RW5u9OhsFfDPtK17jb7KFfUlFbj4tcnkb0jFcXHcyVdF/qvPjzyJfblHUfMquXcrfAGHNu3g1PHDizQRDeJBZqalCBXQBMQC114F6mjELVYZcd3NcmOhPZRrgga2xYyjQJZW88h69cUyNRyBI6Kg2Nc/a25jVUG5O1Oh8dfRp8BQONuA997I1CaUoi8Pelw7eYHp3jPRs96q9btfRsp+jzErFjGNY2vQ25rg7CZ07ldN1EDCOZrTYAjamTGqnKkv/YkTJWlUkchaoFE+Mz7EFM3P4fCqmKpw7RI6/ovgjarGMcWLYHZYJA6jkWJmD8XjvHxEJUcfSa6WRyBpmbBqRxEt8MEfUVJo8+DtibP/LIK8HFH2DMzuFvhXzh3S4BDXBuWZ6IGYoGmZiHIFdAEtoE2vLPUUYhaJCEzFW3cI6SO0WLV7VYYF4PAx8ZLHcciKBwcEPLUE5y6QXQLWKCp2YhKNVzvehKixkbqKEQtTvmpvYhlgb4tZfoKzN72L7j07QPvYfdJHUdy4XNmcrtuolvEAk3NSpArucEK0S0oO/4HHDUO0Cq4Ru/tyCnPx5I/1sPn4Qfh2run1HEk43nXENgEB0OUy6WOQtQisUBTsxLlCmgC2sA2foDUUYhaFoMe1VVlCHcJljpJi3e2MBVrEt9G8JTJcGgbJ3WcZqfx9YX/6FGcukF0G1igqdmJSjWc+4+D0p07hBE1hJh3ETFuYVLHaBUOXDqCt5O/RMS82dAFN/5W6ZZKkMsRuWAuLxokuk0s0CQJQa6Ex8PzIai0UkchajEqzhxAXCNvqGLNfjq3A9+c34Ho5xdD7eFx4ye0AgHjx0Lp6AhB5I9/otvB7yCShCAIENU2cLt3htRRiFqMsuTt8LJzh0LG0cPG8nHy19ibewwxq5ZBYW8vdZwm5dS5E9z792uyqRujR49GdHQ0Tpw4cc37o6KisH79+iY5N1FzY4EmyYgKJTT+0bDreKfUUYhaBFNFCaqrKxDiFCB1lFbllX3vIEWfi5iVz7fa3QrVXp4Ie3oaZCpVk57HYDBg/vz5MHCzGmrlWKBJUqJSDac+I6Hy5IVRRDelKAdRTbCtt7VbvGMtirQCohYvgtDKVqYQ1WpEL3kOYhOXZwCwtbXF8ePH8dZbbzX5uYikxAJNkhMVKrg/NB+iWid1FCKLp09JQrxntNQxWqVnflkFk7crwmfPbFW7FYbNnAGFg0OzzHuOiYnBnXfeiddeew3nzp277uOqqqqwbt06DBw4ELGxsRgyZAg+/fTTeo/p27cvXn31VbzwwgtISEhAXFwcJkyYgLS0tHqPS0xMxMiRIxEXF4fOnTtj4cKFKCkpaZKPj+gKFmiyCKJaB7ehM6WOQWTxSpN+QYCjD0SBL9+NzWgyYsbWldDERiJw4qNSx2kUXvfdA4e4WMhUzbdhysKFC6HT6TB//nyYTKar7jebzZg4cSLeffddPPLII3j99deRkJCAxYsX4z//+U+9x77zzjs4f/48Vq1ahWXLluHo0aN49tln6+5PTEzE+PHjodPpsG7dOsyZMwfbt2/HhAkTOI2EmlTrep+KWixRroDaJwL2Xe5B8Z5vpI5DZLEMhdkwGGrg7+CD84UXpI7T6lTUVGD2thfxct/50OcXIOPzL6WOdMvsoqPgN2J4k897/jsnJycsWrQIM2fOxLvvvovx4+tvnb5jxw7s27cP69atw6BBgwAA3bt3h8FgwIYNGzBixAg4OjoCABwcHPDaa69BJpMBAC5cuID169ejtLQUtra2WLNmDYKDg7FhwwaIl0fYo6KiMHToUGzZsgX33HNPM37kZE04hEEWQ1Sq4dhzOFRenN9J9E/MJfmIdA2ROkarlXtlt8KHHoBrn5a5W6HSyQmR8+c2e3m+4s4770Tfvn2xbt06XLhQ/xe9xMREKBQKDBhQf0Otu+++G3q9HklJSXW3xcXF1ZVnAPC4vNxgRUUFKisrkZSUhN69e8NkMsFgMMBgMCA0NBReXl7YtWtXE36EZO1YoMmiiAoVPB5eAJmtk9RRiCyWIe0Y4j04D7op1e5W+F8EPzEZDvFtpY7TIIJcjqjnFkCUeKfBJUuWQKFQYMGCBTCbzXW3FxcXw9nZuW7E+AoXFxcAQGlpad1t6r99DFeeYzabUVJSApPJhA0bNiA6Orren4yMDOTk5DTVh0bEKRxkeUSVFp6jnkfGplkw66ukjkNkcUqTdyAsbrHUMVq9A5eS8d/kz/Ho3Nk4uvA5lJ29/kVxliTo8YlQe3pAlHg1EXd3d8ydOxcLFizAxx9/XHe7nZ0d8vPzYTKZ6pXo3NxcAKibvnEjOp0OgiDg0UcfxeDBg695P1FT4Qg0WRxBJoPczhkeD84DeKEU0VX0l85AgABPW3epo7R6P5/7HV+nbKvdrdDTU+o4N+Tatzdce3Zvss1SGuqBBx5At27d8NJLL9VdUNipUyfU1NTgp59+qvfYzZs3Q6FQoE2bNjd1bBsbG0RFRSE1NRWxsbF1fwIDA7F27dp6U0GIGhvbCVkkUa6EyisULoMmSh2FyCIZygo5D7qZfHL0G+zKSUbsymVQODhIHee67GNjEDx5ksWU5yuWLVsGs9lcN42jZ8+e6NixIxYsWIB33nkHO3fuxMqVK/HJJ59g4sSJsLOzu+ljT58+Hdu2bcO8efPw22+/YevWrZgwYQIOHjyI6GhOc6KmwwJNFktUqmET0xN2ne6SOgqRxTFfPI04jyipY1iNV/e9izPV2Zd3K9RIHecqWj9fRC6YJ9lFg//E29sbzzzzTN3fRVHEG2+8gWHDhmHjxo2YPHkydu/ejSVLlmD69OkNOnavXr2wceNGpKWlYerUqZg/fz5sbGzw3nvvISwsrLE/FKI6gvmvM/uJLJCppho5X6xBxdkDUkchshiakPbQ3vsUJn49V+ooVuXlOxbANrccRxc8B7OFrDOsdHJC27UvQW5r2yybpRARR6CpBRAVKrgNnQmle6DUUYgsRuXZA9DI1XDU2Esdxao88+sqmLxcLGa3QplGUzsqrtOxPBM1I363UYsgKFTwHLGYy9sR/YW+ogSRLlw3vTmZTCbM+Hk5NDGRCJr0mKRZBLkcUYsXQunsLPmKG0TWhgWaWgRBECCoNPAcuQSCwrIukCGSipB1Hm08IqSOYXUqDFWYte1fcO7dA94PDJMsR9jT06ALCoRM2XzbdBNRLRZoajFEmRxyO1cub0d0WfmpPYhxC5c6hlXKqyjAc3+8Ap8H74dr397Nfn7/0SPh2KG9RV40SGQN2EKoRREVSqi8Q+F6z1QA0s8/JJJS2fFdcNI4QKfQSh3FKqUUXsDqvZsQ/PjEZt2t0H1gf3jeNcTilqsjsiYs0NTiiEo1dGGd4HLnZKmjEEnLoEdVVSnCXYKkTmK1DmUdxcbkzxExbzZsQpt+XW7H9u0QOGE8yzORxFigqUUSlWrYRHWH88AJUkchkpSQm4EYd07jkNIvKX/gy3O/Inrpc1B7Nd1uhXZRUQif8wynbRBZABZoarFEpRq2bfrCqe9oqaMQSabyzH7EuUdKHcPq/e/ot9iZ3XS7FdpFRSJq8QKOPBNZCBZoatFEpRp27QfBscfDUkchkkTZkW3wtHOHQqaQOorV+0/iuzhdmYmYlcsadbdC24hwRC1eyPJMZEFYoKnFE5Vq2He5B/Zdh0odhajZmarKUF1dgVCnAKmjEIDnf1+PArURUUsXQWiEtZltw8MQveQ5lmciC8MCTa2CqFTDsfsDsOt4p9RRiJpfYTai3LihiqWY9esLMHo4I3zurNvardAmLBTRS5+DTMPyTGRpWKCp1RCVajj1GQnb+P5SRyFqVvqUw4j3iJY6Bl1mMpnw9NYV0ESFI2jyxFs6hk1IMGKeX9yoU0GIqPGwQFOrIipUcO4/HjaxvaWOQtRsSo9sg7+jL0RuMGQxancrfAHOPbvD58H7G/Rcm5BgRC9byvJMZMH4akutjqhQwWXwJOiiuksdhahZGAqzYTDoEeDgI3UU+ou8ikIs/H0tvB8YBtd+fW7qObqgQEQvWwK5luWZyJKxQFOrJCpUcL1rCmzbDZA6ClGzMJXkI9KV86AtTWrRRby4dyOCJz0Gx/bt/vGxusAAxKx4niPPRC0ACzS1WqJCBed+Y+GQ0LC3T4laImPaUcR7ch60JTqcdQxvHfkM4XOegU3YtX/JsY0Ir1v+TriNCw+JqHmwQFOrJirVcOg2DE79xkodhahJlR7ZgVDnQKlj0HX8en4Xvji7FdFLnoPG26vefY7t2yF66XOQa7Usz0QtBAs0tXqiUg27dgPgetdTAC+yolZKn3kWAgAvW3epo9B1fHbsO/yedRgxK5dB6eQIAHDt3RPhc2dxnWeiFoZtgqyCqFRDF9kV7g/OhcAd26iVMpQVItI1ROoY9A9e3/8+TlVcQsyKZfB58H4ET5kMmUoldSwiaiAWaLIaolINTUAsPMcsh6jSSh2HqNGZL55GnEeU1DHoBpb//ir0dmp43z+U5ZmohWKBJqsiKlRQuvnBe8JqyGydpI5D1KjKjv3BlTgsnEyU4emEx6BSayHnahtELRYLNFkdUa6EzM4FPhNegsLZW+o4RI2m8txBaOQqOGkcpI5C16BRqLG0z0zEe8ZALefIM1FLxgJNVkmUySFqbeE9/gWoffmWN7Ue+opizoO2QE4aB/yr/3wEOPpCJVdKHYeIbhMLNFktQRAhqrTweGQh7DoMljoOUePIPI9Y9wipU9Bf+Dt448WBC+Cqc4KSFzETtQos0GT1RIUKTn1GwfWeaYBMLnUcottScWoPYt1YoC1FN98OWNZvNmyVOshEmdRxiKiRsEAT4fIydxGd4T3+X5DZOEgdh+iWlR3bCQeNPXRKrjQjJVEQMb7dQ3i80yio5SpukELUyrBAE10mKtRQuPjAZ+JaqLw4h5RaKJMB1VWliHAJljqJ1bJV2WBZv1noE5jAiwWJWikWaCu0d+9ehIeHY//+/bd1nL59+2LBggWNlMoyiDI5ZFpbeI56HjZt+kgdh+iWCLkXEeMWLnUMqxTk6IeXBz2HQAdflmeiVowFmugaRIUKLgMfg8ugSdz+m1qcyjP70cYjUuoYVqd3YFcs7fsM7NS2kPN6CqJWjc2A6DpEpRo2sb3gNXYFRI2t1HGIblrZke3wtHXjig/NRCbKMLnjKDza7mEuUUdkJVigLch9992HqVOn1rutW7duGDJkSL3bhg8fjrlz56Kqqgrr1q3DwIEDERsbiyFDhuDTTz+t99i+ffvihRdewOjRo9GuXTusWrXqqvNWVVVh5MiR6N69O1JSUuqe98orr2DZsmVo3749unTpgiVLlqCysvK6+dPT0zF79mx0794d0dHRSEhIwLx581BcXFz3GLPZjHfeeQeDBg1CmzZtMHDgQLz//vv1jpOYmIiRI0ciLi4OnTt3xsKFC1FSUnJzn8RGJirVULkHwmfSWijd/CXJQNRQpqoyVFVXINQ5UOoorZ6D2g4r75iLbn4dOGWDyIrwPSYL0qtXL3z88ccwmUwQRRGnT59GXl4e8vLykJ+fD2dnZ5SUlODIkSMYO3YsJk6ciGPHjmHatGkICQnB9u3bsXjxYuTl5eHJJ5+sO+7777+PMWPGYNKkSbC3t69XgmtqajB16lSkpKTg/fffR1BQUL3nhYSEYPXq1UhPT8fLL7+MvLw8vPrqq1dlr6ysxKhRo+Dm5oYlS5bAxsYGhw4dwquvvgq1Wo0lS5YAAF588UW8++67eOyxx9ClSxccPHgQK1asgCiKGDlyJBITEzF+/HgkJCRg3bp1yM/Px8svv4xTp07h448/hlze/F+yglwBmc4eXuNWoWDbRyhJ3NzsGYgaSijIRpRrKI7lnJY6SqsV5hyEeT2mQC1XccoGkZXhd7wF6dWrFzZs2IDjx48jJiYGe/bsQUhICNLT05GYmIhBgwZh586dEEURCoUC+/btw7p16zBo0CAAQPfu3WEwGLBhwwaMGDECjo6OAAAPDw/MmTOnbhmlvXv3AgBMJhNmzZqFI0eO4N1330VISP2VJ2QyGTZu3AidTlf392XLluHMmTMIDQ2t99iUlBR4e3vjxRdfhI+PDwCgS5cuSEpKQmJiIgCgpKQE7733HsaNG4eZM2cCABISEpCVlVU36rxmzRoEBwdjw4YNEMXaN0iioqIwdOhQbNmyBffcc0+jf95vhiAIEBQqOPV+BLqITsj54t8wlhdJkoXoZuhTDqNtZAd8duw7qaO0OoIgYGjEIAyNGsQpG0RWilM4LEjbtm3h4OCA3bt3AwD27NmDhIQEREVF1ZXQ3377De3bt8ehQ4egUCgwYMCAese4++67odfrkZSUVHdbaGjoNdcgfeGFF/DDDz/g0UcfRUTE1Rsv9O3bt648A6g717VW74iOjsZHH30ELy8vpKamYseOHdi0aRNSUlJQU1MDADh8+DAMBgP69+9f77nLly/H2rVrUVlZiaSkJPTu3RsmkwkGgwEGgwGhoaHw8vLCrl27burz2JREpRpq73D4TH4F2pD2Uschuq7SI9vg7+gDkRfBNipXnTNe6P8s7oscyPJMZMX4ympBRFFEjx49sGfPHphMJiQmJqJz587o2LEj9u3bBwD4448/0KdPHxQXF8PZ2blulPYKFxcXAEBpaWndbc7Oztc8X1paGjp06ID//ve/yM/Pv+p+Nze3en93cnICgOvOR3777bfRtWtXDBw4EPPnz8e+ffug0WhgNpsBAEVFRf+Yp6SkBCaTCRs2bEB0dHS9PxkZGcjJybnm85qbIJNDptbBbdgzcLnzCQj8IUoWyFCUDYNBj0BHX6mjtBp9ArtizaBF8LP3glrB+c5E1oxTOCxMr169sHDhQiQlJaG0tBQdOnSAWq3GW2+9hT179iAnJwe9e/dGTk4O8vPz6+ZLX5GbmwsAddM3/smKFSsQHx+PwYMHY+XKlVizZk29+68U3iuulOwrRfqvvv32W7zwwguYM2cOhg4dWveY6dOn4/jx4wAAW9valSwKCgrg5+dX99z09HRkZmYiMjISgiDg0UcfxeDBg686x19Hwy2BqFDBJroHNIFxyP7sBeizU6WORFSPuTgPkS4hOFeQJnWUFs1WZYOpnccjwiWYFwoSEQCOQFucHj16oKamBhs3bkR4eDgcHBzQrl07yOVyrF27FgEBAQgICECnTp1QU1ODn376qd7zN2/eDIVCgTZt2tzwXC4uLnB3d8e0adOwefNm7Nixo979v//+OwwGQ93ff/zxRwiCgC5dulx1rAMHDsDR0RETJkyoK8/l5eU4cOAATCYTACAuLg4KhQLbtm2r99zXX38d8+fPh62tLaKiopCamorY2Ni6P4GBgVi7dm29aSmWQlSoILdzgdfYlbDveh8AbtdLlsOQdgzxntFSx2jR4j1j8MqQpYh2C+WoMxHV4Qi0hXFwcEBcXBy2bt2KMWPGAAC0Wi1iYmJw6NAhjB8/HgDQs2dPdOzYEQsWLEBWVhZCQ0OxY8cOfPLJJ3jiiSdgZ2d30+ccPXo0vvzySyxduhSbN2+GVqsFAGRkZOCpp57CiBEjkJKSgrVr1+KBBx6Ar+/Vbwm3adMGH3/8MV588UX07t0bWVlZ+O9//4u8vLy6Qu3k5IRRo0Zh06ZNkMvl6NChAw4cOIAvv/wSy5YtA1A7Yj158mTMmzcPQ4YMgV6vx1tvvYXTp09j7ty5t/W5bSpXLjB07P4gdGEdkf35SzCWFUodiwilydsR0rav1DFaJJVMiQnth6OrbzuoOOpMRH/DAm2BevfujYMHD6Jz5851t3Xu3BmHDh1C7969AdTOl37jjTewdu1abNy4EcXFxQgICMCSJUswfPjwBp1PJpNh6dKlGD58ONatW4dnn30WQO0FiWq1GtOnT4eNjQ0effTResvj/dXQoUNx8eJFfP755/jggw/g7u6OXr16YcSIEVi0aBHOnz+PwMBAzJkzB05OTvjf//6HN998E/7+/li5ciWGDh0KoHYKy8aNG/Hqq69i6tSpUKlUiI2NxXvvvYewsLBb+Gw2H1GphtIzBL6TX0Hud6+j/IT0Fz2SddNnngPMZnjbeiCjNEvqOC1GiFMAZnV/HDYKLZS8xoGIrkEwX7nCi+gv+vbti65du2LFihVSR2mRTPoqVGeeQ+63r8JQbBkXP5J1cp+yHh+c3YZfUv6QOorFk4kyPBR9F4aE9eUKG0T0jzgHmqgJiEo11D4R8Hl8LewThgGiTOpIZKVM6afR1iNK6hgWL8o1FK8MWYrBYX1YnonohjiFg6iJCDIZBJkMjt3uh13bO5Dz9VpUZ3BXOGpeZcf/QOR906WOYbHs1XZ4rP1wtPWI4lxnIrppnMJB1ExMNdUoP74L+VvfhqmqXOo4ZEV85n6M6VuWIL+SF7deIQgCBoX0xiOx90ImyqDgVtxE1AB8xSBqJqJCBV1UN2jDOyHv+zdQfnyn1JHISugrihHhGoKdFxKljmIRQp0D8WSnsXDSOnBdZyK6JRyBJpKASV+F6uzzyP1mPQxF2VLHoVbO7f45SFQa8Xri+1JHkZSNUoex8Q+gi087KGUKCALXbSeiW8MCTSQRs8kIs9GA4t1fo2jPVzDXVEsdiVopXUwviHeMxJObF0odRRICBPQJSsCYtvdDLsqhlCmkjkRELRwLNJHETPoqmI0GFGz7AKWHfwHMJqkjUWsjyuE750M8/s08lOmta/69v4MPnuo8Fu46V+4kSESNhnOgiSQmKtUAAOc7xsGh2/3I/2kTKk5zrio1IpMB1VWlCHcJxoFLR6RO0yxctE4YHTcM7bxioZDJIQpctZWIGg8LNJGFEJVqiEo13O6dgZqCTOT98BaqM05JHYtaCSEnHTFuYa2+QNsodXgo5i70CUyATJRBzjXYiagJsEATWRhRqYbSPQCeI55DVfpJ5P+0CTUFl6SORS1c5Zn9iOs8WOoYTUYlU+Ku8Dtwb+QAiILIec5E1KQ4B5rIgl250LD8xC4UbPsAxrIiqSNRCyWqdfB5+r8Y/8UzqDbqpY7TaOSiHP2De+ChmLsgE2Vclo6ImgVHoIksmCDKIIgy2ER1hy4yAcWJW1C06wuYqyukjkYtjKmqHFXVFQhxDsSxnJY/NUgmytA3MAHDY++BQpRDrVBLHYmIrAgLNFELIMgVEADYdxwC+w6DUXLoZxTv+Yoj0tQgQkEWol1DW3SBFgURPf07Y0TcfVDLlCzORCQJTuEgaoFMhhrAbEb5yd0o+uMz1BRkSh2JWgDHHg8jP7oj5m99UeooDaaSKdE7sCuGRQ2GRq5icSYiSXEEmqgFEuW1F0jZRHeHLqILqtKOofC3T1CdeU7iZGTJSo/8Cv9uQyETRBhbyHrjDmo73BnWDwNCekKAwLWcicgisEATtWBX5khrgtpC7RcFfd5FFG7/CJXnk6SORhbIUJwLvaEaAY6+OFeQJnWcf+Rn741hUYPRwbsNAHBVDSKyKCzQRK2AIIoQlGqovULg/sBsGMoKUbjjE5Sf2M2dDam+4nxEuYZabIGO84jCg9F3wt/BB3JRBhnXcSYiC8Q50EStlKm6EqaaahTv+RqlydthqiiROhJZAKf+jyLdLxjLdqyTOkodhShHd/9OeCB6CGyUOmg4v5mILBwLNFErZ9JXAaKIyvNHULLvO1SmJgPgt721UnoEwWXMMoz9YibMEn8dOKrtcUdwdwwJ6wtREFmciajF4BQOolZOVNaWEm1Ie2j8omEyVKNk/w8oPbwVxrJCidNRc9NnpcBsNsPLzh0ZJVnNfn6FKEcH7zYYFNobwU4BgNkMpVzZ7DmIiG4HCzSRlRAEAYJKA1GlgUPCMDh0G4bq9JMo3rcZFecOca60FTGWFSLSNaRZC3Swkz8GBPdEV7/2MJlN0Co0zXZuIqLGxgJNZIVERe2InyawDVReITCbjCg5+BNKD/4MQ0muxOmoqZkvnkJbjyhsPfdHk57HUW2PXgGdMSC0F2wUWihkCl4UeJnZbIYgCFLHIKJbxDnQRAQAMBn0AAB9ThpKk7ah4tReGMuLpA1FTUIT1Ba6YTPw2FdzGv3YClGO9l61UzRCnANgNpuh4hSNeg4dOoTXX38db775ptRRiOgWcQSaiAAA4uWSo/YKhdLFF879x6Em/xJKk35F+ck9MJbmS5yQGktlymE4yVRw1joiv+L258HLRTmiXEPRza8Dp2jchP/7v//D2bNnpY5BRLeBBZqIrnLlwkOVewAUfUbCqc8oGIpzUJq0DeUnd8NQlC1xQrpdNRXFiHQNwR9pibf0fJ1Si3aeMejm1xExbmEwmIxQy1UQRbGRkxIRWR5O4SCim2aqqQZQexFa6ZHtKD+xCzX5GRKnolvhdv9s7FeZ8dq+9276Oe46F3TwiUNP/07wsfOCwWRosUvPHT16FKtXr8bRo0dhMpkQFxeHGTNmoG3btpg3bx6ysrIwaNAgvPbaaygtLUXHjh2xcOFC+Pn51R3j8OHDWLduHY4ePQoASEhIwOzZs+Hj4wMA+OKLL7B48WIsWLAAr7zyCpRKJTp16oSvv/667hirVq3CsGHDsHnzZrz55ptITU2FTqdDt27dMHv2bLi7uzfvJ4aIbgoLNBHdEpOhBjCbYKwoQfmpvag8exBV6SdgvjyXmiybLroHZP3HYMrmBdd9jAABIc4B6OITj66+7WGrsoEAtPhl58rKynDHHXegS5cueOihh6DX6/H666/j3Llz2L59O5YvX46tW7dCo9Fg1qxZUCgUWLNmDYxGI7Zs2QKtVotdu3bhscceQ7du3fDII4+gvLwc69evR0VFBb766iu4uLjgiy++wPz58+Hj44NFixahsLAQ7dq1w6pVq5CcnIxXX30Vfn5+OH/+PEaPHo0pU6agU6dOyMzMxOrVqxEYGIj3339f6k8XEV0Dp3AQ0S0R5Yra/9q7wr7DYNi26QNRrkR1TirKT+5F5fnD0Gelgpu2WKbyE7vhe/eTsFHqUKYvr7vdWeOIKLdQtPOMRbxXNABAJVO2qtUzzp49i8LCQowZMwbt2rUDAAQFBeHTTz9FeXnt56K0tBSbNm1CXFwcACA4OBj33nsvvvzyS4wcORJr1qxBcHAw3njjjbppK+3bt8fAgQOxadMmzJ07F0DtahtTpkxBr1696s7v5OQEpVKJtm3bAqidE61WqzFp0iQolbW/nDg4OCA5OZmrdRBZKBZoIrptgiiDTK0DcPkiRDd/OHa7HxAEVGWcQsWZA6hKOwp9zgWwUFsIkwHVlaXo6tsOVYZqxHvGIMY9HFqFBkaTscVOzbgZoaGhcHJywuTJkzFo0CD06NGjbsrEFb6+vnXlGQDCw8Ph7++P/fv3Y+jQoTh27BimT59eb863l5cXOnTogH379tU7X1hY2D/m6dixI15++WXcfffdGDBgAHr16oXu3bvXK91EZFlYoImo0YlyZd2rizYwDmqfCMBkqi3Ul86g8swBVF06A31OKsz6KmnDWhNBhNLNH2qfcGiC4qBSaTGm7QMwmU31C7NMIV3GZqDT6fDhhx/i9ddfx/fff49PP/0UarUa9957LxYuXAgAcHNzu+p5zs7OKCkpQWlpKcxmM1xcXK75mEuXLtW77VqP+6v4+Hi8+eabeOedd/D222/jzTffhIuLCyZPnozRo0ffxkdKRE2FBZqImpyoUNX9vzYgFmrvcJiNNRAVKhgrilGdmYKqCydQnZ0CfdZ5mKrKJEzbSggiFE6eULr6QekRBE1gGyjd/ACjARBldf8m1vpDICgoCKtXr4bRaMSRI0fw9ddf4+OPP0ZAQAAAoKio6Krn5Ofno02bNrCxsYEgCMjLy7vqMbm5uXB0dGxwnh49eqBHjx6orKzEnj178N5772H58uWIj49HTExMg49HRE3LWl87iUhCokIJXN4NUW7rDLmtM7RBbWEy6CEqlDBVVaA6OxVVF46jOusc9FnnuanLP5DZOkHp5g+lqz/U3mFQuvtDbucCs6EGgBmCQgXhyhzmFn4BYGP4+eefsWjRInz77bdwdXVFfHw84uPj8d133yEzMxMAkJqaitTU1LpCffLkSaSlpWHSpEnQ6XSIjo7Gli1b8Pjjj9dN48jMzMTBgwdvOGosk9WfT7569Wrs3bsXn332GTQaDfr06QNPT0/ce++9yMrKYoEmskAs0ERkEQS5ArLLFybKdPbQBsVB4x8NU001BLkCZkMNDMW5qMm/BH1eOgyFWagpzIahKNs6yrUog9zGCXJ7VyjdfKH0DIHKMxgKRw8AgNlogChXQZD/+bIuyPgSfy3t2rWD2WzGk08+WVeIv//+e5SVlWHAgAH4/PPPYTKZ8MQTT2DGjBkwGAxYs2YNQkJCcPfddwMAnn76aUycOBGTJ0+utwqHjY0Nxo0b94/nt7W1RV5eHnbs2IHIyEgkJCRg06ZNmDdvHu655x7U1NRg48aNcHR0RKdOnZrhM0JEDcVl7IioxTGbjDDXVNeuUCCTQxBFGMqKYSjOQU1uOvT5GTAUZaOmKAfG8iKYKssAs0nq2NcniJDZOEBu51L7x9YZckcPKJw8ILdzhczGHqJSA7OhBmaTEYJMXm9aDDXc0aNH8fLLL+Po0aOorKxEaGgonnjiCdxxxx2YN28eDhw4gDFjxuD111+HXq9H7969MX/+fDg5OdUdY9euXXjllVdw/PhxaDQaJCQkYNasWfD29gZQuw70s88+ix07dsDDw6PueRcuXMATTzyBtLQ0zJgxA4899hi2bNmCjRs34vz58xAEAe3bt8fs2bNveAEiEUmDBZqIWh2TQQ+zoaZ2+S9RDkEuh9lggFlfCVN1BYxVZTBVlMJQXgRjWRFMlSUwVpbBVFkKY2VZ7VrWZjNgNsFsNtVeAGk21/6/2QyYLt9u/vN2QRQhKjUQlBqISg1ElQaCUl37/5f/LmpsIaptIFPrIKq0EDU2kOnsIaq0MBsNMBsNEAQBgkwBQd66L+SzZFcK9M8//yx1FCKyUHx/j4handpVQOrP9RUuz7uW6ezx92paO7JrgNlUf5RaAGAWBAh/vUW4cs+Vm4Qrj/yzWP/lPkGQQZCJtUX+H9bzFUQZwFFlIqIWgQWaiKyeIFdAuKpWExERXRuncBARERERNYB444cQEREREdEVLNBERERERA3AAk1ERERE1AAs0EREREREDcACTURERETUACzQREREREQNwAJNRERERNQALNBERERERA3AAk1ERERE1AAs0EREREREDcACTURERETUACzQREREREQNwAJNRERERNQALNBERERERA3AAk1ERERE1AAs0EREREREDcACTURERETUACzQREREREQNwAJNRERERNQALNBERERERA3AAk1ERERE1AAs0EREREREDcACTURERETUACzQREREREQNwAJNRERERNQALNBERERERA3AAk1ERERE1AAs0EREREREDcACTURERETUACzQREREREQNwAJNRERERNQALNBERERERA3AAk1ERERE1AAs0EREREREDcACTURERETUACzQREREREQNwAJNRERERNQALNBERERERA3AAk1ERERE1AAs0EREREREDcACTURERETUACzQREREREQNwAJNRERERNQALNBERERERA3AAk1ERERE1AAs0EREREREDcACTURERETUACzQREREREQNwAJNRERERNQALNBERERERA3AAk1ERERE1AAs0EREREREDcACTURERETUACzQREREREQNwAJNRERERNQALNBERERERA3AAk1ERERE1AAs0EREREREDcACTURERETUAP8PVKaQW4bvFH0AAAAASUVORK5CYII=",
      "text/plain": [
       "<Figure size 720x720 with 1 Axes>"
      ]
     },
     "metadata": {},
     "output_type": "display_data"
    }
   ],
   "source": [
    "# Fundraising into Categories\n",
    "category_fundraising = df.groupby('category_fundraising').category_fundraising.count().sort_values(ascending=False )\n",
    "\n",
    "plt.figure(figsize=(10, 10))\n",
    "plt.pie(category_fundraising,labels=category_fundraising.index,autopct='%.0f%%')\n",
    "plt.title('Pie-Plot Univariate Analysis Showing Percentage of Fundraising category ',fontsize=20)\n",
    "plt.savefig(\"Fundraising category %\")\n",
    "plt.show()"
   ]
  },
  {
   "cell_type": "markdown",
   "metadata": {
    "id": "XxC_Ct8FQ1Xr"
   },
   "source": [
    "The Pie Chart above shows most of the Fundraising Categories which are **Friends** and **Workplace**"
   ]
  },
  {
   "cell_type": "code",
   "execution_count": 17,
   "metadata": {
    "colab": {
     "base_uri": "https://localhost:8080/",
     "height": 355
    },
    "id": "7Qe_Zy5BPQTS",
    "outputId": "ef989e95-a05b-45e4-83bc-3ab3e45e6357"
   },
   "outputs": [
    {
     "data": {
      "image/png": "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",
      "text/plain": [
       "<Figure size 1008x360 with 1 Axes>"
      ]
     },
     "metadata": {},
     "output_type": "display_data"
    }
   ],
   "source": [
    "# Donation type Histogram Plot\n",
    "plt.figure(figsize=(14, 5))\n",
    "ab=plt.hist(df['donation_type'])\n",
    "plt.title(\"Histogram Univariate Analysis Showing Donation Types\",fontsize=24)\n",
    "plt.savefig(\"Donation Types\")\n",
    "plt.show()"
   ]
  },
  {
   "cell_type": "markdown",
   "metadata": {
    "id": "RQ2I3eZQSCK_"
   },
   "source": [
    "The graph above shows that most of the Donors donated to more individuals and few to Teams"
   ]
  },
  {
   "cell_type": "code",
   "execution_count": 18,
   "metadata": {
    "colab": {
     "base_uri": "https://localhost:8080/",
     "height": 481
    },
    "id": "gKv2P3VIQntj",
    "outputId": "86b9fbe5-109c-4b92-9fca-19a84bfd6344"
   },
   "outputs": [
    {
     "data": {
      "image/png": "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",
      "text/plain": [
       "<Figure size 1080x504 with 1 Axes>"
      ]
     },
     "metadata": {},
     "output_type": "display_data"
    }
   ],
   "source": [
    "sns.set_theme(font_scale=1.5)\n",
    "plt.figure(figsize=(15,7))\n",
    "sns.barplot(x=df.groupby('gender')['gender'].count().index,y=df.groupby('gender')['gender'].count().values)\n",
    "plt.title('Distribution of Sex Among Donors')\n",
    "plt.savefig(\"Sex Amoung Donors\")\n",
    "plt.show()"
   ]
  },
  {
   "cell_type": "markdown",
   "metadata": {
    "id": "9UGakL1QStN8"
   },
   "source": [
    "The above graph indicates that more than 60% of the Donors are Male"
   ]
  },
  {
   "cell_type": "code",
   "execution_count": 19,
   "metadata": {
    "colab": {
     "base_uri": "https://localhost:8080/",
     "height": 596
    },
    "id": "9SZWgGj9X-K1",
    "outputId": "51912965-797e-4aa1-9634-ed5fda0038fc"
   },
   "outputs": [
    {
     "data": {
      "image/png": "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",
      "text/plain": [
       "<Figure size 720x720 with 1 Axes>"
      ]
     },
     "metadata": {},
     "output_type": "display_data"
    }
   ],
   "source": [
    "# Tenure Description pie plot\n",
    "tenure_description = df.groupby('tenure_description').tenure_description.count().sort_values(ascending=False )\n",
    "\n",
    "plt.figure(figsize=(10, 10))\n",
    "plt.pie(tenure_description,labels=tenure_description.index,autopct='%.0f%%')\n",
    "plt.title('Pie-Plot Univariate Analysis Showing Percentage of Tenure Description ',fontsize=20)\n",
    "plt.savefig(\"Fundraising % in Tenure\")\n",
    "plt.show()"
   ]
  },
  {
   "cell_type": "markdown",
   "metadata": {
    "id": "HZRvNWu1YxuR"
   },
   "source": [
    "The Above Pie Plot indicates that there are More First time Fundraisers, which tends to mean that peoples are willing to Donate"
   ]
  },
  {
   "cell_type": "code",
   "execution_count": 20,
   "metadata": {
    "colab": {
     "base_uri": "https://localhost:8080/"
    },
    "id": "Y210zaSGYKQa",
    "outputId": "97cd4462-1006-4898-de5a-5e593553826d"
   },
   "outputs": [
    {
     "data": {
      "text/plain": [
       "array([nan, 'Retained', 'New', 'Returning'], dtype=object)"
      ]
     },
     "execution_count": 20,
     "metadata": {},
     "output_type": "execute_result"
    }
   ],
   "source": [
    "df['tenure_description'].unique()"
   ]
  },
  {
   "cell_type": "markdown",
   "metadata": {
    "id": "alZl7xSnTd4L"
   },
   "source": [
    "**DATA PREPARATION AND FEATURES ENGINEERING**"
   ]
  },
  {
   "cell_type": "markdown",
   "metadata": {
    "id": "FpH6TtVyWzjH"
   },
   "source": [
    "Replace Null Values in the columns with categorical values with the mode of the column"
   ]
  },
  {
   "cell_type": "code",
   "execution_count": 21,
   "metadata": {
    "colab": {
     "base_uri": "https://localhost:8080/"
    },
    "id": "OT_Q5L_e21CO",
    "outputId": "f6f498e6-ec91-493a-ca99-ff5584024068"
   },
   "outputs": [
    {
     "name": "stdout",
     "output_type": "stream",
     "text": [
      "0\n",
      "259182\n"
     ]
    }
   ],
   "source": [
    "print(df['geo_state_region_province_x'].isnull().sum())\n",
    "print(df['geo_state_region_province_y'].isnull().sum())"
   ]
  },
  {
   "cell_type": "code",
   "execution_count": 22,
   "metadata": {
    "colab": {
     "base_uri": "https://localhost:8080/"
    },
    "id": "Tnxi9kvaV6e6",
    "outputId": "76541971-3a2c-4867-8de5-32786575fe2b"
   },
   "outputs": [
    {
     "name": "stdout",
     "output_type": "stream",
     "text": [
      "0\n",
      "0\n",
      "0\n",
      "0\n"
     ]
    }
   ],
   "source": [
    "cat_cols_with_nan = ['country','gender','category_fundraising', 'tenure_description']\n",
    "\n",
    "for nans in df[cat_cols_with_nan]:\n",
    "    cols_mode = df[nans].mode()[0]\n",
    "    df[nans].fillna(cols_mode, inplace=True)\n",
    "    print(df[nans].isnull().sum())"
   ]
  },
  {
   "cell_type": "markdown",
   "metadata": {
    "id": "GeLPvZLBhpJ2"
   },
   "source": [
    "**DROPPING UNECESSARY COLUMNS**"
   ]
  },
  {
   "cell_type": "code",
   "execution_count": 23,
   "metadata": {
    "colab": {
     "base_uri": "https://localhost:8080/"
    },
    "id": "KNDRiHggfVvh",
    "outputId": "e05b9d68-e606-4e3b-90c3-e9b92dcedd58"
   },
   "outputs": [
    {
     "data": {
      "text/plain": [
       "(2097607, 33)"
      ]
     },
     "execution_count": 23,
     "metadata": {},
     "output_type": "execute_result"
    }
   ],
   "source": [
    "cols_to_be_dropped = ['member_id_hash','donor_id_hash','feat_facebook_fundraiser','feat_facebook_login','feat_motive','feat_phone_no_provided',\n",
    "                      'feat_picture','feat_platinum_club','feat_target_met','feat_target_setter','feat_url_personal',\n",
    "                      'feat_web_click_shares','feat_web_date_nunique','feat_web_session_id_nunique','feat_web_total_pageviews',\n",
    "                      'feat_web_visited_weekday','feat_web_visited_weekend','geo_state_region_province_y','feat_app_user','feat_app_click_share','feat_app_date_nunique',\n",
    "                      'feat_app_operating_system_first','feat_app_session_id_nunique','feat_app_total_screenviews','feat_app_view_motracker',\n",
    "                      'feat_app_visited_weekday_app','feat_app_visited_weekend_app','web_user','web_traffic_channel_first','web_traffic_source_first',\n",
    "                      'web_traffic_medium_first','web_view_get_involved','web_view_about_us','web_view_mens_health','sum_donations_member_2020',\n",
    "                      'mean_donations_member_2020','median_donations_member_2020','count_donations_member_2020','max_donations_member_2020',\n",
    "                      'min_donations_member_2020','std_donations_member_2020','date_lcl_activation','date_lcl_donation_time','geo_state_region_province_x']\n",
    "\n",
    "# DROP COLUMNS\n",
    "df.drop(cols_to_be_dropped, axis=1, inplace=True)\n",
    "df.shape"
   ]
  },
  {
   "cell_type": "code",
   "execution_count": 24,
   "metadata": {
    "colab": {
     "base_uri": "https://localhost:8080/",
     "height": 334
    },
    "id": "yTjR_M4GW_oa",
    "outputId": "d1033198-9079-4f56-d170-a619fe9100ce"
   },
   "outputs": [
    {
     "data": {
      "text/html": [
       "<div>\n",
       "<style scoped>\n",
       "    .dataframe tbody tr th:only-of-type {\n",
       "        vertical-align: middle;\n",
       "    }\n",
       "\n",
       "    .dataframe tbody tr th {\n",
       "        vertical-align: top;\n",
       "    }\n",
       "\n",
       "    .dataframe thead th {\n",
       "        text-align: right;\n",
       "    }\n",
       "</style>\n",
       "<table border=\"1\" class=\"dataframe\">\n",
       "  <thead>\n",
       "    <tr style=\"text-align: right;\">\n",
       "      <th></th>\n",
       "      <th>donation_type</th>\n",
       "      <th>aud_donor_foundation</th>\n",
       "      <th>aud_donor_member</th>\n",
       "      <th>aud_donor_team</th>\n",
       "      <th>aud_donor_total</th>\n",
       "      <th>payment_country</th>\n",
       "      <th>is_business</th>\n",
       "      <th>pmt_card_type</th>\n",
       "      <th>feat_donate_self</th>\n",
       "      <th>country</th>\n",
       "      <th>...</th>\n",
       "      <th>sum_donations_member_2018</th>\n",
       "      <th>sum_donations_member_2019</th>\n",
       "      <th>sum_donor_foundation_2020</th>\n",
       "      <th>sum_donor_member_2020</th>\n",
       "      <th>sum_donor_team_2020</th>\n",
       "      <th>sum_donor_total_2020</th>\n",
       "      <th>registered_2017</th>\n",
       "      <th>registered_2018</th>\n",
       "      <th>registered_2019</th>\n",
       "      <th>registered_2021</th>\n",
       "    </tr>\n",
       "  </thead>\n",
       "  <tbody>\n",
       "    <tr>\n",
       "      <th>0</th>\n",
       "      <td>donate_to_recurring</td>\n",
       "      <td>0.00</td>\n",
       "      <td>0.0</td>\n",
       "      <td>0.0</td>\n",
       "      <td>0.00</td>\n",
       "      <td>au</td>\n",
       "      <td>0</td>\n",
       "      <td>visa</td>\n",
       "      <td>0</td>\n",
       "      <td>UK</td>\n",
       "      <td>...</td>\n",
       "      <td>NaN</td>\n",
       "      <td>NaN</td>\n",
       "      <td>NaN</td>\n",
       "      <td>NaN</td>\n",
       "      <td>NaN</td>\n",
       "      <td>NaN</td>\n",
       "      <td>NaN</td>\n",
       "      <td>NaN</td>\n",
       "      <td>NaN</td>\n",
       "      <td>NaN</td>\n",
       "    </tr>\n",
       "    <tr>\n",
       "      <th>1</th>\n",
       "      <td>donate_to_recurring</td>\n",
       "      <td>0.00</td>\n",
       "      <td>0.0</td>\n",
       "      <td>0.0</td>\n",
       "      <td>0.00</td>\n",
       "      <td>au</td>\n",
       "      <td>0</td>\n",
       "      <td>american express</td>\n",
       "      <td>0</td>\n",
       "      <td>UK</td>\n",
       "      <td>...</td>\n",
       "      <td>NaN</td>\n",
       "      <td>NaN</td>\n",
       "      <td>NaN</td>\n",
       "      <td>NaN</td>\n",
       "      <td>NaN</td>\n",
       "      <td>NaN</td>\n",
       "      <td>NaN</td>\n",
       "      <td>NaN</td>\n",
       "      <td>NaN</td>\n",
       "      <td>NaN</td>\n",
       "    </tr>\n",
       "    <tr>\n",
       "      <th>2</th>\n",
       "      <td>donate_to_recurring</td>\n",
       "      <td>0.00</td>\n",
       "      <td>0.0</td>\n",
       "      <td>0.0</td>\n",
       "      <td>0.00</td>\n",
       "      <td>au</td>\n",
       "      <td>0</td>\n",
       "      <td>visa</td>\n",
       "      <td>0</td>\n",
       "      <td>UK</td>\n",
       "      <td>...</td>\n",
       "      <td>NaN</td>\n",
       "      <td>NaN</td>\n",
       "      <td>NaN</td>\n",
       "      <td>NaN</td>\n",
       "      <td>NaN</td>\n",
       "      <td>NaN</td>\n",
       "      <td>NaN</td>\n",
       "      <td>NaN</td>\n",
       "      <td>NaN</td>\n",
       "      <td>NaN</td>\n",
       "    </tr>\n",
       "    <tr>\n",
       "      <th>3</th>\n",
       "      <td>donate_to_recurring</td>\n",
       "      <td>0.00</td>\n",
       "      <td>0.0</td>\n",
       "      <td>0.0</td>\n",
       "      <td>0.00</td>\n",
       "      <td>au</td>\n",
       "      <td>0</td>\n",
       "      <td>american express</td>\n",
       "      <td>0</td>\n",
       "      <td>UK</td>\n",
       "      <td>...</td>\n",
       "      <td>NaN</td>\n",
       "      <td>NaN</td>\n",
       "      <td>NaN</td>\n",
       "      <td>NaN</td>\n",
       "      <td>NaN</td>\n",
       "      <td>NaN</td>\n",
       "      <td>NaN</td>\n",
       "      <td>NaN</td>\n",
       "      <td>NaN</td>\n",
       "      <td>NaN</td>\n",
       "    </tr>\n",
       "    <tr>\n",
       "      <th>4</th>\n",
       "      <td>donate_to_charity</td>\n",
       "      <td>1.62</td>\n",
       "      <td>0.0</td>\n",
       "      <td>0.0</td>\n",
       "      <td>1.62</td>\n",
       "      <td>ie</td>\n",
       "      <td>0</td>\n",
       "      <td>mc</td>\n",
       "      <td>0</td>\n",
       "      <td>UK</td>\n",
       "      <td>...</td>\n",
       "      <td>NaN</td>\n",
       "      <td>NaN</td>\n",
       "      <td>NaN</td>\n",
       "      <td>NaN</td>\n",
       "      <td>NaN</td>\n",
       "      <td>NaN</td>\n",
       "      <td>NaN</td>\n",
       "      <td>NaN</td>\n",
       "      <td>NaN</td>\n",
       "      <td>NaN</td>\n",
       "    </tr>\n",
       "  </tbody>\n",
       "</table>\n",
       "<p>5 rows × 33 columns</p>\n",
       "</div>"
      ],
      "text/plain": [
       "         donation_type  aud_donor_foundation  aud_donor_member  \\\n",
       "0  donate_to_recurring                  0.00               0.0   \n",
       "1  donate_to_recurring                  0.00               0.0   \n",
       "2  donate_to_recurring                  0.00               0.0   \n",
       "3  donate_to_recurring                  0.00               0.0   \n",
       "4    donate_to_charity                  1.62               0.0   \n",
       "\n",
       "   aud_donor_team  aud_donor_total payment_country  is_business  \\\n",
       "0             0.0             0.00              au            0   \n",
       "1             0.0             0.00              au            0   \n",
       "2             0.0             0.00              au            0   \n",
       "3             0.0             0.00              au            0   \n",
       "4             0.0             1.62              ie            0   \n",
       "\n",
       "      pmt_card_type  feat_donate_self country  ... sum_donations_member_2018  \\\n",
       "0              visa                 0      UK  ...                       NaN   \n",
       "1  american express                 0      UK  ...                       NaN   \n",
       "2              visa                 0      UK  ...                       NaN   \n",
       "3  american express                 0      UK  ...                       NaN   \n",
       "4                mc                 0      UK  ...                       NaN   \n",
       "\n",
       "  sum_donations_member_2019  sum_donor_foundation_2020  sum_donor_member_2020  \\\n",
       "0                       NaN                        NaN                    NaN   \n",
       "1                       NaN                        NaN                    NaN   \n",
       "2                       NaN                        NaN                    NaN   \n",
       "3                       NaN                        NaN                    NaN   \n",
       "4                       NaN                        NaN                    NaN   \n",
       "\n",
       "  sum_donor_team_2020  sum_donor_total_2020  registered_2017  registered_2018  \\\n",
       "0                 NaN                   NaN              NaN              NaN   \n",
       "1                 NaN                   NaN              NaN              NaN   \n",
       "2                 NaN                   NaN              NaN              NaN   \n",
       "3                 NaN                   NaN              NaN              NaN   \n",
       "4                 NaN                   NaN              NaN              NaN   \n",
       "\n",
       "   registered_2019  registered_2021  \n",
       "0              NaN              NaN  \n",
       "1              NaN              NaN  \n",
       "2              NaN              NaN  \n",
       "3              NaN              NaN  \n",
       "4              NaN              NaN  \n",
       "\n",
       "[5 rows x 33 columns]"
      ]
     },
     "execution_count": 24,
     "metadata": {},
     "output_type": "execute_result"
    }
   ],
   "source": [
    "df.head()"
   ]
  },
  {
   "cell_type": "markdown",
   "metadata": {
    "id": "SDOYDCgUnc8W"
   },
   "source": [
    "WORKING ON THE **GENDER** COLUMN"
   ]
  },
  {
   "cell_type": "code",
   "execution_count": 25,
   "metadata": {
    "colab": {
     "base_uri": "https://localhost:8080/"
    },
    "id": "1B9eUITZnbip",
    "outputId": "3272ab05-9064-445e-e8a2-effaa2d5a55f"
   },
   "outputs": [
    {
     "data": {
      "text/plain": [
       "array(['m', 'f', 'non-binary'], dtype=object)"
      ]
     },
     "execution_count": 25,
     "metadata": {},
     "output_type": "execute_result"
    }
   ],
   "source": [
    "# Replace th (n/u) to non-binary\n",
    "df['gender'].replace(['n','u'], 'non-binary', inplace=True)\n",
    "df['gender'].unique()"
   ]
  },
  {
   "cell_type": "markdown",
   "metadata": {
    "id": "mb5Ic4uNrpxu"
   },
   "source": [
    "Replacing NaN values and the convert the data type into an integer"
   ]
  },
  {
   "cell_type": "code",
   "execution_count": 26,
   "metadata": {
    "id": "4kRkcEcUorho"
   },
   "outputs": [],
   "source": [
    "cols = ['type_team_captain','type_team_member','campaigns_total_number','product_grow_intends',\n",
    "        'product_host_intends','product_move_intends','product_myow_intends',\n",
    "        'feat_donote_other','feat_donote_self']\n",
    "\n",
    "\n",
    "for col in df[cols]:\n",
    "    col_mode = df[col].mode()[0]\n",
    "    # fill nan values & convert dtype to integer\n",
    "    df[col].fillna(col_mode, inplace=True)\n",
    "    df[col] = df[col].astype(int)\n"
   ]
  },
  {
   "cell_type": "markdown",
   "metadata": {
    "id": "pUt3Bu4Gw8mE"
   },
   "source": [
    "Filling The NaN values in the registration Years with the mode of their columns and then converting the data types to an Integer\n"
   ]
  },
  {
   "cell_type": "code",
   "execution_count": 27,
   "metadata": {
    "id": "u7xl68HvwMWp"
   },
   "outputs": [],
   "source": [
    "for year in df[reg_year]:\n",
    "    year_mode = df[year].mode()[0]\n",
    "    df[year].fillna(year_mode, inplace=True)\n",
    "    df[year] = df[year].astype(int)"
   ]
  },
  {
   "cell_type": "markdown",
   "metadata": {
    "id": "ftGhDK9Ix_s-"
   },
   "source": [
    "Filling the NaN values in the columns with float data types with the mean of the column"
   ]
  },
  {
   "cell_type": "code",
   "execution_count": 28,
   "metadata": {
    "id": "R4-x2aDnrOt4"
   },
   "outputs": [],
   "source": [
    "# Generate columns with float data types\n",
    "float_cols = df.select_dtypes(include='float64').columns.tolist()\n",
    "\n",
    "for col in df[float_cols]:\n",
    "    col_mean = df[col].mean()\n",
    "    df[col].fillna(col_mean, inplace=True)"
   ]
  },
  {
   "cell_type": "code",
   "execution_count": 29,
   "metadata": {
    "colab": {
     "base_uri": "https://localhost:8080/"
    },
    "id": "Il9HR_6XrZGv",
    "outputId": "4c95d674-d834-4018-a8d0-e7bcd67bd044"
   },
   "outputs": [
    {
     "data": {
      "text/plain": [
       "0"
      ]
     },
     "execution_count": 29,
     "metadata": {},
     "output_type": "execute_result"
    }
   ],
   "source": [
    "# Fill the pmt_card_type NaN values with the mode of the column\n",
    "pmt_mode = df['pmt_card_type'].mode()[0]\n",
    "df['pmt_card_type'].fillna(pmt_mode, inplace=True)\n",
    "\n",
    "df['pmt_card_type'].isnull().sum()"
   ]
  },
  {
   "cell_type": "code",
   "execution_count": 30,
   "metadata": {
    "colab": {
     "base_uri": "https://localhost:8080/"
    },
    "id": "a6APnlKTwq5-",
    "outputId": "d4cbd68b-cc56-4096-96fb-f2b851789bf6"
   },
   "outputs": [
    {
     "data": {
      "text/plain": [
       "donation_type                0\n",
       "aud_donor_foundation         0\n",
       "aud_donor_member             0\n",
       "aud_donor_team               0\n",
       "aud_donor_total              0\n",
       "payment_country              0\n",
       "is_business                  0\n",
       "pmt_card_type                0\n",
       "feat_donate_self             0\n",
       "country                      0\n",
       "gender                       0\n",
       "category_fundraising         0\n",
       "type_team_captain            0\n",
       "type_team_member             0\n",
       "tenure_description           0\n",
       "campaigns_total_number       0\n",
       "product_grow_intends         0\n",
       "product_host_intends         0\n",
       "product_move_intends         0\n",
       "product_myow_intends         0\n",
       "feat_donote_other            0\n",
       "feat_donote_self             0\n",
       "sum_donations_member_2017    0\n",
       "sum_donations_member_2018    0\n",
       "sum_donations_member_2019    0\n",
       "sum_donor_foundation_2020    0\n",
       "sum_donor_member_2020        0\n",
       "sum_donor_team_2020          0\n",
       "sum_donor_total_2020         0\n",
       "registered_2017              0\n",
       "registered_2018              0\n",
       "registered_2019              0\n",
       "registered_2021              0\n",
       "dtype: int64"
      ]
     },
     "execution_count": 30,
     "metadata": {},
     "output_type": "execute_result"
    }
   ],
   "source": [
    "df.isnull().sum()"
   ]
  },
  {
   "cell_type": "code",
   "execution_count": 38,
   "metadata": {
    "colab": {
     "base_uri": "https://localhost:8080/"
    },
    "id": "t_ZStPY_yxL-",
    "outputId": "9e6068c0-2711-4c47-9376-6785bd189f39"
   },
   "outputs": [
    {
     "data": {
      "text/plain": [
       "['donation_type',\n",
       " 'payment_country',\n",
       " 'pmt_card_type',\n",
       " 'country',\n",
       " 'gender',\n",
       " 'category_fundraising',\n",
       " 'tenure_description']"
      ]
     },
     "execution_count": 38,
     "metadata": {},
     "output_type": "execute_result"
    }
   ],
   "source": [
    "# Generating new categorical columns from the dataframe\n",
    "categ_cols = df.select_dtypes(include='O').columns.tolist()\n",
    "categ_cols"
   ]
  },
  {
   "cell_type": "markdown",
   "metadata": {
    "id": "BLnyDi4_5XzG"
   },
   "source": [
    "**ENCODING COLUMNS WITH CATEGORICAL FEATURES**"
   ]
  },
  {
   "cell_type": "code",
   "execution_count": 39,
   "metadata": {
    "colab": {
     "base_uri": "https://localhost:8080/"
    },
    "id": "ENfw5a6H467W",
    "outputId": "207606a0-b415-41ee-8fc4-2a91911d4a62"
   },
   "outputs": [
    {
     "data": {
      "text/plain": [
       "(2097607, 98)"
      ]
     },
     "execution_count": 39,
     "metadata": {},
     "output_type": "execute_result"
    }
   ],
   "source": [
    "# One Hot Encoding Using Pandas\n",
    "df.shape\n",
    "df = pd.get_dummies(df, columns=categ_cols)\n",
    "df.shape"
   ]
  },
  {
   "cell_type": "markdown",
   "metadata": {
    "id": "ECffQS6mCy_z"
   },
   "source": [
    "**DATA SEGMENTATION**\n",
    "\n",
    "1 = if the fundraiser was registered in Campaign 2021; this is what your retention model should be trying to predict.....................\n",
    "So, The column to be predicted is the **Registered_2021** column "
   ]
  },
  {
   "cell_type": "markdown",
   "metadata": {
    "id": "5bYQekwZDOK0"
   },
   "source": []
  },
  {
   "cell_type": "code",
   "execution_count": 42,
   "metadata": {
    "id": "jNBWwK0x_Dt0"
   },
   "outputs": [],
   "source": [
    "# Rename the Registered_2021 to Churn\n",
    "df.rename({'registered_2021':'Churn'}, axis=1, inplace=True)\n",
    "\n",
    "# Data Modelling\n",
    "X = df.drop('Churn', axis=1).copy()\n",
    "y = df['Churn'].copy()"
   ]
  },
  {
   "cell_type": "markdown",
   "metadata": {
    "id": "8rLYxdVyE5TN"
   },
   "source": [
    "**Splitting The Data Into Training And Testing set**"
   ]
  },
  {
   "cell_type": "code",
   "execution_count": 43,
   "metadata": {
    "colab": {
     "base_uri": "https://localhost:8080/"
    },
    "id": "7kyrteiMElDb",
    "outputId": "bad8f8bd-1142-47a8-ab48-41fb945784e1"
   },
   "outputs": [
    {
     "data": {
      "text/plain": [
       "((1573205, 97), (524402, 97), (1573205,), (524402,))"
      ]
     },
     "execution_count": 43,
     "metadata": {},
     "output_type": "execute_result"
    }
   ],
   "source": [
    "# split the data\n",
    "X_train, X_test, y_train,y_test = train_test_split(X,y, test_size=0.25, random_state=42, shuffle=True)\n",
    "\n",
    "# Check the shape of the splitted data\n",
    "X_train.shape, X_test.shape, y_train.shape, y_test.shape"
   ]
  },
  {
   "cell_type": "markdown",
   "metadata": {
    "id": "fd-g_KtiFrr8"
   },
   "source": [
    "**BUILD MODELS AND EVALUATIONS**\n",
    "\n",
    "> **Model 1: LogisticRegression**\n",
    "\n",
    "> **Model 2: RandomForestClassifier**\n",
    "\n",
    "\n",
    "\n",
    "\n",
    "\n",
    "\n"
   ]
  },
  {
   "cell_type": "code",
   "execution_count": 44,
   "metadata": {
    "colab": {
     "base_uri": "https://localhost:8080/",
     "height": 1000
    },
    "id": "Z8bMKKT3Hcwa",
    "outputId": "81838960-63dd-4c7d-9546-ffea238f31a7"
   },
   "outputs": [
    {
     "name": "stdout",
     "output_type": "stream",
     "text": [
      "Roc AUC:rfc 0.9238922019697646\n",
      "====================================================================================================\n",
      "Model Accuracy:rfc 0.8730649387302107\n",
      "====================================================================================================\n",
      "F1 Accuracy:rfc 0.8014981943537396\n",
      "====================================================================================================\n",
      "Classification Report For:rfc               precision    recall  f1-score   support\n",
      "\n",
      "           0       0.87      0.95      0.91    339557\n",
      "           1       0.89      0.73      0.80    184845\n",
      "\n",
      "    accuracy                           0.87    524402\n",
      "   macro avg       0.88      0.84      0.85    524402\n",
      "weighted avg       0.87      0.87      0.87    524402\n",
      "\n",
      "\n",
      "Roc AUC:lr 0.7387560011949139\n",
      "====================================================================================================\n",
      "Model Accuracy:lr 0.747586775031369\n",
      "====================================================================================================\n",
      "F1 Accuracy:lr 0.5306935748069463\n",
      "====================================================================================================\n",
      "Classification Report For:lr               precision    recall  f1-score   support\n",
      "\n",
      "           0       0.74      0.93      0.83    339557\n",
      "           1       0.77      0.40      0.53    184845\n",
      "\n",
      "    accuracy                           0.75    524402\n",
      "   macro avg       0.76      0.67      0.68    524402\n",
      "weighted avg       0.75      0.75      0.72    524402\n",
      "\n",
      "\n"
     ]
    },
    {
     "data": {
      "image/png": "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",
      "text/plain": [
       "<Figure size 864x720 with 1 Axes>"
      ]
     },
     "metadata": {},
     "output_type": "display_data"
    }
   ],
   "source": [
    "# Model names\n",
    "names = [\"rfc\",\"lr\"]\n",
    "\n",
    "# Instantiating all Models\n",
    "models = [\n",
    "RandomForestClassifier(),\n",
    "LogisticRegression(random_state=0,penalty='l2',C=100)\n",
    "]\n",
    "\n",
    "plt.figure(figsize=(12,10))\n",
    "for name,model in zip(names,models):\n",
    "\n",
    "    model.fit(X_train,y_train)\n",
    "    y_pred = model.predict(X_test)\n",
    "    y_proba = model.predict_proba(X_test)[:,1]\n",
    "    print(\"Roc AUC:\"+name, roc_auc_score(y_test, model.predict_proba(X_test)[:,1],average='macro'))\n",
    "    print(\"=\"*100)\n",
    "    print(\"Model Accuracy:\"+name, accuracy_score(y_test, y_pred))\n",
    "    print(\"=\"*100)\n",
    "    print(\"F1 Accuracy:\"+name, f1_score(y_test, y_pred))\n",
    "    print(\"=\"*100)\n",
    "    print(\"Classification Report For:\"+name, classification_report(y_test, y_pred))\n",
    "    print()\n",
    "    fpr, tpr, thresholds = roc_curve(y_test, y_proba)\n",
    "    plt.plot(fpr, tpr, label=name)\n",
    " \n",
    "\n",
    "plt.xlabel('False positive rate')\n",
    "plt.ylabel('True positive rate')\n",
    "plt.title('ROC curve')\n",
    "plt.legend(loc='best')\n",
    "plt.savefig('ModelsROCCurve.png')\n",
    "plt.show()          "
   ]
  },
  {
   "cell_type": "markdown",
   "metadata": {
    "id": "V8aX3R33g7Zp"
   },
   "source": [
    "Hence we will use RandomForest Classifier over Logistic Regression as Random Forest provides better area under the curve, F1 score and better accuracy, moreover Logistic Regression is slightly poor. Therefore we consider the Random Forest Calssifier as our model for analysis, so we'll dump it into a pickle file."
   ]
  },
  {
   "cell_type": "code",
   "execution_count": 49,
   "metadata": {},
   "outputs": [
    {
     "data": {
      "text/plain": [
       "['FinalRandomForestModel.pkl']"
      ]
     },
     "execution_count": 49,
     "metadata": {},
     "output_type": "execute_result"
    }
   ],
   "source": [
    "# dump the model\n",
    "joblib.dump(models[0], 'FinalRandomForestModel.pkl')"
   ]
  },
  {
   "cell_type": "markdown",
   "metadata": {
    "id": "esxbcH7blpoT"
   },
   "source": [
    "**PROJECT SUMMARY**"
   ]
  },
  {
   "cell_type": "markdown",
   "metadata": {
    "id": "Q8ZR7IIClu0r"
   },
   "source": [
    "\n",
    "\n",
    "1.   **United Kingdom(UK) is the country with highest Fundraising**\n",
    "2.   **Friends and Workplace has the highest percentage of donations in the fundraising category**\n",
    "3.   **Donors gives more funds to Individual,then few to the Teams and co.**\n",
    "4.   **More than 60% of the donors are Male**\n",
    "5. **More than 60% of the First time fundraiser's gives donation**\n",
    "\n",
    "\n",
    "\n"
   ]
  }
 ],
 "metadata": {
  "colab": {
   "collapsed_sections": [],
   "provenance": []
  },
  "kernelspec": {
   "display_name": "Python 3 (ipykernel)",
   "language": "python",
   "name": "python3"
  },
  "language_info": {
   "codemirror_mode": {
    "name": "ipython",
    "version": 3
   },
   "file_extension": ".py",
   "mimetype": "text/x-python",
   "name": "python",
   "nbconvert_exporter": "python",
   "pygments_lexer": "ipython3",
   "version": "3.9.12"
  },
  "vscode": {
   "interpreter": {
    "hash": "369f2c481f4da34e4445cda3fffd2e751bd1c4d706f27375911949ba6bb62e1c"
   }
  }
 },
 "nbformat": 4,
 "nbformat_minor": 1
}
=======
  "nbformat": 4,
  "nbformat_minor": 0,
  "metadata": {
    "colab": {
      "provenance": [],
      "collapsed_sections": []
    },
    "kernelspec": {
      "name": "python3",
      "display_name": "Python 3"
    },
    "language_info": {
      "name": "python"
    }
  },
  "cells": [
    {
      "cell_type": "code",
      "execution_count": null,
      "metadata": {
        "colab": {
          "base_uri": "https://localhost:8080/"
        },
        "id": "Wu7kPEgD8aig",
        "outputId": "63bb94fc-46db-4059-90b8-369a3ad3e5ea"
      },
      "outputs": [
        {
          "output_type": "stream",
          "name": "stdout",
          "text": [
            "Mounted at /content/drive\n"
          ]
        }
      ],
      "source": [
        "import pandas as pd\n",
        "import numpy as np\n",
        "#import visualization libraries\n",
        "import matplotlib.pyplot as plt\n",
        "%matplotlib inline\n",
        "import seaborn as sns\n",
        "import warnings\n",
        "warnings.filterwarnings('ignore')\n",
        "# connecting to the Google drive\n",
        "from google.colab import drive\n",
        "drive.mount('/content/drive')\n",
        "from sklearn.model_selection import train_test_split, cross_val_score\n",
        "from sklearn.preprocessing import StandardScaler\n",
        "from sklearn.impute import SimpleImputer\n",
        "from sklearn.ensemble import RandomForestClassifier, GradientBoostingClassifier\n",
        "from sklearn.linear_model import LogisticRegression\n",
        "from sklearn.metrics import accuracy_score, confusion_matrix, classification_report, roc_curve, f1_score, roc_auc_score"
      ]
    },
    {
      "cell_type": "markdown",
      "source": [
        "Read All data\n"
      ],
      "metadata": {
        "id": "SLXf07tl_bAR"
      }
    },
    {
      "cell_type": "code",
      "source": [
        "A= pd.read_csv('drive/MyDrive/Movember_Fundraiser_Project/Movember/Movember_Donations_2020.csv')\n",
        "B= pd.read_csv('drive/MyDrive/Movember_Fundraiser_Project/Movember/Movember_Fundraisers_2020.csv')"
      ],
      "metadata": {
        "id": "0HM7BZfx8q0r"
      },
      "execution_count": null,
      "outputs": []
    },
    {
      "cell_type": "markdown",
      "source": [
        "Concatenating All Files"
      ],
      "metadata": {
        "id": "pkoWFQpx-tFf"
      }
    },
    {
      "cell_type": "code",
      "source": [
        "A.head()"
      ],
      "metadata": {
        "colab": {
          "base_uri": "https://localhost:8080/",
          "height": 305
        },
        "id": "_VV3h8M5_wqH",
        "outputId": "e8ee94e8-f818-4ed3-f8a4-5175000b3e89"
      },
      "execution_count": null,
      "outputs": [
        {
          "output_type": "execute_result",
          "data": {
            "text/plain": [
              "                                      member_id_hash  \\\n",
              "0  8c1f1046219ddd216a023f792356ddf127fce372a72ec9...   \n",
              "1  8c1f1046219ddd216a023f792356ddf127fce372a72ec9...   \n",
              "2  8c1f1046219ddd216a023f792356ddf127fce372a72ec9...   \n",
              "3  8c1f1046219ddd216a023f792356ddf127fce372a72ec9...   \n",
              "4  6e4001871c0cf27c7634ef1dc478408f642410fd3a444e...   \n",
              "\n",
              "                                       donor_id_hash date_lcl_donation_time  \\\n",
              "0  053854f0e34432ed29ddb4058cd1ea2f9dcbd0778bc8d2...    2020-11-02 03:47:04   \n",
              "1  ad499dc8fba883ef000230c2468678a2e3444591f0ae9b...    2020-11-22 00:36:10   \n",
              "2  053854f0e34432ed29ddb4058cd1ea2f9dcbd0778bc8d2...    2020-12-02 02:57:05   \n",
              "3  ad499dc8fba883ef000230c2468678a2e3444591f0ae9b...    2020-12-21 23:47:53   \n",
              "4  73351b614f9db45c3db9bb1b809031cd8a3cbf59df3f2b...    2020-05-01 02:16:37   \n",
              "\n",
              "         donation_type  aud_donor_foundation  aud_donor_member  \\\n",
              "0  donate_to_recurring                  0.00               0.0   \n",
              "1  donate_to_recurring                  0.00               0.0   \n",
              "2  donate_to_recurring                  0.00               0.0   \n",
              "3  donate_to_recurring                  0.00               0.0   \n",
              "4    donate_to_charity                  1.62               0.0   \n",
              "\n",
              "   aud_donor_team  aud_donor_total payment_country  \\\n",
              "0             0.0             0.00              au   \n",
              "1             0.0             0.00              au   \n",
              "2             0.0             0.00              au   \n",
              "3             0.0             0.00              au   \n",
              "4             0.0             1.62              ie   \n",
              "\n",
              "          geo_state_region_province  is_business     pmt_card_type  \\\n",
              "0                          Victoria            0              visa   \n",
              "1  zz_missing_state_region_province            0  american express   \n",
              "2                          Victoria            0              visa   \n",
              "3  zz_missing_state_region_province            0  american express   \n",
              "4  zz_missing_state_region_province            0                mc   \n",
              "\n",
              "   feat_donate_self  \n",
              "0                 0  \n",
              "1                 0  \n",
              "2                 0  \n",
              "3                 0  \n",
              "4                 0  "
            ],
            "text/html": [
              "\n",
              "  <div id=\"df-cc084421-b1f6-4dff-8e5e-4e682ca5eec5\">\n",
              "    <div class=\"colab-df-container\">\n",
              "      <div>\n",
              "<style scoped>\n",
              "    .dataframe tbody tr th:only-of-type {\n",
              "        vertical-align: middle;\n",
              "    }\n",
              "\n",
              "    .dataframe tbody tr th {\n",
              "        vertical-align: top;\n",
              "    }\n",
              "\n",
              "    .dataframe thead th {\n",
              "        text-align: right;\n",
              "    }\n",
              "</style>\n",
              "<table border=\"1\" class=\"dataframe\">\n",
              "  <thead>\n",
              "    <tr style=\"text-align: right;\">\n",
              "      <th></th>\n",
              "      <th>member_id_hash</th>\n",
              "      <th>donor_id_hash</th>\n",
              "      <th>date_lcl_donation_time</th>\n",
              "      <th>donation_type</th>\n",
              "      <th>aud_donor_foundation</th>\n",
              "      <th>aud_donor_member</th>\n",
              "      <th>aud_donor_team</th>\n",
              "      <th>aud_donor_total</th>\n",
              "      <th>payment_country</th>\n",
              "      <th>geo_state_region_province</th>\n",
              "      <th>is_business</th>\n",
              "      <th>pmt_card_type</th>\n",
              "      <th>feat_donate_self</th>\n",
              "    </tr>\n",
              "  </thead>\n",
              "  <tbody>\n",
              "    <tr>\n",
              "      <th>0</th>\n",
              "      <td>8c1f1046219ddd216a023f792356ddf127fce372a72ec9...</td>\n",
              "      <td>053854f0e34432ed29ddb4058cd1ea2f9dcbd0778bc8d2...</td>\n",
              "      <td>2020-11-02 03:47:04</td>\n",
              "      <td>donate_to_recurring</td>\n",
              "      <td>0.00</td>\n",
              "      <td>0.0</td>\n",
              "      <td>0.0</td>\n",
              "      <td>0.00</td>\n",
              "      <td>au</td>\n",
              "      <td>Victoria</td>\n",
              "      <td>0</td>\n",
              "      <td>visa</td>\n",
              "      <td>0</td>\n",
              "    </tr>\n",
              "    <tr>\n",
              "      <th>1</th>\n",
              "      <td>8c1f1046219ddd216a023f792356ddf127fce372a72ec9...</td>\n",
              "      <td>ad499dc8fba883ef000230c2468678a2e3444591f0ae9b...</td>\n",
              "      <td>2020-11-22 00:36:10</td>\n",
              "      <td>donate_to_recurring</td>\n",
              "      <td>0.00</td>\n",
              "      <td>0.0</td>\n",
              "      <td>0.0</td>\n",
              "      <td>0.00</td>\n",
              "      <td>au</td>\n",
              "      <td>zz_missing_state_region_province</td>\n",
              "      <td>0</td>\n",
              "      <td>american express</td>\n",
              "      <td>0</td>\n",
              "    </tr>\n",
              "    <tr>\n",
              "      <th>2</th>\n",
              "      <td>8c1f1046219ddd216a023f792356ddf127fce372a72ec9...</td>\n",
              "      <td>053854f0e34432ed29ddb4058cd1ea2f9dcbd0778bc8d2...</td>\n",
              "      <td>2020-12-02 02:57:05</td>\n",
              "      <td>donate_to_recurring</td>\n",
              "      <td>0.00</td>\n",
              "      <td>0.0</td>\n",
              "      <td>0.0</td>\n",
              "      <td>0.00</td>\n",
              "      <td>au</td>\n",
              "      <td>Victoria</td>\n",
              "      <td>0</td>\n",
              "      <td>visa</td>\n",
              "      <td>0</td>\n",
              "    </tr>\n",
              "    <tr>\n",
              "      <th>3</th>\n",
              "      <td>8c1f1046219ddd216a023f792356ddf127fce372a72ec9...</td>\n",
              "      <td>ad499dc8fba883ef000230c2468678a2e3444591f0ae9b...</td>\n",
              "      <td>2020-12-21 23:47:53</td>\n",
              "      <td>donate_to_recurring</td>\n",
              "      <td>0.00</td>\n",
              "      <td>0.0</td>\n",
              "      <td>0.0</td>\n",
              "      <td>0.00</td>\n",
              "      <td>au</td>\n",
              "      <td>zz_missing_state_region_province</td>\n",
              "      <td>0</td>\n",
              "      <td>american express</td>\n",
              "      <td>0</td>\n",
              "    </tr>\n",
              "    <tr>\n",
              "      <th>4</th>\n",
              "      <td>6e4001871c0cf27c7634ef1dc478408f642410fd3a444e...</td>\n",
              "      <td>73351b614f9db45c3db9bb1b809031cd8a3cbf59df3f2b...</td>\n",
              "      <td>2020-05-01 02:16:37</td>\n",
              "      <td>donate_to_charity</td>\n",
              "      <td>1.62</td>\n",
              "      <td>0.0</td>\n",
              "      <td>0.0</td>\n",
              "      <td>1.62</td>\n",
              "      <td>ie</td>\n",
              "      <td>zz_missing_state_region_province</td>\n",
              "      <td>0</td>\n",
              "      <td>mc</td>\n",
              "      <td>0</td>\n",
              "    </tr>\n",
              "  </tbody>\n",
              "</table>\n",
              "</div>\n",
              "      <button class=\"colab-df-convert\" onclick=\"convertToInteractive('df-cc084421-b1f6-4dff-8e5e-4e682ca5eec5')\"\n",
              "              title=\"Convert this dataframe to an interactive table.\"\n",
              "              style=\"display:none;\">\n",
              "        \n",
              "  <svg xmlns=\"http://www.w3.org/2000/svg\" height=\"24px\"viewBox=\"0 0 24 24\"\n",
              "       width=\"24px\">\n",
              "    <path d=\"M0 0h24v24H0V0z\" fill=\"none\"/>\n",
              "    <path d=\"M18.56 5.44l.94 2.06.94-2.06 2.06-.94-2.06-.94-.94-2.06-.94 2.06-2.06.94zm-11 1L8.5 8.5l.94-2.06 2.06-.94-2.06-.94L8.5 2.5l-.94 2.06-2.06.94zm10 10l.94 2.06.94-2.06 2.06-.94-2.06-.94-.94-2.06-.94 2.06-2.06.94z\"/><path d=\"M17.41 7.96l-1.37-1.37c-.4-.4-.92-.59-1.43-.59-.52 0-1.04.2-1.43.59L10.3 9.45l-7.72 7.72c-.78.78-.78 2.05 0 2.83L4 21.41c.39.39.9.59 1.41.59.51 0 1.02-.2 1.41-.59l7.78-7.78 2.81-2.81c.8-.78.8-2.07 0-2.86zM5.41 20L4 18.59l7.72-7.72 1.47 1.35L5.41 20z\"/>\n",
              "  </svg>\n",
              "      </button>\n",
              "      \n",
              "  <style>\n",
              "    .colab-df-container {\n",
              "      display:flex;\n",
              "      flex-wrap:wrap;\n",
              "      gap: 12px;\n",
              "    }\n",
              "\n",
              "    .colab-df-convert {\n",
              "      background-color: #E8F0FE;\n",
              "      border: none;\n",
              "      border-radius: 50%;\n",
              "      cursor: pointer;\n",
              "      display: none;\n",
              "      fill: #1967D2;\n",
              "      height: 32px;\n",
              "      padding: 0 0 0 0;\n",
              "      width: 32px;\n",
              "    }\n",
              "\n",
              "    .colab-df-convert:hover {\n",
              "      background-color: #E2EBFA;\n",
              "      box-shadow: 0px 1px 2px rgba(60, 64, 67, 0.3), 0px 1px 3px 1px rgba(60, 64, 67, 0.15);\n",
              "      fill: #174EA6;\n",
              "    }\n",
              "\n",
              "    [theme=dark] .colab-df-convert {\n",
              "      background-color: #3B4455;\n",
              "      fill: #D2E3FC;\n",
              "    }\n",
              "\n",
              "    [theme=dark] .colab-df-convert:hover {\n",
              "      background-color: #434B5C;\n",
              "      box-shadow: 0px 1px 3px 1px rgba(0, 0, 0, 0.15);\n",
              "      filter: drop-shadow(0px 1px 2px rgba(0, 0, 0, 0.3));\n",
              "      fill: #FFFFFF;\n",
              "    }\n",
              "  </style>\n",
              "\n",
              "      <script>\n",
              "        const buttonEl =\n",
              "          document.querySelector('#df-cc084421-b1f6-4dff-8e5e-4e682ca5eec5 button.colab-df-convert');\n",
              "        buttonEl.style.display =\n",
              "          google.colab.kernel.accessAllowed ? 'block' : 'none';\n",
              "\n",
              "        async function convertToInteractive(key) {\n",
              "          const element = document.querySelector('#df-cc084421-b1f6-4dff-8e5e-4e682ca5eec5');\n",
              "          const dataTable =\n",
              "            await google.colab.kernel.invokeFunction('convertToInteractive',\n",
              "                                                     [key], {});\n",
              "          if (!dataTable) return;\n",
              "\n",
              "          const docLinkHtml = 'Like what you see? Visit the ' +\n",
              "            '<a target=\"_blank\" href=https://colab.research.google.com/notebooks/data_table.ipynb>data table notebook</a>'\n",
              "            + ' to learn more about interactive tables.';\n",
              "          element.innerHTML = '';\n",
              "          dataTable['output_type'] = 'display_data';\n",
              "          await google.colab.output.renderOutput(dataTable, element);\n",
              "          const docLink = document.createElement('div');\n",
              "          docLink.innerHTML = docLinkHtml;\n",
              "          element.appendChild(docLink);\n",
              "        }\n",
              "      </script>\n",
              "    </div>\n",
              "  </div>\n",
              "  "
            ]
          },
          "metadata": {},
          "execution_count": 3
        }
      ]
    },
    {
      "cell_type": "code",
      "source": [
        "B.head()"
      ],
      "metadata": {
        "colab": {
          "base_uri": "https://localhost:8080/",
          "height": 300
        },
        "id": "OdBUxC7mGmBG",
        "outputId": "571e8e02-29a6-433e-c35e-4f903555e709"
      },
      "execution_count": null,
      "outputs": [
        {
          "output_type": "execute_result",
          "data": {
            "text/plain": [
              "                                      member_id_hash date_lcl_activation  \\\n",
              "0  e7f2c2e42e4f123ec6b76641f36fbab09a7b6517b50194...          2020-10-18   \n",
              "1  fb3bd08e5095f32a9c67619e6a8d8d898b20963ce9f85f...          2020-10-16   \n",
              "2  5e2168e16b8aad843f6201b1e04956d25bf8c9175171de...          2020-11-05   \n",
              "3  feebed60e7b35bb8dcb7ec11638424f686a2ee6e881683...          2020-11-02   \n",
              "4  004f3a141d6cdd75d1037c89771a5c28c8ac73ddb5b88d...          2020-10-30   \n",
              "\n",
              "     country         geo_state_region_province gender category_fundraising  \\\n",
              "0  Australia                          Tasmania      m              friends   \n",
              "1  Australia                   New South Wales      m              friends   \n",
              "2         UK  zz_missing_state_region_province      m              friends   \n",
              "3  Australia                   New South Wales      m              friends   \n",
              "4         UK                        North West      m            workplace   \n",
              "\n",
              "   type_team_captain  type_team_member tenure_description  \\\n",
              "0                  0                 1           Retained   \n",
              "1                  0                 0          Returning   \n",
              "2                  1                 0                New   \n",
              "3                  0                 0           Retained   \n",
              "4                  0                 0                New   \n",
              "\n",
              "   campaigns_total_number  ...  sum_donations_member_2018  \\\n",
              "0                       3  ...                      310.0   \n",
              "1                      15  ...                       30.0   \n",
              "2                       1  ...                        0.0   \n",
              "3                       3  ...                        0.0   \n",
              "4                       1  ...                        0.0   \n",
              "\n",
              "   sum_donations_member_2019  sum_donor_foundation_2020  \\\n",
              "0                      125.0                        0.0   \n",
              "1                        0.0                        0.0   \n",
              "2                        0.0                        0.0   \n",
              "3                      160.0                        0.0   \n",
              "4                        0.0                        0.0   \n",
              "\n",
              "   sum_donor_member_2020  sum_donor_team_2020  sum_donor_total_2020  \\\n",
              "0                   50.0                  0.0                  50.0   \n",
              "1                    0.0                  0.0                   0.0   \n",
              "2                    0.0                  0.0                   0.0   \n",
              "3                    0.0                  0.0                   0.0   \n",
              "4                    0.0                  0.0                   0.0   \n",
              "\n",
              "   registered_2017  registered_2018  registered_2019  registered_2021  \n",
              "0              0.0              1.0              1.0              0.0  \n",
              "1              1.0              1.0              0.0              1.0  \n",
              "2              0.0              0.0              0.0              0.0  \n",
              "3              0.0              0.0              1.0              0.0  \n",
              "4              0.0              0.0              0.0              0.0  \n",
              "\n",
              "[5 rows x 65 columns]"
            ],
            "text/html": [
              "\n",
              "  <div id=\"df-71d1c17d-32f2-4bb5-929b-6b82d4fc499a\">\n",
              "    <div class=\"colab-df-container\">\n",
              "      <div>\n",
              "<style scoped>\n",
              "    .dataframe tbody tr th:only-of-type {\n",
              "        vertical-align: middle;\n",
              "    }\n",
              "\n",
              "    .dataframe tbody tr th {\n",
              "        vertical-align: top;\n",
              "    }\n",
              "\n",
              "    .dataframe thead th {\n",
              "        text-align: right;\n",
              "    }\n",
              "</style>\n",
              "<table border=\"1\" class=\"dataframe\">\n",
              "  <thead>\n",
              "    <tr style=\"text-align: right;\">\n",
              "      <th></th>\n",
              "      <th>member_id_hash</th>\n",
              "      <th>date_lcl_activation</th>\n",
              "      <th>country</th>\n",
              "      <th>geo_state_region_province</th>\n",
              "      <th>gender</th>\n",
              "      <th>category_fundraising</th>\n",
              "      <th>type_team_captain</th>\n",
              "      <th>type_team_member</th>\n",
              "      <th>tenure_description</th>\n",
              "      <th>campaigns_total_number</th>\n",
              "      <th>...</th>\n",
              "      <th>sum_donations_member_2018</th>\n",
              "      <th>sum_donations_member_2019</th>\n",
              "      <th>sum_donor_foundation_2020</th>\n",
              "      <th>sum_donor_member_2020</th>\n",
              "      <th>sum_donor_team_2020</th>\n",
              "      <th>sum_donor_total_2020</th>\n",
              "      <th>registered_2017</th>\n",
              "      <th>registered_2018</th>\n",
              "      <th>registered_2019</th>\n",
              "      <th>registered_2021</th>\n",
              "    </tr>\n",
              "  </thead>\n",
              "  <tbody>\n",
              "    <tr>\n",
              "      <th>0</th>\n",
              "      <td>e7f2c2e42e4f123ec6b76641f36fbab09a7b6517b50194...</td>\n",
              "      <td>2020-10-18</td>\n",
              "      <td>Australia</td>\n",
              "      <td>Tasmania</td>\n",
              "      <td>m</td>\n",
              "      <td>friends</td>\n",
              "      <td>0</td>\n",
              "      <td>1</td>\n",
              "      <td>Retained</td>\n",
              "      <td>3</td>\n",
              "      <td>...</td>\n",
              "      <td>310.0</td>\n",
              "      <td>125.0</td>\n",
              "      <td>0.0</td>\n",
              "      <td>50.0</td>\n",
              "      <td>0.0</td>\n",
              "      <td>50.0</td>\n",
              "      <td>0.0</td>\n",
              "      <td>1.0</td>\n",
              "      <td>1.0</td>\n",
              "      <td>0.0</td>\n",
              "    </tr>\n",
              "    <tr>\n",
              "      <th>1</th>\n",
              "      <td>fb3bd08e5095f32a9c67619e6a8d8d898b20963ce9f85f...</td>\n",
              "      <td>2020-10-16</td>\n",
              "      <td>Australia</td>\n",
              "      <td>New South Wales</td>\n",
              "      <td>m</td>\n",
              "      <td>friends</td>\n",
              "      <td>0</td>\n",
              "      <td>0</td>\n",
              "      <td>Returning</td>\n",
              "      <td>15</td>\n",
              "      <td>...</td>\n",
              "      <td>30.0</td>\n",
              "      <td>0.0</td>\n",
              "      <td>0.0</td>\n",
              "      <td>0.0</td>\n",
              "      <td>0.0</td>\n",
              "      <td>0.0</td>\n",
              "      <td>1.0</td>\n",
              "      <td>1.0</td>\n",
              "      <td>0.0</td>\n",
              "      <td>1.0</td>\n",
              "    </tr>\n",
              "    <tr>\n",
              "      <th>2</th>\n",
              "      <td>5e2168e16b8aad843f6201b1e04956d25bf8c9175171de...</td>\n",
              "      <td>2020-11-05</td>\n",
              "      <td>UK</td>\n",
              "      <td>zz_missing_state_region_province</td>\n",
              "      <td>m</td>\n",
              "      <td>friends</td>\n",
              "      <td>1</td>\n",
              "      <td>0</td>\n",
              "      <td>New</td>\n",
              "      <td>1</td>\n",
              "      <td>...</td>\n",
              "      <td>0.0</td>\n",
              "      <td>0.0</td>\n",
              "      <td>0.0</td>\n",
              "      <td>0.0</td>\n",
              "      <td>0.0</td>\n",
              "      <td>0.0</td>\n",
              "      <td>0.0</td>\n",
              "      <td>0.0</td>\n",
              "      <td>0.0</td>\n",
              "      <td>0.0</td>\n",
              "    </tr>\n",
              "    <tr>\n",
              "      <th>3</th>\n",
              "      <td>feebed60e7b35bb8dcb7ec11638424f686a2ee6e881683...</td>\n",
              "      <td>2020-11-02</td>\n",
              "      <td>Australia</td>\n",
              "      <td>New South Wales</td>\n",
              "      <td>m</td>\n",
              "      <td>friends</td>\n",
              "      <td>0</td>\n",
              "      <td>0</td>\n",
              "      <td>Retained</td>\n",
              "      <td>3</td>\n",
              "      <td>...</td>\n",
              "      <td>0.0</td>\n",
              "      <td>160.0</td>\n",
              "      <td>0.0</td>\n",
              "      <td>0.0</td>\n",
              "      <td>0.0</td>\n",
              "      <td>0.0</td>\n",
              "      <td>0.0</td>\n",
              "      <td>0.0</td>\n",
              "      <td>1.0</td>\n",
              "      <td>0.0</td>\n",
              "    </tr>\n",
              "    <tr>\n",
              "      <th>4</th>\n",
              "      <td>004f3a141d6cdd75d1037c89771a5c28c8ac73ddb5b88d...</td>\n",
              "      <td>2020-10-30</td>\n",
              "      <td>UK</td>\n",
              "      <td>North West</td>\n",
              "      <td>m</td>\n",
              "      <td>workplace</td>\n",
              "      <td>0</td>\n",
              "      <td>0</td>\n",
              "      <td>New</td>\n",
              "      <td>1</td>\n",
              "      <td>...</td>\n",
              "      <td>0.0</td>\n",
              "      <td>0.0</td>\n",
              "      <td>0.0</td>\n",
              "      <td>0.0</td>\n",
              "      <td>0.0</td>\n",
              "      <td>0.0</td>\n",
              "      <td>0.0</td>\n",
              "      <td>0.0</td>\n",
              "      <td>0.0</td>\n",
              "      <td>0.0</td>\n",
              "    </tr>\n",
              "  </tbody>\n",
              "</table>\n",
              "<p>5 rows × 65 columns</p>\n",
              "</div>\n",
              "      <button class=\"colab-df-convert\" onclick=\"convertToInteractive('df-71d1c17d-32f2-4bb5-929b-6b82d4fc499a')\"\n",
              "              title=\"Convert this dataframe to an interactive table.\"\n",
              "              style=\"display:none;\">\n",
              "        \n",
              "  <svg xmlns=\"http://www.w3.org/2000/svg\" height=\"24px\"viewBox=\"0 0 24 24\"\n",
              "       width=\"24px\">\n",
              "    <path d=\"M0 0h24v24H0V0z\" fill=\"none\"/>\n",
              "    <path d=\"M18.56 5.44l.94 2.06.94-2.06 2.06-.94-2.06-.94-.94-2.06-.94 2.06-2.06.94zm-11 1L8.5 8.5l.94-2.06 2.06-.94-2.06-.94L8.5 2.5l-.94 2.06-2.06.94zm10 10l.94 2.06.94-2.06 2.06-.94-2.06-.94-.94-2.06-.94 2.06-2.06.94z\"/><path d=\"M17.41 7.96l-1.37-1.37c-.4-.4-.92-.59-1.43-.59-.52 0-1.04.2-1.43.59L10.3 9.45l-7.72 7.72c-.78.78-.78 2.05 0 2.83L4 21.41c.39.39.9.59 1.41.59.51 0 1.02-.2 1.41-.59l7.78-7.78 2.81-2.81c.8-.78.8-2.07 0-2.86zM5.41 20L4 18.59l7.72-7.72 1.47 1.35L5.41 20z\"/>\n",
              "  </svg>\n",
              "      </button>\n",
              "      \n",
              "  <style>\n",
              "    .colab-df-container {\n",
              "      display:flex;\n",
              "      flex-wrap:wrap;\n",
              "      gap: 12px;\n",
              "    }\n",
              "\n",
              "    .colab-df-convert {\n",
              "      background-color: #E8F0FE;\n",
              "      border: none;\n",
              "      border-radius: 50%;\n",
              "      cursor: pointer;\n",
              "      display: none;\n",
              "      fill: #1967D2;\n",
              "      height: 32px;\n",
              "      padding: 0 0 0 0;\n",
              "      width: 32px;\n",
              "    }\n",
              "\n",
              "    .colab-df-convert:hover {\n",
              "      background-color: #E2EBFA;\n",
              "      box-shadow: 0px 1px 2px rgba(60, 64, 67, 0.3), 0px 1px 3px 1px rgba(60, 64, 67, 0.15);\n",
              "      fill: #174EA6;\n",
              "    }\n",
              "\n",
              "    [theme=dark] .colab-df-convert {\n",
              "      background-color: #3B4455;\n",
              "      fill: #D2E3FC;\n",
              "    }\n",
              "\n",
              "    [theme=dark] .colab-df-convert:hover {\n",
              "      background-color: #434B5C;\n",
              "      box-shadow: 0px 1px 3px 1px rgba(0, 0, 0, 0.15);\n",
              "      filter: drop-shadow(0px 1px 2px rgba(0, 0, 0, 0.3));\n",
              "      fill: #FFFFFF;\n",
              "    }\n",
              "  </style>\n",
              "\n",
              "      <script>\n",
              "        const buttonEl =\n",
              "          document.querySelector('#df-71d1c17d-32f2-4bb5-929b-6b82d4fc499a button.colab-df-convert');\n",
              "        buttonEl.style.display =\n",
              "          google.colab.kernel.accessAllowed ? 'block' : 'none';\n",
              "\n",
              "        async function convertToInteractive(key) {\n",
              "          const element = document.querySelector('#df-71d1c17d-32f2-4bb5-929b-6b82d4fc499a');\n",
              "          const dataTable =\n",
              "            await google.colab.kernel.invokeFunction('convertToInteractive',\n",
              "                                                     [key], {});\n",
              "          if (!dataTable) return;\n",
              "\n",
              "          const docLinkHtml = 'Like what you see? Visit the ' +\n",
              "            '<a target=\"_blank\" href=https://colab.research.google.com/notebooks/data_table.ipynb>data table notebook</a>'\n",
              "            + ' to learn more about interactive tables.';\n",
              "          element.innerHTML = '';\n",
              "          dataTable['output_type'] = 'display_data';\n",
              "          await google.colab.output.renderOutput(dataTable, element);\n",
              "          const docLink = document.createElement('div');\n",
              "          docLink.innerHTML = docLinkHtml;\n",
              "          element.appendChild(docLink);\n",
              "        }\n",
              "      </script>\n",
              "    </div>\n",
              "  </div>\n",
              "  "
            ]
          },
          "metadata": {},
          "execution_count": 4
        }
      ]
    },
    {
      "cell_type": "markdown",
      "source": [
        "Merging Tables"
      ],
      "metadata": {
        "id": "CM9l1d2GHKlc"
      }
    },
    {
      "cell_type": "code",
      "source": [
        "df = pd.merge(A,B,how='left',on='member_id_hash')"
      ],
      "metadata": {
        "id": "yLP6bHGK-sZe"
      },
      "execution_count": null,
      "outputs": []
    },
    {
      "cell_type": "code",
      "source": [
        "df.head()"
      ],
      "metadata": {
        "colab": {
          "base_uri": "https://localhost:8080/",
          "height": 300
        },
        "id": "zC8YIep6-0xm",
        "outputId": "d3e7adb9-5ec3-40f5-e614-54da2d003743"
      },
      "execution_count": null,
      "outputs": [
        {
          "output_type": "execute_result",
          "data": {
            "text/plain": [
              "                                      member_id_hash  \\\n",
              "0  8c1f1046219ddd216a023f792356ddf127fce372a72ec9...   \n",
              "1  8c1f1046219ddd216a023f792356ddf127fce372a72ec9...   \n",
              "2  8c1f1046219ddd216a023f792356ddf127fce372a72ec9...   \n",
              "3  8c1f1046219ddd216a023f792356ddf127fce372a72ec9...   \n",
              "4  6e4001871c0cf27c7634ef1dc478408f642410fd3a444e...   \n",
              "\n",
              "                                       donor_id_hash date_lcl_donation_time  \\\n",
              "0  053854f0e34432ed29ddb4058cd1ea2f9dcbd0778bc8d2...    2020-11-02 03:47:04   \n",
              "1  ad499dc8fba883ef000230c2468678a2e3444591f0ae9b...    2020-11-22 00:36:10   \n",
              "2  053854f0e34432ed29ddb4058cd1ea2f9dcbd0778bc8d2...    2020-12-02 02:57:05   \n",
              "3  ad499dc8fba883ef000230c2468678a2e3444591f0ae9b...    2020-12-21 23:47:53   \n",
              "4  73351b614f9db45c3db9bb1b809031cd8a3cbf59df3f2b...    2020-05-01 02:16:37   \n",
              "\n",
              "         donation_type  aud_donor_foundation  aud_donor_member  \\\n",
              "0  donate_to_recurring                  0.00               0.0   \n",
              "1  donate_to_recurring                  0.00               0.0   \n",
              "2  donate_to_recurring                  0.00               0.0   \n",
              "3  donate_to_recurring                  0.00               0.0   \n",
              "4    donate_to_charity                  1.62               0.0   \n",
              "\n",
              "   aud_donor_team  aud_donor_total payment_country  \\\n",
              "0             0.0             0.00              au   \n",
              "1             0.0             0.00              au   \n",
              "2             0.0             0.00              au   \n",
              "3             0.0             0.00              au   \n",
              "4             0.0             1.62              ie   \n",
              "\n",
              "        geo_state_region_province_x  ...  sum_donations_member_2018  \\\n",
              "0                          Victoria  ...                        NaN   \n",
              "1  zz_missing_state_region_province  ...                        NaN   \n",
              "2                          Victoria  ...                        NaN   \n",
              "3  zz_missing_state_region_province  ...                        NaN   \n",
              "4  zz_missing_state_region_province  ...                        NaN   \n",
              "\n",
              "  sum_donations_member_2019  sum_donor_foundation_2020 sum_donor_member_2020  \\\n",
              "0                       NaN                        NaN                   NaN   \n",
              "1                       NaN                        NaN                   NaN   \n",
              "2                       NaN                        NaN                   NaN   \n",
              "3                       NaN                        NaN                   NaN   \n",
              "4                       NaN                        NaN                   NaN   \n",
              "\n",
              "  sum_donor_team_2020 sum_donor_total_2020 registered_2017 registered_2018  \\\n",
              "0                 NaN                  NaN             NaN             NaN   \n",
              "1                 NaN                  NaN             NaN             NaN   \n",
              "2                 NaN                  NaN             NaN             NaN   \n",
              "3                 NaN                  NaN             NaN             NaN   \n",
              "4                 NaN                  NaN             NaN             NaN   \n",
              "\n",
              "   registered_2019  registered_2021  \n",
              "0              NaN              NaN  \n",
              "1              NaN              NaN  \n",
              "2              NaN              NaN  \n",
              "3              NaN              NaN  \n",
              "4              NaN              NaN  \n",
              "\n",
              "[5 rows x 77 columns]"
            ],
            "text/html": [
              "\n",
              "  <div id=\"df-c6759e5c-addf-4405-b45a-21cc72e43c02\">\n",
              "    <div class=\"colab-df-container\">\n",
              "      <div>\n",
              "<style scoped>\n",
              "    .dataframe tbody tr th:only-of-type {\n",
              "        vertical-align: middle;\n",
              "    }\n",
              "\n",
              "    .dataframe tbody tr th {\n",
              "        vertical-align: top;\n",
              "    }\n",
              "\n",
              "    .dataframe thead th {\n",
              "        text-align: right;\n",
              "    }\n",
              "</style>\n",
              "<table border=\"1\" class=\"dataframe\">\n",
              "  <thead>\n",
              "    <tr style=\"text-align: right;\">\n",
              "      <th></th>\n",
              "      <th>member_id_hash</th>\n",
              "      <th>donor_id_hash</th>\n",
              "      <th>date_lcl_donation_time</th>\n",
              "      <th>donation_type</th>\n",
              "      <th>aud_donor_foundation</th>\n",
              "      <th>aud_donor_member</th>\n",
              "      <th>aud_donor_team</th>\n",
              "      <th>aud_donor_total</th>\n",
              "      <th>payment_country</th>\n",
              "      <th>geo_state_region_province_x</th>\n",
              "      <th>...</th>\n",
              "      <th>sum_donations_member_2018</th>\n",
              "      <th>sum_donations_member_2019</th>\n",
              "      <th>sum_donor_foundation_2020</th>\n",
              "      <th>sum_donor_member_2020</th>\n",
              "      <th>sum_donor_team_2020</th>\n",
              "      <th>sum_donor_total_2020</th>\n",
              "      <th>registered_2017</th>\n",
              "      <th>registered_2018</th>\n",
              "      <th>registered_2019</th>\n",
              "      <th>registered_2021</th>\n",
              "    </tr>\n",
              "  </thead>\n",
              "  <tbody>\n",
              "    <tr>\n",
              "      <th>0</th>\n",
              "      <td>8c1f1046219ddd216a023f792356ddf127fce372a72ec9...</td>\n",
              "      <td>053854f0e34432ed29ddb4058cd1ea2f9dcbd0778bc8d2...</td>\n",
              "      <td>2020-11-02 03:47:04</td>\n",
              "      <td>donate_to_recurring</td>\n",
              "      <td>0.00</td>\n",
              "      <td>0.0</td>\n",
              "      <td>0.0</td>\n",
              "      <td>0.00</td>\n",
              "      <td>au</td>\n",
              "      <td>Victoria</td>\n",
              "      <td>...</td>\n",
              "      <td>NaN</td>\n",
              "      <td>NaN</td>\n",
              "      <td>NaN</td>\n",
              "      <td>NaN</td>\n",
              "      <td>NaN</td>\n",
              "      <td>NaN</td>\n",
              "      <td>NaN</td>\n",
              "      <td>NaN</td>\n",
              "      <td>NaN</td>\n",
              "      <td>NaN</td>\n",
              "    </tr>\n",
              "    <tr>\n",
              "      <th>1</th>\n",
              "      <td>8c1f1046219ddd216a023f792356ddf127fce372a72ec9...</td>\n",
              "      <td>ad499dc8fba883ef000230c2468678a2e3444591f0ae9b...</td>\n",
              "      <td>2020-11-22 00:36:10</td>\n",
              "      <td>donate_to_recurring</td>\n",
              "      <td>0.00</td>\n",
              "      <td>0.0</td>\n",
              "      <td>0.0</td>\n",
              "      <td>0.00</td>\n",
              "      <td>au</td>\n",
              "      <td>zz_missing_state_region_province</td>\n",
              "      <td>...</td>\n",
              "      <td>NaN</td>\n",
              "      <td>NaN</td>\n",
              "      <td>NaN</td>\n",
              "      <td>NaN</td>\n",
              "      <td>NaN</td>\n",
              "      <td>NaN</td>\n",
              "      <td>NaN</td>\n",
              "      <td>NaN</td>\n",
              "      <td>NaN</td>\n",
              "      <td>NaN</td>\n",
              "    </tr>\n",
              "    <tr>\n",
              "      <th>2</th>\n",
              "      <td>8c1f1046219ddd216a023f792356ddf127fce372a72ec9...</td>\n",
              "      <td>053854f0e34432ed29ddb4058cd1ea2f9dcbd0778bc8d2...</td>\n",
              "      <td>2020-12-02 02:57:05</td>\n",
              "      <td>donate_to_recurring</td>\n",
              "      <td>0.00</td>\n",
              "      <td>0.0</td>\n",
              "      <td>0.0</td>\n",
              "      <td>0.00</td>\n",
              "      <td>au</td>\n",
              "      <td>Victoria</td>\n",
              "      <td>...</td>\n",
              "      <td>NaN</td>\n",
              "      <td>NaN</td>\n",
              "      <td>NaN</td>\n",
              "      <td>NaN</td>\n",
              "      <td>NaN</td>\n",
              "      <td>NaN</td>\n",
              "      <td>NaN</td>\n",
              "      <td>NaN</td>\n",
              "      <td>NaN</td>\n",
              "      <td>NaN</td>\n",
              "    </tr>\n",
              "    <tr>\n",
              "      <th>3</th>\n",
              "      <td>8c1f1046219ddd216a023f792356ddf127fce372a72ec9...</td>\n",
              "      <td>ad499dc8fba883ef000230c2468678a2e3444591f0ae9b...</td>\n",
              "      <td>2020-12-21 23:47:53</td>\n",
              "      <td>donate_to_recurring</td>\n",
              "      <td>0.00</td>\n",
              "      <td>0.0</td>\n",
              "      <td>0.0</td>\n",
              "      <td>0.00</td>\n",
              "      <td>au</td>\n",
              "      <td>zz_missing_state_region_province</td>\n",
              "      <td>...</td>\n",
              "      <td>NaN</td>\n",
              "      <td>NaN</td>\n",
              "      <td>NaN</td>\n",
              "      <td>NaN</td>\n",
              "      <td>NaN</td>\n",
              "      <td>NaN</td>\n",
              "      <td>NaN</td>\n",
              "      <td>NaN</td>\n",
              "      <td>NaN</td>\n",
              "      <td>NaN</td>\n",
              "    </tr>\n",
              "    <tr>\n",
              "      <th>4</th>\n",
              "      <td>6e4001871c0cf27c7634ef1dc478408f642410fd3a444e...</td>\n",
              "      <td>73351b614f9db45c3db9bb1b809031cd8a3cbf59df3f2b...</td>\n",
              "      <td>2020-05-01 02:16:37</td>\n",
              "      <td>donate_to_charity</td>\n",
              "      <td>1.62</td>\n",
              "      <td>0.0</td>\n",
              "      <td>0.0</td>\n",
              "      <td>1.62</td>\n",
              "      <td>ie</td>\n",
              "      <td>zz_missing_state_region_province</td>\n",
              "      <td>...</td>\n",
              "      <td>NaN</td>\n",
              "      <td>NaN</td>\n",
              "      <td>NaN</td>\n",
              "      <td>NaN</td>\n",
              "      <td>NaN</td>\n",
              "      <td>NaN</td>\n",
              "      <td>NaN</td>\n",
              "      <td>NaN</td>\n",
              "      <td>NaN</td>\n",
              "      <td>NaN</td>\n",
              "    </tr>\n",
              "  </tbody>\n",
              "</table>\n",
              "<p>5 rows × 77 columns</p>\n",
              "</div>\n",
              "      <button class=\"colab-df-convert\" onclick=\"convertToInteractive('df-c6759e5c-addf-4405-b45a-21cc72e43c02')\"\n",
              "              title=\"Convert this dataframe to an interactive table.\"\n",
              "              style=\"display:none;\">\n",
              "        \n",
              "  <svg xmlns=\"http://www.w3.org/2000/svg\" height=\"24px\"viewBox=\"0 0 24 24\"\n",
              "       width=\"24px\">\n",
              "    <path d=\"M0 0h24v24H0V0z\" fill=\"none\"/>\n",
              "    <path d=\"M18.56 5.44l.94 2.06.94-2.06 2.06-.94-2.06-.94-.94-2.06-.94 2.06-2.06.94zm-11 1L8.5 8.5l.94-2.06 2.06-.94-2.06-.94L8.5 2.5l-.94 2.06-2.06.94zm10 10l.94 2.06.94-2.06 2.06-.94-2.06-.94-.94-2.06-.94 2.06-2.06.94z\"/><path d=\"M17.41 7.96l-1.37-1.37c-.4-.4-.92-.59-1.43-.59-.52 0-1.04.2-1.43.59L10.3 9.45l-7.72 7.72c-.78.78-.78 2.05 0 2.83L4 21.41c.39.39.9.59 1.41.59.51 0 1.02-.2 1.41-.59l7.78-7.78 2.81-2.81c.8-.78.8-2.07 0-2.86zM5.41 20L4 18.59l7.72-7.72 1.47 1.35L5.41 20z\"/>\n",
              "  </svg>\n",
              "      </button>\n",
              "      \n",
              "  <style>\n",
              "    .colab-df-container {\n",
              "      display:flex;\n",
              "      flex-wrap:wrap;\n",
              "      gap: 12px;\n",
              "    }\n",
              "\n",
              "    .colab-df-convert {\n",
              "      background-color: #E8F0FE;\n",
              "      border: none;\n",
              "      border-radius: 50%;\n",
              "      cursor: pointer;\n",
              "      display: none;\n",
              "      fill: #1967D2;\n",
              "      height: 32px;\n",
              "      padding: 0 0 0 0;\n",
              "      width: 32px;\n",
              "    }\n",
              "\n",
              "    .colab-df-convert:hover {\n",
              "      background-color: #E2EBFA;\n",
              "      box-shadow: 0px 1px 2px rgba(60, 64, 67, 0.3), 0px 1px 3px 1px rgba(60, 64, 67, 0.15);\n",
              "      fill: #174EA6;\n",
              "    }\n",
              "\n",
              "    [theme=dark] .colab-df-convert {\n",
              "      background-color: #3B4455;\n",
              "      fill: #D2E3FC;\n",
              "    }\n",
              "\n",
              "    [theme=dark] .colab-df-convert:hover {\n",
              "      background-color: #434B5C;\n",
              "      box-shadow: 0px 1px 3px 1px rgba(0, 0, 0, 0.15);\n",
              "      filter: drop-shadow(0px 1px 2px rgba(0, 0, 0, 0.3));\n",
              "      fill: #FFFFFF;\n",
              "    }\n",
              "  </style>\n",
              "\n",
              "      <script>\n",
              "        const buttonEl =\n",
              "          document.querySelector('#df-c6759e5c-addf-4405-b45a-21cc72e43c02 button.colab-df-convert');\n",
              "        buttonEl.style.display =\n",
              "          google.colab.kernel.accessAllowed ? 'block' : 'none';\n",
              "\n",
              "        async function convertToInteractive(key) {\n",
              "          const element = document.querySelector('#df-c6759e5c-addf-4405-b45a-21cc72e43c02');\n",
              "          const dataTable =\n",
              "            await google.colab.kernel.invokeFunction('convertToInteractive',\n",
              "                                                     [key], {});\n",
              "          if (!dataTable) return;\n",
              "\n",
              "          const docLinkHtml = 'Like what you see? Visit the ' +\n",
              "            '<a target=\"_blank\" href=https://colab.research.google.com/notebooks/data_table.ipynb>data table notebook</a>'\n",
              "            + ' to learn more about interactive tables.';\n",
              "          element.innerHTML = '';\n",
              "          dataTable['output_type'] = 'display_data';\n",
              "          await google.colab.output.renderOutput(dataTable, element);\n",
              "          const docLink = document.createElement('div');\n",
              "          docLink.innerHTML = docLinkHtml;\n",
              "          element.appendChild(docLink);\n",
              "        }\n",
              "      </script>\n",
              "    </div>\n",
              "  </div>\n",
              "  "
            ]
          },
          "metadata": {},
          "execution_count": 6
        }
      ]
    },
    {
      "cell_type": "markdown",
      "source": [
        "**PERFORMING EXPLORATION DATA ANALYSIS (EDA)**"
      ],
      "metadata": {
        "id": "UIsef1duHj_t"
      }
    },
    {
      "cell_type": "code",
      "source": [
        "# data shape\n",
        "df.shape"
      ],
      "metadata": {
        "colab": {
          "base_uri": "https://localhost:8080/"
        },
        "id": "0R4Xxe1PHuUd",
        "outputId": "cdc654da-c6f5-4ced-eb22-26a685b47125"
      },
      "execution_count": null,
      "outputs": [
        {
          "output_type": "execute_result",
          "data": {
            "text/plain": [
              "(2099140, 77)"
            ]
          },
          "metadata": {},
          "execution_count": 7
        }
      ]
    },
    {
      "cell_type": "code",
      "source": [
        "# sum of null values\n",
        "df.isnull().sum()"
      ],
      "metadata": {
        "colab": {
          "base_uri": "https://localhost:8080/"
        },
        "id": "i5AhD23GHaT1",
        "outputId": "71c95316-761f-45c5-ea36-012a85630190"
      },
      "execution_count": null,
      "outputs": [
        {
          "output_type": "execute_result",
          "data": {
            "text/plain": [
              "member_id_hash                 0\n",
              "donor_id_hash                  0\n",
              "date_lcl_donation_time         0\n",
              "donation_type                  0\n",
              "aud_donor_foundation           0\n",
              "                           ...  \n",
              "sum_donor_total_2020      259435\n",
              "registered_2017           259435\n",
              "registered_2018           259435\n",
              "registered_2019           259435\n",
              "registered_2021           259435\n",
              "Length: 77, dtype: int64"
            ]
          },
          "metadata": {},
          "execution_count": 8
        }
      ]
    },
    {
      "cell_type": "code",
      "source": [
        "df.describe()"
      ],
      "metadata": {
        "colab": {
          "base_uri": "https://localhost:8080/",
          "height": 394
        },
        "id": "Kzry19rlH2vc",
        "outputId": "f84ee584-7a43-4ae8-b861-1c1bde23758c"
      },
      "execution_count": null,
      "outputs": [
        {
          "output_type": "execute_result",
          "data": {
            "text/plain": [
              "       aud_donor_foundation  aud_donor_member  aud_donor_team  \\\n",
              "count          2.099140e+06      2.099140e+06    2.099140e+06   \n",
              "mean           2.393210e+00      4.074777e+01    7.958833e+00   \n",
              "std            3.354156e+02      1.274350e+02    1.817224e+02   \n",
              "min            0.000000e+00      0.000000e+00    0.000000e+00   \n",
              "25%            0.000000e+00      1.617000e+01    0.000000e+00   \n",
              "50%            0.000000e+00      2.500000e+01    0.000000e+00   \n",
              "75%            0.000000e+00      5.000000e+01    0.000000e+00   \n",
              "max            2.789091e+05      1.086915e+05    1.131852e+05   \n",
              "\n",
              "       aud_donor_total   is_business  feat_donate_self  type_team_captain  \\\n",
              "count     2.099140e+06  2.099140e+06      2.099140e+06       1.839705e+06   \n",
              "mean      5.111725e+01  2.353821e-02      4.967225e-02       1.624298e-01   \n",
              "std       4.011027e+02  1.516053e-01      2.172670e-01       3.688448e-01   \n",
              "min       0.000000e+00  0.000000e+00      0.000000e+00       0.000000e+00   \n",
              "25%       1.886000e+01  0.000000e+00      0.000000e+00       0.000000e+00   \n",
              "50%       3.000000e+01  0.000000e+00      0.000000e+00       0.000000e+00   \n",
              "75%       5.000000e+01  0.000000e+00      0.000000e+00       0.000000e+00   \n",
              "max       2.789091e+05  1.000000e+00      1.000000e+00       1.000000e+00   \n",
              "\n",
              "       type_team_member  campaigns_total_number  product_grow_intends  ...  \\\n",
              "count      1.839705e+06            1.839705e+06          1.839705e+06  ...   \n",
              "mean       4.622013e-01            2.382078e+00          8.568738e-01  ...   \n",
              "std        4.985693e-01            2.580141e+00          3.502016e-01  ...   \n",
              "min        0.000000e+00            0.000000e+00          0.000000e+00  ...   \n",
              "25%        0.000000e+00            1.000000e+00          1.000000e+00  ...   \n",
              "50%        0.000000e+00            1.000000e+00          1.000000e+00  ...   \n",
              "75%        1.000000e+00            2.000000e+00          1.000000e+00  ...   \n",
              "max        1.000000e+00            1.800000e+01          1.000000e+00  ...   \n",
              "\n",
              "       sum_donations_member_2018  sum_donations_member_2019  \\\n",
              "count               1.839705e+06               1.839705e+06   \n",
              "mean                3.710378e+02               4.143829e+02   \n",
              "std                 2.549204e+03               2.221088e+03   \n",
              "min                 0.000000e+00               0.000000e+00   \n",
              "25%                 0.000000e+00               0.000000e+00   \n",
              "50%                 0.000000e+00               0.000000e+00   \n",
              "75%                 0.000000e+00               1.000000e+01   \n",
              "max                 1.111099e+05               1.173953e+05   \n",
              "\n",
              "       sum_donor_foundation_2020  sum_donor_member_2020  sum_donor_team_2020  \\\n",
              "count               1.839705e+06           1.839705e+06         1.839705e+06   \n",
              "mean                5.920757e+01           2.509199e+02         5.566866e+01   \n",
              "std                 1.152881e+04           3.082643e+04         8.936401e+03   \n",
              "min                 0.000000e+00           0.000000e+00         0.000000e+00   \n",
              "25%                 0.000000e+00           0.000000e+00         0.000000e+00   \n",
              "50%                 0.000000e+00           1.886000e+01         0.000000e+00   \n",
              "75%                 0.000000e+00           6.521000e+01         0.000000e+00   \n",
              "max                 2.257061e+06           6.033869e+06         1.748922e+06   \n",
              "\n",
              "       sum_donor_total_2020  registered_2017  registered_2018  \\\n",
              "count          1.839705e+06     1.839705e+06     1.839705e+06   \n",
              "mean           3.658079e+02     1.385412e-01     1.798761e-01   \n",
              "std            5.128651e+04     3.454673e-01     3.840843e-01   \n",
              "min            0.000000e+00     0.000000e+00     0.000000e+00   \n",
              "25%            0.000000e+00     0.000000e+00     0.000000e+00   \n",
              "50%            2.000000e+01     0.000000e+00     0.000000e+00   \n",
              "75%            7.545000e+01     0.000000e+00     0.000000e+00   \n",
              "max            1.003985e+07     1.000000e+00     1.000000e+00   \n",
              "\n",
              "       registered_2019  registered_2021  \n",
              "count     1.839705e+06     1.839705e+06  \n",
              "mean      2.510087e-01     4.017535e-01  \n",
              "std       4.335936e-01     4.902528e-01  \n",
              "min       0.000000e+00     0.000000e+00  \n",
              "25%       0.000000e+00     0.000000e+00  \n",
              "50%       0.000000e+00     0.000000e+00  \n",
              "75%       1.000000e+00     1.000000e+00  \n",
              "max       1.000000e+00     1.000000e+00  \n",
              "\n",
              "[8 rows x 60 columns]"
            ],
            "text/html": [
              "\n",
              "  <div id=\"df-a0c2565f-076a-4f81-9e32-5a89c4d076b3\">\n",
              "    <div class=\"colab-df-container\">\n",
              "      <div>\n",
              "<style scoped>\n",
              "    .dataframe tbody tr th:only-of-type {\n",
              "        vertical-align: middle;\n",
              "    }\n",
              "\n",
              "    .dataframe tbody tr th {\n",
              "        vertical-align: top;\n",
              "    }\n",
              "\n",
              "    .dataframe thead th {\n",
              "        text-align: right;\n",
              "    }\n",
              "</style>\n",
              "<table border=\"1\" class=\"dataframe\">\n",
              "  <thead>\n",
              "    <tr style=\"text-align: right;\">\n",
              "      <th></th>\n",
              "      <th>aud_donor_foundation</th>\n",
              "      <th>aud_donor_member</th>\n",
              "      <th>aud_donor_team</th>\n",
              "      <th>aud_donor_total</th>\n",
              "      <th>is_business</th>\n",
              "      <th>feat_donate_self</th>\n",
              "      <th>type_team_captain</th>\n",
              "      <th>type_team_member</th>\n",
              "      <th>campaigns_total_number</th>\n",
              "      <th>product_grow_intends</th>\n",
              "      <th>...</th>\n",
              "      <th>sum_donations_member_2018</th>\n",
              "      <th>sum_donations_member_2019</th>\n",
              "      <th>sum_donor_foundation_2020</th>\n",
              "      <th>sum_donor_member_2020</th>\n",
              "      <th>sum_donor_team_2020</th>\n",
              "      <th>sum_donor_total_2020</th>\n",
              "      <th>registered_2017</th>\n",
              "      <th>registered_2018</th>\n",
              "      <th>registered_2019</th>\n",
              "      <th>registered_2021</th>\n",
              "    </tr>\n",
              "  </thead>\n",
              "  <tbody>\n",
              "    <tr>\n",
              "      <th>count</th>\n",
              "      <td>2.099140e+06</td>\n",
              "      <td>2.099140e+06</td>\n",
              "      <td>2.099140e+06</td>\n",
              "      <td>2.099140e+06</td>\n",
              "      <td>2.099140e+06</td>\n",
              "      <td>2.099140e+06</td>\n",
              "      <td>1.839705e+06</td>\n",
              "      <td>1.839705e+06</td>\n",
              "      <td>1.839705e+06</td>\n",
              "      <td>1.839705e+06</td>\n",
              "      <td>...</td>\n",
              "      <td>1.839705e+06</td>\n",
              "      <td>1.839705e+06</td>\n",
              "      <td>1.839705e+06</td>\n",
              "      <td>1.839705e+06</td>\n",
              "      <td>1.839705e+06</td>\n",
              "      <td>1.839705e+06</td>\n",
              "      <td>1.839705e+06</td>\n",
              "      <td>1.839705e+06</td>\n",
              "      <td>1.839705e+06</td>\n",
              "      <td>1.839705e+06</td>\n",
              "    </tr>\n",
              "    <tr>\n",
              "      <th>mean</th>\n",
              "      <td>2.393210e+00</td>\n",
              "      <td>4.074777e+01</td>\n",
              "      <td>7.958833e+00</td>\n",
              "      <td>5.111725e+01</td>\n",
              "      <td>2.353821e-02</td>\n",
              "      <td>4.967225e-02</td>\n",
              "      <td>1.624298e-01</td>\n",
              "      <td>4.622013e-01</td>\n",
              "      <td>2.382078e+00</td>\n",
              "      <td>8.568738e-01</td>\n",
              "      <td>...</td>\n",
              "      <td>3.710378e+02</td>\n",
              "      <td>4.143829e+02</td>\n",
              "      <td>5.920757e+01</td>\n",
              "      <td>2.509199e+02</td>\n",
              "      <td>5.566866e+01</td>\n",
              "      <td>3.658079e+02</td>\n",
              "      <td>1.385412e-01</td>\n",
              "      <td>1.798761e-01</td>\n",
              "      <td>2.510087e-01</td>\n",
              "      <td>4.017535e-01</td>\n",
              "    </tr>\n",
              "    <tr>\n",
              "      <th>std</th>\n",
              "      <td>3.354156e+02</td>\n",
              "      <td>1.274350e+02</td>\n",
              "      <td>1.817224e+02</td>\n",
              "      <td>4.011027e+02</td>\n",
              "      <td>1.516053e-01</td>\n",
              "      <td>2.172670e-01</td>\n",
              "      <td>3.688448e-01</td>\n",
              "      <td>4.985693e-01</td>\n",
              "      <td>2.580141e+00</td>\n",
              "      <td>3.502016e-01</td>\n",
              "      <td>...</td>\n",
              "      <td>2.549204e+03</td>\n",
              "      <td>2.221088e+03</td>\n",
              "      <td>1.152881e+04</td>\n",
              "      <td>3.082643e+04</td>\n",
              "      <td>8.936401e+03</td>\n",
              "      <td>5.128651e+04</td>\n",
              "      <td>3.454673e-01</td>\n",
              "      <td>3.840843e-01</td>\n",
              "      <td>4.335936e-01</td>\n",
              "      <td>4.902528e-01</td>\n",
              "    </tr>\n",
              "    <tr>\n",
              "      <th>min</th>\n",
              "      <td>0.000000e+00</td>\n",
              "      <td>0.000000e+00</td>\n",
              "      <td>0.000000e+00</td>\n",
              "      <td>0.000000e+00</td>\n",
              "      <td>0.000000e+00</td>\n",
              "      <td>0.000000e+00</td>\n",
              "      <td>0.000000e+00</td>\n",
              "      <td>0.000000e+00</td>\n",
              "      <td>0.000000e+00</td>\n",
              "      <td>0.000000e+00</td>\n",
              "      <td>...</td>\n",
              "      <td>0.000000e+00</td>\n",
              "      <td>0.000000e+00</td>\n",
              "      <td>0.000000e+00</td>\n",
              "      <td>0.000000e+00</td>\n",
              "      <td>0.000000e+00</td>\n",
              "      <td>0.000000e+00</td>\n",
              "      <td>0.000000e+00</td>\n",
              "      <td>0.000000e+00</td>\n",
              "      <td>0.000000e+00</td>\n",
              "      <td>0.000000e+00</td>\n",
              "    </tr>\n",
              "    <tr>\n",
              "      <th>25%</th>\n",
              "      <td>0.000000e+00</td>\n",
              "      <td>1.617000e+01</td>\n",
              "      <td>0.000000e+00</td>\n",
              "      <td>1.886000e+01</td>\n",
              "      <td>0.000000e+00</td>\n",
              "      <td>0.000000e+00</td>\n",
              "      <td>0.000000e+00</td>\n",
              "      <td>0.000000e+00</td>\n",
              "      <td>1.000000e+00</td>\n",
              "      <td>1.000000e+00</td>\n",
              "      <td>...</td>\n",
              "      <td>0.000000e+00</td>\n",
              "      <td>0.000000e+00</td>\n",
              "      <td>0.000000e+00</td>\n",
              "      <td>0.000000e+00</td>\n",
              "      <td>0.000000e+00</td>\n",
              "      <td>0.000000e+00</td>\n",
              "      <td>0.000000e+00</td>\n",
              "      <td>0.000000e+00</td>\n",
              "      <td>0.000000e+00</td>\n",
              "      <td>0.000000e+00</td>\n",
              "    </tr>\n",
              "    <tr>\n",
              "      <th>50%</th>\n",
              "      <td>0.000000e+00</td>\n",
              "      <td>2.500000e+01</td>\n",
              "      <td>0.000000e+00</td>\n",
              "      <td>3.000000e+01</td>\n",
              "      <td>0.000000e+00</td>\n",
              "      <td>0.000000e+00</td>\n",
              "      <td>0.000000e+00</td>\n",
              "      <td>0.000000e+00</td>\n",
              "      <td>1.000000e+00</td>\n",
              "      <td>1.000000e+00</td>\n",
              "      <td>...</td>\n",
              "      <td>0.000000e+00</td>\n",
              "      <td>0.000000e+00</td>\n",
              "      <td>0.000000e+00</td>\n",
              "      <td>1.886000e+01</td>\n",
              "      <td>0.000000e+00</td>\n",
              "      <td>2.000000e+01</td>\n",
              "      <td>0.000000e+00</td>\n",
              "      <td>0.000000e+00</td>\n",
              "      <td>0.000000e+00</td>\n",
              "      <td>0.000000e+00</td>\n",
              "    </tr>\n",
              "    <tr>\n",
              "      <th>75%</th>\n",
              "      <td>0.000000e+00</td>\n",
              "      <td>5.000000e+01</td>\n",
              "      <td>0.000000e+00</td>\n",
              "      <td>5.000000e+01</td>\n",
              "      <td>0.000000e+00</td>\n",
              "      <td>0.000000e+00</td>\n",
              "      <td>0.000000e+00</td>\n",
              "      <td>1.000000e+00</td>\n",
              "      <td>2.000000e+00</td>\n",
              "      <td>1.000000e+00</td>\n",
              "      <td>...</td>\n",
              "      <td>0.000000e+00</td>\n",
              "      <td>1.000000e+01</td>\n",
              "      <td>0.000000e+00</td>\n",
              "      <td>6.521000e+01</td>\n",
              "      <td>0.000000e+00</td>\n",
              "      <td>7.545000e+01</td>\n",
              "      <td>0.000000e+00</td>\n",
              "      <td>0.000000e+00</td>\n",
              "      <td>1.000000e+00</td>\n",
              "      <td>1.000000e+00</td>\n",
              "    </tr>\n",
              "    <tr>\n",
              "      <th>max</th>\n",
              "      <td>2.789091e+05</td>\n",
              "      <td>1.086915e+05</td>\n",
              "      <td>1.131852e+05</td>\n",
              "      <td>2.789091e+05</td>\n",
              "      <td>1.000000e+00</td>\n",
              "      <td>1.000000e+00</td>\n",
              "      <td>1.000000e+00</td>\n",
              "      <td>1.000000e+00</td>\n",
              "      <td>1.800000e+01</td>\n",
              "      <td>1.000000e+00</td>\n",
              "      <td>...</td>\n",
              "      <td>1.111099e+05</td>\n",
              "      <td>1.173953e+05</td>\n",
              "      <td>2.257061e+06</td>\n",
              "      <td>6.033869e+06</td>\n",
              "      <td>1.748922e+06</td>\n",
              "      <td>1.003985e+07</td>\n",
              "      <td>1.000000e+00</td>\n",
              "      <td>1.000000e+00</td>\n",
              "      <td>1.000000e+00</td>\n",
              "      <td>1.000000e+00</td>\n",
              "    </tr>\n",
              "  </tbody>\n",
              "</table>\n",
              "<p>8 rows × 60 columns</p>\n",
              "</div>\n",
              "      <button class=\"colab-df-convert\" onclick=\"convertToInteractive('df-a0c2565f-076a-4f81-9e32-5a89c4d076b3')\"\n",
              "              title=\"Convert this dataframe to an interactive table.\"\n",
              "              style=\"display:none;\">\n",
              "        \n",
              "  <svg xmlns=\"http://www.w3.org/2000/svg\" height=\"24px\"viewBox=\"0 0 24 24\"\n",
              "       width=\"24px\">\n",
              "    <path d=\"M0 0h24v24H0V0z\" fill=\"none\"/>\n",
              "    <path d=\"M18.56 5.44l.94 2.06.94-2.06 2.06-.94-2.06-.94-.94-2.06-.94 2.06-2.06.94zm-11 1L8.5 8.5l.94-2.06 2.06-.94-2.06-.94L8.5 2.5l-.94 2.06-2.06.94zm10 10l.94 2.06.94-2.06 2.06-.94-2.06-.94-.94-2.06-.94 2.06-2.06.94z\"/><path d=\"M17.41 7.96l-1.37-1.37c-.4-.4-.92-.59-1.43-.59-.52 0-1.04.2-1.43.59L10.3 9.45l-7.72 7.72c-.78.78-.78 2.05 0 2.83L4 21.41c.39.39.9.59 1.41.59.51 0 1.02-.2 1.41-.59l7.78-7.78 2.81-2.81c.8-.78.8-2.07 0-2.86zM5.41 20L4 18.59l7.72-7.72 1.47 1.35L5.41 20z\"/>\n",
              "  </svg>\n",
              "      </button>\n",
              "      \n",
              "  <style>\n",
              "    .colab-df-container {\n",
              "      display:flex;\n",
              "      flex-wrap:wrap;\n",
              "      gap: 12px;\n",
              "    }\n",
              "\n",
              "    .colab-df-convert {\n",
              "      background-color: #E8F0FE;\n",
              "      border: none;\n",
              "      border-radius: 50%;\n",
              "      cursor: pointer;\n",
              "      display: none;\n",
              "      fill: #1967D2;\n",
              "      height: 32px;\n",
              "      padding: 0 0 0 0;\n",
              "      width: 32px;\n",
              "    }\n",
              "\n",
              "    .colab-df-convert:hover {\n",
              "      background-color: #E2EBFA;\n",
              "      box-shadow: 0px 1px 2px rgba(60, 64, 67, 0.3), 0px 1px 3px 1px rgba(60, 64, 67, 0.15);\n",
              "      fill: #174EA6;\n",
              "    }\n",
              "\n",
              "    [theme=dark] .colab-df-convert {\n",
              "      background-color: #3B4455;\n",
              "      fill: #D2E3FC;\n",
              "    }\n",
              "\n",
              "    [theme=dark] .colab-df-convert:hover {\n",
              "      background-color: #434B5C;\n",
              "      box-shadow: 0px 1px 3px 1px rgba(0, 0, 0, 0.15);\n",
              "      filter: drop-shadow(0px 1px 2px rgba(0, 0, 0, 0.3));\n",
              "      fill: #FFFFFF;\n",
              "    }\n",
              "  </style>\n",
              "\n",
              "      <script>\n",
              "        const buttonEl =\n",
              "          document.querySelector('#df-a0c2565f-076a-4f81-9e32-5a89c4d076b3 button.colab-df-convert');\n",
              "        buttonEl.style.display =\n",
              "          google.colab.kernel.accessAllowed ? 'block' : 'none';\n",
              "\n",
              "        async function convertToInteractive(key) {\n",
              "          const element = document.querySelector('#df-a0c2565f-076a-4f81-9e32-5a89c4d076b3');\n",
              "          const dataTable =\n",
              "            await google.colab.kernel.invokeFunction('convertToInteractive',\n",
              "                                                     [key], {});\n",
              "          if (!dataTable) return;\n",
              "\n",
              "          const docLinkHtml = 'Like what you see? Visit the ' +\n",
              "            '<a target=\"_blank\" href=https://colab.research.google.com/notebooks/data_table.ipynb>data table notebook</a>'\n",
              "            + ' to learn more about interactive tables.';\n",
              "          element.innerHTML = '';\n",
              "          dataTable['output_type'] = 'display_data';\n",
              "          await google.colab.output.renderOutput(dataTable, element);\n",
              "          const docLink = document.createElement('div');\n",
              "          docLink.innerHTML = docLinkHtml;\n",
              "          element.appendChild(docLink);\n",
              "        }\n",
              "      </script>\n",
              "    </div>\n",
              "  </div>\n",
              "  "
            ]
          },
          "metadata": {},
          "execution_count": 9
        }
      ]
    },
    {
      "cell_type": "code",
      "source": [
        "# sum of duplicate values\n",
        "df.duplicated().sum()"
      ],
      "metadata": {
        "colab": {
          "base_uri": "https://localhost:8080/"
        },
        "id": "hmabP1fvH9w2",
        "outputId": "8ac19065-5f31-4590-cdf8-c5246348a1dc"
      },
      "execution_count": null,
      "outputs": [
        {
          "output_type": "execute_result",
          "data": {
            "text/plain": [
              "1533"
            ]
          },
          "metadata": {},
          "execution_count": 10
        }
      ]
    },
    {
      "cell_type": "code",
      "source": [
        "# column informations\n",
        "df.info()"
      ],
      "metadata": {
        "colab": {
          "base_uri": "https://localhost:8080/"
        },
        "id": "Pvod3rWiILQU",
        "outputId": "1489c272-8b26-45d5-e3dc-c937445e3218"
      },
      "execution_count": null,
      "outputs": [
        {
          "output_type": "stream",
          "name": "stdout",
          "text": [
            "<class 'pandas.core.frame.DataFrame'>\n",
            "Int64Index: 2099140 entries, 0 to 2099139\n",
            "Data columns (total 77 columns):\n",
            " #   Column                           Dtype  \n",
            "---  ------                           -----  \n",
            " 0   member_id_hash                   object \n",
            " 1   donor_id_hash                    object \n",
            " 2   date_lcl_donation_time           object \n",
            " 3   donation_type                    object \n",
            " 4   aud_donor_foundation             float64\n",
            " 5   aud_donor_member                 float64\n",
            " 6   aud_donor_team                   float64\n",
            " 7   aud_donor_total                  float64\n",
            " 8   payment_country                  object \n",
            " 9   geo_state_region_province_x      object \n",
            " 10  is_business                      int64  \n",
            " 11  pmt_card_type                    object \n",
            " 12  feat_donate_self                 int64  \n",
            " 13  date_lcl_activation              object \n",
            " 14  country                          object \n",
            " 15  geo_state_region_province_y      object \n",
            " 16  gender                           object \n",
            " 17  category_fundraising             object \n",
            " 18  type_team_captain                float64\n",
            " 19  type_team_member                 float64\n",
            " 20  tenure_description               object \n",
            " 21  campaigns_total_number           float64\n",
            " 22  product_grow_intends             float64\n",
            " 23  product_host_intends             float64\n",
            " 24  product_move_intends             float64\n",
            " 25  product_myow_intends             float64\n",
            " 26  feat_donote_other                float64\n",
            " 27  feat_donote_self                 float64\n",
            " 28  feat_facebook_fundraiser         float64\n",
            " 29  feat_facebook_login              float64\n",
            " 30  feat_motive                      float64\n",
            " 31  feat_phone_no_provided           float64\n",
            " 32  feat_picture                     float64\n",
            " 33  feat_platinum_club               float64\n",
            " 34  feat_target_met                  float64\n",
            " 35  feat_target_setter               float64\n",
            " 36  feat_url_personal                float64\n",
            " 37  feat_web_click_shares            float64\n",
            " 38  feat_web_date_nunique            float64\n",
            " 39  feat_web_session_id_nunique      float64\n",
            " 40  feat_web_total_pageviews         float64\n",
            " 41  feat_web_visited_weekday         float64\n",
            " 42  feat_web_visited_weekend         float64\n",
            " 43  feat_app_user                    float64\n",
            " 44  feat_app_click_share             float64\n",
            " 45  feat_app_date_nunique            float64\n",
            " 46  feat_app_operating_system_first  object \n",
            " 47  feat_app_session_id_nunique      float64\n",
            " 48  feat_app_total_screenviews       float64\n",
            " 49  feat_app_view_motracker          float64\n",
            " 50  feat_app_visited_weekday_app     float64\n",
            " 51  feat_app_visited_weekend_app     float64\n",
            " 52  web_user                         float64\n",
            " 53  web_traffic_channel_first        object \n",
            " 54  web_traffic_source_first         object \n",
            " 55  web_traffic_medium_first         object \n",
            " 56  web_view_get_involved            float64\n",
            " 57  web_view_about_us                float64\n",
            " 58  web_view_mens_health             float64\n",
            " 59  sum_donations_member_2020        float64\n",
            " 60  mean_donations_member_2020       float64\n",
            " 61  median_donations_member_2020     float64\n",
            " 62  count_donations_member_2020      float64\n",
            " 63  max_donations_member_2020        float64\n",
            " 64  min_donations_member_2020        float64\n",
            " 65  std_donations_member_2020        float64\n",
            " 66  sum_donations_member_2017        float64\n",
            " 67  sum_donations_member_2018        float64\n",
            " 68  sum_donations_member_2019        float64\n",
            " 69  sum_donor_foundation_2020        float64\n",
            " 70  sum_donor_member_2020            float64\n",
            " 71  sum_donor_team_2020              float64\n",
            " 72  sum_donor_total_2020             float64\n",
            " 73  registered_2017                  float64\n",
            " 74  registered_2018                  float64\n",
            " 75  registered_2019                  float64\n",
            " 76  registered_2021                  float64\n",
            "dtypes: float64(58), int64(2), object(17)\n",
            "memory usage: 1.2+ GB\n"
          ]
        }
      ]
    },
    {
      "cell_type": "code",
      "source": [
        "# Categorical columns unique values\n",
        "cat_cols = df.select_dtypes(include='object').columns.to_list()\n",
        "cat_cols"
      ],
      "metadata": {
        "colab": {
          "base_uri": "https://localhost:8080/"
        },
        "id": "meWo1w3pIQ2D",
        "outputId": "1ebc9d4e-41ae-4f69-ac5d-661282c52fb2"
      },
      "execution_count": null,
      "outputs": [
        {
          "output_type": "execute_result",
          "data": {
            "text/plain": [
              "['member_id_hash',\n",
              " 'donor_id_hash',\n",
              " 'date_lcl_donation_time',\n",
              " 'donation_type',\n",
              " 'payment_country',\n",
              " 'geo_state_region_province_x',\n",
              " 'pmt_card_type',\n",
              " 'date_lcl_activation',\n",
              " 'country',\n",
              " 'geo_state_region_province_y',\n",
              " 'gender',\n",
              " 'category_fundraising',\n",
              " 'tenure_description',\n",
              " 'feat_app_operating_system_first',\n",
              " 'web_traffic_channel_first',\n",
              " 'web_traffic_source_first',\n",
              " 'web_traffic_medium_first']"
            ]
          },
          "metadata": {},
          "execution_count": 12
        }
      ]
    },
    {
      "cell_type": "code",
      "source": [
        "# Getting the Categorical columns unique values\n",
        "cols = ['donation_type','payment_country','geo_state_region_province_x','country','geo_state_region_province_y','gender','category_fundraising']\n",
        "for unique in df[cols]:\n",
        "    print(unique.upper())\n",
        "    print()\n",
        "    print(df[unique].unique())"
      ],
      "metadata": {
        "colab": {
          "base_uri": "https://localhost:8080/"
        },
        "id": "kdR0z7FoMCK1",
        "outputId": "07bf3da6-261e-4fb1-9c8c-0f9aab77d0b9"
      },
      "execution_count": null,
      "outputs": [
        {
          "output_type": "stream",
          "name": "stdout",
          "text": [
            "DONATION_TYPE\n",
            "\n",
            "['donate_to_recurring' 'donate_to_charity' 'donate_to_individual'\n",
            " 'donate_to_team']\n",
            "PAYMENT_COUNTRY\n",
            "\n",
            "['au' 'ie' 'ca' 'us' 'gb' 'cz' 'nz' 'es' 'fr' 'hk' 'de' 'se' 'za' 'no'\n",
            " 'nl' 'be' 'dk' 'ch' 'at' 'ex' 'sg']\n",
            "GEO_STATE_REGION_PROVINCE_X\n",
            "\n",
            "['Victoria' 'zz_missing_state_region_province' 'New South Wales' 'Alberta'\n",
            " 'Ontario' 'Manitoba' 'California' 'Queensland' 'South Australia'\n",
            " 'New Brunswick' 'Quebec' 'British Columbia'\n",
            " 'Australian Capital Territory' 'Northern Territory' 'Western Australia'\n",
            " 'Newfoundland and Labrador' 'Nova Scotia' 'Prince Edward Island'\n",
            " 'Tasmania' 'Washington' 'Greater London' 'East Midlands' 'Louisiana'\n",
            " 'West Midlands' 'New Mexico' 'New Hampshire' 'Ohio' 'Indiana' 'New York'\n",
            " 'Michigan' 'Pennsylvania' 'Arizona' 'Minnesota' 'Utah' 'Florida'\n",
            " 'New Jersey' 'North Carolina' 'Oregon' 'Wisconsin' 'Virginia'\n",
            " 'Connecticut' 'Yorkshire and the Humber' 'Texas' 'Colorado' 'North West'\n",
            " 'Illinois' 'Delaware' 'Rhode Island' 'Massachusetts' 'Nevada'\n",
            " 'South West' 'Georgia' 'Maryland' 'Missouri' 'Alabama' 'Oklahoma'\n",
            " 'Mississippi' 'Maine' 'Saskatchewan' 'East of England' 'Wales' 'Kansas'\n",
            " 'Northern Ireland' 'West Virginia' 'South East' 'Scotland'\n",
            " 'invalid_postcode' 'Bremen' 'Hawaii' 'Kentucky' 'Tennessee' 'North East'\n",
            " 'Iowa' 'Bayern' 'Montana' 'yet_to_classify' 'East England' 'South'\n",
            " 'North' 'Baden-Württemberg' 'Nordrhein-Westfalen' 'Thüringen' 'Berlin'\n",
            " 'Hessen' 'Niedersachsen' 'Hamburg' 'Channel Islands' 'North Dakota'\n",
            " 'Rheinland-Pfalz' 'South Carolina' 'Saarland' 'Brandenburg' 'Vermont'\n",
            " 'Isle of Man' 'South Dakota' 'Nebraska' 'postcode_not_linked_to_state'\n",
            " 'Northwest Territories' 'Wyoming' 'Mecklenburg-Vorpommern' 'Alaska'\n",
            " 'District of Columbia' 'Idaho' 'Arkansas' 'Sachsen-Anhalt' 'Yukon'\n",
            " 'not used' 'Christmas Island' 'Sachsen']\n",
            "COUNTRY\n",
            "\n",
            "[nan 'Australia' 'Ireland' 'Canada' 'USA' 'UK' 'New Zealand' 'Germany'\n",
            " 'France' 'Spain' 'Netherlands' 'Rest Of World' 'Switzerland' 'Norway'\n",
            " 'Belgium' 'Hong Kong' 'Denmark' 'Austria' 'Czech Republic' 'Sweden'\n",
            " 'South Africa' 'Singapore']\n",
            "GEO_STATE_REGION_PROVINCE_Y\n",
            "\n",
            "[nan 'Victoria' 'Queensland' 'zz_missing_state_region_province' 'Alberta'\n",
            " 'Ontario' 'British Columbia' 'Manitoba' 'California' 'Texas' 'Washington'\n",
            " 'New York' 'East of England' 'Maryland' 'Illinois' 'Western Australia'\n",
            " 'New South Wales' 'South Australia' 'Quebec' 'Tasmania'\n",
            " 'Australian Capital Territory' 'Saskatchewan' 'Northern Territory'\n",
            " 'Nova Scotia' 'Northwest Territories' 'Prince Edward Island'\n",
            " 'New Brunswick' 'Louisiana' 'South' 'North' 'West Midlands' 'Florida'\n",
            " 'Pennsylvania' 'Wales' 'South West' 'South East' 'Kentucky'\n",
            " 'Massachusetts' 'Scotland' 'Wisconsin' 'East Midlands'\n",
            " 'Yorkshire and the Humber' 'Greater London' 'Bayern' 'Indiana'\n",
            " 'North West' 'Tennessee' 'Colorado' 'Vermont' 'Montana' 'Virginia'\n",
            " 'Northern Ireland' 'yet_to_classify' 'North East' 'Ohio' 'Michigan'\n",
            " 'Baden-Württemberg' 'Nordrhein-Westfalen' 'Nevada' 'North Carolina'\n",
            " 'District of Columbia' 'Hamburg' 'Berlin' 'Hessen' 'East England'\n",
            " 'invalid_postcode' 'Niedersachsen' 'Brandenburg' 'New Jersey' 'Alabama'\n",
            " 'Georgia' 'West Virginia' 'North Dakota' 'South Carolina'\n",
            " 'Rheinland-Pfalz' 'New Hampshire' 'Bremen' 'Missouri' 'Rhode Island'\n",
            " 'Channel Islands' 'Connecticut' 'Isle of Man' 'Kansas' 'Saarland' 'Iowa'\n",
            " 'Newfoundland and Labrador' 'Minnesota' 'Nebraska' 'Oregon'\n",
            " 'Mecklenburg-Vorpommern' 'Arizona' 'Oklahoma' 'Delaware' 'Utah' 'Wyoming'\n",
            " 'Sachsen-Anhalt' 'Thüringen' 'postcode_not_linked_to_state'\n",
            " 'South Dakota' 'Hawaii' 'not used' 'Maine' 'Yukon' 'Idaho' 'Alaska'\n",
            " 'Arkansas' 'New Mexico' 'Sachsen' 'Mississippi' 'Christmas Island']\n",
            "GENDER\n",
            "\n",
            "[nan 'm' 'f' 'n' 'u']\n",
            "CATEGORY_FUNDRAISING\n",
            "\n",
            "[nan 'workplace' 'friends' 'None' 'school' 'uni' 'sports'\n",
            " 'emergency-service']\n"
          ]
        }
      ]
    },
    {
      "cell_type": "code",
      "source": [
        "# Check Registration Year unique values\n",
        "reg_year = ['registered_2017', 'registered_2018', 'registered_2019', 'registered_2021']\n",
        "for years in df[reg_year]:\n",
        "    print(df[years].unique())\n",
        "    print(df[reg_year].isna().value_counts())"
      ],
      "metadata": {
        "colab": {
          "base_uri": "https://localhost:8080/"
        },
        "id": "JcZRxg02I-bd",
        "outputId": "58365c1e-0fe0-4ae9-d857-e45ff8b89c63"
      },
      "execution_count": null,
      "outputs": [
        {
          "output_type": "stream",
          "name": "stdout",
          "text": [
            "[nan  1.  0.]\n",
            "registered_2017  registered_2018  registered_2019  registered_2021\n",
            "False            False            False            False              1839705\n",
            "True             True             True             True                259435\n",
            "dtype: int64\n",
            "[nan  1.  0.]\n",
            "registered_2017  registered_2018  registered_2019  registered_2021\n",
            "False            False            False            False              1839705\n",
            "True             True             True             True                259435\n",
            "dtype: int64\n",
            "[nan  1.  0.]\n",
            "registered_2017  registered_2018  registered_2019  registered_2021\n",
            "False            False            False            False              1839705\n",
            "True             True             True             True                259435\n",
            "dtype: int64\n",
            "[nan  1.  0.]\n",
            "registered_2017  registered_2018  registered_2019  registered_2021\n",
            "False            False            False            False              1839705\n",
            "True             True             True             True                259435\n",
            "dtype: int64\n"
          ]
        }
      ]
    },
    {
      "cell_type": "markdown",
      "source": [
        "**DATA VISUALIZATIONS**"
      ],
      "metadata": {
        "id": "wPTyek7-NJOx"
      }
    },
    {
      "cell_type": "code",
      "source": [
        "sns.set_theme(font_scale=1.5)\n",
        "plt.figure(figsize=(15,10))\n",
        "sns.barplot(x=df.groupby('country').country.count().values,y=df.groupby('country').country.count().index)\n",
        "plt.title('Fundraising Across Countries')\n",
        "plt.savefig(\"Fundraising Across Contries\")\n",
        "plt.show()"
      ],
      "metadata": {
        "colab": {
          "base_uri": "https://localhost:8080/",
          "height": 569
        },
        "id": "NhWECnklLxSk",
        "outputId": "bf123ae0-bcee-45e1-b075-09a401dfdd1b"
      },
      "execution_count": null,
      "outputs": [
        {
          "output_type": "display_data",
          "data": {
            "text/plain": [
              "<Figure size 1080x720 with 1 Axes>"
            ],
            "image/png": "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\n"
          },
          "metadata": {}
        }
      ]
    },
    {
      "cell_type": "markdown",
      "source": [
        "The graph above shows distribution of fundraising across different Countries with UK having the highest and Austria having the lowest"
      ],
      "metadata": {
        "id": "iNIzgW27OpMs"
      }
    },
    {
      "cell_type": "code",
      "source": [
        "# Fundraising into Categories\n",
        "category_fundraising = df.groupby('category_fundraising').category_fundraising.count().sort_values(ascending=False )\n",
        "\n",
        "plt.figure(figsize=(10, 10))\n",
        "plt.pie(category_fundraising,labels=category_fundraising.index,autopct='%.0f%%')\n",
        "plt.title('Pie-Plot Univariate Analysis Showing Percentage of Fundraising category ',fontsize=20)\n",
        "plt.savefig(\"Fundraising category %\")\n",
        "plt.show()"
      ],
      "metadata": {
        "colab": {
          "base_uri": "https://localhost:8080/",
          "height": 596
        },
        "id": "iIogiMqZOd4O",
        "outputId": "98ed8dff-ab31-485e-e3ec-e631654b61ea"
      },
      "execution_count": null,
      "outputs": [
        {
          "output_type": "display_data",
          "data": {
            "text/plain": [
              "<Figure size 720x720 with 1 Axes>"
            ],
            "image/png": "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\n"
          },
          "metadata": {}
        }
      ]
    },
    {
      "cell_type": "markdown",
      "source": [
        "The Pie Chart above shows most of the Fundraising Categories which are **Friends** and **Workplace**"
      ],
      "metadata": {
        "id": "XxC_Ct8FQ1Xr"
      }
    },
    {
      "cell_type": "code",
      "source": [
        "# Donation type Histogram Plot\n",
        "plt.figure(figsize=(14, 5))\n",
        "ab=plt.hist(df['donation_type'])\n",
        "plt.title(\"Histogram Univariate Analysis Showing Donation Types\",fontsize=24)\n",
        "plt.savefig(\"Donation Types\")\n",
        "plt.show()"
      ],
      "metadata": {
        "colab": {
          "base_uri": "https://localhost:8080/",
          "height": 355
        },
        "id": "7Qe_Zy5BPQTS",
        "outputId": "ef989e95-a05b-45e4-83bc-3ab3e45e6357"
      },
      "execution_count": null,
      "outputs": [
        {
          "output_type": "display_data",
          "data": {
            "text/plain": [
              "<Figure size 1008x360 with 1 Axes>"
            ],
            "image/png": "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\n"
          },
          "metadata": {}
        }
      ]
    },
    {
      "cell_type": "markdown",
      "source": [
        "The graph above shows that most of the Donors donated to more individuals and few to Teams"
      ],
      "metadata": {
        "id": "RQ2I3eZQSCK_"
      }
    },
    {
      "cell_type": "code",
      "source": [
        "sns.set_theme(font_scale=1.5)\n",
        "plt.figure(figsize=(15,7))\n",
        "sns.barplot(x=df.groupby('gender')['gender'].count().index,y=df.groupby('gender')['gender'].count().values)\n",
        "plt.title('Distribution of Sex Among Donors')\n",
        "plt.savefig(\"Sex Amoung Donors\")\n",
        "plt.show()"
      ],
      "metadata": {
        "colab": {
          "base_uri": "https://localhost:8080/",
          "height": 481
        },
        "id": "gKv2P3VIQntj",
        "outputId": "86b9fbe5-109c-4b92-9fca-19a84bfd6344"
      },
      "execution_count": null,
      "outputs": [
        {
          "output_type": "display_data",
          "data": {
            "text/plain": [
              "<Figure size 1080x504 with 1 Axes>"
            ],
            "image/png": "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\n"
          },
          "metadata": {}
        }
      ]
    },
    {
      "cell_type": "markdown",
      "source": [
        "The above graph indicates that more than 60% of the Donors are Male"
      ],
      "metadata": {
        "id": "9UGakL1QStN8"
      }
    },
    {
      "cell_type": "code",
      "source": [
        "# Tenure Description pie plot\n",
        "tenure_description = df.groupby('tenure_description').tenure_description.count().sort_values(ascending=False )\n",
        "\n",
        "plt.figure(figsize=(10, 10))\n",
        "plt.pie(tenure_description,labels=tenure_description.index,autopct='%.0f%%')\n",
        "plt.title('Pie-Plot Univariate Analysis Showing Percentage of Tenure Description ',fontsize=20)\n",
        "plt.savefig(\"Fundraising % in Tenure\")\n",
        "plt.show()"
      ],
      "metadata": {
        "colab": {
          "base_uri": "https://localhost:8080/",
          "height": 596
        },
        "id": "9SZWgGj9X-K1",
        "outputId": "51912965-797e-4aa1-9634-ed5fda0038fc"
      },
      "execution_count": null,
      "outputs": [
        {
          "output_type": "display_data",
          "data": {
            "text/plain": [
              "<Figure size 720x720 with 1 Axes>"
            ],
            "image/png": "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\n"
          },
          "metadata": {}
        }
      ]
    },
    {
      "cell_type": "markdown",
      "source": [
        "The Above Pie Plot indicates that there are More First time Fundraisers, which tends to mean that peoples are willing to Donate"
      ],
      "metadata": {
        "id": "HZRvNWu1YxuR"
      }
    },
    {
      "cell_type": "code",
      "source": [
        "df['tenure_description'].unique()"
      ],
      "metadata": {
        "colab": {
          "base_uri": "https://localhost:8080/"
        },
        "id": "Y210zaSGYKQa",
        "outputId": "97cd4462-1006-4898-de5a-5e593553826d"
      },
      "execution_count": null,
      "outputs": [
        {
          "output_type": "execute_result",
          "data": {
            "text/plain": [
              "array([nan, 'Retained', 'New', 'Returning'], dtype=object)"
            ]
          },
          "metadata": {},
          "execution_count": 20
        }
      ]
    },
    {
      "cell_type": "markdown",
      "source": [
        "**DATA PREPARATION AND FEATURES ENGINEERING**"
      ],
      "metadata": {
        "id": "alZl7xSnTd4L"
      }
    },
    {
      "cell_type": "code",
      "source": [
        "# Drop duplicate values\n",
        "df.drop_duplicates(inplace=True)"
      ],
      "metadata": {
        "id": "3w1xYJ-FSn1L"
      },
      "execution_count": null,
      "outputs": []
    },
    {
      "cell_type": "code",
      "source": [
        "# check the sum of duplicate values after dropping all duplicate values\n",
        "df.duplicated().sum()"
      ],
      "metadata": {
        "colab": {
          "base_uri": "https://localhost:8080/"
        },
        "id": "kyl3f177VS5D",
        "outputId": "5c45b798-c501-4616-97c4-84f00ea70898"
      },
      "execution_count": null,
      "outputs": [
        {
          "output_type": "execute_result",
          "data": {
            "text/plain": [
              "0"
            ]
          },
          "metadata": {},
          "execution_count": 22
        }
      ]
    },
    {
      "cell_type": "markdown",
      "source": [
        "Replace Null Values in the columns with categorical values with the mode of the column"
      ],
      "metadata": {
        "id": "FpH6TtVyWzjH"
      }
    },
    {
      "cell_type": "code",
      "source": [
        "print(df['geo_state_region_province_x'].isnull().sum())\n",
        "print(df['geo_state_region_province_y'].isnull().sum())"
      ],
      "metadata": {
        "colab": {
          "base_uri": "https://localhost:8080/"
        },
        "id": "OT_Q5L_e21CO",
        "outputId": "f6f498e6-ec91-493a-ca99-ff5584024068"
      },
      "execution_count": null,
      "outputs": [
        {
          "output_type": "stream",
          "name": "stdout",
          "text": [
            "0\n",
            "259182\n"
          ]
        }
      ]
    },
    {
      "cell_type": "code",
      "source": [
        "cat_cols_with_nan = ['country','gender','category_fundraising', 'tenure_description']\n",
        "\n",
        "for nans in df[cat_cols_with_nan]:\n",
        "    cols_mode = df[nans].mode()[0]\n",
        "    df[nans].fillna(cols_mode, inplace=True)\n",
        "    print(df[nans].isnull().sum())"
      ],
      "metadata": {
        "colab": {
          "base_uri": "https://localhost:8080/"
        },
        "id": "Tnxi9kvaV6e6",
        "outputId": "76541971-3a2c-4867-8de5-32786575fe2b"
      },
      "execution_count": null,
      "outputs": [
        {
          "output_type": "stream",
          "name": "stdout",
          "text": [
            "0\n",
            "0\n",
            "0\n",
            "0\n"
          ]
        }
      ]
    },
    {
      "cell_type": "markdown",
      "source": [
        "**DROPPING UNECESSARY COLUMNS**"
      ],
      "metadata": {
        "id": "GeLPvZLBhpJ2"
      }
    },
    {
      "cell_type": "code",
      "source": [
        "cols_to_be_dropped = ['member_id_hash','donor_id_hash','feat_facebook_fundraiser','feat_facebook_login','feat_motive','feat_phone_no_provided',\n",
        "                      'feat_picture','feat_platinum_club','feat_target_met','feat_target_setter','feat_url_personal',\n",
        "                      'feat_web_click_shares','feat_web_date_nunique','feat_web_session_id_nunique','feat_web_total_pageviews',\n",
        "                      'feat_web_visited_weekday','feat_web_visited_weekend','geo_state_region_province_y','feat_app_user','feat_app_click_share','feat_app_date_nunique',\n",
        "                      'feat_app_operating_system_first','feat_app_session_id_nunique','feat_app_total_screenviews','feat_app_view_motracker',\n",
        "                      'feat_app_visited_weekday_app','feat_app_visited_weekend_app','web_user','web_traffic_channel_first','web_traffic_source_first',\n",
        "                      'web_traffic_medium_first','web_view_get_involved','web_view_about_us','web_view_mens_health','sum_donations_member_2020',\n",
        "                      'mean_donations_member_2020','median_donations_member_2020','count_donations_member_2020','max_donations_member_2020',\n",
        "                      'min_donations_member_2020','std_donations_member_2020','date_lcl_activation','date_lcl_donation_time','geo_state_region_province_x']\n",
        "\n",
        "# DROP COLUMNS\n",
        "df.drop(cols_to_be_dropped, axis=1, inplace=True)\n",
        "df.shape"
      ],
      "metadata": {
        "colab": {
          "base_uri": "https://localhost:8080/"
        },
        "id": "KNDRiHggfVvh",
        "outputId": "e05b9d68-e606-4e3b-90c3-e9b92dcedd58"
      },
      "execution_count": null,
      "outputs": [
        {
          "output_type": "execute_result",
          "data": {
            "text/plain": [
              "(2097607, 33)"
            ]
          },
          "metadata": {},
          "execution_count": 27
        }
      ]
    },
    {
      "cell_type": "code",
      "source": [
        "df.head()"
      ],
      "metadata": {
        "colab": {
          "base_uri": "https://localhost:8080/",
          "height": 334
        },
        "id": "yTjR_M4GW_oa",
        "outputId": "d1033198-9079-4f56-d170-a619fe9100ce"
      },
      "execution_count": null,
      "outputs": [
        {
          "output_type": "execute_result",
          "data": {
            "text/plain": [
              "         donation_type  aud_donor_foundation  aud_donor_member  \\\n",
              "0  donate_to_recurring                  0.00               0.0   \n",
              "1  donate_to_recurring                  0.00               0.0   \n",
              "2  donate_to_recurring                  0.00               0.0   \n",
              "3  donate_to_recurring                  0.00               0.0   \n",
              "4    donate_to_charity                  1.62               0.0   \n",
              "\n",
              "   aud_donor_team  aud_donor_total payment_country  is_business  \\\n",
              "0             0.0             0.00              au            0   \n",
              "1             0.0             0.00              au            0   \n",
              "2             0.0             0.00              au            0   \n",
              "3             0.0             0.00              au            0   \n",
              "4             0.0             1.62              ie            0   \n",
              "\n",
              "      pmt_card_type  feat_donate_self country  ... sum_donations_member_2018  \\\n",
              "0              visa                 0      UK  ...                       NaN   \n",
              "1  american express                 0      UK  ...                       NaN   \n",
              "2              visa                 0      UK  ...                       NaN   \n",
              "3  american express                 0      UK  ...                       NaN   \n",
              "4                mc                 0      UK  ...                       NaN   \n",
              "\n",
              "  sum_donations_member_2019  sum_donor_foundation_2020  sum_donor_member_2020  \\\n",
              "0                       NaN                        NaN                    NaN   \n",
              "1                       NaN                        NaN                    NaN   \n",
              "2                       NaN                        NaN                    NaN   \n",
              "3                       NaN                        NaN                    NaN   \n",
              "4                       NaN                        NaN                    NaN   \n",
              "\n",
              "  sum_donor_team_2020  sum_donor_total_2020  registered_2017  registered_2018  \\\n",
              "0                 NaN                   NaN              NaN              NaN   \n",
              "1                 NaN                   NaN              NaN              NaN   \n",
              "2                 NaN                   NaN              NaN              NaN   \n",
              "3                 NaN                   NaN              NaN              NaN   \n",
              "4                 NaN                   NaN              NaN              NaN   \n",
              "\n",
              "   registered_2019  registered_2021  \n",
              "0              NaN              NaN  \n",
              "1              NaN              NaN  \n",
              "2              NaN              NaN  \n",
              "3              NaN              NaN  \n",
              "4              NaN              NaN  \n",
              "\n",
              "[5 rows x 33 columns]"
            ],
            "text/html": [
              "\n",
              "  <div id=\"df-76b04327-e0d6-42db-9448-1725b26854f6\">\n",
              "    <div class=\"colab-df-container\">\n",
              "      <div>\n",
              "<style scoped>\n",
              "    .dataframe tbody tr th:only-of-type {\n",
              "        vertical-align: middle;\n",
              "    }\n",
              "\n",
              "    .dataframe tbody tr th {\n",
              "        vertical-align: top;\n",
              "    }\n",
              "\n",
              "    .dataframe thead th {\n",
              "        text-align: right;\n",
              "    }\n",
              "</style>\n",
              "<table border=\"1\" class=\"dataframe\">\n",
              "  <thead>\n",
              "    <tr style=\"text-align: right;\">\n",
              "      <th></th>\n",
              "      <th>donation_type</th>\n",
              "      <th>aud_donor_foundation</th>\n",
              "      <th>aud_donor_member</th>\n",
              "      <th>aud_donor_team</th>\n",
              "      <th>aud_donor_total</th>\n",
              "      <th>payment_country</th>\n",
              "      <th>is_business</th>\n",
              "      <th>pmt_card_type</th>\n",
              "      <th>feat_donate_self</th>\n",
              "      <th>country</th>\n",
              "      <th>...</th>\n",
              "      <th>sum_donations_member_2018</th>\n",
              "      <th>sum_donations_member_2019</th>\n",
              "      <th>sum_donor_foundation_2020</th>\n",
              "      <th>sum_donor_member_2020</th>\n",
              "      <th>sum_donor_team_2020</th>\n",
              "      <th>sum_donor_total_2020</th>\n",
              "      <th>registered_2017</th>\n",
              "      <th>registered_2018</th>\n",
              "      <th>registered_2019</th>\n",
              "      <th>registered_2021</th>\n",
              "    </tr>\n",
              "  </thead>\n",
              "  <tbody>\n",
              "    <tr>\n",
              "      <th>0</th>\n",
              "      <td>donate_to_recurring</td>\n",
              "      <td>0.00</td>\n",
              "      <td>0.0</td>\n",
              "      <td>0.0</td>\n",
              "      <td>0.00</td>\n",
              "      <td>au</td>\n",
              "      <td>0</td>\n",
              "      <td>visa</td>\n",
              "      <td>0</td>\n",
              "      <td>UK</td>\n",
              "      <td>...</td>\n",
              "      <td>NaN</td>\n",
              "      <td>NaN</td>\n",
              "      <td>NaN</td>\n",
              "      <td>NaN</td>\n",
              "      <td>NaN</td>\n",
              "      <td>NaN</td>\n",
              "      <td>NaN</td>\n",
              "      <td>NaN</td>\n",
              "      <td>NaN</td>\n",
              "      <td>NaN</td>\n",
              "    </tr>\n",
              "    <tr>\n",
              "      <th>1</th>\n",
              "      <td>donate_to_recurring</td>\n",
              "      <td>0.00</td>\n",
              "      <td>0.0</td>\n",
              "      <td>0.0</td>\n",
              "      <td>0.00</td>\n",
              "      <td>au</td>\n",
              "      <td>0</td>\n",
              "      <td>american express</td>\n",
              "      <td>0</td>\n",
              "      <td>UK</td>\n",
              "      <td>...</td>\n",
              "      <td>NaN</td>\n",
              "      <td>NaN</td>\n",
              "      <td>NaN</td>\n",
              "      <td>NaN</td>\n",
              "      <td>NaN</td>\n",
              "      <td>NaN</td>\n",
              "      <td>NaN</td>\n",
              "      <td>NaN</td>\n",
              "      <td>NaN</td>\n",
              "      <td>NaN</td>\n",
              "    </tr>\n",
              "    <tr>\n",
              "      <th>2</th>\n",
              "      <td>donate_to_recurring</td>\n",
              "      <td>0.00</td>\n",
              "      <td>0.0</td>\n",
              "      <td>0.0</td>\n",
              "      <td>0.00</td>\n",
              "      <td>au</td>\n",
              "      <td>0</td>\n",
              "      <td>visa</td>\n",
              "      <td>0</td>\n",
              "      <td>UK</td>\n",
              "      <td>...</td>\n",
              "      <td>NaN</td>\n",
              "      <td>NaN</td>\n",
              "      <td>NaN</td>\n",
              "      <td>NaN</td>\n",
              "      <td>NaN</td>\n",
              "      <td>NaN</td>\n",
              "      <td>NaN</td>\n",
              "      <td>NaN</td>\n",
              "      <td>NaN</td>\n",
              "      <td>NaN</td>\n",
              "    </tr>\n",
              "    <tr>\n",
              "      <th>3</th>\n",
              "      <td>donate_to_recurring</td>\n",
              "      <td>0.00</td>\n",
              "      <td>0.0</td>\n",
              "      <td>0.0</td>\n",
              "      <td>0.00</td>\n",
              "      <td>au</td>\n",
              "      <td>0</td>\n",
              "      <td>american express</td>\n",
              "      <td>0</td>\n",
              "      <td>UK</td>\n",
              "      <td>...</td>\n",
              "      <td>NaN</td>\n",
              "      <td>NaN</td>\n",
              "      <td>NaN</td>\n",
              "      <td>NaN</td>\n",
              "      <td>NaN</td>\n",
              "      <td>NaN</td>\n",
              "      <td>NaN</td>\n",
              "      <td>NaN</td>\n",
              "      <td>NaN</td>\n",
              "      <td>NaN</td>\n",
              "    </tr>\n",
              "    <tr>\n",
              "      <th>4</th>\n",
              "      <td>donate_to_charity</td>\n",
              "      <td>1.62</td>\n",
              "      <td>0.0</td>\n",
              "      <td>0.0</td>\n",
              "      <td>1.62</td>\n",
              "      <td>ie</td>\n",
              "      <td>0</td>\n",
              "      <td>mc</td>\n",
              "      <td>0</td>\n",
              "      <td>UK</td>\n",
              "      <td>...</td>\n",
              "      <td>NaN</td>\n",
              "      <td>NaN</td>\n",
              "      <td>NaN</td>\n",
              "      <td>NaN</td>\n",
              "      <td>NaN</td>\n",
              "      <td>NaN</td>\n",
              "      <td>NaN</td>\n",
              "      <td>NaN</td>\n",
              "      <td>NaN</td>\n",
              "      <td>NaN</td>\n",
              "    </tr>\n",
              "  </tbody>\n",
              "</table>\n",
              "<p>5 rows × 33 columns</p>\n",
              "</div>\n",
              "      <button class=\"colab-df-convert\" onclick=\"convertToInteractive('df-76b04327-e0d6-42db-9448-1725b26854f6')\"\n",
              "              title=\"Convert this dataframe to an interactive table.\"\n",
              "              style=\"display:none;\">\n",
              "        \n",
              "  <svg xmlns=\"http://www.w3.org/2000/svg\" height=\"24px\"viewBox=\"0 0 24 24\"\n",
              "       width=\"24px\">\n",
              "    <path d=\"M0 0h24v24H0V0z\" fill=\"none\"/>\n",
              "    <path d=\"M18.56 5.44l.94 2.06.94-2.06 2.06-.94-2.06-.94-.94-2.06-.94 2.06-2.06.94zm-11 1L8.5 8.5l.94-2.06 2.06-.94-2.06-.94L8.5 2.5l-.94 2.06-2.06.94zm10 10l.94 2.06.94-2.06 2.06-.94-2.06-.94-.94-2.06-.94 2.06-2.06.94z\"/><path d=\"M17.41 7.96l-1.37-1.37c-.4-.4-.92-.59-1.43-.59-.52 0-1.04.2-1.43.59L10.3 9.45l-7.72 7.72c-.78.78-.78 2.05 0 2.83L4 21.41c.39.39.9.59 1.41.59.51 0 1.02-.2 1.41-.59l7.78-7.78 2.81-2.81c.8-.78.8-2.07 0-2.86zM5.41 20L4 18.59l7.72-7.72 1.47 1.35L5.41 20z\"/>\n",
              "  </svg>\n",
              "      </button>\n",
              "      \n",
              "  <style>\n",
              "    .colab-df-container {\n",
              "      display:flex;\n",
              "      flex-wrap:wrap;\n",
              "      gap: 12px;\n",
              "    }\n",
              "\n",
              "    .colab-df-convert {\n",
              "      background-color: #E8F0FE;\n",
              "      border: none;\n",
              "      border-radius: 50%;\n",
              "      cursor: pointer;\n",
              "      display: none;\n",
              "      fill: #1967D2;\n",
              "      height: 32px;\n",
              "      padding: 0 0 0 0;\n",
              "      width: 32px;\n",
              "    }\n",
              "\n",
              "    .colab-df-convert:hover {\n",
              "      background-color: #E2EBFA;\n",
              "      box-shadow: 0px 1px 2px rgba(60, 64, 67, 0.3), 0px 1px 3px 1px rgba(60, 64, 67, 0.15);\n",
              "      fill: #174EA6;\n",
              "    }\n",
              "\n",
              "    [theme=dark] .colab-df-convert {\n",
              "      background-color: #3B4455;\n",
              "      fill: #D2E3FC;\n",
              "    }\n",
              "\n",
              "    [theme=dark] .colab-df-convert:hover {\n",
              "      background-color: #434B5C;\n",
              "      box-shadow: 0px 1px 3px 1px rgba(0, 0, 0, 0.15);\n",
              "      filter: drop-shadow(0px 1px 2px rgba(0, 0, 0, 0.3));\n",
              "      fill: #FFFFFF;\n",
              "    }\n",
              "  </style>\n",
              "\n",
              "      <script>\n",
              "        const buttonEl =\n",
              "          document.querySelector('#df-76b04327-e0d6-42db-9448-1725b26854f6 button.colab-df-convert');\n",
              "        buttonEl.style.display =\n",
              "          google.colab.kernel.accessAllowed ? 'block' : 'none';\n",
              "\n",
              "        async function convertToInteractive(key) {\n",
              "          const element = document.querySelector('#df-76b04327-e0d6-42db-9448-1725b26854f6');\n",
              "          const dataTable =\n",
              "            await google.colab.kernel.invokeFunction('convertToInteractive',\n",
              "                                                     [key], {});\n",
              "          if (!dataTable) return;\n",
              "\n",
              "          const docLinkHtml = 'Like what you see? Visit the ' +\n",
              "            '<a target=\"_blank\" href=https://colab.research.google.com/notebooks/data_table.ipynb>data table notebook</a>'\n",
              "            + ' to learn more about interactive tables.';\n",
              "          element.innerHTML = '';\n",
              "          dataTable['output_type'] = 'display_data';\n",
              "          await google.colab.output.renderOutput(dataTable, element);\n",
              "          const docLink = document.createElement('div');\n",
              "          docLink.innerHTML = docLinkHtml;\n",
              "          element.appendChild(docLink);\n",
              "        }\n",
              "      </script>\n",
              "    </div>\n",
              "  </div>\n",
              "  "
            ]
          },
          "metadata": {},
          "execution_count": 28
        }
      ]
    },
    {
      "cell_type": "markdown",
      "source": [
        "WORKING ON THE **GENDER** COLUMN"
      ],
      "metadata": {
        "id": "SDOYDCgUnc8W"
      }
    },
    {
      "cell_type": "code",
      "source": [
        "# Replace th (n/u) to non-binary\n",
        "df['gender'].replace(['n','u'], 'non-binary', inplace=True)\n",
        "df['gender'].unique()"
      ],
      "metadata": {
        "colab": {
          "base_uri": "https://localhost:8080/"
        },
        "id": "1B9eUITZnbip",
        "outputId": "3272ab05-9064-445e-e8a2-effaa2d5a55f"
      },
      "execution_count": null,
      "outputs": [
        {
          "output_type": "execute_result",
          "data": {
            "text/plain": [
              "array(['m', 'f', 'non-binary'], dtype=object)"
            ]
          },
          "metadata": {},
          "execution_count": 29
        }
      ]
    },
    {
      "cell_type": "markdown",
      "source": [
        "Replacing NaN values and the convert the data type into an integer"
      ],
      "metadata": {
        "id": "mb5Ic4uNrpxu"
      }
    },
    {
      "cell_type": "code",
      "source": [
        "\n",
        "cols = ['type_team_captain','type_team_member','campaigns_total_number','product_grow_intends',\n",
        "        'product_host_intends','product_move_intends','product_myow_intends',\n",
        "        'feat_donote_other','feat_donote_self']\n",
        "\n",
        "\n",
        "for col in df[cols]:\n",
        "    col_mode = df[col].mode()[0]\n",
        "    # fill nan values & convert dtype to integer\n",
        "    df[col].fillna(col_mode, inplace=True)\n",
        "    df[col] = df[col].astype(int)\n"
      ],
      "metadata": {
        "id": "4kRkcEcUorho"
      },
      "execution_count": null,
      "outputs": []
    },
    {
      "cell_type": "markdown",
      "source": [
        "Filling The NaN values in the registration Years with the mode of their columns and then converting the data types to an Integer\n"
      ],
      "metadata": {
        "id": "pUt3Bu4Gw8mE"
      }
    },
    {
      "cell_type": "code",
      "source": [
        "for year in df[reg_year]:\n",
        "    year_mode = df[year].mode()[0]\n",
        "    df[year].fillna(year_mode, inplace=True)\n",
        "    df[year] = df[year].astype(int)"
      ],
      "metadata": {
        "id": "u7xl68HvwMWp"
      },
      "execution_count": null,
      "outputs": []
    },
    {
      "cell_type": "markdown",
      "source": [
        "Filling the NaN values in the columns with float data types with the mean of the column"
      ],
      "metadata": {
        "id": "ftGhDK9Ix_s-"
      }
    },
    {
      "cell_type": "code",
      "source": [
        "# Generate columns with float data types\n",
        "float_cols = df.select_dtypes(include='float64').columns.tolist()\n",
        "\n",
        "for col in df[float_cols]:\n",
        "    col_mean = df[col].mean()\n",
        "    df[col].fillna(col_mean, inplace=True)"
      ],
      "metadata": {
        "id": "R4-x2aDnrOt4"
      },
      "execution_count": null,
      "outputs": []
    },
    {
      "cell_type": "code",
      "source": [
        "# Fill the pmt_card_type NaN values with the mode of the column\n",
        "pmt_mode = df['pmt_card_type'].mode()[0]\n",
        "df['pmt_card_type'].fillna(pmt_mode, inplace=True)\n",
        "\n",
        "df['pmt_card_type'].isnull().sum()"
      ],
      "metadata": {
        "colab": {
          "base_uri": "https://localhost:8080/"
        },
        "id": "Il9HR_6XrZGv",
        "outputId": "4c95d674-d834-4018-a8d0-e7bcd67bd044"
      },
      "execution_count": null,
      "outputs": [
        {
          "output_type": "execute_result",
          "data": {
            "text/plain": [
              "0"
            ]
          },
          "metadata": {},
          "execution_count": 33
        }
      ]
    },
    {
      "cell_type": "code",
      "source": [
        "df.isnull().sum()"
      ],
      "metadata": {
        "colab": {
          "base_uri": "https://localhost:8080/"
        },
        "id": "a6APnlKTwq5-",
        "outputId": "d4cbd68b-cc56-4096-96fb-f2b851789bf6"
      },
      "execution_count": null,
      "outputs": [
        {
          "output_type": "execute_result",
          "data": {
            "text/plain": [
              "donation_type                0\n",
              "aud_donor_foundation         0\n",
              "aud_donor_member             0\n",
              "aud_donor_team               0\n",
              "aud_donor_total              0\n",
              "payment_country              0\n",
              "is_business                  0\n",
              "pmt_card_type                0\n",
              "feat_donate_self             0\n",
              "country                      0\n",
              "gender                       0\n",
              "category_fundraising         0\n",
              "type_team_captain            0\n",
              "type_team_member             0\n",
              "tenure_description           0\n",
              "campaigns_total_number       0\n",
              "product_grow_intends         0\n",
              "product_host_intends         0\n",
              "product_move_intends         0\n",
              "product_myow_intends         0\n",
              "feat_donote_other            0\n",
              "feat_donote_self             0\n",
              "sum_donations_member_2017    0\n",
              "sum_donations_member_2018    0\n",
              "sum_donations_member_2019    0\n",
              "sum_donor_foundation_2020    0\n",
              "sum_donor_member_2020        0\n",
              "sum_donor_team_2020          0\n",
              "sum_donor_total_2020         0\n",
              "registered_2017              0\n",
              "registered_2018              0\n",
              "registered_2019              0\n",
              "registered_2021              0\n",
              "dtype: int64"
            ]
          },
          "metadata": {},
          "execution_count": 34
        }
      ]
    },
    {
      "cell_type": "code",
      "source": [
        "# Generating new categorical columns from the dataframe\n",
        "categ_cols = df.select_dtypes(include='O').columns.tolist()\n",
        "categ_cols"
      ],
      "metadata": {
        "colab": {
          "base_uri": "https://localhost:8080/"
        },
        "id": "t_ZStPY_yxL-",
        "outputId": "9e6068c0-2711-4c47-9376-6785bd189f39"
      },
      "execution_count": null,
      "outputs": [
        {
          "output_type": "execute_result",
          "data": {
            "text/plain": [
              "['donation_type',\n",
              " 'payment_country',\n",
              " 'pmt_card_type',\n",
              " 'country',\n",
              " 'gender',\n",
              " 'category_fundraising',\n",
              " 'tenure_description']"
            ]
          },
          "metadata": {},
          "execution_count": 35
        }
      ]
    },
    {
      "cell_type": "markdown",
      "source": [
        "**ENCODING COLUMNS WITH CATEGORICAL FEATURES**"
      ],
      "metadata": {
        "id": "BLnyDi4_5XzG"
      }
    },
    {
      "cell_type": "code",
      "source": [
        "# One Hot Encoding Using Pandas\n",
        "df.shape\n",
        "df = pd.get_dummies(df, columns=categ_cols)\n",
        "df.shape"
      ],
      "metadata": {
        "id": "ENfw5a6H467W",
        "colab": {
          "base_uri": "https://localhost:8080/"
        },
        "outputId": "207606a0-b415-41ee-8fc4-2a91911d4a62"
      },
      "execution_count": null,
      "outputs": [
        {
          "output_type": "execute_result",
          "data": {
            "text/plain": [
              "(2097607, 98)"
            ]
          },
          "metadata": {},
          "execution_count": 36
        }
      ]
    },
    {
      "cell_type": "markdown",
      "source": [
        "**DATA SEGMENTATION**\n",
        "\n",
        "1 = if the fundraiser was registered in Campaign 2021; this is what your retention model should be trying to predict.....................\n",
        "So, The column to be predicted is the **Registered_2021** column "
      ],
      "metadata": {
        "id": "ECffQS6mCy_z"
      }
    },
    {
      "cell_type": "markdown",
      "source": [],
      "metadata": {
        "id": "5bYQekwZDOK0"
      }
    },
    {
      "cell_type": "code",
      "source": [
        "# Rename the Registered_2021 to Churn\n",
        "df.rename({'registered_2021':'Churn'}, axis=1, inplace=True)\n",
        "\n",
        "# Data Modelling\n",
        "X = df.drop('Churn', axis=1).copy()\n",
        "y = df['Churn'].copy()"
      ],
      "metadata": {
        "id": "jNBWwK0x_Dt0"
      },
      "execution_count": null,
      "outputs": []
    },
    {
      "cell_type": "markdown",
      "source": [
        "**Splitting The Data Into Training And Testing set**"
      ],
      "metadata": {
        "id": "8rLYxdVyE5TN"
      }
    },
    {
      "cell_type": "code",
      "source": [
        "# split the data\n",
        "X_train, X_test, y_train,y_test = train_test_split(X,y, test_size=0.25, random_state=42, shuffle=True)\n",
        "\n",
        "# Check the shape of the splitted data\n",
        "X_train.shape, X_test.shape, y_train.shape, y_test.shape"
      ],
      "metadata": {
        "colab": {
          "base_uri": "https://localhost:8080/"
        },
        "id": "7kyrteiMElDb",
        "outputId": "bad8f8bd-1142-47a8-ab48-41fb945784e1"
      },
      "execution_count": null,
      "outputs": [
        {
          "output_type": "execute_result",
          "data": {
            "text/plain": [
              "((1573205, 97), (524402, 97), (1573205,), (524402,))"
            ]
          },
          "metadata": {},
          "execution_count": 38
        }
      ]
    },
    {
      "cell_type": "markdown",
      "source": [
        "**BUILD MODELS AND EVALUATIONS**\n",
        "\n",
        "> **Model 1: LogisticRegression**\n",
        "\n",
        "> **Model 2: RandomForestClassifier**\n",
        "\n",
        "\n",
        "\n",
        "\n",
        "\n",
        "\n"
      ],
      "metadata": {
        "id": "fd-g_KtiFrr8"
      }
    },
    {
      "cell_type": "code",
      "source": [
        "# Model names\n",
        "names = [\"rfc\",\"lr\"]\n",
        "\n",
        "# Instantiating all Models\n",
        "models = [\n",
        "RandomForestClassifier(),\n",
        "LogisticRegression(random_state=0,penalty='l2',C=100)\n",
        "]\n",
        "\n",
        "plt.figure(figsize=(12,10))\n",
        "for name,model in zip(names,models):\n",
        "\n",
        "\tmodel.fit(X_train,y_train)\n",
        "\ty_pred = model.predict(X_test)\n",
        "\ty_proba = model.predict_proba(X_test)[:,1]\n",
        "\tprint(\"Roc AUC:\"+name, roc_auc_score(y_test, model.predict_proba(X_test)[:,1],average='macro'))\n",
        "\tprint(\"=\"*100)\n",
        "\tprint(\"Model Accuracy:\"+name, accuracy_score(y_test, y_pred))\n",
        "\tprint(\"=\"*100)\n",
        "\tprint(\"F1 Accuracy:\"+name, f1_score(y_test, y_pred))\n",
        "\tprint(\"=\"*100)\n",
        "\tprint(\"Classification Report For:\"+name, classification_report(y_test, y_pred))\n",
        "\tprint()\n",
        "\tfpr, tpr, thresholds = roc_curve(y_test, y_proba)\n",
        "\tplt.plot(fpr, tpr, label=name)\n",
        " \n",
        "\n",
        "plt.xlabel('False positive rate')\n",
        "plt.ylabel('True positive rate')\n",
        "plt.title('ROC curve')\n",
        "plt.legend(loc='best')\n",
        "plt.savefig('ModelsROCCurve.png')\n",
        "plt.show()          "
      ],
      "metadata": {
        "colab": {
          "base_uri": "https://localhost:8080/",
          "height": 1000
        },
        "id": "Z8bMKKT3Hcwa",
        "outputId": "81838960-63dd-4c7d-9546-ffea238f31a7"
      },
      "execution_count": null,
      "outputs": [
        {
          "output_type": "stream",
          "name": "stdout",
          "text": [
            "Roc AUC:rfc 0.9239676346280319\n",
            "====================================================================================================\n",
            "Model Accuracy:rfc 0.8728990354727861\n",
            "====================================================================================================\n",
            "F1 Accuracy:rfc 0.8011990336146985\n",
            "====================================================================================================\n",
            "Classification Report For:rfc               precision    recall  f1-score   support\n",
            "\n",
            "           0       0.86      0.95      0.91    339557\n",
            "           1       0.89      0.73      0.80    184845\n",
            "\n",
            "    accuracy                           0.87    524402\n",
            "   macro avg       0.88      0.84      0.85    524402\n",
            "weighted avg       0.87      0.87      0.87    524402\n",
            "\n",
            "\n",
            "Roc AUC:lr 0.7354490414717161\n",
            "====================================================================================================\n",
            "Model Accuracy:lr 0.7462099686881438\n",
            "====================================================================================================\n",
            "F1 Accuracy:lr 0.5237911218932709\n",
            "====================================================================================================\n",
            "Classification Report For:lr               precision    recall  f1-score   support\n",
            "\n",
            "           0       0.74      0.94      0.83    339557\n",
            "           1       0.77      0.40      0.52    184845\n",
            "\n",
            "    accuracy                           0.75    524402\n",
            "   macro avg       0.76      0.67      0.68    524402\n",
            "weighted avg       0.75      0.75      0.72    524402\n",
            "\n",
            "\n"
          ]
        },
        {
          "output_type": "display_data",
          "data": {
            "text/plain": [
              "<Figure size 864x720 with 1 Axes>"
            ],
            "image/png": "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\n"
          },
          "metadata": {}
        }
      ]
    },
    {
      "cell_type": "markdown",
      "source": [
        "Hence we will use RandomForest Classifier over Logistic Regression as Random Forest provides better area under the curve, F1 score and better accuracy, moreover Logistic Regression is slightly poor. Therefore we consider the Random Forest Calssifier as our model for analysis."
      ],
      "metadata": {
        "id": "V8aX3R33g7Zp"
      }
    },
    {
      "cell_type": "markdown",
      "source": [
        "**PROJECT SUMMARY**"
      ],
      "metadata": {
        "id": "esxbcH7blpoT"
      }
    },
    {
      "cell_type": "markdown",
      "source": [
        "\n",
        "\n",
        "1.   **United Kingdom(UK) is the country with highest Fundraising**\n",
        "2.   **Friends and Workplace has the highest percentage of donations in the fundraising category**\n",
        "3.   **Donors gives more funds to Individual,then few to the Teams and co.**\n",
        "4.   **More than 60% of the donors are Male**\n",
        "5. **More than 60% of the First time fundraiser's gives donation**\n",
        "\n",
        "\n",
        "\n"
      ],
      "metadata": {
        "id": "Q8ZR7IIClu0r"
      }
    }
  ]
}
>>>>>>> 32255074e32c7a73a22ac5179a6ffb1b1cfbed54
